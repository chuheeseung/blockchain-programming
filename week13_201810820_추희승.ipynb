{
 "cells": [
  {
   "cell_type": "markdown",
   "id": "97e564a8",
   "metadata": {},
   "source": [
    "A, B 2인의 가위바위보 후 내기금액을 이긴 사람에게 지급하는 게임을 블록체인에 개발하세요.\n",
    "\n",
    "게임 컨트랙은 Rsp, 구현할 함수는 다음과 같다. 그 외 필요로 하는 함수는 추가할 수 있다.\n",
    "\n",
    "\n",
    "\n",
    "함수 | 설명\n",
    "\n",
    "-----|-----\n",
    "\n",
    "setA | 직접 입력하지 않고, 가위, 바위, 보를 무작위로 생성하여 내고 ```1000 wei```를 베팅한다.\n",
    "\n",
    "setB | 게임 플레이어가 직접 입력하고, ```1000 wei```를 베팅한다.\n",
    "\n",
    "play | setA, setB 입력이 끝나고 컴퓨터가 실행하는 것으로 하고, 승패가 결정짓는다.\n",
    "\n",
    "distributeBetAmount | 승패에 따라 분배한다. 승자가 패자의 내기 금액 ```1000 wei```를 가지게 된다.\n",
    "\n",
    "getMatchResult() | 누가 이겼는지 A, B 승자를 포함한 문자열 \"A wins\", \"B wins\", \"tie\" 결과를 출력한다."
   ]
  },
  {
   "cell_type": "code",
   "execution_count": 11,
   "id": "af1a273f",
   "metadata": {},
   "outputs": [
    {
     "name": "stdout",
     "output_type": "stream",
     "text": [
      "Overwriting src/Rsp.sol\n"
     ]
    }
   ],
   "source": [
    "%%writefile src/Rsp.sol\n",
    "//SPDX-License-Identifier: GPL-3.0-or-later\n",
    "pragma solidity ^0.6.4;\n",
    "\n",
    "contract Rsp {\n",
    "    struct Player {\n",
    "        string name;\n",
    "        uint betting;\n",
    "        uint rsp;\n",
    "    }\n",
    "\n",
    "    int256 result = -1;\n",
    "    address payable owner;\n",
    "    address addrA;\n",
    "    address addrB;\n",
    "    uint balance;\n",
    "\n",
    "    constructor() public {\n",
    "        owner = msg.sender;\n",
    "    }\n",
    "\n",
    "    mapping(address => Player) playerMap;\n",
    "    mapping(string => address) addressByName;\n",
    "    mapping(address => uint) balanceOf;\n",
    "\n",
    "    function setAddressAB(address receiver) public {\n",
    "        addrA = address(this);\n",
    "        addrB = receiver;\n",
    "    }\n",
    "\n",
    "    function deposit(uint amount) payable public onlyOwner {\n",
    "        require(msg.value == amount);\n",
    "        balanceOf[addrA] += amount;\n",
    "        balanceOf[addrB] += amount;\n",
    "    }\n",
    "\n",
    "    function setA() public {\n",
    "        uint _rsp= uint8(uint256(keccak256(abi.encodePacked(block.timestamp, block.difficulty)))%3);\n",
    "        Player memory m = Player(\"player_A\", 1000, _rsp);\n",
    "        playerMap[addrA] = m;\n",
    "        addressByName[\"player_A\"] = addrA;\n",
    "    }\n",
    "\n",
    "    function setB(uint _betting, uint _rsp) public {\n",
    "        Player memory m2 = Player(\"player_B\", _betting, _rsp);\n",
    "        playerMap[addrB] = m2;\n",
    "        addressByName[\"player_B\"] = addrB;\n",
    "    }\n",
    "\n",
    "    function play() public {\n",
    "        // 0 : rock, 1 : scissor, 2 : paper\n",
    "        Player memory u1 = playerMap[addressByName[\"player_A\"]];\n",
    "        Player memory u2 = playerMap[addressByName[\"player_B\"]];\n",
    "        uint a = u1.rsp;\n",
    "        uint b = u2.rsp;\n",
    "\n",
    "        if(a == b) {\n",
    "            result = 0; // tie\n",
    "        }\n",
    "        else if((a==0 && b==1) || (a==1 && b==2) || (a==2 && b==0)) {\n",
    "            result = 1; // a wins\n",
    "        }\n",
    "        else {\n",
    "            result = 2; // b wins\n",
    "        }\n",
    "    }\n",
    "\n",
    "    function distributeBetAmount() public payable {\n",
    "        Player memory u1 = playerMap[addressByName[\"player_A\"]];\n",
    "        Player memory u2 = playerMap[addressByName[\"player_B\"]];\n",
    "        uint a_betting = u1.betting;\n",
    "        uint b_betting = u2.betting;\n",
    "\n",
    "        if(result == 1) { // a wins\n",
    "            balanceOf[addressByName[\"player_A\"]] += b_betting;\n",
    "            balanceOf[addressByName[\"player_B\"]] -= b_betting;\n",
    "        }\n",
    "        else if(result == 2) { // b wins\n",
    "            balanceOf[addressByName[\"player_A\"]] -= a_betting;\n",
    "            balanceOf[addressByName[\"player_B\"]] += a_betting;\n",
    "        }\n",
    "    }\n",
    "\n",
    "    function getMatchResult() public view returns(string memory) {\n",
    "        if(result == 1) {\n",
    "            return(\"A wins\");\n",
    "        }\n",
    "        else if(result == 2) {\n",
    "            return(\"B wins\");\n",
    "        }\n",
    "        else {\n",
    "            return(\"tie\");\n",
    "        }\n",
    "    }\n",
    "\n",
    "    function getBalance() public view returns(uint, uint, uint) {\n",
    "        return ( balanceOf[addrA], balanceOf[addrB],balanceOf[address(this)]);\n",
    "    }\n",
    "\n",
    "    modifier onlyOwner {\n",
    "        require(msg.sender == owner);\n",
    "        _;\n",
    "    }\n",
    "}"
   ]
  },
  {
   "cell_type": "code",
   "execution_count": 12,
   "id": "da6dca27",
   "metadata": {},
   "outputs": [],
   "source": [
    "!solc.exe --optimize --combined-json abi,bin src/Rsp.sol > src/Rsp.json"
   ]
  },
  {
   "cell_type": "code",
   "execution_count": 13,
   "id": "3467daf3",
   "metadata": {},
   "outputs": [
    {
     "name": "stdout",
     "output_type": "stream",
     "text": [
      "Overwriting src/RspDeploy.js\n"
     ]
    }
   ],
   "source": [
    "%%writefile src/RspDeploy.js\n",
    "var Web3 = require('web3');\n",
    "var _abiBinJson = require('./Rsp.json');\n",
    "var web3 = new Web3(new Web3.providers.HttpProvider(\"http://localhost:8345\"));\n",
    "\n",
    "contractName = Object.keys(_abiBinJson.contracts);\n",
    "console.log(\"- contract name : \", contractName);\n",
    "_abiArray=JSON.parse(_abiBinJson.contracts[contractName].abi); \n",
    "_bin = _abiBinJson.contracts[contractName].bin;\n",
    "\n",
    "async function deploy() {\n",
    "    const accounts = await web3.eth.getAccounts();\n",
    "    console.log(\"Deploying the contract form \" + accounts[0]);\n",
    "    var deployed = await new web3.eth.Contract(_abiArray)\n",
    "        .deploy({data: \"0x\" + _bin})\n",
    "        .send({from: accounts[0], gas: 1255242, function(err, transactionHash) {\n",
    "            if(!err) {\n",
    "                console.log(\"hash : \" + transactionHash);\n",
    "            }\n",
    "        }})\n",
    "    console.log(\"---> The contract deployed to : \" + deployed.options.address);\n",
    "}\n",
    "\n",
    "deploy();"
   ]
  },
  {
   "cell_type": "code",
   "execution_count": 14,
   "id": "0ea216f7",
   "metadata": {},
   "outputs": [
    {
     "name": "stdout",
     "output_type": "stream",
     "text": [
      "- contract name :  [ 'src/Rsp.sol:Rsp' ]\n",
      "Deploying the contract form 0x8D3A7f2A8adc8d705D63BED543D302235ED70DE7\n",
      "---> The contract deployed to : 0xC79Cef6D5BcE6D17497C85d94DfbF145bfEB37Fa\n"
     ]
    }
   ],
   "source": [
    "!node src/RspDeploy.js"
   ]
  },
  {
   "cell_type": "markdown",
   "id": "fb63c0a2",
   "metadata": {},
   "source": [
    "노드에서 게임을 다음과 같이 진행하세요.\n",
    "\n",
    "- 게임 전의 A잔고, B잔고, 컨트랙 잔고 출력 (컨트랙 상의 잔고를 말한다)\n",
    "\n",
    "- setA() 실행. 플레이어 A는 컴퓨터가 대행하는 것으로 하고, 내기금액 걸고 가위바위보 중 하나를 무작위로 선택\n",
    "\n",
    "- setB() 실행. B는 자신이 직접 내기금액 걸고, 가위바위보 중 하나를 선택하여 입력\n",
    "\n",
    "- play() 실행해서, 승부를 결정\n",
    "\n",
    "- getMatchResult() 실행해서, 승부의 결과를 출력\n",
    "\n",
    "- 게임 끝나고 A잔고, B잔고, 컨트랙 잔고 출력 (컨트랙 상의 잔고를 말한다)"
   ]
  },
  {
   "cell_type": "code",
   "execution_count": 15,
   "id": "f1fa69e3",
   "metadata": {
    "scrolled": true
   },
   "outputs": [
    {
     "name": "stdout",
     "output_type": "stream",
     "text": [
      "Overwriting src/RspUSe.js\n"
     ]
    }
   ],
   "source": [
    "%%writefile src/RspUSe.js\n",
    "var Web3 = require('web3');\n",
    "var fs = require('fs');\n",
    "var web3 = new Web3(new Web3.providers.HttpProvider(\"http://localhost:8345\"));\n",
    "var _abiBinJson = require('./Rsp.json');\n",
    "\n",
    "contractName = Object.keys(_abiBinJson.contracts);\n",
    "console.log(\"- contract name : \", contractName);\n",
    "_abiArray = JSON.parse(_abiBinJson.contracts[contractName].abi);\n",
    "_bin = _abiBinJson.contracts[contractName].bin;\n",
    "\n",
    "async function doIt() {\n",
    "    var rsp = new web3.eth.Contract(_abiArray, '0xC79Cef6D5BcE6D17497C85d94DfbF145bfEB37Fa');\n",
    "    const accounts = await web3.eth.getAccounts();\n",
    "    console.log(\"- account : \" + accounts[0]);\n",
    "    \n",
    "    // 계정 A, B 설정\n",
    "    await rsp.methods.setAddressAB(accounts[1]).send({from: accounts[0], gas: 122209});\n",
    "    \n",
    "    // A, B에 10000wei 충전\n",
    "    await rsp.methods.deposit(10000).send({from: accounts[0], gas: 122209, value: 10000});\n",
    "    \n",
    "    // 초기 잔고 출력\n",
    "    rsp.methods.getBalance().call()\n",
    "        .then(function(value) {\n",
    "            console.log(\" - init balance \\n A: \", value[0], \" B : \", value[1], \" Contract : \", value[2]);\n",
    "        })\n",
    "    \n",
    "    // setA\n",
    "    await rsp.methods.setA().send({from: accounts[0], gas: 122209});\n",
    "    \n",
    "    // setB, 내가 가위바위보 선택\n",
    "    await rsp.methods.setB(1000, 2).send({from: accounts[0], gas: 122209});\n",
    "    \n",
    "    // 실행\n",
    "    await rsp.methods.play().send({from: accounts[0], gas: 122209});\n",
    "    \n",
    "    // 결과에 따른 금액 배정\n",
    "    await rsp.methods.distributeBetAmount().send({from: accounts[0], gas: 122209});\n",
    "    \n",
    "    // 결과 출력\n",
    "    rsp.methods.getMatchResult().call().then(console.log);\n",
    "    \n",
    "    // 잔고 출력\n",
    "    rsp.methods.getBalance().call()\n",
    "        .then(function(value) {\n",
    "            console.log(\" - after game \\n A: \", value[0], \" B : \", value[1], \" Contract : \", value[2]);\n",
    "        });\n",
    "}\n",
    "\n",
    "doIt();"
   ]
  },
  {
   "cell_type": "code",
   "execution_count": 16,
   "id": "22eefd5b",
   "metadata": {
    "scrolled": true
   },
   "outputs": [
    {
     "name": "stdout",
     "output_type": "stream",
     "text": [
      "- contract name :  [ 'src/Rsp.sol:Rsp' ]\n",
      "- account : 0x8D3A7f2A8adc8d705D63BED543D302235ED70DE7\n",
      " - init balance \n",
      " A:  10000  B :  10000  Contract :  10000\n",
      "B wins\n",
      " - after game \n",
      " A:  9000  B :  11000  Contract :  9000\n"
     ]
    }
   ],
   "source": [
    "!node src/RspUSe.js"
   ]
  },
  {
   "cell_type": "markdown",
   "id": "894dd17c",
   "metadata": {},
   "source": [
    "결과 : B가 이겨서 A가 1000wei를 잃었고 B가 1000wei를 얻었습니다."
   ]
  },
  {
   "cell_type": "code",
   "execution_count": 17,
   "id": "5ad1d893",
   "metadata": {},
   "outputs": [
    {
     "name": "stdout",
     "output_type": "stream",
     "text": [
      "- contract name :  [ 'src/Rsp.sol:Rsp' ]\n",
      "- account : 0x8D3A7f2A8adc8d705D63BED543D302235ED70DE7\n",
      " - init balance \n",
      " A:  19000  B :  21000  Contract :  19000\n",
      "A wins\n",
      " - after game \n",
      " A:  20000  B :  20000  Contract :  20000\n"
     ]
    }
   ],
   "source": [
    "!node src/RspUSe.js"
   ]
  },
  {
   "cell_type": "markdown",
   "id": "6d97378a",
   "metadata": {},
   "source": [
    "결과 : A가 이겨서 A가 1000wei를 얻었고 B가 1000wei를 잃었습니다."
   ]
  },
  {
   "cell_type": "code",
   "execution_count": null,
   "id": "8c0841d2",
   "metadata": {},
   "outputs": [],
   "source": []
  }
 ],
 "metadata": {
  "kernelspec": {
   "display_name": "Python 3 (ipykernel)",
   "language": "python",
   "name": "python3"
  },
  "language_info": {
   "codemirror_mode": {
    "name": "ipython",
    "version": 3
   },
   "file_extension": ".py",
   "mimetype": "text/x-python",
   "name": "python",
   "nbconvert_exporter": "python",
   "pygments_lexer": "ipython3",
   "version": "3.8.10"
  }
 },
 "nbformat": 4,
 "nbformat_minor": 5
}
