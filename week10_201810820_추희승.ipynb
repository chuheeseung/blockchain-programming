{
 "cells": [
  {
   "cell_type": "markdown",
   "id": "65160fc1",
   "metadata": {},
   "source": [
    "## StudentCrud.sol"
   ]
  },
  {
   "cell_type": "code",
   "execution_count": 4,
   "id": "4f3103fa",
   "metadata": {},
   "outputs": [
    {
     "name": "stdout",
     "output_type": "stream",
     "text": [
      "Writing StudentCrud.sol\n"
     ]
    }
   ],
   "source": [
    "%%writefile StudentCrud.sol\n",
    "//SPDX-License-Identifier: GPL-3.0-or-later\n",
    "pragma solidity ^0.8.0; \n",
    "contract StudentsCrud {\n",
    "\n",
    "    struct Student {\n",
    "        uint studentNumber;\n",
    "        string studentName;\n",
    "        bool register;\n",
    "    }\n",
    "\n",
    "    Student [] public studentsList;\n",
    "\n",
    "    Student newStudent;\n",
    "\n",
    "    function insert(uint n, string memory sn, bool e) public {\n",
    "        // Student newStudent = new Student(n, sn, e);\n",
    "        newStudent.studentNumber = n;\n",
    "        newStudent.studentName = sn;\n",
    "        newStudent.register = e;\n",
    "\n",
    "        studentsList.push(newStudent);\n",
    "    }\n",
    "\n",
    "    function getFirstStudent() public view returns(uint, string memory, bool) {\n",
    "        return (studentsList[0].studentNumber, studentsList[0].studentName, studentsList[0].register);\n",
    "    }\n",
    "\n",
    "    function findBy(uint8 index) view public returns(uint, string memory, bool) {\n",
    "        return (studentsList[index].studentNumber, studentsList[index].studentName, studentsList[index].register);\n",
    "    }\n",
    "\n",
    "    function remove(uint index) public {\n",
    "        if(index < studentsList.length) {\n",
    "            studentsList[index] = studentsList[index + 1];\n",
    "            index++;\n",
    "        }\n",
    "        studentsList.pop();\n",
    "    }\n",
    "\n",
    "    function getLength() view public returns(uint) {\n",
    "        return studentsList.length;\n",
    "    }\n",
    "\n",
    "    function pop() public {\n",
    "        studentsList.pop();\n",
    "    }\n",
    "}"
   ]
  },
  {
   "cell_type": "markdown",
   "id": "d8b20751",
   "metadata": {},
   "source": [
    "## (1) 아래 항목을 입력\n",
    "4개의 데이터가 잘 들어간 것을 확인했습니다."
   ]
  },
  {
   "cell_type": "code",
   "execution_count": null,
   "id": "ff9289a0",
   "metadata": {},
   "outputs": [],
   "source": [
    "[vm]from: 0x5B3...eddC4to: StudentsCrud.insert(uint256,string,bool) 0xd8b...33fa8value: 0 weidata: 0xf07...00000logs: 0hash: 0xcbe...25a84\n",
    "status\ttrue Transaction mined and execution succeed\n",
    "transaction hash\t0xcbeb54e9ce64756e3b7663618485d2aac98c85fda226c7a5ce59d161bc325a84\n",
    "from\t0x5B38Da6a701c568545dCfcB03FcB875f56beddC4\n",
    "to\tStudentsCrud.insert(uint256,string,bool) 0xd8b934580fcE35a11B58C6D73aDeE468a2833fa8\n",
    "gas\t160775 gas\n",
    "transaction cost\t139804 gas \n",
    "execution cost\t139804 gas \n",
    "input\t0xf07...00000\n",
    "decoded input\t{\n",
    "\t\"uint256 n\": \"201711111\",\n",
    "\t\"string sn\": \"kim\",\n",
    "\t\"bool e\": false\n",
    "}\n",
    "decoded output\t{}\n",
    "logs\t[]\n",
    "val\t0 wei"
   ]
  },
  {
   "cell_type": "code",
   "execution_count": null,
   "id": "f670450f",
   "metadata": {},
   "outputs": [],
   "source": [
    "[vm]from: 0x5B3...eddC4to: StudentsCrud.insert(uint256,string,bool) 0xd8b...33fa8value: 0 weidata: 0xf07...00000logs: 0hash: 0xde7...adf59\n",
    "status\ttrue Transaction mined and execution succeed\n",
    "transaction hash\t0xde7429f9eb9668b9bd5127b884e721eea2bf30c633edbf294e73a575140adf59\n",
    "from\t0x5B38Da6a701c568545dCfcB03FcB875f56beddC4\n",
    "to\tStudentsCrud.insert(uint256,string,bool) 0xd8b934580fcE35a11B58C6D73aDeE468a2833fa8\n",
    "gas\t150173 gas\n",
    "transaction cost\t130585 gas \n",
    "execution cost\t130585 gas \n",
    "input\t0xf07...00000\n",
    "decoded input\t{\n",
    "\t\"uint256 n\": \"201711112\",\n",
    "\t\"string sn\": \"park\",\n",
    "\t\"bool e\": true\n",
    "}\n",
    "decoded output\t{}\n",
    "logs\t[]\n",
    "val\t0 wei"
   ]
  },
  {
   "cell_type": "code",
   "execution_count": null,
   "id": "0762b883",
   "metadata": {},
   "outputs": [],
   "source": [
    "[vm]from: 0x5B3...eddC4to: StudentsCrud.insert(uint256,string,bool) 0xd8b...33fa8value: 0 weidata: 0xf07...00000logs: 0hash: 0xa5d...1935d\n",
    "status\ttrue Transaction mined and execution succeed\n",
    "transaction hash\t0xa5dc9f7c56cb30fc5abd275748995d278ee04550cb98948e557f81f53c51935d\n",
    "from\t0x5B38Da6a701c568545dCfcB03FcB875f56beddC4\n",
    "to\tStudentsCrud.insert(uint256,string,bool) 0xd8b934580fcE35a11B58C6D73aDeE468a2833fa8\n",
    "gas\t107596 gas\n",
    "transaction cost\t88761 gas \n",
    "execution cost\t88761 gas \n",
    "input\t0xf07...00000\n",
    "decoded input\t{\n",
    "\t\"uint256 n\": \"201711113\",\n",
    "\t\"string sn\": \"lee\",\n",
    "\t\"bool e\": false\n",
    "}\n",
    "decoded output\t{}\n",
    "logs\t[]\n",
    "val\t0 wei\n"
   ]
  },
  {
   "cell_type": "code",
   "execution_count": null,
   "id": "2ca20028",
   "metadata": {},
   "outputs": [],
   "source": [
    "[vm]from: 0x5B3...eddC4to: StudentsCrud.insert(uint256,string,bool) 0xd8b...33fa8value: 0 weidata: 0xf07...00000logs: 0hash: 0x9bd...83d65\n",
    "status\ttrue Transaction mined and execution succeed\n",
    "transaction hash\t0x9bd954cbc48ec92c46f6d42414a91217e63e8d9232a063bed3b3eec491283d65\n",
    "from\t0x5B38Da6a701c568545dCfcB03FcB875f56beddC4\n",
    "to\tStudentsCrud.insert(uint256,string,bool) 0xd8b934580fcE35a11B58C6D73aDeE468a2833fa8\n",
    "gas\t104376 gas\n",
    "transaction cost\t90761 gas \n",
    "execution cost\t90761 gas \n",
    "input\t0xf07...00000\n",
    "decoded input\t{\n",
    "\t\"uint256 n\": \"201711114\",\n",
    "\t\"string sn\": \"lim\",\n",
    "\t\"bool e\": false\n",
    "}\n",
    "decoded output\t{}\n",
    "logs\t[]\n",
    "val\t0 wei\n"
   ]
  },
  {
   "cell_type": "markdown",
   "id": "2485904d",
   "metadata": {},
   "source": [
    "## (2) 두번째 데이터 201711112 제거\n",
    "1번째 인덱스인 201711112 데이터를 제거했습니다."
   ]
  },
  {
   "cell_type": "code",
   "execution_count": null,
   "id": "6f1516ef",
   "metadata": {},
   "outputs": [],
   "source": [
    "[vm]from: 0x5B3...eddC4to: StudentsCrud.remove(uint256) 0xd8b...33fa8value: 0 weidata: 0x4cc...00001logs: 0hash: 0x740...02283\n",
    "status\ttrue Transaction mined and execution succeed\n",
    "transaction hash\t0x7405872479d64f3ce344775d834ec3e1db8bf3d058d26bc2a6584d119a302283\n",
    "from\t0x5B38Da6a701c568545dCfcB03FcB875f56beddC4\n",
    "to\tStudentsCrud.remove(uint256) 0xd8b934580fcE35a11B58C6D73aDeE468a2833fa8\n",
    "gas\t75803 gas\n",
    "transaction cost\t51515 gas \n",
    "execution cost\t51515 gas \n",
    "input\t0x4cc...00001\n",
    "decoded input\t{\n",
    "\t\"uint256 index\": \"1\"\n",
    "}\n",
    "decoded output\t{}\n",
    "logs\t[]\n",
    "val\t0 wei"
   ]
  },
  {
   "cell_type": "markdown",
   "id": "281b9e6e",
   "metadata": {},
   "source": [
    "## (3) 배열 크기 조회 (3 출력)\n",
    "데이터를 하나 삭제했으므로 배열 크기가 3이 되는 것을 확인했습니다."
   ]
  },
  {
   "cell_type": "code",
   "execution_count": null,
   "id": "dd961725",
   "metadata": {},
   "outputs": [],
   "source": [
    "[call]from: 0x5B38Da6a701c568545dCfcB03FcB875f56beddC4to: StudentsCrud.getLength()data: 0xbe1...c766b\n",
    "from\t0x5B38Da6a701c568545dCfcB03FcB875f56beddC4\n",
    "to\tStudentsCrud.getLength() 0xd8b934580fcE35a11B58C6D73aDeE468a2833fa8\n",
    "execution cost\t23531 gas (Cost only applies when called by a contract)\n",
    "input\t0xbe1...c766b\n",
    "decoded input\t{}\n",
    "decoded output\t{\n",
    "\t\"0\": \"uint256: 3\"\n",
    "}\n",
    "logs\t[]"
   ]
  },
  {
   "cell_type": "markdown",
   "id": "ac87f9f8",
   "metadata": {},
   "source": [
    "## (4) 두번째 데이터 조회\n",
    "두번째 데이터, 즉 인덱스 1인 데이터를 조회한 결과 201711113 데이터가 출력되었습니다."
   ]
  },
  {
   "cell_type": "code",
   "execution_count": null,
   "id": "048796ec",
   "metadata": {},
   "outputs": [],
   "source": [
    "[call]from: 0x5B38Da6a701c568545dCfcB03FcB875f56beddC4to: StudentsCrud.findBy(uint8)data: 0xedf...00001\n",
    "from\t0x5B38Da6a701c568545dCfcB03FcB875f56beddC4\n",
    "to\tStudentsCrud.findBy(uint8) 0xd8b934580fcE35a11B58C6D73aDeE468a2833fa8\n",
    "execution cost\t32069 gas (Cost only applies when called by a contract)\n",
    "input\t0xedf...00001\n",
    "decoded input\t{\n",
    "\t\"uint8 index\": 1\n",
    "}\n",
    "decoded output\t{\n",
    "\t\"0\": \"uint256: 201711113\",\n",
    "\t\"1\": \"string: lee\",\n",
    "\t\"2\": \"bool: false\"\n",
    "}\n",
    "logs\t[]"
   ]
  },
  {
   "cell_type": "markdown",
   "id": "59e8d877",
   "metadata": {},
   "source": [
    "## (5) 첫 데이터 조회\n",
    "첫번째 데이터를 조회한 결과 201711111 데이터가 출력되었습니다."
   ]
  },
  {
   "cell_type": "code",
   "execution_count": null,
   "id": "9377c421",
   "metadata": {},
   "outputs": [],
   "source": [
    "[call]from: 0x5B38Da6a701c568545dCfcB03FcB875f56beddC4to: StudentsCrud.getFirstStudent()data: 0xacb...e8cee\n",
    "from\t0x5B38Da6a701c568545dCfcB03FcB875f56beddC4\n",
    "to\tStudentsCrud.getFirstStudent() 0xd8b934580fcE35a11B58C6D73aDeE468a2833fa8\n",
    "execution cost\t31596 gas (Cost only applies when called by a contract)\n",
    "input\t0xacb...e8cee\n",
    "decoded input\t{}\n",
    "decoded output\t{\n",
    "\t\"0\": \"uint256: 201711111\",\n",
    "\t\"1\": \"string: kim\",\n",
    "\t\"2\": \"bool: false\"\n",
    "}\n",
    "logs\t[]\n"
   ]
  }
 ],
 "metadata": {
  "kernelspec": {
   "display_name": "Python 3 (ipykernel)",
   "language": "python",
   "name": "python3"
  },
  "language_info": {
   "codemirror_mode": {
    "name": "ipython",
    "version": 3
   },
   "file_extension": ".py",
   "mimetype": "text/x-python",
   "name": "python",
   "nbconvert_exporter": "python",
   "pygments_lexer": "ipython3",
   "version": "3.8.10"
  }
 },
 "nbformat": 4,
 "nbformat_minor": 5
}
