{
 "cells": [
  {
   "cell_type": "markdown",
   "id": "016f0b46",
   "metadata": {},
   "source": [
    "블록체인에서 주문을 하고, 그 주문내역을 로컬 파일에 작성하세요.\n",
    "\n",
    "블록체인으로 주문이 전송되면 이벤트가 발생하도록 프로그램하고, 주문내역은 로컬파일에 저장됩니다.\n",
    "\n",
    "* 강의자료 OrderEvent.sol을 참조해서 구현하세요.\n",
    "\n",
    "\t* order(상품항목, 주문개수, 단가, 배송지) 함수를 작성. '개수 x 단가'로 주문금액을 계산하고 이 금액만큼 입금되지 않으면 예외발생.\n",
    "\n",
    "\t* getBalance() 함수를 작성. 최초 프로그램 생성자 owner만 읽을 수 있게 modfier isOwner 작성."
   ]
  },
  {
   "cell_type": "markdown",
   "id": "72f63cf3",
   "metadata": {},
   "source": [
    "### (1) REMIX에서 주문하고, 이벤트 발생하는지 보이도록 콘솔 출력 붙여넣으세요."
   ]
  },
  {
   "cell_type": "code",
   "execution_count": 1,
   "id": "fb27b136",
   "metadata": {},
   "outputs": [
    {
     "name": "stdout",
     "output_type": "stream",
     "text": [
      "Writing ./src/Order.sol\n"
     ]
    }
   ],
   "source": [
    "%%writefile ./src/Order.sol\n",
    "//SPDX-License-Identifier: GPL-3.0-or-later\n",
    "pragma solidity ^0.6.4;\n",
    "\n",
    "contract Order {\n",
    "    address payable owner;\n",
    "\n",
    "    event OrderLog(string);\n",
    "    event OrderLog(bytes2 _itemId, uint _value);\n",
    "    event OrderLog(uint256 timestamp);\n",
    "    event OrderLog(address indexed _from, bytes2 _itemId, uint quantity, uint unitPrice, string addr);\n",
    "\n",
    "    constructor() public payable {\n",
    "        owner = msg.sender;\n",
    "    }\n",
    "\n",
    "    function order(bytes2 _itemId, uint quantity, uint unitPrice, string memory addr) public payable {\n",
    "        uint256 orderTime = block.timestamp;\n",
    "        uint256 orderAmount = quantity * unitPrice;\n",
    "\n",
    "        require(msg.value == orderAmount);\n",
    "        emit OrderLog(\"Ordered\");\n",
    "        emit OrderLog(orderTime);\n",
    "        emit OrderLog(msg.sender, _itemId, quantity, unitPrice, addr);\n",
    "    }\n",
    "\n",
    "    function getBalance() view public isOwner returns(uint) {\n",
    "        return address(this).balance;\n",
    "    }\n",
    "\n",
    "    modifier isOwner() {\n",
    "        if(msg.sender != owner) {\n",
    "            revert();\n",
    "        }\n",
    "        _;\n",
    "    }\n",
    "}"
   ]
  },
  {
   "cell_type": "code",
   "execution_count": null,
   "id": "a5cd024d",
   "metadata": {},
   "outputs": [],
   "source": [
    "[vm]from: 0x5B3...eddC4to: Order.(constructor)value: 300 weidata: 0x608...40033logs: 0hash: 0x7bf...b379d\n",
    "status\ttrue Transaction mined and execution succeed\n",
    "transaction hash\t0x7bfa8c922d3e2ffad2c579209c5efa132fe53a611ad8c6cdc145314bcbeb379d\n",
    "from\t0x5B38Da6a701c568545dCfcB03FcB875f56beddC4\n",
    "to\tOrder.(constructor)\n",
    "gas\t323263 gas\n",
    "transaction cost\t281098 gas \n",
    "execution cost\t281098 gas \n",
    "input\t0x608...40033\n",
    "decoded input\t{}\n",
    "decoded output\t - \n",
    "logs\t[]\n",
    "val\t300 wei"
   ]
  },
  {
   "cell_type": "markdown",
   "id": "68be67a0",
   "metadata": {},
   "source": [
    "### (2) 파일로 컴파일 하세요."
   ]
  },
  {
   "cell_type": "code",
   "execution_count": 2,
   "id": "52bd13c1",
   "metadata": {},
   "outputs": [],
   "source": [
    "!solc.exe --optimize --combined-json abi,bin src/Order.sol > src/Order.json"
   ]
  },
  {
   "cell_type": "markdown",
   "id": "b2e92a58",
   "metadata": {},
   "source": [
    "### (3) ganache에서 배포하세요."
   ]
  },
  {
   "cell_type": "code",
   "execution_count": 5,
   "id": "40ceaa09",
   "metadata": {},
   "outputs": [
    {
     "name": "stdout",
     "output_type": "stream",
     "text": [
      "Overwriting src/OrderDeploy.js\n"
     ]
    }
   ],
   "source": [
    "%%writefile src/OrderDeploy.js\n",
    "var Web3 = require('web3');\n",
    "var _abiBinJson = require('./Order.json');\n",
    "var web3 = new Web3(new Web3.providers.HttpProvider(\"http://localhost:8345\"));\n",
    "\n",
    "contractName = Object.keys(_abiBinJson.contracts);\n",
    "console.log(\"- contract name : \", contractName);\n",
    "_abiArray=JSON.parse(_abiBinJson.contracts[contractName].abi); \n",
    "_bin = _abiBinJson.contracts[contractName].bin;\n",
    "\n",
    "async function deploy() {\n",
    "    const accounts = await web3.eth.getAccounts();\n",
    "    console.log(\"Deploying the contract form \" + accounts[0]);\n",
    "    var deployed = await new web3.eth.Contract(_abiArray)\n",
    "        .deploy({data: \"0x\" + _bin})\n",
    "        .send({from: accounts[0], gas: 259210, function(err, transactionHash) {\n",
    "            if(!err) {\n",
    "                console.log(\"hash : \" + transactionHash);\n",
    "            }\n",
    "        }})\n",
    "    console.log(\"---> The contract deployed to : \" + deployed.options.address);\n",
    "}\n",
    "\n",
    "deploy();"
   ]
  },
  {
   "cell_type": "code",
   "execution_count": 6,
   "id": "ad77f396",
   "metadata": {},
   "outputs": [
    {
     "name": "stdout",
     "output_type": "stream",
     "text": [
      "- contract name :  [ 'src/Order.sol:Order' ]\n",
      "Deploying the contract form 0xC6D6c96820dC90740fB25Ad4959b15ecb1C3d1Af\n",
      "---> The contract deployed to : 0x5508535F46c426c891DE7d893D69BE71CeE64833\n"
     ]
    }
   ],
   "source": [
    "!node src/OrderDeploy.js"
   ]
  },
  {
   "cell_type": "markdown",
   "id": "364175dd",
   "metadata": {},
   "source": [
    "### (4) 주문을 3건만 하고, 이벤트를 통해 다음과 같이 출력하세요.\n",
    "항목은 차례대로 주소, 상품항목번호, 주문개수, 단가, 배송지.\n",
    "\n",
    "전송자주소, 1111, 3, 100, 20 2-gil Hongji-dong Jongro-gu Seoul\n",
    "\n",
    "전송자주소, 1111, 5, 100, 20 2-gil Hongji-dong Jongro-gu Seoul\n",
    "\n",
    "전송자주소, 1111, 20, 100, 20 2-gil Hongji-dong Jongro-gu Seoul"
   ]
  },
  {
   "cell_type": "code",
   "execution_count": 91,
   "id": "48f6e4b5",
   "metadata": {},
   "outputs": [
    {
     "name": "stdout",
     "output_type": "stream",
     "text": [
      "Overwriting src/OrderUse.js\n"
     ]
    }
   ],
   "source": [
    "%%writefile src/OrderUse.js\n",
    "var Web3 = require('web3');\n",
    "var fs = require('fs');\n",
    "var _abiBinJson = require('./Order.json');\n",
    "var web3 = new Web3(new Web3.providers.WebsocketProvider(\"ws://localhost:8345\"));\n",
    "\n",
    "contractName = Object.keys(_abiBinJson.contracts);\n",
    "console.log(\"- contract name : \", contractName);\n",
    "_abiArray=JSON.parse(_abiBinJson.contracts[contractName].abi); \n",
    "_bin = _abiBinJson.contracts[contractName].bin;\n",
    "\n",
    "async function doIt() {\n",
    "    var _order = new web3.eth.Contract(_abiArray, '0x5508535F46c426c891DE7d893D69BE71CeE64833');\n",
    "    const accounts = await web3.eth.getAccounts();\n",
    "    console.log(\"Account : \" + accounts[0]);\n",
    "    \n",
    "    var event = _order.events.OrderLog(\n",
    "        {fromBlock: 0}, function(error, result) {\n",
    "            if(!error) {\n",
    "                var log = JSON.stringify(result.returnValues);\n",
    "                console.log(\"Event fired : \" + log);\n",
    "                fs.appendFile(\"src/OrderEvent.txt\", log, \"utf-8\", function(e) {\n",
    "                    if(!e) {\n",
    "                        console.log(\">> Writing to file\");\n",
    "                    }\n",
    "                });\n",
    "            }\n",
    "            else {\n",
    "                console.log(error);\n",
    "            }\n",
    "        }\n",
    "    );\n",
    "    \n",
    "    var value;\n",
    "    my = await _order.methods.order(\"0x1111\", 3, 100, \"20 2-gil Hongji-dong Jongro-gu Seoul\")\n",
    "            .send({from: accounts[0], gas: 100000, value: 300});\n",
    "    console.log(\"---> MyFunction called \" + JSON.stringify(my.events.OrderLog.returnValues));\n",
    "    \n",
    "    my = await _order.methods.order(\"0x1111\", 5, 100, \"20 2-gil Hongji-dong Jongro-gu Seoul\")\n",
    "            .send({from: accounts[0], gas: 100000, value: 500});\n",
    "    console.log(\"---> MyFunction called \" + JSON.stringify(my.events.OrderLog.returnValues));\n",
    "    \n",
    "    my = await _order.methods.order(\"0x1111\", 20, 100, \"20 2-gil Hongji-dong Jongro-gu Seoul\")\n",
    "            .send({from: accounts[0], gas: 100000, value: 2000});\n",
    "    console.log(\"---> MyFunction called \" + JSON.stringify(my.events.OrderLog.returnValues));\n",
    "    \n",
    "    process.exit(1);\n",
    "}\n",
    "\n",
    "doIt();"
   ]
  },
  {
   "cell_type": "code",
   "execution_count": 92,
   "id": "b162e343",
   "metadata": {},
   "outputs": [
    {
     "name": "stdout",
     "output_type": "stream",
     "text": [
      "- contract name :  [ 'src/Order.sol:Order' ]\n",
      "Account : 0xC6D6c96820dC90740fB25Ad4959b15ecb1C3d1Af\n",
      "Event fired : {\"0\":\"0xC6D6c96820dC90740fB25Ad4959b15ecb1C3d1Af\",\"1\":\"0x1111\",\"2\":\"3\",\"3\":\"100\",\"4\":\"20 2-gil Hongji-dong Jongro-gu Seoul\",\"_from\":\"0xC6D6c96820dC90740fB25Ad4959b15ecb1C3d1Af\",\"_itemId\":\"0x1111\",\"quantity\":\"3\",\"unitPrice\":\"100\",\"addr\":\"20 2-gil Hongji-dong Jongro-gu Seoul\"}\n",
      "Event fired : {\"0\":\"0xC6D6c96820dC90740fB25Ad4959b15ecb1C3d1Af\",\"1\":\"0x1111\",\"2\":\"5\",\"3\":\"100\",\"4\":\"20 2-gil Hongji-dong Jongro-gu Seoul\",\"_from\":\"0xC6D6c96820dC90740fB25Ad4959b15ecb1C3d1Af\",\"_itemId\":\"0x1111\",\"quantity\":\"5\",\"unitPrice\":\"100\",\"addr\":\"20 2-gil Hongji-dong Jongro-gu Seoul\"}\n",
      "Event fired : {\"0\":\"0xC6D6c96820dC90740fB25Ad4959b15ecb1C3d1Af\",\"1\":\"0x1111\",\"2\":\"20\",\"3\":\"100\",\"4\":\"20 2-gil Hongji-dong Jongro-gu Seoul\",\"_from\":\"0xC6D6c96820dC90740fB25Ad4959b15ecb1C3d1Af\",\"_itemId\":\"0x1111\",\"quantity\":\"20\",\"unitPrice\":\"100\",\"addr\":\"20 2-gil Hongji-dong Jongro-gu Seoul\"}\n",
      "Event fired : {\"0\":\"0xC6D6c96820dC90740fB25Ad4959b15ecb1C3d1Af\",\"1\":\"0x1111\",\"2\":\"3\",\"3\":\"100\",\"4\":\"20 2-gil Hongji-dong Jongro-gu Seoul\",\"_from\":\"0xC6D6c96820dC90740fB25Ad4959b15ecb1C3d1Af\",\"_itemId\":\"0x1111\",\"quantity\":\"3\",\"unitPrice\":\"100\",\"addr\":\"20 2-gil Hongji-dong Jongro-gu Seoul\"}\n",
      "Event fired : {\"0\":\"0xC6D6c96820dC90740fB25Ad4959b15ecb1C3d1Af\",\"1\":\"0x1111\",\"2\":\"5\",\"3\":\"100\",\"4\":\"20 2-gil Hongji-dong Jongro-gu Seoul\",\"_from\":\"0xC6D6c96820dC90740fB25Ad4959b15ecb1C3d1Af\",\"_itemId\":\"0x1111\",\"quantity\":\"5\",\"unitPrice\":\"100\",\"addr\":\"20 2-gil Hongji-dong Jongro-gu Seoul\"}\n",
      "Event fired : {\"0\":\"0xC6D6c96820dC90740fB25Ad4959b15ecb1C3d1Af\",\"1\":\"0x1111\",\"2\":\"20\",\"3\":\"100\",\"4\":\"20 2-gil Hongji-dong Jongro-gu Seoul\",\"_from\":\"0xC6D6c96820dC90740fB25Ad4959b15ecb1C3d1Af\",\"_itemId\":\"0x1111\",\"quantity\":\"20\",\"unitPrice\":\"100\",\"addr\":\"20 2-gil Hongji-dong Jongro-gu Seoul\"}\n",
      "Event fired : {\"0\":\"0xC6D6c96820dC90740fB25Ad4959b15ecb1C3d1Af\",\"1\":\"0x1111\",\"2\":\"3\",\"3\":\"100\",\"4\":\"20 2-gil Hongji-dong Jongro-gu Seoul\",\"_from\":\"0xC6D6c96820dC90740fB25Ad4959b15ecb1C3d1Af\",\"_itemId\":\"0x1111\",\"quantity\":\"3\",\"unitPrice\":\"100\",\"addr\":\"20 2-gil Hongji-dong Jongro-gu Seoul\"}\n",
      "Event fired : {\"0\":\"0xC6D6c96820dC90740fB25Ad4959b15ecb1C3d1Af\",\"1\":\"0x1111\",\"2\":\"5\",\"3\":\"100\",\"4\":\"20 2-gil Hongji-dong Jongro-gu Seoul\",\"_from\":\"0xC6D6c96820dC90740fB25Ad4959b15ecb1C3d1Af\",\"_itemId\":\"0x1111\",\"quantity\":\"5\",\"unitPrice\":\"100\",\"addr\":\"20 2-gil Hongji-dong Jongro-gu Seoul\"}\n",
      "Event fired : {\"0\":\"0xC6D6c96820dC90740fB25Ad4959b15ecb1C3d1Af\",\"1\":\"0x1111\",\"2\":\"20\",\"3\":\"100\",\"4\":\"20 2-gil Hongji-dong Jongro-gu Seoul\",\"_from\":\"0xC6D6c96820dC90740fB25Ad4959b15ecb1C3d1Af\",\"_itemId\":\"0x1111\",\"quantity\":\"20\",\"unitPrice\":\"100\",\"addr\":\"20 2-gil Hongji-dong Jongro-gu Seoul\"}\n",
      "Event fired : {\"0\":\"0xC6D6c96820dC90740fB25Ad4959b15ecb1C3d1Af\",\"1\":\"0x1111\",\"2\":\"3\",\"3\":\"100\",\"4\":\"20 2-gil Hongji-dong Jongro-gu Seoul\",\"_from\":\"0xC6D6c96820dC90740fB25Ad4959b15ecb1C3d1Af\",\"_itemId\":\"0x1111\",\"quantity\":\"3\",\"unitPrice\":\"100\",\"addr\":\"20 2-gil Hongji-dong Jongro-gu Seoul\"}\n",
      "Event fired : {\"0\":\"0xC6D6c96820dC90740fB25Ad4959b15ecb1C3d1Af\",\"1\":\"0x1111\",\"2\":\"5\",\"3\":\"100\",\"4\":\"20 2-gil Hongji-dong Jongro-gu Seoul\",\"_from\":\"0xC6D6c96820dC90740fB25Ad4959b15ecb1C3d1Af\",\"_itemId\":\"0x1111\",\"quantity\":\"5\",\"unitPrice\":\"100\",\"addr\":\"20 2-gil Hongji-dong Jongro-gu Seoul\"}\n",
      "Event fired : {\"0\":\"0xC6D6c96820dC90740fB25Ad4959b15ecb1C3d1Af\",\"1\":\"0x1111\",\"2\":\"20\",\"3\":\"100\",\"4\":\"20 2-gil Hongji-dong Jongro-gu Seoul\",\"_from\":\"0xC6D6c96820dC90740fB25Ad4959b15ecb1C3d1Af\",\"_itemId\":\"0x1111\",\"quantity\":\"20\",\"unitPrice\":\"100\",\"addr\":\"20 2-gil Hongji-dong Jongro-gu Seoul\"}\n",
      "Event fired : {\"0\":\"0xC6D6c96820dC90740fB25Ad4959b15ecb1C3d1Af\",\"1\":\"0x1111\",\"2\":\"3\",\"3\":\"100\",\"4\":\"20 2-gil Hongji-dong Jongro-gu Seoul\",\"_from\":\"0xC6D6c96820dC90740fB25Ad4959b15ecb1C3d1Af\",\"_itemId\":\"0x1111\",\"quantity\":\"3\",\"unitPrice\":\"100\",\"addr\":\"20 2-gil Hongji-dong Jongro-gu Seoul\"}\n",
      "Event fired : {\"0\":\"0xC6D6c96820dC90740fB25Ad4959b15ecb1C3d1Af\",\"1\":\"0x1111\",\"2\":\"5\",\"3\":\"100\",\"4\":\"20 2-gil Hongji-dong Jongro-gu Seoul\",\"_from\":\"0xC6D6c96820dC90740fB25Ad4959b15ecb1C3d1Af\",\"_itemId\":\"0x1111\",\"quantity\":\"5\",\"unitPrice\":\"100\",\"addr\":\"20 2-gil Hongji-dong Jongro-gu Seoul\"}\n",
      "Event fired : {\"0\":\"0xC6D6c96820dC90740fB25Ad4959b15ecb1C3d1Af\",\"1\":\"0x1111\",\"2\":\"20\",\"3\":\"100\",\"4\":\"20 2-gil Hongji-dong Jongro-gu Seoul\",\"_from\":\"0xC6D6c96820dC90740fB25Ad4959b15ecb1C3d1Af\",\"_itemId\":\"0x1111\",\"quantity\":\"20\",\"unitPrice\":\"100\",\"addr\":\"20 2-gil Hongji-dong Jongro-gu Seoul\"}\n",
      "Event fired : {\"0\":\"0xC6D6c96820dC90740fB25Ad4959b15ecb1C3d1Af\",\"1\":\"0x1111\",\"2\":\"3\",\"3\":\"100\",\"4\":\"20 2-gil Hongji-dong Jongro-gu Seoul\",\"_from\":\"0xC6D6c96820dC90740fB25Ad4959b15ecb1C3d1Af\",\"_itemId\":\"0x1111\",\"quantity\":\"3\",\"unitPrice\":\"100\",\"addr\":\"20 2-gil Hongji-dong Jongro-gu Seoul\"}\n",
      "Event fired : {\"0\":\"0xC6D6c96820dC90740fB25Ad4959b15ecb1C3d1Af\",\"1\":\"0x1111\",\"2\":\"5\",\"3\":\"100\",\"4\":\"20 2-gil Hongji-dong Jongro-gu Seoul\",\"_from\":\"0xC6D6c96820dC90740fB25Ad4959b15ecb1C3d1Af\",\"_itemId\":\"0x1111\",\"quantity\":\"5\",\"unitPrice\":\"100\",\"addr\":\"20 2-gil Hongji-dong Jongro-gu Seoul\"}\n",
      "Event fired : {\"0\":\"0xC6D6c96820dC90740fB25Ad4959b15ecb1C3d1Af\",\"1\":\"0x1111\",\"2\":\"20\",\"3\":\"100\",\"4\":\"20 2-gil Hongji-dong Jongro-gu Seoul\",\"_from\":\"0xC6D6c96820dC90740fB25Ad4959b15ecb1C3d1Af\",\"_itemId\":\"0x1111\",\"quantity\":\"20\",\"unitPrice\":\"100\",\"addr\":\"20 2-gil Hongji-dong Jongro-gu Seoul\"}\n",
      "Event fired : {\"0\":\"0xC6D6c96820dC90740fB25Ad4959b15ecb1C3d1Af\",\"1\":\"0x1111\",\"2\":\"3\",\"3\":\"100\",\"4\":\"20 2-gil Hongji-dong Jongro-gu Seoul\",\"_from\":\"0xC6D6c96820dC90740fB25Ad4959b15ecb1C3d1Af\",\"_itemId\":\"0x1111\",\"quantity\":\"3\",\"unitPrice\":\"100\",\"addr\":\"20 2-gil Hongji-dong Jongro-gu Seoul\"}\n",
      "Event fired : {\"0\":\"0xC6D6c96820dC90740fB25Ad4959b15ecb1C3d1Af\",\"1\":\"0x1111\",\"2\":\"5\",\"3\":\"100\",\"4\":\"20 2-gil Hongji-dong Jongro-gu Seoul\",\"_from\":\"0xC6D6c96820dC90740fB25Ad4959b15ecb1C3d1Af\",\"_itemId\":\"0x1111\",\"quantity\":\"5\",\"unitPrice\":\"100\",\"addr\":\"20 2-gil Hongji-dong Jongro-gu Seoul\"}\n",
      "Event fired : {\"0\":\"0xC6D6c96820dC90740fB25Ad4959b15ecb1C3d1Af\",\"1\":\"0x1111\",\"2\":\"20\",\"3\":\"100\",\"4\":\"20 2-gil Hongji-dong Jongro-gu Seoul\",\"_from\":\"0xC6D6c96820dC90740fB25Ad4959b15ecb1C3d1Af\",\"_itemId\":\"0x1111\",\"quantity\":\"20\",\"unitPrice\":\"100\",\"addr\":\"20 2-gil Hongji-dong Jongro-gu Seoul\"}\n",
      "Event fired : {\"0\":\"0xC6D6c96820dC90740fB25Ad4959b15ecb1C3d1Af\",\"1\":\"0x1111\",\"2\":\"3\",\"3\":\"100\",\"4\":\"20 2-gil Hongji-dong Jongro-gu Seoul\",\"_from\":\"0xC6D6c96820dC90740fB25Ad4959b15ecb1C3d1Af\",\"_itemId\":\"0x1111\",\"quantity\":\"3\",\"unitPrice\":\"100\",\"addr\":\"20 2-gil Hongji-dong Jongro-gu Seoul\"}\n",
      "Event fired : {\"0\":\"0xC6D6c96820dC90740fB25Ad4959b15ecb1C3d1Af\",\"1\":\"0x1111\",\"2\":\"5\",\"3\":\"100\",\"4\":\"20 2-gil Hongji-dong Jongro-gu Seoul\",\"_from\":\"0xC6D6c96820dC90740fB25Ad4959b15ecb1C3d1Af\",\"_itemId\":\"0x1111\",\"quantity\":\"5\",\"unitPrice\":\"100\",\"addr\":\"20 2-gil Hongji-dong Jongro-gu Seoul\"}\n",
      "Event fired : {\"0\":\"0xC6D6c96820dC90740fB25Ad4959b15ecb1C3d1Af\",\"1\":\"0x1111\",\"2\":\"20\",\"3\":\"100\",\"4\":\"20 2-gil Hongji-dong Jongro-gu Seoul\",\"_from\":\"0xC6D6c96820dC90740fB25Ad4959b15ecb1C3d1Af\",\"_itemId\":\"0x1111\",\"quantity\":\"20\",\"unitPrice\":\"100\",\"addr\":\"20 2-gil Hongji-dong Jongro-gu Seoul\"}\n",
      "Event fired : {\"0\":\"0xC6D6c96820dC90740fB25Ad4959b15ecb1C3d1Af\",\"1\":\"0x1111\",\"2\":\"3\",\"3\":\"100\",\"4\":\"20 2-gil Hongji-dong Jongro-gu Seoul\",\"_from\":\"0xC6D6c96820dC90740fB25Ad4959b15ecb1C3d1Af\",\"_itemId\":\"0x1111\",\"quantity\":\"3\",\"unitPrice\":\"100\",\"addr\":\"20 2-gil Hongji-dong Jongro-gu Seoul\"}\n",
      "Event fired : {\"0\":\"0xC6D6c96820dC90740fB25Ad4959b15ecb1C3d1Af\",\"1\":\"0x1111\",\"2\":\"5\",\"3\":\"100\",\"4\":\"20 2-gil Hongji-dong Jongro-gu Seoul\",\"_from\":\"0xC6D6c96820dC90740fB25Ad4959b15ecb1C3d1Af\",\"_itemId\":\"0x1111\",\"quantity\":\"5\",\"unitPrice\":\"100\",\"addr\":\"20 2-gil Hongji-dong Jongro-gu Seoul\"}\n",
      "Event fired : {\"0\":\"0xC6D6c96820dC90740fB25Ad4959b15ecb1C3d1Af\",\"1\":\"0x1111\",\"2\":\"20\",\"3\":\"100\",\"4\":\"20 2-gil Hongji-dong Jongro-gu Seoul\",\"_from\":\"0xC6D6c96820dC90740fB25Ad4959b15ecb1C3d1Af\",\"_itemId\":\"0x1111\",\"quantity\":\"20\",\"unitPrice\":\"100\",\"addr\":\"20 2-gil Hongji-dong Jongro-gu Seoul\"}\n",
      "Event fired : {\"0\":\"0xC6D6c96820dC90740fB25Ad4959b15ecb1C3d1Af\",\"1\":\"0x1111\",\"2\":\"3\",\"3\":\"100\",\"4\":\"20 2-gil Hongji-dong Jongro-gu Seoul\",\"_from\":\"0xC6D6c96820dC90740fB25Ad4959b15ecb1C3d1Af\",\"_itemId\":\"0x1111\",\"quantity\":\"3\",\"unitPrice\":\"100\",\"addr\":\"20 2-gil Hongji-dong Jongro-gu Seoul\"}\n",
      "Event fired : {\"0\":\"0xC6D6c96820dC90740fB25Ad4959b15ecb1C3d1Af\",\"1\":\"0x1111\",\"2\":\"5\",\"3\":\"100\",\"4\":\"20 2-gil Hongji-dong Jongro-gu Seoul\",\"_from\":\"0xC6D6c96820dC90740fB25Ad4959b15ecb1C3d1Af\",\"_itemId\":\"0x1111\",\"quantity\":\"5\",\"unitPrice\":\"100\",\"addr\":\"20 2-gil Hongji-dong Jongro-gu Seoul\"}\n",
      "Event fired : {\"0\":\"0xC6D6c96820dC90740fB25Ad4959b15ecb1C3d1Af\",\"1\":\"0x1111\",\"2\":\"20\",\"3\":\"100\",\"4\":\"20 2-gil Hongji-dong Jongro-gu Seoul\",\"_from\":\"0xC6D6c96820dC90740fB25Ad4959b15ecb1C3d1Af\",\"_itemId\":\"0x1111\",\"quantity\":\"20\",\"unitPrice\":\"100\",\"addr\":\"20 2-gil Hongji-dong Jongro-gu Seoul\"}\n",
      "Event fired : {\"0\":\"0xC6D6c96820dC90740fB25Ad4959b15ecb1C3d1Af\",\"1\":\"0x1111\",\"2\":\"3\",\"3\":\"100\",\"4\":\"20 2-gil Hongji-dong Jongro-gu Seoul\",\"_from\":\"0xC6D6c96820dC90740fB25Ad4959b15ecb1C3d1Af\",\"_itemId\":\"0x1111\",\"quantity\":\"3\",\"unitPrice\":\"100\",\"addr\":\"20 2-gil Hongji-dong Jongro-gu Seoul\"}\n",
      "Event fired : {\"0\":\"0xC6D6c96820dC90740fB25Ad4959b15ecb1C3d1Af\",\"1\":\"0x1111\",\"2\":\"5\",\"3\":\"100\",\"4\":\"20 2-gil Hongji-dong Jongro-gu Seoul\",\"_from\":\"0xC6D6c96820dC90740fB25Ad4959b15ecb1C3d1Af\",\"_itemId\":\"0x1111\",\"quantity\":\"5\",\"unitPrice\":\"100\",\"addr\":\"20 2-gil Hongji-dong Jongro-gu Seoul\"}\n",
      "Event fired : {\"0\":\"0xC6D6c96820dC90740fB25Ad4959b15ecb1C3d1Af\",\"1\":\"0x1111\",\"2\":\"20\",\"3\":\"100\",\"4\":\"20 2-gil Hongji-dong Jongro-gu Seoul\",\"_from\":\"0xC6D6c96820dC90740fB25Ad4959b15ecb1C3d1Af\",\"_itemId\":\"0x1111\",\"quantity\":\"20\",\"unitPrice\":\"100\",\"addr\":\"20 2-gil Hongji-dong Jongro-gu Seoul\"}\n",
      "Event fired : {\"0\":\"0xC6D6c96820dC90740fB25Ad4959b15ecb1C3d1Af\",\"1\":\"0x1111\",\"2\":\"3\",\"3\":\"100\",\"4\":\"20 2-gil Hongji-dong Jongro-gu Seoul\",\"_from\":\"0xC6D6c96820dC90740fB25Ad4959b15ecb1C3d1Af\",\"_itemId\":\"0x1111\",\"quantity\":\"3\",\"unitPrice\":\"100\",\"addr\":\"20 2-gil Hongji-dong Jongro-gu Seoul\"}\n",
      "Event fired : {\"0\":\"0xC6D6c96820dC90740fB25Ad4959b15ecb1C3d1Af\",\"1\":\"0x1111\",\"2\":\"5\",\"3\":\"100\",\"4\":\"20 2-gil Hongji-dong Jongro-gu Seoul\",\"_from\":\"0xC6D6c96820dC90740fB25Ad4959b15ecb1C3d1Af\",\"_itemId\":\"0x1111\",\"quantity\":\"5\",\"unitPrice\":\"100\",\"addr\":\"20 2-gil Hongji-dong Jongro-gu Seoul\"}\n",
      "Event fired : {\"0\":\"0xC6D6c96820dC90740fB25Ad4959b15ecb1C3d1Af\",\"1\":\"0x1111\",\"2\":\"20\",\"3\":\"100\",\"4\":\"20 2-gil Hongji-dong Jongro-gu Seoul\",\"_from\":\"0xC6D6c96820dC90740fB25Ad4959b15ecb1C3d1Af\",\"_itemId\":\"0x1111\",\"quantity\":\"20\",\"unitPrice\":\"100\",\"addr\":\"20 2-gil Hongji-dong Jongro-gu Seoul\"}\n",
      "Event fired : {\"0\":\"0xC6D6c96820dC90740fB25Ad4959b15ecb1C3d1Af\",\"1\":\"0x1111\",\"2\":\"3\",\"3\":\"100\",\"4\":\"20 2-gil Hongji-dong Jongro-gu Seoul\",\"_from\":\"0xC6D6c96820dC90740fB25Ad4959b15ecb1C3d1Af\",\"_itemId\":\"0x1111\",\"quantity\":\"3\",\"unitPrice\":\"100\",\"addr\":\"20 2-gil Hongji-dong Jongro-gu Seoul\"}\n",
      "Event fired : {\"0\":\"0xC6D6c96820dC90740fB25Ad4959b15ecb1C3d1Af\",\"1\":\"0x1111\",\"2\":\"5\",\"3\":\"100\",\"4\":\"20 2-gil Hongji-dong Jongro-gu Seoul\",\"_from\":\"0xC6D6c96820dC90740fB25Ad4959b15ecb1C3d1Af\",\"_itemId\":\"0x1111\",\"quantity\":\"5\",\"unitPrice\":\"100\",\"addr\":\"20 2-gil Hongji-dong Jongro-gu Seoul\"}\n",
      "Event fired : {\"0\":\"0xC6D6c96820dC90740fB25Ad4959b15ecb1C3d1Af\",\"1\":\"0x1111\",\"2\":\"20\",\"3\":\"100\",\"4\":\"20 2-gil Hongji-dong Jongro-gu Seoul\",\"_from\":\"0xC6D6c96820dC90740fB25Ad4959b15ecb1C3d1Af\",\"_itemId\":\"0x1111\",\"quantity\":\"20\",\"unitPrice\":\"100\",\"addr\":\"20 2-gil Hongji-dong Jongro-gu Seoul\"}\n",
      "Event fired : {\"0\":\"0xC6D6c96820dC90740fB25Ad4959b15ecb1C3d1Af\",\"1\":\"0x1111\",\"2\":\"3\",\"3\":\"100\",\"4\":\"20 2-gil Hongji-dong Jongro-gu Seoul\",\"_from\":\"0xC6D6c96820dC90740fB25Ad4959b15ecb1C3d1Af\",\"_itemId\":\"0x1111\",\"quantity\":\"3\",\"unitPrice\":\"100\",\"addr\":\"20 2-gil Hongji-dong Jongro-gu Seoul\"}\n",
      "Event fired : {\"0\":\"0xC6D6c96820dC90740fB25Ad4959b15ecb1C3d1Af\",\"1\":\"0x1111\",\"2\":\"5\",\"3\":\"100\",\"4\":\"20 2-gil Hongji-dong Jongro-gu Seoul\",\"_from\":\"0xC6D6c96820dC90740fB25Ad4959b15ecb1C3d1Af\",\"_itemId\":\"0x1111\",\"quantity\":\"5\",\"unitPrice\":\"100\",\"addr\":\"20 2-gil Hongji-dong Jongro-gu Seoul\"}\n",
      "Event fired : {\"0\":\"0xC6D6c96820dC90740fB25Ad4959b15ecb1C3d1Af\",\"1\":\"0x1111\",\"2\":\"20\",\"3\":\"100\",\"4\":\"20 2-gil Hongji-dong Jongro-gu Seoul\",\"_from\":\"0xC6D6c96820dC90740fB25Ad4959b15ecb1C3d1Af\",\"_itemId\":\"0x1111\",\"quantity\":\"20\",\"unitPrice\":\"100\",\"addr\":\"20 2-gil Hongji-dong Jongro-gu Seoul\"}\n",
      "Event fired : {\"0\":\"0xC6D6c96820dC90740fB25Ad4959b15ecb1C3d1Af\",\"1\":\"0x1111\",\"2\":\"3\",\"3\":\"100\",\"4\":\"20 2-gil Hongji-dong Jongro-gu Seoul\",\"_from\":\"0xC6D6c96820dC90740fB25Ad4959b15ecb1C3d1Af\",\"_itemId\":\"0x1111\",\"quantity\":\"3\",\"unitPrice\":\"100\",\"addr\":\"20 2-gil Hongji-dong Jongro-gu Seoul\"}\n",
      "Event fired : {\"0\":\"0xC6D6c96820dC90740fB25Ad4959b15ecb1C3d1Af\",\"1\":\"0x1111\",\"2\":\"5\",\"3\":\"100\",\"4\":\"20 2-gil Hongji-dong Jongro-gu Seoul\",\"_from\":\"0xC6D6c96820dC90740fB25Ad4959b15ecb1C3d1Af\",\"_itemId\":\"0x1111\",\"quantity\":\"5\",\"unitPrice\":\"100\",\"addr\":\"20 2-gil Hongji-dong Jongro-gu Seoul\"}\n",
      "Event fired : {\"0\":\"0xC6D6c96820dC90740fB25Ad4959b15ecb1C3d1Af\",\"1\":\"0x1111\",\"2\":\"20\",\"3\":\"100\",\"4\":\"20 2-gil Hongji-dong Jongro-gu Seoul\",\"_from\":\"0xC6D6c96820dC90740fB25Ad4959b15ecb1C3d1Af\",\"_itemId\":\"0x1111\",\"quantity\":\"20\",\"unitPrice\":\"100\",\"addr\":\"20 2-gil Hongji-dong Jongro-gu Seoul\"}\n",
      "Event fired : {\"0\":\"0xC6D6c96820dC90740fB25Ad4959b15ecb1C3d1Af\",\"1\":\"0x1111\",\"2\":\"3\",\"3\":\"100\",\"4\":\"20 2-gil Hongji-dong Jongro-gu Seoul\",\"_from\":\"0xC6D6c96820dC90740fB25Ad4959b15ecb1C3d1Af\",\"_itemId\":\"0x1111\",\"quantity\":\"3\",\"unitPrice\":\"100\",\"addr\":\"20 2-gil Hongji-dong Jongro-gu Seoul\"}\n",
      "Event fired : {\"0\":\"0xC6D6c96820dC90740fB25Ad4959b15ecb1C3d1Af\",\"1\":\"0x1111\",\"2\":\"5\",\"3\":\"100\",\"4\":\"20 2-gil Hongji-dong Jongro-gu Seoul\",\"_from\":\"0xC6D6c96820dC90740fB25Ad4959b15ecb1C3d1Af\",\"_itemId\":\"0x1111\",\"quantity\":\"5\",\"unitPrice\":\"100\",\"addr\":\"20 2-gil Hongji-dong Jongro-gu Seoul\"}\n",
      "Event fired : {\"0\":\"0xC6D6c96820dC90740fB25Ad4959b15ecb1C3d1Af\",\"1\":\"0x1111\",\"2\":\"20\",\"3\":\"100\",\"4\":\"20 2-gil Hongji-dong Jongro-gu Seoul\",\"_from\":\"0xC6D6c96820dC90740fB25Ad4959b15ecb1C3d1Af\",\"_itemId\":\"0x1111\",\"quantity\":\"20\",\"unitPrice\":\"100\",\"addr\":\"20 2-gil Hongji-dong Jongro-gu Seoul\"}\n",
      "Event fired : {\"0\":\"0xC6D6c96820dC90740fB25Ad4959b15ecb1C3d1Af\",\"1\":\"0x1111\",\"2\":\"3\",\"3\":\"100\",\"4\":\"20 2-gil Hongji-dong Jongro-gu Seoul\",\"_from\":\"0xC6D6c96820dC90740fB25Ad4959b15ecb1C3d1Af\",\"_itemId\":\"0x1111\",\"quantity\":\"3\",\"unitPrice\":\"100\",\"addr\":\"20 2-gil Hongji-dong Jongro-gu Seoul\"}\n",
      "Event fired : {\"0\":\"0xC6D6c96820dC90740fB25Ad4959b15ecb1C3d1Af\",\"1\":\"0x1111\",\"2\":\"5\",\"3\":\"100\",\"4\":\"20 2-gil Hongji-dong Jongro-gu Seoul\",\"_from\":\"0xC6D6c96820dC90740fB25Ad4959b15ecb1C3d1Af\",\"_itemId\":\"0x1111\",\"quantity\":\"5\",\"unitPrice\":\"100\",\"addr\":\"20 2-gil Hongji-dong Jongro-gu Seoul\"}\n",
      "Event fired : {\"0\":\"0xC6D6c96820dC90740fB25Ad4959b15ecb1C3d1Af\",\"1\":\"0x1111\",\"2\":\"20\",\"3\":\"100\",\"4\":\"20 2-gil Hongji-dong Jongro-gu Seoul\",\"_from\":\"0xC6D6c96820dC90740fB25Ad4959b15ecb1C3d1Af\",\"_itemId\":\"0x1111\",\"quantity\":\"20\",\"unitPrice\":\"100\",\"addr\":\"20 2-gil Hongji-dong Jongro-gu Seoul\"}\n",
      ">> Writing to file\n",
      ">> Writing to file\n",
      ">> Writing to file\n",
      ">> Writing to file\n",
      ">> Writing to file\n",
      ">> Writing to file\n",
      ">> Writing to file\n",
      ">> Writing to file\n",
      ">> Writing to file\n",
      ">> Writing to file\n",
      ">> Writing to file\n",
      ">> Writing to file\n",
      ">> Writing to file\n",
      ">> Writing to file\n",
      ">> Writing to file\n",
      ">> Writing to file\n",
      ">> Writing to file\n",
      ">> Writing to file\n",
      ">> Writing to file\n",
      ">> Writing to file\n",
      ">> Writing to file\n",
      ">> Writing to file\n",
      ">> Writing to file\n",
      ">> Writing to file\n",
      ">> Writing to file\n",
      ">> Writing to file\n",
      ">> Writing to file\n",
      ">> Writing to file\n",
      ">> Writing to file\n",
      ">> Writing to file\n",
      ">> Writing to file\n",
      ">> Writing to file\n",
      ">> Writing to file\n",
      ">> Writing to file\n",
      ">> Writing to file\n",
      ">> Writing to file\n",
      ">> Writing to file\n",
      ">> Writing to file\n",
      ">> Writing to file\n",
      ">> Writing to file\n",
      ">> Writing to file\n",
      ">> Writing to file\n",
      ">> Writing to file\n",
      ">> Writing to file\n",
      ">> Writing to file\n",
      ">> Writing to file\n",
      ">> Writing to file\n",
      ">> Writing to file\n",
      ">> Writing to file\n",
      ">> Writing to file\n",
      ">> Writing to file\n",
      "Event fired : {\"0\":\"0xC6D6c96820dC90740fB25Ad4959b15ecb1C3d1Af\",\"1\":\"0x1111\",\"2\":\"3\",\"3\":\"100\",\"4\":\"20 2-gil Hongji-dong Jongro-gu Seoul\",\"_from\":\"0xC6D6c96820dC90740fB25Ad4959b15ecb1C3d1Af\",\"_itemId\":\"0x1111\",\"quantity\":\"3\",\"unitPrice\":\"100\",\"addr\":\"20 2-gil Hongji-dong Jongro-gu Seoul\"}\n",
      "---> MyFunction called undefined\n",
      ">> Writing to file\n",
      "Event fired : {\"0\":\"0xC6D6c96820dC90740fB25Ad4959b15ecb1C3d1Af\",\"1\":\"0x1111\",\"2\":\"5\",\"3\":\"100\",\"4\":\"20 2-gil Hongji-dong Jongro-gu Seoul\",\"_from\":\"0xC6D6c96820dC90740fB25Ad4959b15ecb1C3d1Af\",\"_itemId\":\"0x1111\",\"quantity\":\"5\",\"unitPrice\":\"100\",\"addr\":\"20 2-gil Hongji-dong Jongro-gu Seoul\"}\n",
      "---> MyFunction called undefined\n",
      ">> Writing to file\n",
      "Event fired : {\"0\":\"0xC6D6c96820dC90740fB25Ad4959b15ecb1C3d1Af\",\"1\":\"0x1111\",\"2\":\"20\",\"3\":\"100\",\"4\":\"20 2-gil Hongji-dong Jongro-gu Seoul\",\"_from\":\"0xC6D6c96820dC90740fB25Ad4959b15ecb1C3d1Af\",\"_itemId\":\"0x1111\",\"quantity\":\"20\",\"unitPrice\":\"100\",\"addr\":\"20 2-gil Hongji-dong Jongro-gu Seoul\"}\n",
      "---> MyFunction called undefined\n"
     ]
    }
   ],
   "source": [
    "!node src/OrderUse.js"
   ]
  },
  {
   "cell_type": "markdown",
   "id": "eaf33349",
   "metadata": {},
   "source": [
    "### (5) 파일에 저장된 파일내역을 출력하세요 (주피터 노트북에서 !type src/OrderEvent.txt)"
   ]
  },
  {
   "cell_type": "code",
   "execution_count": 93,
   "id": "dd143425",
   "metadata": {},
   "outputs": [
    {
     "name": "stdout",
     "output_type": "stream",
     "text": [
      "{\"0\":\"0xC6D6c96820dC90740fB25Ad4959b15ecb1C3d1Af\",\"1\":\"0x1111\",\"2\":\"20\",\"3\":\"100\",\"4\":\"20 2-gil Hongji-dong Jongro-gu Seoul\",\"_from\":\"0xC6D6c96820dC90740fB25Ad4959b15ecb1C3d1Af\",\"_itemId\":\"0x1111\",\"quantity\":\"20\",\"unitPrice\":\"100\",\"addr\":\"20 2-gil Hongji-dong Jongro-gu Seoul\"}{\"0\":\"0xC6D6c96820dC90740fB25Ad4959b15ecb1C3d1Af\",\"1\":\"0x1111\",\"2\":\"3\",\"3\":\"100\",\"4\":\"20 2-gil Hongji-dong Jongro-gu Seoul\",\"_from\":\"0xC6D6c96820dC90740fB25Ad4959b15ecb1C3d1Af\",\"_itemId\":\"0x1111\",\"quantity\":\"3\",\"unitPrice\":\"100\",\"addr\":\"20 2-gil Hongji-dong Jongro-gu Seoul\"}{\"0\":\"0xC6D6c96820dC90740fB25Ad4959b15ecb1C3d1Af\",\"1\":\"0x1111\",\"2\":\"5\",\"3\":\"100\",\"4\":\"20 2-gil Hongji-dong Jongro-gu Seoul\",\"_from\":\"0xC6D6c96820dC90740fB25Ad4959b15ecb1C3d1Af\",\"_itemId\":\"0x1111\",\"quantity\":\"5\",\"unitPrice\":\"100\",\"addr\":\"20 2-gil Hongji-dong Jongro-gu Seoul\"}{\"0\":\"0xC6D6c96820dC90740fB25Ad4959b15ecb1C3d1Af\",\"1\":\"0x1111\",\"2\":\"5\",\"3\":\"100\",\"4\":\"20 2-gil Hongji-dong Jongro-gu Seoul\",\"_from\":\"0xC6D6c96820dC90740fB25Ad4959b15ecb1C3d1Af\",\"_itemId\":\"0x1111\",\"quantity\":\"5\",\"unitPrice\":\"100\",\"addr\":\"20 2-gil Hongji-dong Jongro-gu Seoul\"}{\"0\":\"0xC6D6c96820dC90740fB25Ad4959b15ecb1C3d1Af\",\"1\":\"0x1111\",\"2\":\"20\",\"3\":\"100\",\"4\":\"20 2-gil Hongji-dong Jongro-gu Seoul\",\"_from\":\"0xC6D6c96820dC90740fB25Ad4959b15ecb1C3d1Af\",\"_itemId\":\"0x1111\",\"quantity\":\"20\",\"unitPrice\":\"100\",\"addr\":\"20 2-gil Hongji-dong Jongro-gu Seoul\"}{\"0\":\"0xC6D6c96820dC90740fB25Ad4959b15ecb1C3d1Af\",\"1\":\"0x1111\",\"2\":\"20\",\"3\":\"100\",\"4\":\"20 2-gil Hongji-dong Jongro-gu Seoul\",\"_from\":\"0xC6D6c96820dC90740fB25Ad4959b15ecb1C3d1Af\",\"_itemId\":\"0x1111\",\"quantity\":\"20\",\"unitPrice\":\"100\",\"addr\":\"20 2-gil Hongji-dong Jongro-gu Seoul\"}{\"0\":\"0xC6D6c96820dC90740fB25Ad4959b15ecb1C3d1Af\",\"1\":\"0x1111\",\"2\":\"5\",\"3\":\"100\",\"4\":\"20 2-gil Hongji-dong Jongro-gu Seoul\",\"_from\":\"0xC6D6c96820dC90740fB25Ad4959b15ecb1C3d1Af\",\"_itemId\":\"0x1111\",\"quantity\":\"5\",\"unitPrice\":\"100\",\"addr\":\"20 2-gil Hongji-dong Jongro-gu Seoul\"}{\"0\":\"0xC6D6c96820dC90740fB25Ad4959b15ecb1C3d1Af\",\"1\":\"0x1111\",\"2\":\"3\",\"3\":\"100\",\"4\":\"20 2-gil Hongji-dong Jongro-gu Seoul\",\"_from\":\"0xC6D6c96820dC90740fB25Ad4959b15ecb1C3d1Af\",\"_itemId\":\"0x1111\",\"quantity\":\"3\",\"unitPrice\":\"100\",\"addr\":\"20 2-gil Hongji-dong Jongro-gu Seoul\"}{\"0\":\"0xC6D6c96820dC90740fB25Ad4959b15ecb1C3d1Af\",\"1\":\"0x1111\",\"2\":\"3\",\"3\":\"100\",\"4\":\"20 2-gil Hongji-dong Jongro-gu Seoul\",\"_from\":\"0xC6D6c96820dC90740fB25Ad4959b15ecb1C3d1Af\",\"_itemId\":\"0x1111\",\"quantity\":\"3\",\"unitPrice\":\"100\",\"addr\":\"20 2-gil Hongji-dong Jongro-gu Seoul\"}{\"0\":\"0xC6D6c96820dC90740fB25Ad4959b15ecb1C3d1Af\",\"1\":\"0x1111\",\"2\":\"5\",\"3\":\"100\",\"4\":\"20 2-gil Hongji-dong Jongro-gu Seoul\",\"_from\":\"0xC6D6c96820dC90740fB25Ad4959b15ecb1C3d1Af\",\"_itemId\":\"0x1111\",\"quantity\":\"5\",\"unitPrice\":\"100\",\"addr\":\"20 2-gil Hongji-dong Jongro-gu Seoul\"}{\"0\":\"0xC6D6c96820dC90740fB25Ad4959b15ecb1C3d1Af\",\"1\":\"0x1111\",\"2\":\"20\",\"3\":\"100\",\"4\":\"20 2-gil Hongji-dong Jongro-gu Seoul\",\"_from\":\"0xC6D6c96820dC90740fB25Ad4959b15ecb1C3d1Af\",\"_itemId\":\"0x1111\",\"quantity\":\"20\",\"unitPrice\":\"100\",\"addr\":\"20 2-gil Hongji-dong Jongro-gu Seoul\"}{\"0\":\"0xC6D6c96820dC90740fB25Ad4959b15ecb1C3d1Af\",\"1\":\"0x1111\",\"2\":\"5\",\"3\":\"100\",\"4\":\"20 2-gil Hongji-dong Jongro-gu Seoul\",\"_from\":\"0xC6D6c96820dC90740fB25Ad4959b15ecb1C3d1Af\",\"_itemId\":\"0x1111\",\"quantity\":\"5\",\"unitPrice\":\"100\",\"addr\":\"20 2-gil Hongji-dong Jongro-gu Seoul\"}{\"0\":\"0xC6D6c96820dC90740fB25Ad4959b15ecb1C3d1Af\",\"1\":\"0x1111\",\"2\":\"3\",\"3\":\"100\",\"4\":\"20 2-gil Hongji-dong Jongro-gu Seoul\",\"_from\":\"0xC6D6c96820dC90740fB25Ad4959b15ecb1C3d1Af\",\"_itemId\":\"0x1111\",\"quantity\":\"3\",\"unitPrice\":\"100\",\"addr\":\"20 2-gil Hongji-dong Jongro-gu Seoul\"}{\"0\":\"0xC6D6c96820dC90740fB25Ad4959b15ecb1C3d1Af\",\"1\":\"0x1111\",\"2\":\"20\",\"3\":\"100\",\"4\":\"20 2-gil Hongji-dong Jongro-gu Seoul\",\"_from\":\"0xC6D6c96820dC90740fB25Ad4959b15ecb1C3d1Af\",\"_itemId\":\"0x1111\",\"quantity\":\"20\",\"unitPrice\":\"100\",\"addr\":\"20 2-gil Hongji-dong Jongro-gu Seoul\"}{\"0\":\"0xC6D6c96820dC90740fB25Ad4959b15ecb1C3d1Af\",\"1\":\"0x1111\",\"2\":\"3\",\"3\":\"100\",\"4\":\"20 2-gil Hongji-dong Jongro-gu Seoul\",\"_from\":\"0xC6D6c96820dC90740fB25Ad4959b15ecb1C3d1Af\",\"_itemId\":\"0x1111\",\"quantity\":\"3\",\"unitPrice\":\"100\",\"addr\":\"20 2-gil Hongji-dong Jongro-gu Seoul\"}{\"0\":\"0xC6D6c96820dC90740fB25Ad4959b15ecb1C3d1Af\",\"1\":\"0x1111\",\"2\":\"20\",\"3\":\"100\",\"4\":\"20 2-gil Hongji-dong Jongro-gu Seoul\",\"_from\":\"0xC6D6c96820dC90740fB25Ad4959b15ecb1C3d1Af\",\"_itemId\":\"0x1111\",\"quantity\":\"20\",\"unitPrice\":\"100\",\"addr\":\"20 2-gil Hongji-dong Jongro-gu Seoul\"}{\"0\":\"0xC6D6c96820dC90740fB25Ad4959b15ecb1C3d1Af\",\"1\":\"0x1111\",\"2\":\"20\",\"3\":\"100\",\"4\":\"20 2-gil Hongji-dong Jongro-gu Seoul\",\"_from\":\"0xC6D6c96820dC90740fB25Ad4959b15ecb1C3d1Af\",\"_itemId\":\"0x1111\",\"quantity\":\"20\",\"unitPrice\":\"100\",\"addr\":\"20 2-gil Hongji-dong Jongro-gu Seoul\"}{\"0\":\"0xC6D6c96820dC90740fB25Ad4959b15ecb1C3d1Af\",\"1\":\"0x1111\",\"2\":\"3\",\"3\":\"100\",\"4\":\"20 2-gil Hongji-dong Jongro-gu Seoul\",\"_from\":\"0xC6D6c96820dC90740fB25Ad4959b15ecb1C3d1Af\",\"_itemId\":\"0x1111\",\"quantity\":\"3\",\"unitPrice\":\"100\",\"addr\":\"20 2-gil Hongji-dong Jongro-gu Seoul\"}{\"0\":\"0xC6D6c96820dC90740fB25Ad4959b15ecb1C3d1Af\",\"1\":\"0x1111\",\"2\":\"5\",\"3\":\"100\",\"4\":\"20 2-gil Hongji-dong Jongro-gu Seoul\",\"_from\":\"0xC6D6c96820dC90740fB25Ad4959b15ecb1C3d1Af\",\"_itemId\":\"0x1111\",\"quantity\":\"5\",\"unitPrice\":\"100\",\"addr\":\"20 2-gil Hongji-dong Jongro-gu Seoul\"}{\"0\":\"0xC6D6c96820dC90740fB25Ad4959b15ecb1C3d1Af\",\"1\":\"0x1111\",\"2\":\"20\",\"3\":\"100\",\"4\":\"20 2-gil Hongji-dong Jongro-gu Seoul\",\"_from\":\"0xC6D6c96820dC90740fB25Ad4959b15ecb1C3d1Af\",\"_itemId\":\"0x1111\",\"quantity\":\"20\",\"unitPrice\":\"100\",\"addr\":\"20 2-gil Hongji-dong Jongro-gu Seoul\"}{\"0\":\"0xC6D6c96820dC90740fB25Ad4959b15ecb1C3d1Af\",\"1\":\"0x1111\",\"2\":\"3\",\"3\":\"100\",\"4\":\"20 2-gil Hongji-dong Jongro-gu Seoul\",\"_from\":\"0xC6D6c96820dC90740fB25Ad4959b15ecb1C3d1Af\",\"_itemId\":\"0x1111\",\"quantity\":\"3\",\"unitPrice\":\"100\",\"addr\":\"20 2-gil Hongji-dong Jongro-gu Seoul\"}{\"0\":\"0xC6D6c96820dC90740fB25Ad4959b15ecb1C3d1Af\",\"1\":\"0x1111\",\"2\":\"3\",\"3\":\"100\",\"4\":\"20 2-gil Hongji-dong Jongro-gu Seoul\",\"_from\":\"0xC6D6c96820dC90740fB25Ad4959b15ecb1C3d1Af\",\"_itemId\":\"0x1111\",\"quantity\":\"3\",\"unitPrice\":\"100\",\"addr\":\"20 2-gil Hongji-dong Jongro-gu Seoul\"}{\"0\":\"0xC6D6c96820dC90740fB25Ad4959b15ecb1C3d1Af\",\"1\":\"0x1111\",\"2\":\"20\",\"3\":\"100\",\"4\":\"20 2-gil Hongji-dong Jongro-gu Seoul\",\"_from\":\"0xC6D6c96820dC90740fB25Ad4959b15ecb1C3d1Af\",\"_itemId\":\"0x1111\",\"quantity\":\"20\",\"unitPrice\":\"100\",\"addr\":\"20 2-gil Hongji-dong Jongro-gu Seoul\"}{\"0\":\"0xC6D6c96820dC90740fB25Ad4959b15ecb1C3d1Af\",\"1\":\"0x1111\",\"2\":\"5\",\"3\":\"100\",\"4\":\"20 2-gil Hongji-dong Jongro-gu Seoul\",\"_from\":\"0xC6D6c96820dC90740fB25Ad4959b15ecb1C3d1Af\",\"_itemId\":\"0x1111\",\"quantity\":\"5\",\"unitPrice\":\"100\",\"addr\":\"20 2-gil Hongji-dong Jongro-gu Seoul\"}{\"0\":\"0xC6D6c96820dC90740fB25Ad4959b15ecb1C3d1Af\",\"1\":\"0x1111\",\"2\":\"20\",\"3\":\"100\",\"4\":\"20 2-gil Hongji-dong Jongro-gu Seoul\",\"_from\":\"0xC6D6c96820dC90740fB25Ad4959b15ecb1C3d1Af\",\"_itemId\":\"0x1111\",\"quantity\":\"20\",\"unitPrice\":\"100\",\"addr\":\"20 2-gil Hongji-dong Jongro-gu Seoul\"}{\"0\":\"0xC6D6c96820dC90740fB25Ad4959b15ecb1C3d1Af\",\"1\":\"0x1111\",\"2\":\"3\",\"3\":\"100\",\"4\":\"20 2-gil Hongji-dong Jongro-gu Seoul\",\"_from\":\"0xC6D6c96820dC90740fB25Ad4959b15ecb1C3d1Af\",\"_itemId\":\"0x1111\",\"quantity\":\"3\",\"unitPrice\":\"100\",\"addr\":\"20 2-gil Hongji-dong Jongro-gu Seoul\"}{\"0\":\"0xC6D6c96820dC90740fB25Ad4959b15ecb1C3d1Af\",\"1\":\"0x1111\",\"2\":\"5\",\"3\":\"100\",\"4\":\"20 2-gil Hongji-dong Jongro-gu Seoul\",\"_from\":\"0xC6D6c96820dC90740fB25Ad4959b15ecb1C3d1Af\",\"_itemId\":\"0x1111\",\"quantity\":\"5\",\"unitPrice\":\"100\",\"addr\":\"20 2-gil Hongji-dong Jongro-gu Seoul\"}{\"0\":\"0xC6D6c96820dC90740fB25Ad4959b15ecb1C3d1Af\",\"1\":\"0x1111\",\"2\":\"3\",\"3\":\"100\",\"4\":\"20 2-gil Hongji-dong Jongro-gu Seoul\",\"_from\":\"0xC6D6c96820dC90740fB25Ad4959b15ecb1C3d1Af\",\"_itemId\":\"0x1111\",\"quantity\":\"3\",\"unitPrice\":\"100\",\"addr\":\"20 2-gil Hongji-dong Jongro-gu Seoul\"}{\"0\":\"0xC6D6c96820dC90740fB25Ad4959b15ecb1C3d1Af\",\"1\":\"0x1111\",\"2\":\"5\",\"3\":\"100\",\"4\":\"20 2-gil Hongji-dong Jongro-gu Seoul\",\"_from\":\"0xC6D6c96820dC90740fB25Ad4959b15ecb1C3d1Af\",\"_itemId\":\"0x1111\",\"quantity\":\"5\",\"unitPrice\":\"100\",\"addr\":\"20 2-gil Hongji-dong Jongro-gu Seoul\"}{\"0\":\"0xC6D6c96820dC90740fB25Ad4959b15ecb1C3d1Af\",\"1\":\"0x1111\",\"2\":\"3\",\"3\":\"100\",\"4\":\"20 2-gil Hongji-dong Jongro-gu Seoul\",\"_from\":\"0xC6D6c96820dC90740fB25Ad4959b15ecb1C3d1Af\",\"_itemId\":\"0x1111\",\"quantity\":\"3\",\"unitPrice\":\"100\",\"addr\":\"20 2-gil Hongji-dong Jongro-gu Seoul\"}{\"0\":\"0xC6D6c96820dC90740fB25Ad4959b15ecb1C3d1Af\",\"1\":\"0x1111\",\"2\":\"20\",\"3\":\"100\",\"4\":\"20 2-gil Hongji-dong Jongro-gu Seoul\",\"_from\":\"0xC6D6c96820dC90740fB25Ad4959b15ecb1C3d1Af\",\"_itemId\":\"0x1111\",\"quantity\":\"20\",\"unitPrice\":\"100\",\"addr\":\"20 2-gil Hongji-dong Jongro-gu Seoul\"}{\"0\":\"0xC6D6c96820dC90740fB25Ad4959b15ecb1C3d1Af\",\"1\":\"0x1111\",\"2\":\"3\",\"3\":\"100\",\"4\":\"20 2-gil Hongji-dong Jongro-gu Seoul\",\"_from\":\"0xC6D6c96820dC90740fB25Ad4959b15ecb1C3d1Af\",\"_itemId\":\"0x1111\",\"quantity\":\"3\",\"unitPrice\":\"100\",\"addr\":\"20 2-gil Hongji-dong Jongro-gu Seoul\"}{\"0\":\"0xC6D6c96820dC90740fB25Ad4959b15ecb1C3d1Af\",\"1\":\"0x1111\",\"2\":\"5\",\"3\":\"100\",\"4\":\"20 2-gil Hongji-dong Jongro-gu Seoul\",\"_from\":\"0xC6D6c96820dC90740fB25Ad4959b15ecb1C3d1Af\",\"_itemId\":\"0x1111\",\"quantity\":\"5\",\"unitPrice\":\"100\",\"addr\":\"20 2-gil Hongji-dong Jongro-gu Seoul\"}{\"0\":\"0xC6D6c96820dC90740fB25Ad4959b15ecb1C3d1Af\",\"1\":\"0x1111\",\"2\":\"20\",\"3\":\"100\",\"4\":\"20 2-gil Hongji-dong Jongro-gu Seoul\",\"_from\":\"0xC6D6c96820dC90740fB25Ad4959b15ecb1C3d1Af\",\"_itemId\":\"0x1111\",\"quantity\":\"20\",\"unitPrice\":\"100\",\"addr\":\"20 2-gil Hongji-dong Jongro-gu Seoul\"}{\"0\":\"0xC6D6c96820dC90740fB25Ad4959b15ecb1C3d1Af\",\"1\":\"0x1111\",\"2\":\"5\",\"3\":\"100\",\"4\":\"20 2-gil Hongji-dong Jongro-gu Seoul\",\"_from\":\"0xC6D6c96820dC90740fB25Ad4959b15ecb1C3d1Af\",\"_itemId\":\"0x1111\",\"quantity\":\"5\",\"unitPrice\":\"100\",\"addr\":\"20 2-gil Hongji-dong Jongro-gu Seoul\"}{\"0\":\"0xC6D6c96820dC90740fB25Ad4959b15ecb1C3d1Af\",\"1\":\"0x1111\",\"2\":\"20\",\"3\":\"100\",\"4\":\"20 2-gil Hongji-dong Jongro-gu Seoul\",\"_from\":\"0xC6D6c96820dC90740fB25Ad4959b15ecb1C3d1Af\",\"_itemId\":\"0x1111\",\"quantity\":\"20\",\"unitPrice\":\"100\",\"addr\":\"20 2-gil Hongji-dong Jongro-gu Seoul\"}{\"0\":\"0xC6D6c96820dC90740fB25Ad4959b15ecb1C3d1Af\",\"1\":\"0x1111\",\"2\":\"3\",\"3\":\"100\",\"4\":\"20 2-gil Hongji-dong Jongro-gu Seoul\",\"_from\":\"0xC6D6c96820dC90740fB25Ad4959b15ecb1C3d1Af\",\"_itemId\":\"0x1111\",\"quantity\":\"3\",\"unitPrice\":\"100\",\"addr\":\"20 2-gil Hongji-dong Jongro-gu Seoul\"}{\"0\":\"0xC6D6c96820dC90740fB25Ad4959b15ecb1C3d1Af\",\"1\":\"0x1111\",\"2\":\"5\",\"3\":\"100\",\"4\":\"20 2-gil Hongji-dong Jongro-gu Seoul\",\"_from\":\"0xC6D6c96820dC90740fB25Ad4959b15ecb1C3d1Af\",\"_itemId\":\"0x1111\",\"quantity\":\"5\",\"unitPrice\":\"100\",\"addr\":\"20 2-gil Hongji-dong Jongro-gu Seoul\"}{\"0\":\"0xC6D6c96820dC90740fB25Ad4959b15ecb1C3d1Af\",\"1\":\"0x1111\",\"2\":\"3\",\"3\":\"100\",\"4\":\"20 2-gil Hongji-dong Jongro-gu Seoul\",\"_from\":\"0xC6D6c96820dC90740fB25Ad4959b15ecb1C3d1Af\",\"_itemId\":\"0x1111\",\"quantity\":\"3\",\"unitPrice\":\"100\",\"addr\":\"20 2-gil Hongji-dong Jongro-gu Seoul\"}{\"0\":\"0xC6D6c96820dC90740fB25Ad4959b15ecb1C3d1Af\",\"1\":\"0x1111\",\"2\":\"20\",\"3\":\"100\",\"4\":\"20 2-gil Hongji-dong Jongro-gu Seoul\",\"_from\":\"0xC6D6c96820dC90740fB25Ad4959b15ecb1C3d1Af\",\"_itemId\":\"0x1111\",\"quantity\":\"20\",\"unitPrice\":\"100\",\"addr\":\"20 2-gil Hongji-dong Jongro-gu Seoul\"}{\"0\":\"0xC6D6c96820dC90740fB25Ad4959b15ecb1C3d1Af\",\"1\":\"0x1111\",\"2\":\"20\",\"3\":\"100\",\"4\":\"20 2-gil Hongji-dong Jongro-gu Seoul\",\"_from\":\"0xC6D6c96820dC90740fB25Ad4959b15ecb1C3d1Af\",\"_itemId\":\"0x1111\",\"quantity\":\"20\",\"unitPrice\":\"100\",\"addr\":\"20 2-gil Hongji-dong Jongro-gu Seoul\"}{\"0\":\"0xC6D6c96820dC90740fB25Ad4959b15ecb1C3d1Af\",\"1\":\"0x1111\",\"2\":\"5\",\"3\":\"100\",\"4\":\"20 2-gil Hongji-dong Jongro-gu Seoul\",\"_from\":\"0xC6D6c96820dC90740fB25Ad4959b15ecb1C3d1Af\",\"_itemId\":\"0x1111\",\"quantity\":\"5\",\"unitPrice\":\"100\",\"addr\":\"20 2-gil Hongji-dong Jongro-gu Seoul\"}{\"0\":\"0xC6D6c96820dC90740fB25Ad4959b15ecb1C3d1Af\",\"1\":\"0x1111\",\"2\":\"3\",\"3\":\"100\",\"4\":\"20 2-gil Hongji-dong Jongro-gu Seoul\",\"_from\":\"0xC6D6c96820dC90740fB25Ad4959b15ecb1C3d1Af\",\"_itemId\":\"0x1111\",\"quantity\":\"3\",\"unitPrice\":\"100\",\"addr\":\"20 2-gil Hongji-dong Jongro-gu Seoul\"}{\"0\":\"0xC6D6c96820dC90740fB25Ad4959b15ecb1C3d1Af\",\"1\":\"0x1111\",\"2\":\"5\",\"3\":\"100\",\"4\":\"20 2-gil Hongji-dong Jongro-gu Seoul\",\"_from\":\"0xC6D6c96820dC90740fB25Ad4959b15ecb1C3d1Af\",\"_itemId\":\"0x1111\",\"quantity\":\"5\",\"unitPrice\":\"100\",\"addr\":\"20 2-gil Hongji-dong Jongro-gu Seoul\"}{\"0\":\"0xC6D6c96820dC90740fB25Ad4959b15ecb1C3d1Af\",\"1\":\"0x1111\",\"2\":\"20\",\"3\":\"100\",\"4\":\"20 2-gil Hongji-dong Jongro-gu Seoul\",\"_from\":\"0xC6D6c96820dC90740fB25Ad4959b15ecb1C3d1Af\",\"_itemId\":\"0x1111\",\"quantity\":\"20\",\"unitPrice\":\"100\",\"addr\":\"20 2-gil Hongji-dong Jongro-gu Seoul\"}{\"0\":\"0xC6D6c96820dC90740fB25Ad4959b15ecb1C3d1Af\",\"1\":\"0x1111\",\"2\":\"3\",\"3\":\"100\",\"4\":\"20 2-gil Hongji-dong Jongro-gu Seoul\",\"_from\":\"0xC6D6c96820dC90740fB25Ad4959b15ecb1C3d1Af\",\"_itemId\":\"0x1111\",\"quantity\":\"3\",\"unitPrice\":\"100\",\"addr\":\"20 2-gil Hongji-dong Jongro-gu Seoul\"}{\"0\":\"0xC6D6c96820dC90740fB25Ad4959b15ecb1C3d1Af\",\"1\":\"0x1111\",\"2\":\"5\",\"3\":\"100\",\"4\":\"20 2-gil Hongji-dong Jongro-gu Seoul\",\"_from\":\"0xC6D6c96820dC90740fB25Ad4959b15ecb1C3d1Af\",\"_itemId\":\"0x1111\",\"quantity\":\"5\",\"unitPrice\":\"100\",\"addr\":\"20 2-gil Hongji-dong Jongro-gu Seoul\"}{\"0\":\"0xC6D6c96820dC90740fB25Ad4959b15ecb1C3d1Af\",\"1\":\"0x1111\",\"2\":\"20\",\"3\":\"100\",\"4\":\"20 2-gil Hongji-dong Jongro-gu Seoul\",\"_from\":\"0xC6D6c96820dC90740fB25Ad4959b15ecb1C3d1Af\",\"_itemId\":\"0x1111\",\"quantity\":\"20\",\"unitPrice\":\"100\",\"addr\":\"20 2-gil Hongji-dong Jongro-gu Seoul\"}{\"0\":\"0xC6D6c96820dC90740fB25Ad4959b15ecb1C3d1Af\",\"1\":\"0x1111\",\"2\":\"3\",\"3\":\"100\",\"4\":\"20 2-gil Hongji-dong Jongro-gu Seoul\",\"_from\":\"0xC6D6c96820dC90740fB25Ad4959b15ecb1C3d1Af\",\"_itemId\":\"0x1111\",\"quantity\":\"3\",\"unitPrice\":\"100\",\"addr\":\"20 2-gil Hongji-dong Jongro-gu Seoul\"}{\"0\":\"0xC6D6c96820dC90740fB25Ad4959b15ecb1C3d1Af\",\"1\":\"0x1111\",\"2\":\"5\",\"3\":\"100\",\"4\":\"20 2-gil Hongji-dong Jongro-gu Seoul\",\"_from\":\"0xC6D6c96820dC90740fB25Ad4959b15ecb1C3d1Af\",\"_itemId\":\"0x1111\",\"quantity\":\"5\",\"unitPrice\":\"100\",\"addr\":\"20 2-gil Hongji-dong Jongro-gu Seoul\"}{\"0\":\"0xC6D6c96820dC90740fB25Ad4959b15ecb1C3d1Af\",\"1\":\"0x1111\",\"2\":\"20\",\"3\":\"100\",\"4\":\"20 2-gil Hongji-dong Jongro-gu Seoul\",\"_from\":\"0xC6D6c96820dC90740fB25Ad4959b15ecb1C3d1Af\",\"_itemId\":\"0x1111\",\"quantity\":\"20\",\"unitPrice\":\"100\",\"addr\":\"20 2-gil Hongji-dong Jongro-gu Seoul\"}{\"0\":\"0xC6D6c96820dC90740fB25Ad4959b15ecb1C3d1Af\",\"1\":\"0x1111\",\"2\":\"5\",\"3\":\"100\",\"4\":\"20 2-gil Hongji-dong Jongro-gu Seoul\",\"_from\":\"0xC6D6c96820dC90740fB25Ad4959b15ecb1C3d1Af\",\"_itemId\":\"0x1111\",\"quantity\":\"5\",\"unitPrice\":\"100\",\"addr\":\"20 2-gil Hongji-dong Jongro-gu Seoul\"}{\"0\":\"0xC6D6c96820dC90740fB25Ad4959b15ecb1C3d1Af\",\"1\":\"0x1111\",\"2\":\"3\",\"3\":\"100\",\"4\":\"20 2-gil Hongji-dong Jongro-gu Seoul\",\"_from\":\"0xC6D6c96820dC90740fB25Ad4959b15ecb1C3d1Af\",\"_itemId\":\"0x1111\",\"quantity\":\"3\",\"unitPrice\":\"100\",\"addr\":\"20 2-gil Hongji-dong Jongro-gu Seoul\"}{\"0\":\"0xC6D6c96820dC90740fB25Ad4959b15ecb1C3d1Af\",\"1\":\"0x1111\",\"2\":\"5\",\"3\":\"100\",\"4\":\"20 2-gil Hongji-dong Jongro-gu Seoul\",\"_from\":\"0xC6D6c96820dC90740fB25Ad4959b15ecb1C3d1Af\",\"_itemId\":\"0x1111\",\"quantity\":\"5\",\"unitPrice\":\"100\",\"addr\":\"20 2-gil Hongji-dong Jongro-gu Seoul\"}\n"
     ]
    }
   ],
   "source": [
    "!type src\\OrderEvent.txt"
   ]
  },
  {
   "cell_type": "code",
   "execution_count": null,
   "id": "af808c56",
   "metadata": {},
   "outputs": [],
   "source": []
  }
 ],
 "metadata": {
  "kernelspec": {
   "display_name": "Python 3 (ipykernel)",
   "language": "python",
   "name": "python3"
  },
  "language_info": {
   "codemirror_mode": {
    "name": "ipython",
    "version": 3
   },
   "file_extension": ".py",
   "mimetype": "text/x-python",
   "name": "python",
   "nbconvert_exporter": "python",
   "pygments_lexer": "ipython3",
   "version": "3.8.10"
  }
 },
 "nbformat": 4,
 "nbformat_minor": 5
}
