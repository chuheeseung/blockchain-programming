{
 "cells": [
  {
   "cell_type": "markdown",
   "id": "4c7e51a1",
   "metadata": {},
   "source": [
    "## 9.3.8 배열\n",
    "## 실습문제 : 배열 사용"
   ]
  },
  {
   "cell_type": "code",
   "execution_count": 1,
   "id": "547d1ea7",
   "metadata": {},
   "outputs": [
    {
     "name": "stdout",
     "output_type": "stream",
     "text": [
      "Overwriting src/ArrayTest.sol\n"
     ]
    }
   ],
   "source": [
    "%%writefile src/ArrayTest.sol\n",
    "//SPDX-License-Identifier: GPL-3.0-or-later\n",
    "// pragma solidity ^0.8.0;\n",
    "pragma solidity ^0.6.4;\n",
    "\n",
    "contract ArrayTest {\n",
    "    uint[3] ages = [15, 25, 35];\n",
    "    int[] marks; \n",
    "\n",
    "    function updateAges(uint index, uint val) public {\n",
    "        if(index >= 0 && index <= 2) {\n",
    "            ages[index] = val;\n",
    "        }\n",
    "    }\n",
    "\n",
    "    function initMarks() public {\n",
    "        marks = new int[](5); // default 0\n",
    "    }\n",
    "\n",
    "    function appendMark(int mark) public { \n",
    "        marks.push(mark);\n",
    "    }\n",
    "\n",
    "    function popMark() public {\n",
    "        marks.pop();\n",
    "    }\n",
    "\n",
    "    function getMarks() public view returns(int[] memory) {\n",
    "        return marks;\n",
    "    }\n",
    "\n",
    "    function getAges() public view returns(uint[3] memory) {\n",
    "        return ages;\n",
    "    }\n",
    "\n",
    "    function getLenOfArr() pure public returns(uint) {\n",
    "        uint8[3] memory intArr = [0, 1, 2];\n",
    "        return intArr.length;\n",
    "    }\n",
    "}"
   ]
  },
  {
   "cell_type": "code",
   "execution_count": 2,
   "id": "e0cccd80",
   "metadata": {},
   "outputs": [
    {
     "name": "stderr",
     "output_type": "stream",
     "text": [
      "Compiler run successful, no output requested.\n"
     ]
    }
   ],
   "source": [
    "!solc.exe src/ArrayTest.sol"
   ]
  },
  {
   "cell_type": "markdown",
   "id": "a055e2c7",
   "metadata": {},
   "source": [
    "## 9.3.9 계정 주소\n",
    "## 실습문제 : 송금"
   ]
  },
  {
   "cell_type": "code",
   "execution_count": 3,
   "id": "ace81f92",
   "metadata": {},
   "outputs": [
    {
     "name": "stdout",
     "output_type": "stream",
     "text": [
      "Writing src/AddressTest.sol\n"
     ]
    }
   ],
   "source": [
    "%%writefile src/AddressTest.sol\n",
    "//SPDX-License-Identifier: GPL-3.0-or-later\n",
    "// pragma solidity ^0.8.0;\n",
    "pragma solidity ^0.6.4;\n",
    "\n",
    "contract ArrayTest {\n",
    "    address owner;\n",
    "    address payable receiver;\n",
    "    uint balanceOfOwner;\n",
    "    \n",
    "    constructor() public {\n",
    "        owner = msg.sender;\n",
    "        balanceOfOwner = owner.balance;\n",
    "    }\n",
    "\n",
    "    function deposit() payable public {\n",
    "\n",
    "    }\n",
    "\n",
    "    function setReceiver(address payable addr) public {\n",
    "        receiver = addr;\n",
    "    }\n",
    "\n",
    "    function getReceiver() view public returns(address) {\n",
    "        return receiver;\n",
    "    }\n",
    "\n",
    "    function getBalanceOfThis() public view returns(uint) {\n",
    "        return address(this).balance;\n",
    "    }\n",
    "\n",
    "    function getBalanceOfOwner() public view returns(uint) {\n",
    "        return owner.balance;\n",
    "    }\n",
    "\n",
    "    function send() public payable {\n",
    "        require(receiver.send(111));\n",
    "    }\n",
    "\n",
    "    function transfer() public payable {\n",
    "        receiver.transfer(11111);\n",
    "    }\n",
    "\n",
    "    function callValue() public payable {\n",
    "        (bool success, ) = receiver.call{value: 11111}(\"\");\n",
    "        require(success, \"transfer call failed.\");\n",
    "        (success, ) = receiver.call{gas: 10, value: 11111}(\"\");\n",
    "        require(success, \"transfer call failed.\");\n",
    "    }\n",
    "}"
   ]
  },
  {
   "cell_type": "code",
   "execution_count": 4,
   "id": "4857c3c0",
   "metadata": {},
   "outputs": [
    {
     "name": "stderr",
     "output_type": "stream",
     "text": [
      "Compiler run successful, no output requested.\n"
     ]
    }
   ],
   "source": [
    "!solc.exe src/AddressTest.sol"
   ]
  },
  {
   "cell_type": "markdown",
   "id": "e2b9c8c2",
   "metadata": {},
   "source": [
    "## 9.6 연산자\n",
    "## 실습문제 : 주소 계정에서 입출금"
   ]
  },
  {
   "cell_type": "code",
   "execution_count": 11,
   "id": "26ad7dd4",
   "metadata": {},
   "outputs": [
    {
     "name": "stdout",
     "output_type": "stream",
     "text": [
      "Overwriting src/MyBank.sol\n"
     ]
    }
   ],
   "source": [
    "%%writefile src/MyBank.sol\n",
    "//SPDX-License-Identifier: GPL-3.0-or-later\n",
    "// pragma solidity ^0.8.0;\n",
    "pragma solidity ^0.6.4;\n",
    "\n",
    "contract MyBank {\n",
    "    address owner;\n",
    "    uint balance;\n",
    "\n",
    "    constructor() public {\n",
    "        owner = msg.sender;\n",
    "        balance = address(this).balance;\n",
    "    }\n",
    "\n",
    "    function deposit(uint amount) public payable {\n",
    "        require(msg.value == amount);\n",
    "        balance += amount;\n",
    "    }\n",
    "\n",
    "    function withdraw(uint amount) public payable {\n",
    "        balance -= amount;\n",
    "        payable(owner).transfer(amount);\n",
    "    }\n",
    "\n",
    "    function transferTo(address payable receiver, uint amount) public payable {\n",
    "        balance -= amount;\n",
    "        receiver.transfer(amount);\n",
    "    }\n",
    "\n",
    "    function getBalance() public view returns(uint) {\n",
    "        return balance;\n",
    "    }\n",
    "\n",
    "    function getBalanceOfThis() public view returns(uint) {\n",
    "        return address(this).balance;\n",
    "    }\n",
    "\n",
    "    function getBalanceOfOwne() public view returns(uint) {\n",
    "        return owner.balance;\n",
    "    }\n",
    "}"
   ]
  },
  {
   "cell_type": "code",
   "execution_count": 12,
   "id": "f0a92ddb",
   "metadata": {},
   "outputs": [],
   "source": [
    "!solc.exe --optimize --combined-json abi,bin src/MyBank.sol > src/MyBank.json"
   ]
  },
  {
   "cell_type": "code",
   "execution_count": 17,
   "id": "c433784b",
   "metadata": {},
   "outputs": [
    {
     "name": "stdout",
     "output_type": "stream",
     "text": [
      "Overwriting src/MyBankDeploy.js\n"
     ]
    }
   ],
   "source": [
    "%%writefile src/MyBankDeploy.js\n",
    "var Web3 = require('web3');\n",
    "var _abiBinJson = require('./MyBank.json');\n",
    "var web3 = new Web3(new Web3.providers.HttpProvider(\"http://localhost:8345\"));\n",
    "\n",
    "contractName = Object.keys(_abiBinJson.contracts);\n",
    "console.log(\"- contract name : \", contractName);\n",
    "_abiArray=JSON.parse(_abiBinJson.contracts[contractName].abi); \n",
    "_bin = _abiBinJson.contracts[contractName].bin;\n",
    "\n",
    "async function deploy() {\n",
    "    const accounts = await web3.eth.getAccounts();\n",
    "    console.log(\"Deploying the contract from \" + accounts[0]);\n",
    "    var deployed = await new web3.eth.Contract(_abiArray)\n",
    "        .deploy({data: \"0x\" + _bin})\n",
    "        .send({from: accounts[0], gas: 364124}, function(err, transactionHash) {\n",
    "            if(!err) {\n",
    "                console.log(\"hash: \" + transactionHash);\n",
    "            }\n",
    "        });\n",
    "    console.log(\"---> The contract deployed to : \" + deployed.options.address);\n",
    "}\n",
    "\n",
    "deploy();"
   ]
  },
  {
   "cell_type": "code",
   "execution_count": 18,
   "id": "93b8ba78",
   "metadata": {},
   "outputs": [
    {
     "name": "stdout",
     "output_type": "stream",
     "text": [
      "- contract name :  [ 'src/MyBank.sol:MyBank' ]\n",
      "Deploying the contract from 0xaD613993B7400B5494F5978723599913165420e7\n",
      "hash: 0x389313fc7a487bd1384fc24bd97773dec930bc07ddb3afd328e6c2a78c79fac0\n",
      "---> The contract deployed to : 0xA26676c2906FFF4C84A9AFED6f4af7a1042C5fd3\n"
     ]
    }
   ],
   "source": [
    "!node src/MyBankDeploy.js"
   ]
  },
  {
   "cell_type": "code",
   "execution_count": 19,
   "id": "276a8bf6",
   "metadata": {},
   "outputs": [
    {
     "name": "stdout",
     "output_type": "stream",
     "text": [
      "Writing src/MyBankUse.js\n"
     ]
    }
   ],
   "source": [
    "%%writefile src/MyBankUse.js\n",
    "var Web3 = require('web3');\n",
    "var _abiBinJson = require('./MyBank.json');\n",
    "var web3 = new Web3(new Web3.providers.HttpProvider(\"http://localhost:8345\"));\n",
    "\n",
    "contractName = Object.keys(_abiBinJson.contracts);\n",
    "_abiArray=JSON.parse(_abiBinJson.contracts[contractName].abi); \n",
    "_bin = _abiBinJson.contracts[contractName].bin;\n",
    "\n",
    "var myBank = new web3.eth.Contract(_abiArray, \"0xA26676c2906FFF4C84A9AFED6f4af7a1042C5fd3\");\n",
    "\n",
    "async function doIt() {\n",
    "    const accounts = await web3.eth.getAccounts();\n",
    "    console.log(\"Call from : \" + accounts[0]);\n",
    "    myBank.methods.getBalance().call().then(console.log);\n",
    "    myBank.methods.deposit(1111).send({from: accounts[0], gas: 80000, value: 1111});\n",
    "    myBank.methods.getBalance().call().then(console.log);\n",
    "}\n",
    "\n",
    "doIt();"
   ]
  },
  {
   "cell_type": "code",
   "execution_count": 21,
   "id": "3cbdbe2b",
   "metadata": {},
   "outputs": [
    {
     "name": "stdout",
     "output_type": "stream",
     "text": [
      "Call from : 0xaD613993B7400B5494F5978723599913165420e7\n",
      "1111\n",
      "1111\n"
     ]
    }
   ],
   "source": [
    "!node src/MyBankUse.js"
   ]
  },
  {
   "cell_type": "markdown",
   "id": "ad65c9fd",
   "metadata": {},
   "source": [
    "## 9.7 형변환\n",
    "## 실습문제 : 형변환"
   ]
  },
  {
   "cell_type": "code",
   "execution_count": 22,
   "id": "0d7feb4c",
   "metadata": {},
   "outputs": [
    {
     "name": "stdout",
     "output_type": "stream",
     "text": [
      "Writing src/DataConversionTest.sol\n"
     ]
    }
   ],
   "source": [
    "%%writefile src/DataConversionTest.sol\n",
    "//SPDX-License-Identifier: GPL-3.0-or-later\n",
    "pragma solidity ^0.6.4;\n",
    "\n",
    "contract DataConversionTest {\n",
    "    function convertInt8ToInt() pure public returns(int) {\n",
    "        int8 i8 = 20;\n",
    "        return int(i8);\n",
    "    }\n",
    "\n",
    "    function convertIntToBytes32() pure public returns(bytes32) {\n",
    "        uint x = 20; \n",
    "        //0x0000000000000000000000000000000000000000000000000000000000000014\n",
    "        return bytes32(x);\n",
    "    }\n",
    "\n",
    "    function convertInt64ToBytes8() pure public returns(bytes8) {\n",
    "        uint64 x = 10;\n",
    "        return bytes8(x);\n",
    "    }\n",
    "\n",
    "    function convertIntToBytes() pure public returns(bytes memory) {\n",
    "        uint x = 20;\n",
    "        bytes32 y = bytes32(x);\n",
    "        bytes memory z = new bytes(32);\n",
    "        for (uint i = 0; i < 32; i++) {\n",
    "            z[i] = y[i];\n",
    "        }\n",
    "        return z;\n",
    "    }\n",
    "\n",
    "    function convertStringToBytes() pure public returns(bytes memory) {\n",
    "        string memory s = \"hello\";\n",
    "        return bytes(s);\n",
    "    }\n",
    "\n",
    "    function convertBytes4ToBytes2() pure public returns(bytes2) {\n",
    "        bytes4 b4 = 0x68656c6c;\n",
    "        return bytes2(b4);\n",
    "    }\n",
    "\n",
    "    function convertBytes4ToInt32() pure public returns(uint32) {\n",
    "        bytes4 b4 = 0x68656c6c;\n",
    "        return uint32(b4);\n",
    "    }\n",
    "}"
   ]
  },
  {
   "cell_type": "code",
   "execution_count": 23,
   "id": "8fc302a8",
   "metadata": {},
   "outputs": [
    {
     "name": "stderr",
     "output_type": "stream",
     "text": [
      "Compiler run successful, no output requested.\n"
     ]
    }
   ],
   "source": [
    "!solc.exe src/DataConversionTest.sol"
   ]
  },
  {
   "cell_type": "markdown",
   "id": "b71b1870",
   "metadata": {},
   "source": [
    "## 9.8 전역 변수\n",
    "## 실습문제 : 전역변수"
   ]
  },
  {
   "cell_type": "code",
   "execution_count": 24,
   "id": "6f4c9700",
   "metadata": {},
   "outputs": [
    {
     "name": "stdout",
     "output_type": "stream",
     "text": [
      "Writing src/GlobalVarsTest.sol\n"
     ]
    }
   ],
   "source": [
    "%%writefile src/GlobalVarsTest.sol\n",
    "//SPDX-License-Identifier: GPL-3.0-or-later\n",
    "pragma solidity ^0.6.4; \n",
    "\n",
    "contract GlobalVarsTest {\n",
    "    function getEther() pure public returns(uint) {\n",
    "        return 1 ether;\n",
    "    }\n",
    "\n",
    "    function getDays() view public returns(uint, uint) {\n",
    "        return(block.timestamp, 1 days);\n",
    "    }\n",
    "\n",
    "    function getMsgValue() view internal returns(uint) {\n",
    "        return msg.value;\n",
    "    }\n",
    "\n",
    "    function getMsgSender() view public returns(address) {\n",
    "        return msg.sender;\n",
    "    }\n",
    "\n",
    "    function getCoinbase() view public returns(address) {\n",
    "        return block.coinbase;\n",
    "    }\n",
    "\n",
    "    function getBlockNumber() view public returns(uint) {\n",
    "        return block.number;\n",
    "    }\n",
    "\n",
    "    function getBlockTimeStamp() view public returns(uint) {\n",
    "        return block.timestamp;\n",
    "    }\n",
    "}"
   ]
  },
  {
   "cell_type": "code",
   "execution_count": 25,
   "id": "296fc110",
   "metadata": {},
   "outputs": [
    {
     "name": "stderr",
     "output_type": "stream",
     "text": [
      "Compiler run successful, no output requested.\n"
     ]
    }
   ],
   "source": [
    "!solc.exe src/GlobalVarsTest.sol"
   ]
  },
  {
   "cell_type": "markdown",
   "id": "4fe2b327",
   "metadata": {},
   "source": [
    "## 5.9 Opcode 읽어보기\n",
    "## 실습문제 : 송금 더 해보기"
   ]
  },
  {
   "cell_type": "code",
   "execution_count": 26,
   "id": "96de7e69",
   "metadata": {},
   "outputs": [
    {
     "name": "stdout",
     "output_type": "stream",
     "text": [
      "Writing src/BankV2.sol\n"
     ]
    }
   ],
   "source": [
    "%%writefile src/BankV2.sol\n",
    "//SPDX-License-Identifier: GPL-3.0-or-later\n",
    "pragma solidity ^0.6.4; \n",
    "\n",
    "contract BankV2 {\n",
    "    address owner;\n",
    "    uint balance;\n",
    "    \n",
    "    constructor() public {\n",
    "        owner = msg.sender;\n",
    "        balance = 0;\n",
    "    }\n",
    "\n",
    "    event Sent(address from, address to, uint amount);\n",
    "\n",
    "    function forwardTo(address payable _receiver) public payable {\n",
    "        require(msg.sender == owner);\n",
    "        _receiver.transfer(msg.value);\n",
    "        emit Sent(msg.sender, _receiver, msg.value);\n",
    "    }\n",
    "\n",
    "    function getBalance() public view returns(uint, uint) {\n",
    "        return (balance, address(this).balance);\n",
    "    }\n",
    "\n",
    "    function deposit(uint amount) public payable {\n",
    "        require(msg.value == amount);\n",
    "        balance += amount;\n",
    "    }\n",
    "\n",
    "    function withdrawAll() public {\n",
    "        balance -= address(this).balance;\n",
    "        require(msg.sender == owner);\n",
    "        msg.sender.transfer(address(this).balance);\n",
    "    }\n",
    "}"
   ]
  },
  {
   "cell_type": "code",
   "execution_count": 27,
   "id": "64133ad2",
   "metadata": {},
   "outputs": [],
   "source": [
    "!solc --optimize --combined-json abi,bin src/BankV2.sol > src/BankV2.json"
   ]
  },
  {
   "cell_type": "code",
   "execution_count": 30,
   "id": "ce00b87d",
   "metadata": {},
   "outputs": [
    {
     "name": "stdout",
     "output_type": "stream",
     "text": [
      "Overwriting src/BankV2Deploy.js\n"
     ]
    }
   ],
   "source": [
    "%%writefile src/BankV2Deploy.js\n",
    "var Web3 = require('web3');\n",
    "var web3 = new Web3(new Web3.providers.HttpProvider(\"http://localhost:8345\"));\n",
    "\n",
    "var _abiBinJson = require('./BankV2.json');\n",
    "contractName = Object.keys(_abiBinJson.contracts);\n",
    "console.log(\"- contract name : \", contractName);\n",
    "_abiArray=JSON.parse(_abiBinJson.contracts[contractName].abi); \n",
    "_bin = _abiBinJson.contracts[contractName].bin;\n",
    "\n",
    "async function deploy() {\n",
    "    const accounts = await web3.eth.getAccounts();\n",
    "    console.log(\"Deploying the contract from \" + accounts[0]);\n",
    "    var deployed = await new web3.eth.Contract(_abiArray)\n",
    "        .deploy({data: \"0x\" + _bin})\n",
    "        .send({from: accounts[0], gas: 1000000, gasPrice: '1000000000'}, function(err, transactionHash) {\n",
    "            if(!err) {\n",
    "                console.log(\"hash : \" + transactionHash);\n",
    "            }\n",
    "        });\n",
    "    console.log(\"---> The contract deployed to : \" + deployed.options.address);\n",
    "}\n",
    "\n",
    "deploy();"
   ]
  },
  {
   "cell_type": "code",
   "execution_count": 31,
   "id": "a8e66970",
   "metadata": {},
   "outputs": [
    {
     "name": "stdout",
     "output_type": "stream",
     "text": [
      "- contract name :  [ 'src/BankV2.sol:BankV2' ]\n",
      "Deploying the contract from 0xaD613993B7400B5494F5978723599913165420e7\n",
      "hash : 0x6cda99afd58e386a2c720fb23add831d07d16de467e8bada8da8dfc0f653e25c\n",
      "---> The contract deployed to : 0x54f27773f007028037A2f47C1800FBc078DeF63a\n"
     ]
    }
   ],
   "source": [
    "!node src/BankV2Deploy.js"
   ]
  },
  {
   "cell_type": "code",
   "execution_count": 38,
   "id": "42fbef88",
   "metadata": {},
   "outputs": [
    {
     "name": "stdout",
     "output_type": "stream",
     "text": [
      "Overwriting src/BankV2Use.js\n"
     ]
    }
   ],
   "source": [
    "%%writefile src/BankV2Use.js\n",
    "var Web3 = require('web3');\n",
    "var _abiBinJson = require('./MyBank.json');\n",
    "//var web3 = new Web3(new Web3.providers.HttpProvider(\"http://localhost:8345\"));\n",
    "var web3 = new Web3(new Web3.providers.WebsocketProvider('ws://localhost:8345'));\n",
    "\n",
    "contractName = Object.keys(_abiBinJson.contracts);\n",
    "console.log(\"- contract name : \", contractName);\n",
    "_abiArray=JSON.parse(_abiBinJson.contracts[contractName].abi); \n",
    "_bin = _abiBinJson.contracts[contractName].bin;\n",
    "\n",
    "var bank = new web3.eth.Contract(_abiArray, \"0x54f27773f007028037A2f47C1800FBc078DeF63a\");\n",
    "var event = bank.events.Sent({fromBlock: 0}, function (error, result) {\n",
    "    if (!error) {\n",
    "        console.log(\"Event fired: \" + JSON.stringify(result.returnValues));\n",
    "    }\n",
    "});\n",
    "\n",
    "async function doIt() {\n",
    "    const accounts = await web3.eth.getAccounts();\n",
    "    console.log(\"Account 0 : \" + accounts[0]);\n",
    "    const balance0Before = await web3.eth.getBalance(accounts[0]);\n",
    "    console.log(\"Balance0 before : \" + balanc0Before);\n",
    "    const balance1Before = await web3.eth.getBalance(accounts[1]);\n",
    "    console.log(\"Balacne1 before : \" + balance1Before);\n",
    "    \n",
    "    bank.methods.getBalance().call().then(function(bal) {\n",
    "        console.log(\"Contract bal before deposit : \" + bal[0] + \" this.bal : \" + bal[1]);\n",
    "    });\n",
    "    \n",
    "    await bank.methods.deposit(1111).send({from: accounts[0], gas: 80000, value: 1111});\n",
    "    bank.methods.getBalance().call().then(function(bal) {\n",
    "        console.log(\"Contract bal after deposit : \" + bal[0] + \" this.bal : \" + bal[1]);\n",
    "    })\n",
    "    \n",
    "    const forward = await bank.methods.forwardTo(accounts[1])\n",
    "        .send({from: accounts[0], gas: 100000, value: 555});\n",
    "    \n",
    "    console.log(\"---> forwardTo called : \" + JSON.stringify(forward.events.Sent.returnValues));\n",
    "    bank.methods.getBalance().call().then(function(bal) {\n",
    "        console.log(\"Contract balance after forwardTo : \" + bal[0] + \" this.bal : \" + bal[1]);\n",
    "    });\n",
    "    \n",
    "    const balance0After = await web3.eth.getBalance(accounts[0]);\n",
    "    console.log(\"Balance0 after: \" + balance0After);\n",
    "    console.log(\"Balance0 diff: \" + (balance0After - balance0Before));\n",
    "    const balance1After = await web3.eth.getBalance(accounts[1]);\n",
    "    console.log(\"Balance1 after: \" + balance1After);\n",
    "    console.log(\"Balance1 diff: \" + (balance1After - balance1Before));\n",
    "\n",
    "    const withdraw = await bank.methods.widthdrawAll().send({from: accounts[0],gas:100000});\n",
    "    bank.methods.getBalance().call().then(function(bal) {\n",
    "        console.log(\"Contract balance after withdrawAll: \" + bal[0] + \" this.bal:\" + bal[1]);\n",
    "    });\n",
    "    const balance0AfterWithdrawAll = await web3.eth.getBalance(accounts[0]);\n",
    "    console.log(\"Balance0 after withdrawAll: \" + balance0AfterWithdrawAll);\n",
    "    console.log(\"Balance0 diff after withdrawAll: \" + (balance0After - balance0AfterWithdrawAll));\n",
    "}\n",
    "\n",
    "doIt();"
   ]
  },
  {
   "cell_type": "code",
   "execution_count": 39,
   "id": "339fedfd",
   "metadata": {},
   "outputs": [
    {
     "name": "stdout",
     "output_type": "stream",
     "text": [
      "- contract name :  [ 'src/MyBank.sol:MyBank' ]\n"
     ]
    },
    {
     "name": "stderr",
     "output_type": "stream",
     "text": [
      "C:\\Users\\youve\\Code\\201810820\\src\\BankV2Use.js:12\n",
      "var event = bank.events.Sent({fromBlock: 0}, function (error, result) {\n",
      "                        ^\n",
      "\n",
      "TypeError: bank.events.Sent is not a function\n",
      "    at Object.<anonymous> (C:\\Users\\youve\\Code\\201810820\\src\\BankV2Use.js:12:25)\n",
      "    at Module._compile (node:internal/modules/cjs/loader:1103:14)\n",
      "    at Object.Module._extensions..js (node:internal/modules/cjs/loader:1157:10)\n",
      "    at Module.load (node:internal/modules/cjs/loader:981:32)\n",
      "    at Function.Module._load (node:internal/modules/cjs/loader:822:12)\n",
      "    at Function.executeUserEntryPoint [as runMain] (node:internal/modules/run_main:77:12)\n",
      "    at node:internal/main/run_main_module:17:47\n"
     ]
    }
   ],
   "source": [
    "!node src/BankV2Use.js"
   ]
  },
  {
   "cell_type": "markdown",
   "id": "c8bc403f",
   "metadata": {},
   "source": [
    "## 10.4 함수의 제약조건을 지정하는 modifier\n",
    "## 실습문제 : 은행 BankV3"
   ]
  },
  {
   "cell_type": "code",
   "execution_count": 1,
   "id": "f779263b",
   "metadata": {},
   "outputs": [
    {
     "name": "stdout",
     "output_type": "stream",
     "text": [
      "Writing src/BankV3.sol\n"
     ]
    }
   ],
   "source": [
    "%%writefile src/BankV3.sol\n",
    "//SPDX-License-Identifier: GPL-3.0-or-later\n",
    "pragma solidity ^0.6.4;\n",
    "\n",
    "contract BankV3 {\n",
    "    address owner;\n",
    "    uint balance;\n",
    "    uint256 timeToDeposit;\n",
    "\n",
    "    event PrintLog(string);\n",
    "    event Sent(address from, address to, uint amount);\n",
    "\n",
    "    constructor() public {\n",
    "        owner = msg.sender;\n",
    "        balance = 0;\n",
    "    }\n",
    "\n",
    "    fallback() external {\n",
    "        emit PrintLog(\"Fallback called\");\n",
    "    }\n",
    "\n",
    "    function forwardTo(address payable _receiver) public payable onlyOwner {\n",
    "        _receiver.transfer(msg.value);\n",
    "        emit Sent(msg.sender, _receiver, msg.value);\n",
    "    }\n",
    "\n",
    "    function getBalance() public view returns(uint, uint) {\n",
    "        return(balance, address(this).balance);\n",
    "    }\n",
    "\n",
    "    function deposit(uint amount) public payable onlyAfter {\n",
    "        timeToDeposit = block.timestamp + 10 seconds;\n",
    "        require(msg.value == amount);\n",
    "        balance += amount;\n",
    "    }\n",
    "\n",
    "    function witdrawAll() public onlyOwner minBalance {\n",
    "        balance -= address(this).balance;\n",
    "        payable(msg.sender).transfer(address(this).balance);\n",
    "    }\n",
    "\n",
    "    modifier onlyOwner {\n",
    "        require(msg.sender == owner);\n",
    "        _;\n",
    "    }\n",
    "\n",
    "    modifier onlyAfter {\n",
    "        require(block.timestamp >= timeToDeposit);\n",
    "        _;\n",
    "    }\n",
    "\n",
    "    modifier minBalance {\n",
    "        require(address(this).balance > 101 wei);\n",
    "        _;\n",
    "    }\n",
    "}"
   ]
  },
  {
   "cell_type": "code",
   "execution_count": 2,
   "id": "796b7d8a",
   "metadata": {},
   "outputs": [],
   "source": [
    "!solc.exe --optimize --combined-json abi,bin src/BankV3.sol > src/BankV3.json"
   ]
  },
  {
   "cell_type": "code",
   "execution_count": 3,
   "id": "5312b9b7",
   "metadata": {},
   "outputs": [
    {
     "name": "stdout",
     "output_type": "stream",
     "text": [
      "Writing src/BankV3Deploy.js\n"
     ]
    }
   ],
   "source": [
    "%%writefile src/BankV3Deploy.js\n",
    "var Web3 = require('web3');\n",
    "var _abiBinJson = require('./BankV3.json');\n",
    "var web3 = new Web3(new Web3.providers.HttpProvider(\"http://localhost:8345\"));\n",
    "\n",
    "contractName = Object.keys(_abiBinJson.contracts);\n",
    "console.log(\"- contract name : \", contractName);\n",
    "_abiArray=JSON.parse(_abiBinJson.contracts[contractName].abi); \n",
    "_bin = _abiBinJson.contracts[contractName].bin;\n",
    "\n",
    "async function deploy() {\n",
    "    const accounts = await web3.eth.getAccounts();\n",
    "    console.log(\"Deploying the contract from : \" + accounts[0]);\n",
    "    var deployed = await new web3.eth.Contract(_abiArray)\n",
    "        .deploy({data: \"0x\" + _bin})\n",
    "        .send({from: accounts[0], gas: 259210}, function(err, transactionHash) {\n",
    "            if(!err) {\n",
    "                console.log(\"hash \" + transactionHash);\n",
    "            }\n",
    "        })\n",
    "    console.log(\"---> The contract deployed to \" + deployed.options.address);\n",
    "}\n",
    "\n",
    "deploy();"
   ]
  },
  {
   "cell_type": "code",
   "execution_count": 5,
   "id": "ce4dd9c6",
   "metadata": {},
   "outputs": [
    {
     "name": "stdout",
     "output_type": "stream",
     "text": [
      "- contract name :  [ 'src/BankV3.sol:BankV3' ]\n",
      "Deploying the contract from : 0x0B5d062d359699F97c93eB4C7B20D10C28D4ec21\n",
      "hash 0x8e2b0009eced98c2c8a5746820b8cfa285100d456e3fe213f483dc4a434da733\n",
      "---> The contract deployed to 0xe5bB9550c4680411999927C710f3947486d76600\n"
     ]
    }
   ],
   "source": [
    "!node src/BankV3Deploy.js"
   ]
  },
  {
   "cell_type": "code",
   "execution_count": 8,
   "id": "b38d1b7d",
   "metadata": {},
   "outputs": [
    {
     "name": "stdout",
     "output_type": "stream",
     "text": [
      "Overwriting src/BankV3Use.js\n"
     ]
    }
   ],
   "source": [
    "%%writefile src/BankV3Use.js\n",
    "var Web3 = require('web3');\n",
    "var _abiBinJson = require('./BankV3.json');\n",
    "var web3 = new Web3(new Web3.providers.HttpProvider(\"http://localhost:8345\"));\n",
    "\n",
    "contractName = Object.keys(_abiBinJson.contracts);\n",
    "console.log(\"- contract name : \", contractName);\n",
    "_abiArray=JSON.parse(_abiBinJson.contracts[contractName].abi); \n",
    "_bin = _abiBinJson.contracts[contractName].bin;\n",
    "\n",
    "var bank = new web3.eth.Contract(_abiArray, \"0xe5bB9550c4680411999927C710f3947486d76600\");\n",
    "\n",
    "async function doIt() {\n",
    "    const accounts = await web3.eth.getAccounts();\n",
    "    console.log(\"Account : \" + accounts[0]);\n",
    "    const balanceBefore = await web3.eth.getBalance(accounts[0]);\n",
    "    console.log(\"Balance before : \" + balanceBefore);\n",
    "    bank.methods.getBalance().call().then(console.log);\n",
    "    await bank.methods.deposit(111).send({from: accounts[0], value: 111});\n",
    "    bank.methods.getBalance().call().then(console.log);\n",
    "    const balanceAfter = await web3.eth.getBalance(accounts[0]);\n",
    "    console.log(\"Balance after: \" + balanceAfter);\n",
    "    console.log(\"Balance diff: \" + (balanceBefore - balanceAfter));    \n",
    "}\n",
    "\n",
    "doIt();"
   ]
  },
  {
   "cell_type": "code",
   "execution_count": 9,
   "id": "85eff4e3",
   "metadata": {},
   "outputs": [
    {
     "name": "stdout",
     "output_type": "stream",
     "text": [
      "- contract name :  [ 'src/BankV3.sol:BankV3' ]\n",
      "Account : 0x0B5d062d359699F97c93eB4C7B20D10C28D4ec21\n",
      "Balance before : 999999433813999999889\n",
      "Result { '0': '111', '1': '111' }\n",
      "Balance after: 999999370841999999778\n",
      "Balance diff: 62971999944704\n",
      "Result { '0': '222', '1': '222' }\n"
     ]
    }
   ],
   "source": [
    "!node src/BankV3Use.js"
   ]
  },
  {
   "cell_type": "markdown",
   "id": "602800f5",
   "metadata": {},
   "source": [
    "## 10.5.2 웹소켓\n",
    "## 실습문제 : 간단한 이벤트 발생"
   ]
  },
  {
   "cell_type": "code",
   "execution_count": 10,
   "id": "bf39af0f",
   "metadata": {},
   "outputs": [
    {
     "name": "stdout",
     "output_type": "stream",
     "text": [
      "Overwriting src/EventTest.sol\n"
     ]
    }
   ],
   "source": [
    "%%writefile src/EventTest.sol\n",
    "//SPDX-License-Identifier: GPL-3.0-or-later\n",
    "pragma solidity ^0.6.4;\n",
    "\n",
    "contract EventTest {\n",
    "    event MyLog(string my);\n",
    "    function myFunction() public {\n",
    "        emit MyLog(\"Hello World!\");\n",
    "    }\n",
    "}"
   ]
  },
  {
   "cell_type": "code",
   "execution_count": 11,
   "id": "b9f11647",
   "metadata": {},
   "outputs": [],
   "source": [
    "!solc.exe --optimize --combined-json abi,bin src/EventTest.sol > src/EventTest.json"
   ]
  },
  {
   "cell_type": "code",
   "execution_count": 12,
   "id": "92dd1c62",
   "metadata": {},
   "outputs": [
    {
     "name": "stdout",
     "output_type": "stream",
     "text": [
      "Writing src/EventTestDeploy.js\n"
     ]
    }
   ],
   "source": [
    "%%writefile src/EventTestDeploy.js\n",
    "var Web3 = require('web3');\n",
    "var _abiBinJson = require('./EventTest.json');\n",
    "var web3 = new Web3(new Web3.providers.HttpProvider(\"http://localhost:8345\"));\n",
    "\n",
    "contractName = Object.keys(_abiBinJson.contracts);\n",
    "console.log(\"- contract name : \", contractName);\n",
    "_abiArray=JSON.parse(_abiBinJson.contracts[contractName].abi); \n",
    "_bin = _abiBinJson.contracts[contractName].bin;\n",
    "\n",
    "async function deploy() {\n",
    "    const accounts = await web3.eth.getAccounts();\n",
    "    console.log(\"Deploying the contract from \" + accounts[0]);\n",
    "    var deployed = await new web3.eth.Contract(_abiArray)\n",
    "        .deploy({data: \"0x\" + _bin})\n",
    "        .send({from: accounts[0], gas: 259210}, function(err, transactionHash) {\n",
    "            if(!err) {\n",
    "                console.log(\"hash : \" + transactionHash);\n",
    "            }\n",
    "        })\n",
    "    console.log(\"---> The contract deployed to : \" + deployed.options.address);\n",
    "}\n",
    "\n",
    "deploy();"
   ]
  },
  {
   "cell_type": "code",
   "execution_count": 13,
   "id": "18d917fc",
   "metadata": {},
   "outputs": [
    {
     "name": "stdout",
     "output_type": "stream",
     "text": [
      "- contract name :  [ 'src/EventTest.sol:EventTest' ]\n",
      "Deploying the contract from 0x0B5d062d359699F97c93eB4C7B20D10C28D4ec21\n",
      "hash : 0x046266f4af166371e835d4c5e69f40d8f4f43ed78fcc112b1b57b1c6dbe15f9a\n",
      "---> The contract deployed to : 0x13CA11BDf82ea804891b715FE0563DaF88Ab0D9E\n"
     ]
    }
   ],
   "source": [
    "!node src/EventTestDeploy.js"
   ]
  },
  {
   "cell_type": "code",
   "execution_count": 17,
   "id": "51662453",
   "metadata": {},
   "outputs": [
    {
     "name": "stdout",
     "output_type": "stream",
     "text": [
      "Overwriting src/EventTestUse.js\n"
     ]
    }
   ],
   "source": [
    "%%writefile src/EventTestUse.js\n",
    "var Web3 = require('web3');\n",
    "var _abiBinJson = require('./EventTest.json');\n",
    "var web3 = new Web3(new Web3.providers.HttpProvider(\"http://localhost:8345\"));\n",
    "\n",
    "contractName = Object.keys(_abiBinJson.contracts);\n",
    "console.log(\"- contract name : \", contractName);\n",
    "_abiArray=JSON.parse(_abiBinJson.contracts[contractName].abi); \n",
    "_bin = _abiBinJson.contracts[contractName].bin;\n",
    "\n",
    "var _test = new web3.eth.Contract(_abiArray,\"0x13CA11BDf82ea804891b715FE0563DaF88Ab0D9E\");\n",
    "var event = _test.events.MyLog({fromBlock: 0}, function (error, result) {\n",
    "    if (!error) {\n",
    "        console.log(\"Event fired: \" + JSON.stringify(result.returnValues));\n",
    "    }\n",
    "});\n",
    "\n",
    "async function doIt() {\n",
    "    const accounts = await web3.eth.getAccounts();\n",
    "    console.log(\"Account: \" + accounts[0]);\n",
    "    const balanceBefore = await web3.eth.getBalance(accounts[0]);\n",
    "    console.log(\"Balance before: \" + balanceBefore);\n",
    "    const value = await _test.methods.myFunction()\n",
    "        .send({from: accounts[0], gas: 364124, gasPrice: '1000000000'})\n",
    "    console.log(\"---> myFunction called \" + JSON.stringify(value.events.MyLog.returnValues));\n",
    "    const balanceAfter = await web3.eth.getBalance(accounts[0]);\n",
    "    console.log(\"Balance after: \" + balanceAfter);\n",
    "    console.log(\"Balance diff: \" + (balanceBefore - balanceAfter));\n",
    "}\n",
    "\n",
    "doIt();"
   ]
  },
  {
   "cell_type": "code",
   "execution_count": 18,
   "id": "381f0df8",
   "metadata": {},
   "outputs": [
    {
     "name": "stdout",
     "output_type": "stream",
     "text": [
      "- contract name :  [ 'src/EventTest.sol:EventTest' ]\n",
      "Account: 0x0B5d062d359699F97c93eB4C7B20D10C28D4ec21\n",
      "Balance before: 999999182755999999778\n",
      "---> myFunction called {\"0\":\"Hello World!\",\"my\":\"Hello World!\"}\n",
      "Balance after: 999999159952999999778\n",
      "Balance diff: 22803000066048\n"
     ]
    }
   ],
   "source": [
    "!node src/EventTestUse.js"
   ]
  },
  {
   "cell_type": "markdown",
   "id": "afcc8960",
   "metadata": {},
   "source": [
    "## 실습문제 : 주문하면서 복수의 이벤트 사용"
   ]
  },
  {
   "cell_type": "code",
   "execution_count": 19,
   "id": "becbf6b4",
   "metadata": {},
   "outputs": [
    {
     "name": "stdout",
     "output_type": "stream",
     "text": [
      "Writing src/OrderEvent.sol\n"
     ]
    }
   ],
   "source": [
    "%%writefile src/OrderEvent.sol\n",
    "//SPDX-License-Identifier: GPL-3.0-or-later\n",
    "pragma solidity ^0.6.4;\n",
    "\n",
    "contract OrderEvent {\n",
    "    uint unitPrice = 10;\n",
    "\n",
    "    event OrderLog(string);\n",
    "    event OrderLog(bytes2 _itemId, uint _value);\n",
    "    event OrderLog(uint256 timestamp);\n",
    "    event OrderLog(address indexed _from, bytes2 _itemId, uint indexed _value);\n",
    "\n",
    "    function order(bytes2 _itemId, uint quantity) public payable {\n",
    "        uint256 orderTime = now;\n",
    "        uint256 orderAmount = quantity * unitPrice;\n",
    "        require(msg.value == orderAmount);\n",
    "        emit OrderLog(\"ordered\");\n",
    "        emit OrderLog(orderTime);\n",
    "        emit OrderLog(msg.sender, _itemId, msg.value);\n",
    "    }\n",
    "}"
   ]
  },
  {
   "cell_type": "code",
   "execution_count": 20,
   "id": "9747fcc7",
   "metadata": {},
   "outputs": [],
   "source": [
    "!solc.exe --optimize --combined-json abi,bin src/OrderEvent.sol > src/OrderEvent.json"
   ]
  },
  {
   "cell_type": "code",
   "execution_count": 21,
   "id": "07a5aba8",
   "metadata": {},
   "outputs": [
    {
     "name": "stdout",
     "output_type": "stream",
     "text": [
      "Writing src/OrderEventDeploy.js\n"
     ]
    }
   ],
   "source": [
    "%%writefile src/OrderEventDeploy.js\n",
    "var Web3 = require('web3');\n",
    "var _abiBinJson = require('./OrderEvent.json');\n",
    "var web3 = new Web3(new Web3.providers.HttpProvider(\"http://localhost:8345\"));\n",
    "\n",
    "contractName = Object.keys(_abiBinJson.contracts);\n",
    "console.log(\"- contract name : \", contractName);\n",
    "_abiArray=JSON.parse(_abiBinJson.contracts[contractName].abi); \n",
    "_bin = _abiBinJson.contracts[contractName].bin;\n",
    "\n",
    "async function deploy() {\n",
    "    const accounts = await web3.eth.getAccounts();\n",
    "    console.log(\"Deploying the contract from \" + accounts[0]);\n",
    "    var deployed = await new web3.eth.Contract(_abiArray)\n",
    "        .deploy({data: \"0x\"+_bin})\n",
    "        .send({from: accounts[0], gas: 259210}, function(err, transactionHash) {\n",
    "                if(!err) console.log(\"hash: \" + transactionHash); \n",
    "        });\n",
    "    console.log(\"---> The contract deployed to: \" + deployed.options.address)\n",
    "}\n",
    "deploy()"
   ]
  },
  {
   "cell_type": "code",
   "execution_count": 22,
   "id": "a2f37c8c",
   "metadata": {},
   "outputs": [
    {
     "name": "stdout",
     "output_type": "stream",
     "text": [
      "- contract name :  [ 'src/OrderEvent.sol:OrderEvent' ]\n",
      "Deploying the contract from 0x0B5d062d359699F97c93eB4C7B20D10C28D4ec21\n",
      "hash: 0x09149a0a90953c5a287a820aa1b7bbe1a0cc85f674fc4c8073c1a00d50693e7d\n",
      "---> The contract deployed to: 0x10aDBeA225Fa793C350a554De25A75D6F287361A\n"
     ]
    }
   ],
   "source": [
    "!node src/OrderEventDeploy.js"
   ]
  },
  {
   "cell_type": "code",
   "execution_count": 23,
   "id": "8671af4e",
   "metadata": {},
   "outputs": [
    {
     "name": "stdout",
     "output_type": "stream",
     "text": [
      "Writing src/OrderEventUse.js\n"
     ]
    }
   ],
   "source": [
    "%%writefile src/OrderEventUse.js\n",
    "var Web3 = require('web3');\n",
    "var _abiBinJson = require('./OrderEvent.json');\n",
    "var web3 = new Web3(new Web3.providers.HttpProvider(\"http://localhost:8345\"));\n",
    "\n",
    "contractName = Object.keys(_abiBinJson.contracts);\n",
    "console.log(\"- contract name : \", contractName);\n",
    "_abiArray=JSON.parse(_abiBinJson.contracts[contractName].abi); \n",
    "_bin = _abiBinJson.contracts[contractName].bin;\n",
    "\n",
    "async function doIt() {\n",
    "    var _order = new web3.eth.Contract(_abiArray, \"0x10aDBeA225Fa793C350a554De25A75D6F287361A\");\n",
    "    const accounts = await web3.eth.getAccounts();\n",
    "    console.log(\"Account : \" + accounts[0]);\n",
    "    var event = _order.events.OrderLog({\n",
    "        filter: {_from: accounts[0], _value: 30},\n",
    "        fromBlock: 'latest', toBlock: 'pending'\n",
    "    }, function(error, result) {\n",
    "        if(!error) {\n",
    "            console.log(\"Event fired : \" + JSON.stringify(result.returnValues));\n",
    "        }\n",
    "    });\n",
    "    var value;\n",
    "    const balanceBefore = await web3.eth.getBalance(accounts[0]);\n",
    "    console.log(\"Balance Before : \" + balanceBefore);\n",
    "    my = await _order.methods.order(\"0x1234\", 3)\n",
    "        .send({from: accounts[0], gas: 100000, value:30});\n",
    "    console.log(\"---> MyFunction called \" + JSON.stringify(my.events.OrderLog.returnValues));\n",
    "    my = await _order.methods.order(\"0x1234\", 4).send({from: accounts[0], gas: 100000, value:40});\n",
    "    console.log(\"---> MyFunction called \" + JSON.stringify(my.events.OrderLog.returnValues));\n",
    "    my = await _order.methods.order(\"0x1234\", 10).send({from: accounts[0], gas: 100000, value:100});\n",
    "    console.log(\"---> MyFunction called \" + JSON.stringify(my.events.OrderLog.returnValues));\n",
    "    const balanceAfter = await web3.eth.getBalance(accounts[0]);\n",
    "    console.log(\"Balance after: \" + balanceAfter);\n",
    "    console.log(\"Balance diff: \" + (balanceBefore - balanceAfter));    \n",
    "    process.exit(1); \n",
    "}\n",
    "\n",
    "doIt();"
   ]
  },
  {
   "cell_type": "code",
   "execution_count": 24,
   "id": "72a78e53",
   "metadata": {},
   "outputs": [
    {
     "name": "stdout",
     "output_type": "stream",
     "text": [
      "- contract name :  [ 'src/OrderEvent.sol:OrderEvent' ]\n",
      "Account : 0x0B5d062d359699F97c93eB4C7B20D10C28D4ec21\n",
      "Balance Before : 999998857202999999778\n",
      "---> MyFunction called undefined\n",
      "---> MyFunction called undefined\n",
      "---> MyFunction called undefined\n",
      "Balance after: 999998688098999999608\n",
      "Balance diff: 169104000024576\n"
     ]
    }
   ],
   "source": [
    "!node src/OrderEventUse.js"
   ]
  },
  {
   "cell_type": "markdown",
   "id": "83e113c6",
   "metadata": {},
   "source": [
    "## 실습문제 : Multiply7 연산 결과를 확인하려면 이벤트를 통해서 한다"
   ]
  },
  {
   "cell_type": "code",
   "execution_count": 1,
   "id": "97c386b7",
   "metadata": {},
   "outputs": [
    {
     "name": "stdout",
     "output_type": "stream",
     "text": [
      "Overwriting src/Multiply7Event.sol\n"
     ]
    }
   ],
   "source": [
    "%%writefile src/Multiply7Event.sol\n",
    "//SPDX-License-Identifier: GPL-3.0-or-later\n",
    "pragma solidity ^0.8.0;\n",
    "\n",
    "contract Multiply7Event {\n",
    "    event Print(address _addr, uint256 timestamp, uint res);\n",
    "    //function multiply(uint input) public returns(uint) {\n",
    "    function multiply(uint input) public {\n",
    "        uint res = input * 7;\n",
    "        emit Print(msg.sender, block.timestamp, res); //emit Print(msg.sender, now, res);\n",
    "        //return res;\n",
    "    }\n",
    "}"
   ]
  },
  {
   "cell_type": "code",
   "execution_count": 2,
   "id": "084df9f5",
   "metadata": {},
   "outputs": [],
   "source": [
    "!solc-windows.exe --optimize --combined-json abi,bin src/Multiply7Event.sol > src/Multiply7Event.json"
   ]
  },
  {
   "cell_type": "code",
   "execution_count": 7,
   "id": "dbb4270d",
   "metadata": {},
   "outputs": [
    {
     "name": "stdout",
     "output_type": "stream",
     "text": [
      "Overwriting src/Multiply7EventDeploy.js\n"
     ]
    }
   ],
   "source": [
    "%%writefile src/Multiply7EventDeploy.js\n",
    "var Web3 = require('web3');\n",
    "var _abiBinJson = require('./Multiply7Event.json');      //importing a javascript file\n",
    "\n",
    "var web3 = new Web3(new Web3.providers.HttpProvider(\"http://localhost:8345\"));\n",
    "\n",
    "contractName=Object.keys(_abiBinJson.contracts); // reading ['src/Multiply7EventDeploy.sol:Multiply7EventDeploy']\n",
    "console.log(\"- contract name: \", contractName);\n",
    "_abiArray=_abiBinJson.contracts[contractName].abi;\n",
    "//_abiArray=JSON.parse(JSON.stringify(_abi));\n",
    "//_abiArray=JSON.parse(_abi);      //JSON parsing needed!! //SyntaxError: Unexpected token o in JSON at position 1\n",
    "_bin=_abiBinJson.contracts[contractName].bin;\n",
    "\n",
    "//console.log(\"- ABI: \" + _abiArray);\n",
    "//console.log(\"- Bytecode: \" + _bin);\n",
    "\n",
    "async function deploy() {\n",
    "    const accounts = await web3.eth.getAccounts();\n",
    "    console.log(\"Deploying the contract from \" + accounts[0]);\n",
    "    var deployed = await new web3.eth.Contract(_abiArray)\n",
    "        .deploy({data: \"0x\"+_bin})\n",
    "        .send({from: accounts[0], gas: 259210}, function(err, transactionHash) {\n",
    "                if(!err) console.log(\"hash: \" + transactionHash); \n",
    "        })\n",
    "        //.then(function(newContractInstance){\n",
    "        //    console.log(newContractInstance)\n",
    "        //});\n",
    "    console.log(\"---> The contract deployed to: \" + deployed.options.address)\n",
    "}\n",
    "deploy()"
   ]
  },
  {
   "cell_type": "code",
   "execution_count": 8,
   "id": "abd22cd2",
   "metadata": {},
   "outputs": [
    {
     "name": "stdout",
     "output_type": "stream",
     "text": [
      "- contract name:  [ 'src/Multiply7Event.sol:Multiply7Event' ]\n",
      "Deploying the contract from 0x51967008fA944866Bb6Df61d1941E11760f33326\n",
      "hash: 0x8d9aa92ae1b8c8459b7a391924364fbb139df40bc5b4e8deb93ac0f90c85079e\n",
      "---> The contract deployed to: 0xF461d1Ae7c862bbDcc1a32AB904084F4a0B1CcE5\n"
     ]
    }
   ],
   "source": [
    "!node src/Multiply7EventDeploy.js"
   ]
  },
  {
   "cell_type": "code",
   "execution_count": 9,
   "id": "680bbc4e",
   "metadata": {},
   "outputs": [
    {
     "name": "stdout",
     "output_type": "stream",
     "text": [
      "Overwriting src/Multiply7EventUse.js\n"
     ]
    }
   ],
   "source": [
    "%%writefile src/Multiply7EventUse.js\n",
    "var Web3=require('web3');\n",
    "var _abiBinJson = require('./Multiply7Event.json');      //importing a javascript file\n",
    "\n",
    "//var web3 = new Web3(new Web3.providers.HttpProvider(\"http://localhost:8345\"));\n",
    "var web3 = new Web3(new Web3.providers.WebsocketProvider(\"ws://localhost:8345\"));\n",
    "contractName=Object.keys(_abiBinJson.contracts); // reading ['src/Multiply7Event.sol:Multiply7Event']\n",
    "//console.log(\"- contract name: \", contractName); //or console.log(contractName[0]);\n",
    "_abiArray=_abiBinJson.contracts[contractName].abi; //use just as read from file\n",
    "//_abiArray=JSON.parse(JSON.stringify(_abi));\n",
    "//_abiArray=JSON.parse(_abi);      //JSON parsing needed!!\n",
    "//_bin=_abiBinJson.contracts[contractName].bin;\n",
    "//console.log(\"- ABI: \" + _abiArray);\n",
    "//console.log(\"- Bytecode: \" + _bin);\n",
    "var m7 = new web3.eth.Contract(_abiArray, '0xF461d1Ae7c862bbDcc1a32AB904084F4a0B1CcE5');\n",
    "var event = m7.events.Print({fromBlock: 0}, function (error, result) {\n",
    "    if (!error) {\n",
    "        //console.log(\"Event fired: \" + JSON.stringify(result) + \"\\n---> \" + JSON.stringify(result.returnValues));\n",
    "        console.log(\"Event fired: \" + JSON.stringify(result.returnValues));\n",
    "        //process.exit(1);\n",
    "    }\n",
    "});\n",
    "\n",
    "async function doIt() {\n",
    "    const accounts = await web3.eth.getAccounts();\n",
    "    console.log(\"Account: \" + accounts[0]);\n",
    "    const balanceBefore = await web3.eth.getBalance(accounts[0]);\n",
    "    console.log(\"Balance before: \" + balanceBefore);\n",
    "    //const value = m7.methods.multiply(8).call();\n",
    "    const value = m7.methods.multiply(8)\n",
    "        .send({from: accounts[0]})\n",
    "        //.then(function(value) {console.log(\"---> MyFunction called \" + JSON.stringify(value) +\n",
    "        //                               '\\n---> '+ JSON.stringify(value.events.Print.returnValues));});\n",
    "    console.log(\"---> MyFunction called \" + JSON.stringify(value));\n",
    "        //+ '\\n---> '+ JSON.stringify(value.events.Print.returnValues));\n",
    "    const balanceAfter = await web3.eth.getBalance(accounts[0]);\n",
    "    console.log(\"Balance after: \" + balanceAfter);\n",
    "    console.log(\"Balance diff: \" + (balanceBefore - balanceAfter));\n",
    "    process.exit(1); //force exit to end waiting\n",
    "}\n",
    "\n",
    "doIt()"
   ]
  },
  {
   "cell_type": "code",
   "execution_count": 12,
   "id": "e654c969",
   "metadata": {},
   "outputs": [
    {
     "name": "stdout",
     "output_type": "stream",
     "text": [
      "Event fired: {\"0\":\"0x51967008fA944866Bb6Df61d1941E11760f33326\",\"1\":\"1655702116\",\"2\":\"56\",\"_addr\":\"0x51967008fA944866Bb6Df61d1941E11760f33326\",\"timestamp\":\"1655702116\",\"res\":\"56\"}\n",
      "Account: 0x51967008fA944866Bb6Df61d1941E11760f33326\n",
      "Balance before: 999960124915999988850\n",
      "---> MyFunction called {\"_events\":{}}\n",
      "Balance after: 999960124915999988850\n",
      "Balance diff: 0\n"
     ]
    }
   ],
   "source": [
    "!node src/Multiply7EventUse.js"
   ]
  },
  {
   "cell_type": "markdown",
   "id": "4c31d9b6",
   "metadata": {},
   "source": [
    "## 10.6 fallback 함수\n",
    "## 실습문제 : fallback"
   ]
  },
  {
   "cell_type": "code",
   "execution_count": 3,
   "id": "99bee0d4",
   "metadata": {},
   "outputs": [
    {
     "name": "stdout",
     "output_type": "stream",
     "text": [
      "Overwriting src/FallbackTest.sol\n"
     ]
    }
   ],
   "source": [
    "%%writefile src/FallbackTest.sol\n",
    "//SPDX-License-Identifier: GPL-3.0-or-later\n",
    "pragma solidity ^0.6.4;\n",
    "\n",
    "contract FallbackTest {\n",
    "    event PrintLog(string);\n",
    "    function callA () pure public returns(string memory){\n",
    "        return \"doing callA\";\n",
    "    }\n",
    "    fallback () external {\n",
    "        emit PrintLog(\"fallback called\");\n",
    "    }\n",
    "}"
   ]
  },
  {
   "cell_type": "code",
   "execution_count": 4,
   "id": "cf9c2222",
   "metadata": {},
   "outputs": [],
   "source": [
    "!solc.exe --optimize --combined-json abi,bin src/FallbackTest.sol > src/FallbackTest.json"
   ]
  },
  {
   "cell_type": "code",
   "execution_count": 5,
   "id": "fc9efc8b",
   "metadata": {},
   "outputs": [
    {
     "name": "stdout",
     "output_type": "stream",
     "text": [
      "Overwriting src/FallbackTestDeploy.js\n"
     ]
    }
   ],
   "source": [
    "%%writefile src/FallbackTestDeploy.js\n",
    "var Web3 = require('web3');\n",
    "var _abiBinJson = require('./FallbackTest.json');\n",
    "var web3 = new Web3(new Web3.providers.HttpProvider(\"http://localhost:8345\"));\n",
    "\n",
    "contractName = Object.keys(_abiBinJson.contracts);\n",
    "console.log(\"- contract name : \", contractName);\n",
    "_abiArray=JSON.parse(_abiBinJson.contracts[contractName].abi); \n",
    "_bin = _abiBinJson.contracts[contractName].bin;\n",
    "\n",
    "async function deploy() {\n",
    "    const accounts = await web3.eth.getAccounts();\n",
    "    console.log(\"Deploying the contract from \" + accounts[0]);\n",
    "    var deployed = await new web3.eth.Contract(_abiArray)\n",
    "        .deploy({data: \"0x\"+_bin})\n",
    "        .send({from: accounts[0], gas: 1000000}, function(err, transactionHash) {\n",
    "                if(!err) console.log(\"hash: \" + transactionHash); \n",
    "        });\n",
    "    console.log(\"---> The contract deployed to: \" + deployed.options.address)\n",
    "}\n",
    "deploy();"
   ]
  },
  {
   "cell_type": "code",
   "execution_count": 6,
   "id": "90b259e7",
   "metadata": {},
   "outputs": [
    {
     "name": "stdout",
     "output_type": "stream",
     "text": [
      "- contract name :  [ 'src/FallbackTest.sol:FallbackTest' ]\n",
      "Deploying the contract from 0xc0463666BA29b481D7b33c630a4270F4f0dA581b\n",
      "hash: 0x8fc4959e6883eaa127541093e1e8828fe23a7fdaf99912425468d1f0cdec545f\n",
      "---> The contract deployed to: 0xDf67195d7AB4e49EC9CBaE893726382D6b996754\n"
     ]
    }
   ],
   "source": [
    "!node src/FallbackTestDeploy.js"
   ]
  },
  {
   "cell_type": "code",
   "execution_count": 10,
   "id": "e96feac3",
   "metadata": {},
   "outputs": [
    {
     "name": "stdout",
     "output_type": "stream",
     "text": [
      "Overwriting src/FallbackTestUse.js\n"
     ]
    }
   ],
   "source": [
    "%%writefile src/FallbackTestUse.js\n",
    "var Web3 = require('web3');\n",
    "var _abiBinJson = require('./FallbackTest.json');\n",
    "//var web3 = new Web3(new Web3.providers.HttpProvider(\"http://localhost:8345\"));\n",
    "var web3 = new Web3(new Web3.providers.WebsocketProvider(\"ws://localhost:8345\"));\n",
    "\n",
    "contractName = Object.keys(_abiBinJson.contracts);\n",
    "console.log(\"- contract name : \", contractName);\n",
    "_abiArray=JSON.parse(_abiBinJson.contracts[contractName].abi); \n",
    "_bin = _abiBinJson.contracts[contractName].bin;\n",
    "\n",
    "async function doIt() {\n",
    "    const accounts = await web3.eth.getAccounts();\n",
    "    console.log(\"Account: \" + accounts[0]);\n",
    "    const balanceBefore = await web3.eth.getBalance(accounts[0]);\n",
    "    console.log(\"Balance before : \" + balanceBefore);\n",
    "    var _instance = new web3.eth.Contract(_abiArray, \"0xDf67195d7AB4e49EC9CBaE893726382D6b996754\");\n",
    "    var event = _instance.events.PrintLog(function(error, result) {\n",
    "        if(!error) {\n",
    "            console.log(\"Event fired : \" + JSON.stringify(result) + \"\\n---> \" + JSON.stringify(result.returnValues));\n",
    "        }\n",
    "    });\n",
    "    \n",
    "    _instance.methods.callA().call().then(function(res) {\n",
    "        console.log(res);\n",
    "    });\n",
    "    web3.eth.sendTransaction({from: accounts[0], to: accounts[1]});\n",
    "    const balanceAfter = await web3.eth.getBalance(accounts[0]);\n",
    "    console.log(\"Balance after : \" + balanceAfter);\n",
    "    console.log(\"Balance diff : \" + (balanceBefore - balanceAfter));\n",
    "    process.exit(1);\n",
    "}\n",
    "\n",
    "doIt();"
   ]
  },
  {
   "cell_type": "code",
   "execution_count": 13,
   "id": "5433a802",
   "metadata": {},
   "outputs": [
    {
     "name": "stdout",
     "output_type": "stream",
     "text": [
      "- contract name :  [ 'src/FallbackTest.sol:FallbackTest' ]\n",
      "Account: 0xc0463666BA29b481D7b33c630a4270F4f0dA581b\n",
      "Balance before : 999999661070000000000\n",
      "Balance after : 999999661070000000000\n",
      "Balance diff : 0\n"
     ]
    }
   ],
   "source": [
    "!node src/FallbackTestUse.js"
   ]
  },
  {
   "cell_type": "markdown",
   "id": "324a04e2",
   "metadata": {},
   "source": [
    "## 실습문제 : 컨트랙 결합에서 payable fallback 사용"
   ]
  },
  {
   "cell_type": "code",
   "execution_count": 24,
   "id": "8f8f2abd",
   "metadata": {},
   "outputs": [
    {
     "name": "stdout",
     "output_type": "stream",
     "text": [
      "Overwriting src/MathMultiply7.sol\n"
     ]
    }
   ],
   "source": [
    "%%writefile src/MathMultiply7.sol\n",
    "//SPDX-License-Identifier: GPL-3.0-or-later\n",
    "pragma solidity ^0.6.4;\n",
    "\n",
    "contract Multiply7 {\n",
    "    receive() external payable {}\n",
    "\n",
    "    fallback() external payable {}\n",
    "\n",
    "    function multiply(uint input) pure public returns(uint) {\n",
    "        return input * 7;\n",
    "    }\n",
    "\n",
    "    function getAddress() view public returns(address) {\n",
    "        return address(this);\n",
    "    }\n",
    "}\n",
    "\n",
    "contract Math {\n",
    "    Multiply7 m7 = new Multiply7();\n",
    "\n",
    "    function deposit(uint amount) payable public {\n",
    "        require(msg.value == amount);\n",
    "    }\n",
    "\n",
    "    function setM7(address payable _addr) public {\n",
    "        m7 = Multiply7(_addr);\n",
    "    }\n",
    "\n",
    "    function multiply() view public returns(uint) {\n",
    "        uint res = m7.multiply(8);\n",
    "        return res;\n",
    "    }\n",
    "\n",
    "    function send11M7() public payable {\n",
    "        address(m7).transfer(11);\n",
    "    }\n",
    "\n",
    "    function getBalanceOfThis() public view returns(uint) {\n",
    "        return address(this).balance;\n",
    "    }\n",
    "\n",
    "    function getBalanceOfM7() public view returns(uint) {\n",
    "        return address(m7).balance;\n",
    "    }\n",
    "\n",
    "    function getAddressOfM7() view public returns(address) {\n",
    "        return address(m7);\n",
    "    }\n",
    "}"
   ]
  },
  {
   "cell_type": "code",
   "execution_count": 31,
   "id": "bfd22088",
   "metadata": {},
   "outputs": [],
   "source": [
    "!solc src/MathMultiply7.sol --combined-json abi > src/MathMultiply7ABI.json"
   ]
  },
  {
   "cell_type": "code",
   "execution_count": 32,
   "id": "80cdbf76",
   "metadata": {},
   "outputs": [],
   "source": [
    "!solc src/MathMultiply7.sol --combined-json bin > src/MathMultiply7BIN.json"
   ]
  },
  {
   "cell_type": "code",
   "execution_count": 41,
   "id": "a6ae19df",
   "metadata": {},
   "outputs": [
    {
     "name": "stdout",
     "output_type": "stream",
     "text": [
      "Overwriting src/MathMultiply7Deploy.js\n"
     ]
    }
   ],
   "source": [
    "%%writefile src/MathMultiply7Deploy.js\n",
    "var Web3 = require('web3');\n",
    "var _abiJson = require('./MathMultiply7ABI.json');\n",
    "var _binJson = require('./MathMultiply7BIN.json');\n",
    "var web3 = new Web3(new Web3.providers.HttpProvider(\"http://localhost:8345\"));\n",
    "\n",
    "contractNames = Object.keys(_abiJson.contracts);\n",
    "contractName = contractNames[0]; \n",
    "console.log(\"- contract name : \", contractName);\n",
    "_abiArray=JSON.parse(_abiJson.contracts[contractName].abi); \n",
    "_bin = _binJson.contracts[contractName].bin;\n",
    "\n",
    "async function deploy() {\n",
    "    const accounts = await web3.eth.getAccounts();\n",
    "    console.log(\"Deploying the contract from \" + accounts[0]);\n",
    "    var deployed = await new web3.eth.Contract(_abiArray)\n",
    "        .deploy({data: \"0x\" + _bin})\n",
    "        .send({from: accounts[0], gas: 1000000}, function(err, transactionHash) {\n",
    "            if(!err) {\n",
    "                console.log(\"hash : \" + transactionHash);\n",
    "            }\n",
    "        });\n",
    "    console.log(\"---> The contract deployed to : \" + deployed.options.address);\n",
    "}\n",
    "\n",
    "deploy();"
   ]
  },
  {
   "cell_type": "code",
   "execution_count": 42,
   "id": "79bb6aa3",
   "metadata": {
    "scrolled": true
   },
   "outputs": [
    {
     "name": "stdout",
     "output_type": "stream",
     "text": [
      "- contract name :  src/MathMultiply7.sol:Math\n",
      "Deploying the contract from 0xc0463666BA29b481D7b33c630a4270F4f0dA581b\n",
      "hash : 0xd7e1447654c92f458fc9972d36516dd014528f2b6e94e45f9518d1d8104e0e76\n",
      "---> The contract deployed to : 0x6ab70fbA5FCBD34b6B0c6BD84a4E6588A1AA709A\n"
     ]
    }
   ],
   "source": [
    "!node src/MathMultiply7Deploy.js"
   ]
  },
  {
   "cell_type": "markdown",
   "id": "4f0419a9",
   "metadata": {},
   "source": [
    "## 실습문제 : 인사하는 컨트랙"
   ]
  },
  {
   "cell_type": "code",
   "execution_count": 37,
   "id": "c4422b85",
   "metadata": {},
   "outputs": [
    {
     "name": "stdout",
     "output_type": "stream",
     "text": [
      "Writing src/Hello1.sol\n"
     ]
    }
   ],
   "source": [
    "%%writefile src/Hello1.sol\n",
    "//SPDX-License-Identifier: GPL-3.0-or-later\n",
    "pragma solidity ^0.6.4;\n",
    "\n",
    "contract Hello1 {\n",
    "    string private hello;\n",
    "    address private owner;\n",
    "    event PrintLog(address addr, string s);\n",
    "\n",
    "    constructor(string memory _hello) public {\n",
    "        hello = _hello;\n",
    "        owner = msg.sender;\n",
    "    }\n",
    "\n",
    "    function sayHello() view public returns(string memory) {\n",
    "        return hello;\n",
    "    }\n",
    "\n",
    "    function setHello() public {\n",
    "        string memory s = \"\";\n",
    "\n",
    "        if(msg.sender == owner) {\n",
    "            s = \"Hello\";\n",
    "        }\n",
    "        else {\n",
    "            s = \"olleh\";\n",
    "        }\n",
    "\n",
    "        emit PrintLog(msg.sender, s);\n",
    "        hello = s;\n",
    "    }\n",
    "\n",
    "    function compareTo(string memory _str) view public returns(bool) {\n",
    "        bool isEqual = false;\n",
    "\n",
    "        if(keccak256(bytes(hello)) == keccak256(bytes(_str))) {\n",
    "            isEqual = true;\n",
    "        }\n",
    "\n",
    "        return isEqual;\n",
    "    } \n",
    "\n",
    "    function getBalance() view public isOwner returns(uint) {\n",
    "        return address(this).balance;\n",
    "    }\n",
    "\n",
    "    modifier isOwner() {\n",
    "        if(msg.sender != owner) {\n",
    "            revert();\n",
    "        }\n",
    "        _;\n",
    "    }\n",
    "}"
   ]
  },
  {
   "cell_type": "code",
   "execution_count": 38,
   "id": "250968ce",
   "metadata": {},
   "outputs": [],
   "source": [
    "!solc.exe --optimize --combined-json abi,bin src/Hello1.sol > src/Hello1.json"
   ]
  },
  {
   "cell_type": "code",
   "execution_count": 1,
   "id": "cc7e4431",
   "metadata": {
    "scrolled": true
   },
   "outputs": [
    {
     "name": "stdout",
     "output_type": "stream",
     "text": [
      "Overwriting src/Hello1DeployFromFile.js\n"
     ]
    }
   ],
   "source": [
    "%%writefile src/Hello1DeployFromFile.js\n",
    "var Web3 = require('web3');\n",
    "var _abiBinJson = require('./Hello1.json');\n",
    "var web3 = new Web3(new Web3.providers.HttpProvider(\"http://localhost:8345\"));\n",
    "//var web3 = new Web3(new Web3.providers.WebsocketProvider(\"ws://localhost:8345\")); \n",
    "\n",
    "contractName = Object.keys(_abiBinJson.contracts);\n",
    "console.log(\"- contract name : \", contractName);\n",
    "_abiArray=JSON.parse(_abiBinJson.contracts[contractName].abi); \n",
    "_bin = _abiBinJson.contracts[contractName].bin;\n",
    "\n",
    "async function deploy() {\n",
    "    const accounts = await web3.eth.getAccounts();\n",
    "    console.log(\"Deploying the contract from \" + accounts[0]);\n",
    "    var deployed = await new web3.eth.Contract(_abiArray)\n",
    "        .deploy({data: \"0x\" + _bin, arguments: [\"Hello from web3\"]})\n",
    "        .send({from: accounts[0], gas: 1000000}, function(err, transactionHash) {\n",
    "                if(!err) console.log(\"hash: \" + transactionHash); \n",
    "        });\n",
    "    console.log(\"---> The contract deployed to: \" + deployed.options.address)\n",
    "}\n",
    "\n",
    "deploy();"
   ]
  },
  {
   "cell_type": "code",
   "execution_count": 2,
   "id": "69094e05",
   "metadata": {},
   "outputs": [
    {
     "name": "stdout",
     "output_type": "stream",
     "text": [
      "- contract name :  [ 'src/Hello1.sol:Hello1' ]\n",
      "Deploying the contract from 0xc0463666BA29b481D7b33c630a4270F4f0dA581b\n",
      "hash: 0x949d9f61dba740f1a0cd3f9dbb9ae579f7062097cbe6e801600f421cd676529a\n",
      "---> The contract deployed to: 0xB8Bf79c527413E5Ac4Bb528411B8D671233b88A5\n"
     ]
    }
   ],
   "source": [
    "!node src/Hello1DeployFromFile.js"
   ]
  },
  {
   "cell_type": "code",
   "execution_count": 6,
   "id": "e1359da0",
   "metadata": {},
   "outputs": [
    {
     "name": "stdout",
     "output_type": "stream",
     "text": [
      "Overwriting src/Hello1UseFromFile.js\n"
     ]
    }
   ],
   "source": [
    "%%writefile src/Hello1UseFromFile.js\n",
    "var Web3 = require('web3');\n",
    "var _abiBinJson = require('./Hello1.json');\n",
    "//var web3 = new Web3(new Web3.providers.HttpProvider(\"http://localhost:8345\"));\n",
    "var web3 = new Web3(new Web3.providers.WebsocketProvider(\"http://localhost:8345\")); \n",
    "\n",
    "contractName = Object.keys(_abiBinJson.contracts);\n",
    "console.log(\"- contract name : \", contractName);\n",
    "_abiArray=JSON.parse(_abiBinJson.contracts[contractName].abi); \n",
    "_bin = _abiBinJson.contracts[contractName].bin;\n",
    "\n",
    "async function doIt() {\n",
    "    var hello = new web3.eth.Contract(_abiArray, \"0xB8Bf79c527413E5Ac4Bb528411B8D671233b88A5\");\n",
    "    var event = hello.events.PrintLog(function (error, event) {\n",
    "        console.log(\">>> Event fired: \" + JSON.stringify(event.returnValues));\n",
    "    })\n",
    "    .on('>> data', function(event) {\n",
    "        console.log(event);\n",
    "    })\n",
    "    .on('>> changed', function(event) {\n",
    "        console.log(event);\n",
    "    })\n",
    "    .on('>> error', console.error);\n",
    "    const accounts = await web3.eth.getAccounts();\n",
    "    console.log(\"Account: \" + accounts[0]);\n",
    "    const balanceBefore = await web3.eth.getBalance(accounts[0]);\n",
    "    console.log(\"Balance before: \" + balanceBefore);\n",
    "    hello.methods.sayHello().call().then(console.log);  //null\n",
    "    await hello.methods.setHello().send({from: accounts[0]});\n",
    "    hello.methods.sayHello().call().then(console.log);\n",
    "    hello.methods.compareTo(\"Hello\").call().then(console.log);\n",
    "    const balanceAfter = await web3.eth.getBalance(accounts[0]);\n",
    "    console.log(\"Balance after: \" + balanceAfter);\n",
    "    console.log(\"Balance diff: \" + (balanceBefore - balanceAfter));\n",
    "    \n",
    "}\n",
    "doIt()"
   ]
  },
  {
   "cell_type": "code",
   "execution_count": null,
   "id": "c34d2816",
   "metadata": {},
   "outputs": [],
   "source": [
    "!node src/Hello1UseFromFile.js "
   ]
  },
  {
   "cell_type": "markdown",
   "id": "d31087f6",
   "metadata": {},
   "source": [
    "# Q. 웹소켓을 사용하면 프로세스가 계속 되어서 인위적으로 해제해주어야 한다고 하는데 해제해주는 방법"
   ]
  },
  {
   "cell_type": "markdown",
   "id": "53cd2c46",
   "metadata": {},
   "source": [
    "## 실습문제 : 블록체인에서 컨트랙 삭제"
   ]
  },
  {
   "cell_type": "code",
   "execution_count": 7,
   "id": "031d9219",
   "metadata": {},
   "outputs": [
    {
     "name": "stdout",
     "output_type": "stream",
     "text": [
      "Overwriting src/Hello2.sol\n"
     ]
    }
   ],
   "source": [
    "%%writefile src/Hello2.sol\n",
    "//SPDX-License-Identifier: GPL-3.0-or-later\n",
    "pragma solidity ^0.6.4;\n",
    "\n",
    "contract Hello2 {\n",
    "    string hello;\n",
    "    address owner;\n",
    "\n",
    "    event PrintLog(string _s);\n",
    "\n",
    "    constructor() public {\n",
    "        owner = msg.sender;\n",
    "    }\n",
    "\n",
    "    function sayHello() view public returns(string memory) {\n",
    "        return hello;\n",
    "    }\n",
    "\n",
    "    function setHello(string memory _hello) public payable {\n",
    "        hello = _hello;\n",
    "        emit PrintLog(_hello);\n",
    "    }\n",
    "\n",
    "    function getBalance() view public returns(uint) {\n",
    "        return address(this).balance;\n",
    "    }\n",
    "\n",
    "    function kill() public {\n",
    "        if(msg.sender == owner) {\n",
    "            selfdestruct(payable(owner));\n",
    "        }\n",
    "    }\n",
    "}"
   ]
  },
  {
   "cell_type": "code",
   "execution_count": 8,
   "id": "9c2b8484",
   "metadata": {},
   "outputs": [],
   "source": [
    "!solc.exe --optimize --combined-json abi,bin src/Hello2.sol > src/Hello2.json"
   ]
  },
  {
   "cell_type": "code",
   "execution_count": 9,
   "id": "fae50bde",
   "metadata": {},
   "outputs": [
    {
     "name": "stdout",
     "output_type": "stream",
     "text": [
      "Overwriting src/Hello2DeployFromFile.js\n"
     ]
    }
   ],
   "source": [
    "%%writefile src/Hello2DeployFromFile.js\n",
    "var Web3 = require('web3');\n",
    "var _abiBinJson = require('./Hello2.json');\n",
    "var web3 = new Web3(new Web3.providers.HttpProvider(\"http://localhost:8345\"));\n",
    "//var web3 = new Web3(new Web3.providers.WebsocketProvider(\"http://localhost:8345\")); \n",
    "\n",
    "contractName = Object.keys(_abiBinJson.contracts);\n",
    "console.log(\"- contract name : \", contractName);\n",
    "_abiArray=JSON.parse(_abiBinJson.contracts[contractName].abi); \n",
    "_bin = _abiBinJson.contracts[contractName].bin;\n",
    "\n",
    "async function deploy() {\n",
    "    const accounts = await web3.eth.getAccounts();\n",
    "    console.log(\"Deploying the contract from \" + accounts[0]);\n",
    "    var deployed = await new web3.eth.Contract(_abiArray)\n",
    "        .deploy({data: \"0x\" + _bin})\n",
    "        .send({from: accounts[0], gas: 1000000}, function(err, transactionHash) {\n",
    "            if(!err) {\n",
    "                console.log(\"hash : \" + transactionHash);\n",
    "            }\n",
    "        });\n",
    "    console.log(\"---> The contract deployed to : \" + deployed.options.address);\n",
    "}\n",
    "\n",
    "deploy();"
   ]
  },
  {
   "cell_type": "code",
   "execution_count": 10,
   "id": "e9429298",
   "metadata": {},
   "outputs": [
    {
     "name": "stdout",
     "output_type": "stream",
     "text": [
      "- contract name :  [ 'src/Hello2.sol:Hello2' ]\n",
      "Deploying the contract from 0x4f0e664b54FAdF7AcF692374D1dC9b2a00c8fB7B\n",
      "hash : 0x3049336a3df2115fe6f4fff0eb3d7510153e453a411a31d529525aee16688c43\n",
      "---> The contract deployed to : 0x29DDEC2b79C09C1263dBD77Ab4e0F69C32caBce2\n"
     ]
    }
   ],
   "source": [
    "!node src/Hello2DeployFromFile.js"
   ]
  },
  {
   "cell_type": "code",
   "execution_count": 11,
   "id": "895bdc5e",
   "metadata": {},
   "outputs": [
    {
     "name": "stdout",
     "output_type": "stream",
     "text": [
      "Writing src/Hello2UseFromFile.js\n"
     ]
    }
   ],
   "source": [
    "%%writefile src/Hello2UseFromFile.js\n",
    "var Web3 = require('web3');\n",
    "var _abiBinJson = require('./Hello2.json');\n",
    "var web3 = new Web3(new Web3.providers.HttpProvider(\"http://localhost:8345\"));\n",
    "//var web3 = new Web3(new Web3.providers.WebsocketProvider(\"http://localhost:8345\")); \n",
    "\n",
    "contractName = Object.keys(_abiBinJson.contracts);\n",
    "console.log(\"- contract name : \", contractName);\n",
    "_abiArray=JSON.parse(_abiBinJson.contracts[contractName].abi); \n",
    "_bin = _abiBinJson.contracts[contractName].bin;\n",
    "\n",
    "async function doIt() {\n",
    "    var hello = new web3.eth.Contract(_abiArray, \"0x29DDEC2b79C09C1263dBD77Ab4e0F69C32caBce2\");\n",
    "    var event = hello.events.PrintLog(function(error, result) {\n",
    "        if(!error) {\n",
    "            console.log(\"Event fired : \" + JSON.stringify(result.returnValues));\n",
    "        }\n",
    "    });\n",
    "    const accounts = await web3.eth.getAccounts();\n",
    "    console.log(\"Account : \" + accounts[0]);\n",
    "    const balanceBefore = await web3.eth.getBalance(accounts[0]);\n",
    "    console.log(\"Balance before : \" + balanceBefore);\n",
    "    hello.methods.sayHello().call().then(console.log);\n",
    "    await hello.methods.setHello(\"Hello World\").send({from: accounts[0], value: 1111});\n",
    "    hello.methods.sayHello().call().then(console.log);\n",
    "    const balanceAfter = await web3.eth.getBalance(accounts[0]);\n",
    "    console.log(\"Balance after: \" + balanceAfter);\n",
    "    console.log(\"Balance diff: \" + (balanceBefore - balanceAfter));\n",
    "    process.exit(1); \n",
    "}\n",
    "\n",
    "doIt();"
   ]
  },
  {
   "cell_type": "code",
   "execution_count": 14,
   "id": "4b81238a",
   "metadata": {},
   "outputs": [
    {
     "name": "stdout",
     "output_type": "stream",
     "text": [
      "- contract name :  [ 'src/Hello2.sol:Hello2' ]\n",
      "Account : 0x4f0e664b54FAdF7AcF692374D1dC9b2a00c8fB7B\n",
      "Balance before : 999999263825999997778\n",
      "Hello World\n",
      "Balance after: 999999206205999996667\n",
      "Balance diff: 57620000014336\n"
     ]
    }
   ],
   "source": [
    "!node src/Hello2UseFromFile.js"
   ]
  },
  {
   "cell_type": "markdown",
   "id": "116e2f95",
   "metadata": {},
   "source": [
    "## 11.1.4 무작위 수의 생성"
   ]
  },
  {
   "cell_type": "code",
   "execution_count": 15,
   "id": "7407c002",
   "metadata": {},
   "outputs": [
    {
     "name": "stdout",
     "output_type": "stream",
     "text": [
      "Writing src/Random.sol\n"
     ]
    }
   ],
   "source": [
    "%%writefile src/Random.sol\n",
    "//SPDX-License-Identifier: GPL-3.0-or-later\n",
    "pragma solidity ^0.6.4;\n",
    "\n",
    "contract Random {\n",
    "    function rand() public view returns(bytes32) {\n",
    "        return keccak256(abi.encodePacked(block.timestamp, block.difficulty));\n",
    "    }\n",
    "\n",
    "    function rand0and250() public view returns(uint8) {\n",
    "        return uint8(uint256(keccak256(abi.encodePacked(block.timestamp, block.difficulty))) % 251);\n",
    "    }\n",
    "\n",
    "    function rand0and9() public view returns(uint8) {\n",
    "        return uint8(uint256(keccak256(abi.encodePacked(block.timestamp, block.difficulty))) % 10);\n",
    "    }\n",
    "\n",
    "    function rand0and2() public view returns(uint8) {\n",
    "        return uint8(uint256(keccak256(abi.encodePacked(block.timestamp, block.difficulty))) % 3);\n",
    "    }\n",
    "\n",
    "    function getRandomInteger() view public returns(uint8[] memory) {\n",
    "        uint8[] memory r = new uint8[](10);\n",
    "        for(uint i = 0; i < r.length; i++) {\n",
    "            r[i] = uint8(uint256(keccak256(abi.encodePacked(block.timestamp, block.difficulty))) % 10);\n",
    "        }\n",
    "        return r;\n",
    "    }\n",
    "}"
   ]
  },
  {
   "cell_type": "code",
   "execution_count": 17,
   "id": "654d9cfd",
   "metadata": {},
   "outputs": [
    {
     "name": "stderr",
     "output_type": "stream",
     "text": [
      "Compiler run successful, no output requested.\n"
     ]
    }
   ],
   "source": [
    "!solc.exe src/Random.sol"
   ]
  },
  {
   "cell_type": "markdown",
   "id": "e49947b3",
   "metadata": {},
   "source": [
    "## 실습문제 : 배열"
   ]
  },
  {
   "cell_type": "code",
   "execution_count": 1,
   "id": "adb192ce",
   "metadata": {},
   "outputs": [
    {
     "name": "stdout",
     "output_type": "stream",
     "text": [
      "Overwriting src/ArrayTest2.sol\n"
     ]
    }
   ],
   "source": [
    "%%writefile src/ArrayTest2.sol\n",
    "//SPDX-License-Identifier: GPL-3.0-or-later\n",
    "pragma solidity ^0.6.4;\n",
    "pragma experimental ABIEncoderV2;\n",
    "\n",
    "contract ArrayTest2 {\n",
    "    string[3] cities1 = [\"Seoul\", \"Sydeny\", \"Tokyo\"];\n",
    "    string[] cities2 = new string[](2);\n",
    "    string[] cities3;\n",
    "    uint24[5] balance = [255, 65536, 95, 50, 1];\n",
    "    int[5] mathMarks;\n",
    "    uint[3][] marks = [[100, 80, 95], [20, 30, 40]];\n",
    "\n",
    "    function setLocalDynamicArr() pure public returns(uint) {\n",
    "        uint[] memory myArr = new uint[](3);\n",
    "        myArr[0] = 11;\n",
    "        myArr[1] = 12;\n",
    "\n",
    "        return myArr.length;\n",
    "    }\n",
    "\n",
    "    function getDynamicArrMemory() pure public returns(uint[] memory) {\n",
    "        uint[] memory num = new uint[](3);\n",
    "        for(uint i = 0; i < num.length; i++) {\n",
    "            num[i] = i;\n",
    "        }\n",
    "        return num;\n",
    "    }\n",
    "\n",
    "    function getStringDynamicArrMemory() pure public {\n",
    "        string[2] memory places = [\"9000\", \"Sydney\"];\n",
    "        places[0] = \"Seoul\";\n",
    "    }\n",
    "\n",
    "    // function getCities1_() view public returns(string[] memory) {\n",
    "    //     return cities1[0];\n",
    "    // }\n",
    "\n",
    "    function getCities1Length() view public returns(uint) {\n",
    "        return cities1.length;\n",
    "    }\n",
    "\n",
    "    function setCities23() public {\n",
    "        string memory my = \"Seoul\";\n",
    "        cities2[0] = \"New York\";\n",
    "        cities2.push(my);\n",
    "        cities2.push(\"Busan\");\n",
    "        cities2.push(\"New York\");\n",
    "        cities2.push(\"Beijing\");\n",
    "    }\n",
    "\n",
    "    function getCites2() view public returns(string[] memory) {\n",
    "        return cities2;\n",
    "    }\n",
    "\n",
    "    function setMathMarks() public {\n",
    "        uint8[5] memory temp = [100, 60, 95, 50, 80];\n",
    "        for(uint i = 0; i < temp.length; i++) {\n",
    "            mathMarks[i] = int(int8(temp[i]));\n",
    "        }\n",
    "    }\n",
    "\n",
    "    function getMathAbove70_() view public returns(int[] memory) {\n",
    "        int[] memory mathAbove70;\n",
    "        uint counter = 0;\n",
    "        for(uint8 i = 0; i < mathMarks.length; i++) {\n",
    "            if(mathMarks[i] > 70) {\n",
    "                mathAbove70[counter] = mathMarks[i];\n",
    "                counter++;\n",
    "            }\n",
    "        }\n",
    "        return mathAbove70;\n",
    "    }\n",
    "\n",
    "    function getMathAbove70() view public returns(int[] memory) {\n",
    "        uint8 counter = 0;\n",
    "        uint8 lengthOfMathAbove70 = 0;\n",
    "        for(uint8 i = 0; i < mathMarks.length; i++) {\n",
    "            if(mathMarks[i] > 70) {\n",
    "                counter++;\n",
    "            }\n",
    "        }\n",
    "        lengthOfMathAbove70 = counter;\n",
    "        int[] memory mathAbove70 = new int[](lengthOfMathAbove70);\n",
    "        counter = 0;\n",
    "        for(uint i = 0; i < mathMarks.length; i++) {\n",
    "            if(mathMarks[i] > 70) {\n",
    "                mathAbove70[counter] = mathMarks[i];\n",
    "                counter++;\n",
    "            }\n",
    "        }\n",
    "        return mathAbove70;\n",
    "    }\n",
    "\n",
    "    function updateMarks() public returns(uint[3][] memory){\n",
    "        marks[0][0]=90;\n",
    "        return marks;\n",
    "    }\n",
    "    function getMarksArr() view public returns(uint[3][] memory) {\n",
    "        return marks;\n",
    "    }\n",
    "    function getMarksLength() view public returns(uint) {\n",
    "        return marks.length;\n",
    "    }\n",
    "}"
   ]
  },
  {
   "cell_type": "code",
   "execution_count": 2,
   "id": "4811dbbb",
   "metadata": {},
   "outputs": [],
   "source": [
    "!solc.exe --optimize --combined-json abi,bin src/ArrayTest2.sol > src/ArrayTest2.json"
   ]
  },
  {
   "cell_type": "code",
   "execution_count": 3,
   "id": "c95c6a73",
   "metadata": {},
   "outputs": [
    {
     "name": "stdout",
     "output_type": "stream",
     "text": [
      "Overwriting src/ArrayTest2Deploy.js\n"
     ]
    }
   ],
   "source": [
    "%%writefile src/ArrayTest2Deploy.js\n",
    "var Web3 = require('web3');\n",
    "var _abiBinJson = require('./ArrayTest2.json');\n",
    "var web3 = new Web3(new Web3.providers.HttpProvider(\"http://localhost:8345\"));\n",
    "//var web3 = new Web3(new Web3.providers.WebsocketProvider(\"http://localhost:8345\")); \n",
    "\n",
    "contractName = Object.keys(_abiBinJson.contracts);\n",
    "console.log(\"- contract name : \", contractName);\n",
    "_abiArray=JSON.parse(_abiBinJson.contracts[contractName].abi); \n",
    "_bin = _abiBinJson.contracts[contractName].bin;\n",
    "\n",
    "async function deploy() {\n",
    "    const accounts = await web3.eth.getAccounts();\n",
    "    console.log(\"Deploying the contract from : \" + accounts[0]);\n",
    "    \n",
    "    new web3.eth.Contract(_abiArray).deploy({data: \"0x\" + _bin})\n",
    "        .estimateGas(function(err, gas) {\n",
    "            if(!err) {\n",
    "                console.log(\">>> gas : \" + gas);\n",
    "            }\n",
    "        });\n",
    "    \n",
    "    var deployed = await new web3.eth.Contract(_abiArray)\n",
    "        .deploy({data: \"0x\" + _bin})\n",
    "        .send({from: accounts[0], gas: 1621137}, function(err, transactionHash) {\n",
    "            if(!err) {\n",
    "                console.log(\"hash : \" + transactionHash);\n",
    "            }\n",
    "        });\n",
    "    console.log(\"---> The contract deployed to \" + deployed.options.address);\n",
    "}\n",
    "\n",
    "1deploy();"
   ]
  },
  {
   "cell_type": "code",
   "execution_count": 4,
   "id": "30bfd7df",
   "metadata": {},
   "outputs": [
    {
     "name": "stdout",
     "output_type": "stream",
     "text": [
      "- contract name :  [ 'src/ArrayTest2.sol:ArrayTest2' ]\n",
      "Deploying the contract from : 0x608D8C98a9B5Ec35bd0e3133FEeeb3c695F56280\n",
      "hash : 0x56161a10f4a15db6fb205eb79dcd119181f7143bb043a19920dd564617c97974\n",
      "---> The contract deployed to 0x7Ff8304e0c2ED8259A3c41BE368B9a9269349feC\n",
      ">>> gas : 907914\n"
     ]
    }
   ],
   "source": [
    "!node src/ArrayTest2Deploy.js"
   ]
  },
  {
   "cell_type": "code",
   "execution_count": 11,
   "id": "4f778f10",
   "metadata": {},
   "outputs": [
    {
     "name": "stdout",
     "output_type": "stream",
     "text": [
      "Overwriting src/ArrayTest2Use.js\n"
     ]
    }
   ],
   "source": [
    "%%writefile src/ArrayTest2Use.js\n",
    "var Web3 = require('web3');\n",
    "var _abiBinJson = require('./ArrayTest2.json');\n",
    "var web3 = new Web3(new Web3.providers.HttpProvider(\"http://localhost:8345\"));\n",
    "//var web3 = new Web3(new Web3.providers.WebsocketProvider(\"http://localhost:8345\")); \n",
    "\n",
    "contractName = Object.keys(_abiBinJson.contracts);\n",
    "console.log(\"- contract name : \", contractName);\n",
    "_abiArray=JSON.parse(_abiBinJson.contracts[contractName].abi); \n",
    "_bin = _abiBinJson.contracts[contractName].bin;\n",
    "\n",
    "async function doIt() {\n",
    "    var arr = new web3.eth.Contract(_abiArray, \"0x7Ff8304e0c2ED8259A3c41BE368B9a9269349feC\");\n",
    "    const accounts = await web3.eth.getAccounts();\n",
    "    console.log(\"Account : \" + accounts[0]);\n",
    "    const balanceBefore = await web3.eth.getBalance(accounts[0]);\n",
    "    console.log(\"Balance before : \" + balanceBefore);\n",
    "    \n",
    "    arr.methods.setCities23().estimateGas(function(err, gas) {\n",
    "        if(!err) {\n",
    "            console.log(\">>> gas : \" + gas);\n",
    "        }\n",
    "    });\n",
    "    \n",
    "    await arr.methods.setCities23().send({from: accounts[0], gas: 1333100});\n",
    "    arr.methods.getCites2().call().then(console.log);\n",
    "    \n",
    "    arr.methods.setMathMarks().estimateGas(function(err, gas) {\n",
    "        if(!err) {\n",
    "            console.log(\">>> gas : \" + gas);\n",
    "        }\n",
    "    });\n",
    "    \n",
    "    await arr.methods.setMathMarks().send({from: accounts[0], gas: 1623540});\n",
    "    arr.methods.getMarksArr().call().then(console.log);\n",
    "    \n",
    "    const balanceAfter = await web3.eth.getBalance(accounts[0]);\n",
    "    console.log(\"Balance after : \" + balanceAfter);\n",
    "    console.log(\"Balance diff : \" + (balanceBefore - balanceAfter));\n",
    "}\n",
    "\n",
    "doIt();"
   ]
  },
  {
   "cell_type": "code",
   "execution_count": 12,
   "id": "19635c11",
   "metadata": {},
   "outputs": [
    {
     "name": "stdout",
     "output_type": "stream",
     "text": [
      "- contract name :  [ 'src/ArrayTest2.sol:ArrayTest2' ]\n",
      "Account : 0x608D8C98a9B5Ec35bd0e3133FEeeb3c695F56280\n",
      "Balance before : 999997917552000000000\n",
      ">>> gas : 139851\n",
      "[ 'New York', '', 'Seoul', 'Busan', 'New York', 'Beijing' ]\n",
      ">>> gas : 132659\n",
      "Balance after : 999997372532000000000\n",
      "Balance diff : 545019999944704\n",
      "[ [ '100', '80', '95' ], [ '20', '30', '40' ] ]\n"
     ]
    }
   ],
   "source": [
    "!node src/ArrayTest2Use.js"
   ]
  },
  {
   "cell_type": "code",
   "execution_count": 13,
   "id": "8bcfb18f",
   "metadata": {},
   "outputs": [
    {
     "name": "stdout",
     "output_type": "stream",
     "text": [
      "- contract name :  [ 'src/ArrayTest2.sol:ArrayTest2' ]\n",
      "Account : 0x608D8C98a9B5Ec35bd0e3133FEeeb3c695F56280\n",
      "Balance before : 999997372532000000000\n",
      ">>> gas : 122200\n",
      "[\n",
      "  'New York', '',\n",
      "  'Seoul',    'Busan',\n",
      "  'New York', 'Beijing',\n",
      "  'Seoul',    'Busan',\n",
      "  'New York', 'Beijing'\n",
      "]\n",
      "Balance after : 999997061814000000000\n",
      "Balance diff : 310718000005120\n",
      "[ [ '100', '80', '95' ], [ '20', '30', '40' ] ]\n",
      ">>> gas : 33203\n"
     ]
    }
   ],
   "source": [
    "!node src/ArrayTest2Use.js"
   ]
  },
  {
   "cell_type": "markdown",
   "id": "ff921d27",
   "metadata": {},
   "source": [
    "## 실습: Members 배열"
   ]
  },
  {
   "cell_type": "code",
   "execution_count": 15,
   "id": "e4bd857f",
   "metadata": {},
   "outputs": [
    {
     "name": "stdout",
     "output_type": "stream",
     "text": [
      "Writing src/Members.sol\n"
     ]
    }
   ],
   "source": [
    "%%writefile src/Members.sol\n",
    "//SPDX-License-Identifier: GPL-3.0-or-later\n",
    "pragma solidity ^0.6.4;\n",
    "\n",
    "contract Members {\n",
    "    address owner;\n",
    "    event PrintAddr(address arg);\n",
    "\n",
    "    struct Member {\n",
    "        uint id;\n",
    "        string name;\n",
    "    }\n",
    "\n",
    "    Member[] public memberArr;\n",
    "\n",
    "    constructor() public {\n",
    "        owner = msg.sender;\n",
    "    }\n",
    "\n",
    "    function del() public {\n",
    "        delete memberArr;\n",
    "    }\n",
    "\n",
    "    function delOne(uint i) public {\n",
    "        delete memberArr[i];\n",
    "    }\n",
    "\n",
    "    function add(uint id, string memory name) public {\n",
    "        memberArr.push(Member(id, name));\n",
    "    }\n",
    "\n",
    "    function getMember(string memory who) view public returns(uint, string memory ) {\n",
    "        uint _id;\n",
    "        string memory _name;\n",
    "        for(uint i = 0; i < memberArr.length; i++) {\n",
    "            _name = memberArr[i].name;\n",
    "            if(keccak256(abi.encodePacked(_name)) == keccak256(abi.encodePacked(who))) {\n",
    "                _id = memberArr[i].id;\n",
    "                _name = memberArr[i].name;\n",
    "            }\n",
    "        }\n",
    "        return (_id, _name);\n",
    "    }\n",
    "\n",
    "    function compareStr(string memory s1, string memory s2) pure public returns(bool) {\n",
    "        return keccak256(abi.encodePacked(s1))==keccak256(abi.encodePacked(s2));\n",
    "    }\n",
    "\n",
    "    function compareBytes(bytes memory b1, bytes memory b2) pure public returns(bool) {\n",
    "        return keccak256(b1) == keccak256(b2);\n",
    "    }\n",
    "\n",
    "    function getLength() view public returns(uint) {\n",
    "        return memberArr.length;\n",
    "    }\n",
    "}\n",
    "\n",
    "\n",
    "\n"
   ]
  },
  {
   "cell_type": "code",
   "execution_count": 16,
   "id": "97a986fe",
   "metadata": {},
   "outputs": [
    {
     "name": "stderr",
     "output_type": "stream",
     "text": [
      "Compiler run successful, no output requested.\n"
     ]
    }
   ],
   "source": [
    "!solc.exe src/Members.sol"
   ]
  },
  {
   "cell_type": "markdown",
   "id": "e339bfdd",
   "metadata": {},
   "source": [
    "## 11.2.2 mapping"
   ]
  },
  {
   "cell_type": "code",
   "execution_count": 17,
   "id": "a410d437",
   "metadata": {},
   "outputs": [
    {
     "name": "stdout",
     "output_type": "stream",
     "text": [
      "Overwriting src/BankV4.sol\n"
     ]
    }
   ],
   "source": [
    "%%writefile src/BankV4.sol\n",
    "//SPDX-License-Identifier: GPL-3.0-or-later\n",
    "pragma solidity ^0.6.4;\n",
    "\n",
    "contract BankV4 {\n",
    "    address owner;\n",
    "    mapping (address => uint) balanceOf;\n",
    "\n",
    "    constructor() public {\n",
    "        owner = msg.sender;\n",
    "    }\n",
    "\n",
    "    function deposit(uint amount) payable public onlyOwner {\n",
    "        require(msg.value == amount);\n",
    "        balanceOf[msg.sender] += amount;\n",
    "    }\n",
    "\n",
    "    function forwardTo(address receiver, uint amount) payable public onlyOwner {\n",
    "        require(balanceOf[msg.sender] >= amount);\n",
    "        balanceOf[msg.sender] -= amount;\n",
    "        balanceOf[receiver] += amount;\n",
    "    }\n",
    "\n",
    "    function withdraw(address payable receiver, uint amount) public onlyOwner {\n",
    "        require(balanceOf[receiver] >= amount && address(this).balance >= amount);\n",
    "        balanceOf[receiver] -= amount;\n",
    "        receiver.transfer(amount);\n",
    "    }\n",
    "\n",
    "    function getBalance() public view returns(uint, uint) {\n",
    "        return(address(this).balance, balanceOf[owner]);\n",
    "    }\n",
    "\n",
    "    function getBalanceOf(address addr) public view returns(uint) {\n",
    "        return balanceOf[addr];\n",
    "    }\n",
    "\n",
    "    modifier onlyOwner {\n",
    "        require(msg.sender == owner);\n",
    "        _;\n",
    "    }\n",
    " }\n"
   ]
  },
  {
   "cell_type": "code",
   "execution_count": 18,
   "id": "2ae9de70",
   "metadata": {},
   "outputs": [
    {
     "name": "stderr",
     "output_type": "stream",
     "text": [
      "Compiler run successful, no output requested.\n"
     ]
    }
   ],
   "source": [
    "!solc.exe src/BankV4.sol"
   ]
  },
  {
   "cell_type": "code",
   "execution_count": 19,
   "id": "72a091d5",
   "metadata": {},
   "outputs": [
    {
     "name": "stdout",
     "output_type": "stream",
     "text": [
      "Writing src/MembersMap.sol\n"
     ]
    }
   ],
   "source": [
    "%%writefile src/MembersMap.sol\n",
    "//SPDX-License-Identifier: GPL-3.0-or-later\n",
    "pragma solidity ^0.6.4;\n",
    "\n",
    "contract MembersMap {\n",
    "    struct Member {\n",
    "        uint id;\n",
    "        string name;\n",
    "    }\n",
    "\n",
    "    mapping(address => Member) memberMap;\n",
    "    mapping(uint => address) addressById;\n",
    "    mapping(string => address) addressByName;\n",
    "\n",
    "    function addMember(uint _id, string memory _name) public {\n",
    "        Member memory m = Member(_id, _name);\n",
    "        memberMap[msg.sender] = m;\n",
    "        addressById[_id] = msg.sender;\n",
    "        addressByName[_name] = msg.sender;\n",
    "    }\n",
    "\n",
    "    function getMemberById(uint _id) view public returns(uint, string memory) {\n",
    "        Member memory my = memberMap[addressById[_id]];\n",
    "        return (my.id, my.name);\n",
    "    }\n",
    "\n",
    "    function getMemberByName(string memory _name) public view returns(address) {\n",
    "        return addressByName[_name];\n",
    "    }\n",
    "\n",
    "    function getMember(address addr) view public returns(uint, string memory) {\n",
    "        Member memory m = memberMap[addr];\n",
    "        return (m.id, m.name);\n",
    "    }\n",
    "}"
   ]
  },
  {
   "cell_type": "code",
   "execution_count": 20,
   "id": "c13a2153",
   "metadata": {},
   "outputs": [
    {
     "name": "stderr",
     "output_type": "stream",
     "text": [
      "Compiler run successful, no output requested.\n"
     ]
    }
   ],
   "source": [
    "!solc.exe src/MembersMap.sol"
   ]
  },
  {
   "cell_type": "markdown",
   "id": "2b766982",
   "metadata": {},
   "source": [
    "## 11.3 예외\n",
    "## 실습문제 : 예외"
   ]
  },
  {
   "cell_type": "code",
   "execution_count": 21,
   "id": "e0ba9ed2",
   "metadata": {},
   "outputs": [
    {
     "name": "stdout",
     "output_type": "stream",
     "text": [
      "Writing src/ExceptionTest.sol\n"
     ]
    }
   ],
   "source": [
    "%%writefile src/ExceptionTest.sol\n",
    "//SPDX-License-Identifier: GPL-3.0-or-later\n",
    "pragma solidity ^0.6.4;\n",
    "\n",
    "contract ExceptionTest {\n",
    "    address owner;\n",
    "    \n",
    "    constructor() public {\n",
    "        owner = msg.sender;\n",
    "    }\n",
    "\n",
    "    function requireException() view public returns(string memory) {\n",
    "        require(msg.sender != owner, \"Sorry! You are owner. Require failed...\");\n",
    "        return \"require conditon met\";\n",
    "    }\n",
    "\n",
    "    function assertException() view public returns(string memory) {\n",
    "        assert(msg.sender == owner);\n",
    "        return \"asserted\";\n",
    "    }\n",
    "\n",
    "    function revertException() view public returns(string memory) {\n",
    "        if(msg.sender != owner) {\n",
    "            revert(\"Sorry! You are NOT owner. Reverted...\");\n",
    "        }\n",
    "        else {\n",
    "            return \"not reverted\";\n",
    "        }\n",
    "    }\n",
    "\n",
    "    function raiseException() pure public {\n",
    "        int x = 0;\n",
    "        int y = 0;\n",
    "        x / y;\n",
    "    }\n",
    "}\n"
   ]
  },
  {
   "cell_type": "code",
   "execution_count": 22,
   "id": "6a348b02",
   "metadata": {},
   "outputs": [
    {
     "name": "stderr",
     "output_type": "stream",
     "text": [
      "Compiler run successful, no output requested.\n"
     ]
    }
   ],
   "source": [
    "!solc.exe src/ExceptionTest.sol"
   ]
  },
  {
   "cell_type": "markdown",
   "id": "e1602e00",
   "metadata": {},
   "source": [
    "## 연습문제 : 주문"
   ]
  },
  {
   "cell_type": "code",
   "execution_count": null,
   "id": "9fc01e8c",
   "metadata": {},
   "outputs": [],
   "source": []
  },
  {
   "cell_type": "markdown",
   "id": "6e56a863",
   "metadata": {},
   "source": [
    "## 12.1.1 컨트랙 간의 관련\n",
    "## 실습 문제: new 명령어로 컨트랙 조립 composition"
   ]
  },
  {
   "cell_type": "code",
   "execution_count": 1,
   "id": "e265159e",
   "metadata": {},
   "outputs": [
    {
     "name": "stdout",
     "output_type": "stream",
     "text": [
      "Writing src/C1C2.sol\n"
     ]
    }
   ],
   "source": [
    "%%writefile src/C1C2.sol\n",
    "//SPDX-License-Identifier: GPL-3.0-or-later\n",
    "pragma solidity ^0.8.0;\n",
    "\n",
    "contract C1 {\n",
    "    uint128 v1;\n",
    "    \n",
    "    function set(uint128 _v1) public {\n",
    "        v1 = _v1;\n",
    "    }\n",
    "\n",
    "    function get() public view returns(uint128) {\n",
    "        return v1;\n",
    "    }\n",
    "\n",
    "    function get7() public pure returns(uint128) {\n",
    "        return 7;\n",
    "    }\n",
    "}\n",
    "\n",
    "contract C2 {\n",
    "    C1 c1;\n",
    "\n",
    "    constructor() {\n",
    "        c1 = new C1();\n",
    "    }\n",
    "\n",
    "    function set(uint128 _v1) public {\n",
    "        c1.set(_v1);\n",
    "    }\n",
    "\n",
    "    function get() public view returns(uint128) {\n",
    "        return c1.get();\n",
    "    }\n",
    "\n",
    "    function get7() public view returns(uint128) {\n",
    "        return c1.get7();\n",
    "    }\n",
    "\n",
    "    function getC1Address() public view returns(address) {\n",
    "        return address(c1);\n",
    "    }\n",
    "}"
   ]
  },
  {
   "cell_type": "code",
   "execution_count": 2,
   "id": "71af787e",
   "metadata": {},
   "outputs": [],
   "source": [
    "!solc-windows.exe src/C1C2.sol --combined-json abi,bin > src/C1C2.json"
   ]
  },
  {
   "cell_type": "code",
   "execution_count": 7,
   "id": "76316b0a",
   "metadata": {},
   "outputs": [
    {
     "name": "stdout",
     "output_type": "stream",
     "text": [
      "Overwriting src/C1C2Deploy.js\n"
     ]
    }
   ],
   "source": [
    "%%writefile src/C1C2Deploy.js\n",
    "var Web3=require('web3');\n",
    "var web3=new Web3(new Web3.providers.HttpProvider(\"http://localhost:8345\"));\n",
    "var fs=require('fs');\n",
    "var _str = fs.readFileSync(\"src/C1C2.json\");\n",
    "var _json=JSON.parse(_str)\n",
    "var _abiArray=_json.contracts[\"src/C1C2.sol:C2\"].abi;\n",
    "var _bin=\"0x\"+_json.contracts[\"src/C1C2.sol:C2\"].bin;\n",
    "\n",
    "async function deploy() {\n",
    "    const accounts = await web3.eth.getAccounts();\n",
    "    console.log(\"Deploying the contract from \" + accounts[0]);\n",
    "    var deployed = await new web3.eth.Contract(_abiArray)\n",
    "        .deploy({data: _bin})\n",
    "        .send({from: accounts[0], gas: 1000000})\n",
    "        .on('transactionHash', function(hash){\n",
    "            console.log(\">>> transactionHash\"+hash);\n",
    "        })\n",
    "        .on('receipt', function(receipt){\n",
    "            console.log(\">>> RECEPIT hash: \" + receipt.transactionHash + \"\\n>>> address:\" + receipt.contractAddress);\n",
    "        })\n",
    "        .on('error', function(error, receipt) {\n",
    "            console.log(\">>> ERROR \"+error);\n",
    "        });\n",
    "    console.log(\"---> The contract deployed to: \" + deployed.options.address)\n",
    "}\n",
    "deploy()"
   ]
  },
  {
   "cell_type": "code",
   "execution_count": 8,
   "id": "b8aeb800",
   "metadata": {},
   "outputs": [
    {
     "name": "stdout",
     "output_type": "stream",
     "text": [
      "Deploying the contract from 0x27cDD04B660Aa736c6e8ad2527467320A38B14Ff\n",
      ">>> transactionHash0xba9c61de094729f822542d97357d3dce92d242780b8c88aa17a6e53fb4296295\n",
      ">>> RECEPIT hash: 0xba9c61de094729f822542d97357d3dce92d242780b8c88aa17a6e53fb4296295\n",
      ">>> address:0x83bbd058d05D4F7439F295dd0e9b430CBfEbEAea\n",
      "---> The contract deployed to: 0x83bbd058d05D4F7439F295dd0e9b430CBfEbEAea\n"
     ]
    }
   ],
   "source": [
    "!node src/C1C2Deploy.js"
   ]
  },
  {
   "cell_type": "code",
   "execution_count": 11,
   "id": "e5217465",
   "metadata": {},
   "outputs": [
    {
     "name": "stdout",
     "output_type": "stream",
     "text": [
      "Overwriting src/C1C2Use.js\n"
     ]
    }
   ],
   "source": [
    "%%writefile src/C1C2Use.js\n",
    "var Web3=require('web3');\n",
    "var web3=new Web3(new Web3.providers.HttpProvider(\"http://localhost:8345\"));\n",
    "var fs=require('fs');\n",
    "var _str = fs.readFileSync(\"src/C1C2.json\");\n",
    "var _json=JSON.parse(_str);\n",
    "var _abiArray=_json.contracts[\"src/C1C2.sol:C2\"].abi;\n",
    "\n",
    "var c2 = new web3.eth.Contract(_abiArray, \"0x83bbd058d05D4F7439F295dd0e9b430CBfEbEAea\");\n",
    "\n",
    "async function doIt() {\n",
    "    const accounts = await web3.eth.getAccounts();\n",
    "    console.log(\"Account: \" + accounts[0]);\n",
    "    const balanceBefore = await web3.eth.getBalance(accounts[0]);\n",
    "    console.log(\"Balance before: \" + balanceBefore);\n",
    "    c2.methods.get7().call().then(function(res) {console.log(\"C1 get7(): \" + res)});\n",
    "    await c2.methods.set(9).send({from: accounts[0],gas:50000}, function(err,res) {\n",
    "        console.log(\"setting 9...\"+res);\n",
    "    });\n",
    "    c2.methods.get().call().then(function(res) {console.log(\"C1 get(): \" + res)});\n",
    "    const balanceAfter = await web3.eth.getBalance(accounts[0]);\n",
    "    console.log(\"Balance after: \" + balanceAfter);\n",
    "    console.log(\"Balance diff: \" + (balanceBefore - balanceAfter));\n",
    "}\n",
    "\n",
    "doIt()"
   ]
  },
  {
   "cell_type": "code",
   "execution_count": 12,
   "id": "2e2b498e",
   "metadata": {},
   "outputs": [
    {
     "name": "stdout",
     "output_type": "stream",
     "text": [
      "Account: 0x27cDD04B660Aa736c6e8ad2527467320A38B14Ff\n",
      "Balance before: 999999013462000000000\n",
      "C1 get7(): 7\n",
      "setting 9...0xb64a9e74a28da70d85bf09e0e37dc69e63815754beb5c9ce8122587ac2caf0d9\n",
      "Balance after: 999998954606000000000\n",
      "Balance diff: 58856000061440\n",
      "C1 get(): 9\n"
     ]
    }
   ],
   "source": [
    "!node src/C1C2Use.js"
   ]
  },
  {
   "cell_type": "markdown",
   "id": "3f266d07",
   "metadata": {},
   "source": [
    "## 실습: 컨트랙의 주소를 사용하여 컨트랙 결합 association"
   ]
  },
  {
   "cell_type": "code",
   "execution_count": 13,
   "id": "f51e4034",
   "metadata": {},
   "outputs": [
    {
     "name": "stdout",
     "output_type": "stream",
     "text": [
      "Overwriting src/C1.sol\n"
     ]
    }
   ],
   "source": [
    "%%writefile src/C1.sol\n",
    "//SPDX-License-Identifier: GPL-3.0-or-later\n",
    "pragma solidity ^0.8.0;\n",
    "\n",
    "contract C1 {\n",
    "    uint128 v1;\n",
    "\n",
    "    function set(uint128 _v1) public {\n",
    "        v1 = _v1;\n",
    "    }\n",
    "\n",
    "    function get() public view returns(uint128) {\n",
    "        return v1;\n",
    "    }\n",
    "\n",
    "    function get7() public pure returns(uint128) {\n",
    "        return 7;\n",
    "    }\n",
    "}"
   ]
  },
  {
   "cell_type": "code",
   "execution_count": 14,
   "id": "39606185",
   "metadata": {},
   "outputs": [],
   "source": [
    "!solc-windows.exe src/C1.sol --combined-json abi,bin > src/C1.json"
   ]
  },
  {
   "cell_type": "code",
   "execution_count": 17,
   "id": "2dd9a548",
   "metadata": {},
   "outputs": [
    {
     "name": "stdout",
     "output_type": "stream",
     "text": [
      "Overwriting src/C1Deploy.js\n"
     ]
    }
   ],
   "source": [
    "%%writefile src/C1Deploy.js\n",
    "var Web3 = require('web3');\n",
    "var web3 = new Web3(new Web3.providers.HttpProvider(\"http://localhost:8345\"));\n",
    "var fs = require('fs');\n",
    "var _str = fs.readFileSync(\"src/C1.json\");\n",
    "var _json = JSON.parse(_str);\n",
    "var _abiArray = _json.contracts[\"src/C1.sol:C1\"].abi;\n",
    "var _bin = \"0x\" + _json.contracts[\"src/C1.sol:C1\"].bin;\n",
    "\n",
    "async function deploy() {\n",
    "    const accounts = await web3.eth.getAccounts();\n",
    "    console.log(\"Deploying the contract from : \" + accounts[0]);\n",
    "    var deployed = await new web3.eth.Contract(_abiArray)\n",
    "        .deploy({data: _bin})\n",
    "        .send({from: accounts[0], gas: 1000000})\n",
    "        .on('transactionHash', function(hash) {\n",
    "            console.log(\">>> transaction hash : \" + hash);\n",
    "        })\n",
    "        .on('receipt', function(receipt) {\n",
    "            console.log(\">>> receipt hash : \" + receipt.transactionHash + \"\\n>>> address : \" + receipt.contractAddress);\n",
    "        })\n",
    "        .on('error', function(error, result) {\n",
    "            console.log(\">>> error : \" + error);\n",
    "        });\n",
    "    \n",
    "    console.log(\"---> The contract deployed to: \" + deployed.options.address);\n",
    "}\n",
    "\n",
    "deploy();"
   ]
  },
  {
   "cell_type": "code",
   "execution_count": 18,
   "id": "f7433282",
   "metadata": {},
   "outputs": [
    {
     "name": "stdout",
     "output_type": "stream",
     "text": [
      "Deploying the contract from : 0x27cDD04B660Aa736c6e8ad2527467320A38B14Ff\n",
      ">>> transaction hash : 0x64bcfc5bb5068f397d56f090151a04bca077d46f452855048e43721f810f3c5a\n",
      ">>> receipt hash : 0x64bcfc5bb5068f397d56f090151a04bca077d46f452855048e43721f810f3c5a\n",
      ">>> address : 0xF450C18b10838E653263b48F37214e3D19e73076\n",
      "---> The contract deployed to: 0xF450C18b10838E653263b48F37214e3D19e73076\n"
     ]
    }
   ],
   "source": [
    "!node src/C1Deploy.js"
   ]
  },
  {
   "cell_type": "code",
   "execution_count": 19,
   "id": "8527fcfc",
   "metadata": {},
   "outputs": [
    {
     "name": "stdout",
     "output_type": "stream",
     "text": [
      "Overwriting src/C1Use.js\n"
     ]
    }
   ],
   "source": [
    "%%writefile src/C1Use.js\n",
    "var Web3=require('web3');\n",
    "var web3=new Web3(new Web3.providers.HttpProvider(\"http://localhost:8345\"));\n",
    "var fs=require('fs');\n",
    "var _str = fs.readFileSync(\"src/C1.json\");\n",
    "var _json=JSON.parse(_str);\n",
    "var _abiArray = _json.contracts[\"src/C1.sol:C1\"].abi;\n",
    "var c1 = new web3.eth.Contract(_abiArray, \"0xF450C18b10838E653263b48F37214e3D19e73076\");\n",
    "\n",
    "async function doIt() {\n",
    "    const accounts = await web3.eth.getAccounts();\n",
    "    console.log(\"Account : \" + accounts[0]);\n",
    "    const balanceBefore = await web3.eth.getBalance(accounts[0]);\n",
    "    console.log(\"Balance before : \" + balanceBefore);\n",
    "    c1.methods.get7().call().then(console.log);\n",
    "    await c1.methods.set(9).send({from: accounts[0], gas: 50000});\n",
    "    c1.methods.get().call().then(console.log);\n",
    "    const balanceAfter = await web3.eth.getBalance(accounts[0]);\n",
    "    console.log(\"Balance after : \" + balanceAfter);\n",
    "    console.log(\"Balance diff : \" + (balanceBefore - balanceAfter));\n",
    "}\n",
    "doIt();"
   ]
  },
  {
   "cell_type": "code",
   "execution_count": 20,
   "id": "f7c46fba",
   "metadata": {},
   "outputs": [
    {
     "name": "stdout",
     "output_type": "stream",
     "text": [
      "Account : 0x27cDD04B660Aa736c6e8ad2527467320A38B14Ff\n",
      "Balance before : 999998644332000000000\n",
      "7\n",
      "Balance after : 999998556766000000000\n",
      "Balance diff : 87566000062464\n",
      "9\n"
     ]
    }
   ],
   "source": [
    "!node src/C1Use.js"
   ]
  },
  {
   "cell_type": "code",
   "execution_count": 22,
   "id": "d2c33a57",
   "metadata": {},
   "outputs": [
    {
     "name": "stdout",
     "output_type": "stream",
     "text": [
      "Overwriting src/C2.sol\n"
     ]
    }
   ],
   "source": [
    "%%writefile src/C2.sol\n",
    "//SPDX-License-Identifier: GPL-3.0-or-later\n",
    "pragma solidity ^0.8.0;\n",
    "import \"./C1.sol\";\n",
    "\n",
    "contract C2 {\n",
    "    C1 c1;\n",
    "\n",
    "    constructor() {\n",
    "        c1 = new C1();\n",
    "    }\n",
    "\n",
    "    function setC1(address _addressOfC1) public {\n",
    "        c1 = C1(_addressOfC1);\n",
    "    }\n",
    "\n",
    "    function set(uint128 _v1) public {\n",
    "        c1.set(_v1);\n",
    "    }\n",
    "\n",
    "    function get() public view returns(uint128) {\n",
    "        return c1.get();\n",
    "    }\n",
    "\n",
    "    function get7() public view returns(uint128) {\n",
    "        return c1.get7();\n",
    "    }\n",
    "\n",
    "    function getC1Address() public view returns(address) {\n",
    "        return address(c1);\n",
    "    }\n",
    "}"
   ]
  },
  {
   "cell_type": "code",
   "execution_count": 23,
   "id": "1edf92d9",
   "metadata": {},
   "outputs": [],
   "source": [
    "!solc-windows.exe src/C2.sol --combined-json abi,bin > src/C2.json"
   ]
  },
  {
   "cell_type": "code",
   "execution_count": 24,
   "id": "082f45aa",
   "metadata": {},
   "outputs": [
    {
     "name": "stdout",
     "output_type": "stream",
     "text": [
      "Overwriting src/C2Deploy.js\n"
     ]
    }
   ],
   "source": [
    "%%writefile src/C2Deploy.js\n",
    "var Web3 = require('web3');\n",
    "var web3 = new Web3(new Web3.providers.HttpProvider(\"http://localhost:8345\"));\n",
    "var fs=require('fs');\n",
    "var _str = fs.readFileSync(\"src/C2.json\");\n",
    "var _json = JSON.parse(_str);\n",
    "var _abiArray = _json.contracts[\"src/C1.sol:C1\"].abi;\n",
    "var _bin = \"0x\"+_json.contracts[\"src/C2.sol:C2\"].bin;\n",
    "\n",
    "async function deploy() {\n",
    "    const accounts = await web3.eth.getAccounts();\n",
    "    console.log(\"Deploying the contract from \" + accounts[0]);\n",
    "    var deployed = await new web3.eth.Contract(_abiArray)\n",
    "        .deploy({data: _bin})\n",
    "        .send({from: accounts[0], gas: 1000000})\n",
    "        .on('transactionHash', function(hash){\n",
    "            console.log(\">>> transactionHash\" + hash);\n",
    "        })\n",
    "        .on('receipt', function(receipt){\n",
    "            console.log(\">>> RECEPIT hash: \" + receipt.transactionHash + \"\\n>>> address:\" + receipt.contractAddress);\n",
    "        })\n",
    "        .on('error', function(error, receipt) {\n",
    "            console.log(\">>> ERROR \" + error);\n",
    "        });\n",
    "    console.log(\"---> The contract deployed to: \" + deployed.options.address);\n",
    "}\n",
    "\n",
    "deploy();"
   ]
  },
  {
   "cell_type": "code",
   "execution_count": 25,
   "id": "21a77295",
   "metadata": {},
   "outputs": [
    {
     "name": "stdout",
     "output_type": "stream",
     "text": [
      "Deploying the contract from 0x27cDD04B660Aa736c6e8ad2527467320A38B14Ff\n",
      ">>> transactionHash0x30e344547bec2fc0e3dd60de2cbcb48cb3874dd62d8c51da4c44eade88812da8\n",
      ">>> RECEPIT hash: 0x30e344547bec2fc0e3dd60de2cbcb48cb3874dd62d8c51da4c44eade88812da8\n",
      ">>> address:0x07ED7599B0d693E190eB2d4a0f06518F53e64AaA\n",
      "---> The contract deployed to: 0x07ED7599B0d693E190eB2d4a0f06518F53e64AaA\n"
     ]
    }
   ],
   "source": [
    "!node src/C2Deploy.js"
   ]
  },
  {
   "cell_type": "code",
   "execution_count": 28,
   "id": "684f7889",
   "metadata": {},
   "outputs": [
    {
     "name": "stdout",
     "output_type": "stream",
     "text": [
      "Overwriting src/C2Use.js\n"
     ]
    }
   ],
   "source": [
    "%%writefile src/C2Use.js\n",
    "var Web3=require('web3');\n",
    "var web3 = new Web3(new Web3.providers.HttpProvider(\"http://localhost:8345\"));\n",
    "var fs=require('fs');\n",
    "var _str = fs.readFileSync(\"src/C2.json\");\n",
    "var _json = JSON.parse(_str);\n",
    "var _abiArray = _json.contracts[\"src/C2.sol:C2\"].abi;\n",
    "\n",
    "var c2 = new web3.eth.Contract(_abiArray, \"0x07ED7599B0d693E190eB2d4a0f06518F53e64AaA\");\n",
    "\n",
    "async function doIt() {\n",
    "    const accounts = await web3.eth.getAccounts();\n",
    "    console.log(\"Account : \" + accounts[0]);\n",
    "    const balanceBefore = await web3.eth.getBalance(accounts[0]);\n",
    "    console.log(\"Balance before : \" + balanceBefore);\n",
    "    console.log(\"--- new C1 ---\");\n",
    "    await c2.methods.getC1Address().call(function(err, c1addr) {\n",
    "        if(!err) {\n",
    "            console.log(\"c1 address by 'new' : \" + c1addr);\n",
    "        }\n",
    "    });\n",
    "    c2.methods.get7().call().then(function(res) { console.log(\"get7(): \"+res) });\n",
    "    console.log(\"--- set the above deployed address of C1 ---\");\n",
    "    await c2.methods.setC1(\"0xF450C18b10838E653263b48F37214e3D19e73076\").send({from:accounts[0], gas:50000});\n",
    "    await c2.methods.getC1Address().call(function(err, c1addr) {\n",
    "        if(!err) console.log(\"c1 address by 'setC1()': \"+c1addr);\n",
    "    });\n",
    "    c2.methods.get7().call().then(console.log);\n",
    "    await c2.methods.set(222).send({from: accounts[0],gas:50000});\n",
    "    c2.methods.get().call().then(console.log);\n",
    "    const balanceAfter = await web3.eth.getBalance(accounts[0]);\n",
    "    console.log(\"Balance after: \" + balanceAfter);\n",
    "    console.log(\"Balance diff: \" + (balanceBefore - balanceAfter));\n",
    "}\n",
    "\n",
    "doIt();"
   ]
  },
  {
   "cell_type": "code",
   "execution_count": 29,
   "id": "a97abd0a",
   "metadata": {},
   "outputs": [
    {
     "name": "stdout",
     "output_type": "stream",
     "text": [
      "Account : 0x27cDD04B660Aa736c6e8ad2527467320A38B14Ff\n",
      "Balance before : 999997586562000000000\n",
      "--- new C1 ---\n",
      "c1 address by 'new' : 0x4aFC48bfC5a7C4D2F31C1009EC0a0d57dA8B51a8\n",
      "--- set the above deployed address of C1 ---\n",
      "get7(): 7\n",
      "c1 address by 'setC1()': 0xF450C18b10838E653263b48F37214e3D19e73076\n",
      "7\n",
      "Balance after: 999997468110000000000\n",
      "Balance diff: 118451999997952\n",
      "222\n"
     ]
    }
   ],
   "source": [
    "!node src/C2Use.js"
   ]
  },
  {
   "cell_type": "code",
   "execution_count": 30,
   "id": "cd916c60",
   "metadata": {},
   "outputs": [
    {
     "name": "stdout",
     "output_type": "stream",
     "text": [
      "Account : 0x27cDD04B660Aa736c6e8ad2527467320A38B14Ff\n",
      "Balance before : 999997468110000000000\n",
      "--- new C1 ---\n",
      "c1 address by 'new' : 0xF450C18b10838E653263b48F37214e3D19e73076\n",
      "--- set the above deployed address of C1 ---\n",
      "get7(): 7\n",
      "c1 address by 'setC1()': 0xF450C18b10838E653263b48F37214e3D19e73076\n",
      "7\n",
      "Balance after: 999997360858000000000\n",
      "Balance diff: 107251999965184\n",
      "222\n"
     ]
    }
   ],
   "source": [
    "!node src/C2Use.js"
   ]
  },
  {
   "cell_type": "markdown",
   "id": "cac0f1d2",
   "metadata": {},
   "source": [
    "## 실습 문제 : 자동차와 엔진의 조립 - new 명령어 사용"
   ]
  },
  {
   "cell_type": "code",
   "execution_count": 31,
   "id": "400a0203",
   "metadata": {},
   "outputs": [
    {
     "name": "stdout",
     "output_type": "stream",
     "text": [
      "Writing src/Car.sol\n"
     ]
    }
   ],
   "source": [
    "%%writefile src/Car.sol\n",
    "//SPDX-License-Identifier: GPL-3.0-or-later\n",
    "pragma solidity ^0.8.0;\n",
    "\n",
    "contract Car {\n",
    "    Engine engineObj;\n",
    "    string private color;\n",
    "    event PrintLog(address sender, string msg);\n",
    "\n",
    "    constructor() {\n",
    "        engineObj = new Engine();\n",
    "    }\n",
    "\n",
    "    function setColor(string memory _color) public {\n",
    "        color = _color;\n",
    "    }\n",
    "\n",
    "    function getColor() public view returns(string memory) {\n",
    "        return color;\n",
    "    }\n",
    "    \n",
    "    function getSpeed() public view returns(uint) {\n",
    "        return engineObj.getSpeed();\n",
    "    }\n",
    "\n",
    "    function speedUpBy10() public {\n",
    "        engineObj.setSpeendUpBy(10);\n",
    "    }\n",
    "\n",
    "    function speedDownBy10() public {\n",
    "        engineObj.setSpeedDownBy(10);\n",
    "    }\n",
    "\n",
    "    function start() public {\n",
    "        engineObj.on();\n",
    "        string memory engineStateStr = engineObj.getEngineState() ? \"on\" : \"off\";\n",
    "        emit PrintLog(msg.sender, engineStateStr);\n",
    "    }\n",
    "}\n",
    "\n",
    "contract Engine {\n",
    "    uint constant private MAXSPEED = 200;\n",
    "    uint private speed;\n",
    "    bool private engineState;\n",
    "\n",
    "    constructor() {\n",
    "        speed = 0;\n",
    "        off();\n",
    "    }\n",
    "\n",
    "    function on() public {\n",
    "        engineState = true;\n",
    "    }\n",
    "\n",
    "    function off() public {\n",
    "        engineState = false;\n",
    "    }\n",
    "\n",
    "    function getEngineState() public view returns(bool) {\n",
    "        return engineState;\n",
    "    }\n",
    "\n",
    "    function setSpeendUpBy(uint _speed) public {\n",
    "        if(speed < (MAXSPEED - 10) && engineState == true)\n",
    "            speed += _speed;\n",
    "    }\n",
    "\n",
    "    function setSpeedDownBy(uint _speed) public {\n",
    "        if((speed - 10) > 0 && engineState == true)\n",
    "            speed -= _speed;\n",
    "    }\n",
    "\n",
    "    function getSpeed() public view returns(uint) {\n",
    "        return speed;\n",
    "    }\n",
    "}"
   ]
  },
  {
   "cell_type": "code",
   "execution_count": 32,
   "id": "50a6cc3a",
   "metadata": {},
   "outputs": [],
   "source": [
    "!solc-windows.exe src/Car.sol --combined-json abi,bin > src/Car.json"
   ]
  },
  {
   "cell_type": "code",
   "execution_count": 33,
   "id": "d88dfb7d",
   "metadata": {},
   "outputs": [
    {
     "name": "stdout",
     "output_type": "stream",
     "text": [
      "Writing src/carDeploy.js\n"
     ]
    }
   ],
   "source": [
    "%%writefile src/carDeploy.js\n",
    "var Web3=require('web3');\n",
    "var web3=new Web3(new Web3.providers.HttpProvider(\"http://localhost:8345\"));\n",
    "var fs=require('fs');\n",
    "var _str = fs.readFileSync(\"src/Car.json\");\n",
    "var _json=JSON.parse(_str);\n",
    "var _abiArray=_json.contracts[\"src/Car.sol:Car\"].abi;\n",
    "var _bin=\"0x\"+_json.contracts[\"src/Car.sol:Car\"].bin;\n",
    "\n",
    "async function deploy() {\n",
    "    const accounts = await web3.eth.getAccounts();\n",
    "    console.log(\"Deploying the contract from \" + accounts[0]);\n",
    "    var deployed = await new web3.eth.Contract(_abiArray)\n",
    "        .deploy({data: _bin})\n",
    "        .send({from: accounts[0], gas: 1000000})\n",
    "        .on('transactionHash', function(hash){\n",
    "            console.log(\">>> transactionHash\"+hash);\n",
    "        })\n",
    "        .on('receipt', function(receipt){\n",
    "            console.log(\">>> RECEPIT hash: \" + receipt.transactionHash + \"\\n>>> address:\" + receipt.contractAddress);\n",
    "        })\n",
    "        .on('error', function(error, receipt) {\n",
    "            console.log(\">>> ERROR \"+error);\n",
    "        });\n",
    "    console.log(\"---> The contract deployed to: \" + deployed.options.address)\n",
    "}\n",
    "deploy();"
   ]
  },
  {
   "cell_type": "code",
   "execution_count": 34,
   "id": "7824ed6d",
   "metadata": {},
   "outputs": [
    {
     "name": "stdout",
     "output_type": "stream",
     "text": [
      "Deploying the contract from 0x27cDD04B660Aa736c6e8ad2527467320A38B14Ff\n",
      ">>> transactionHash0x650bd0fb26909ba72a832d21f348fbd4be209b94b4070ec70feeac6583da3158\n",
      ">>> RECEPIT hash: 0x650bd0fb26909ba72a832d21f348fbd4be209b94b4070ec70feeac6583da3158\n",
      ">>> address:0x44e1a1FEbb8789FF90DD4EC2cBd9adc7D53AAdF2\n",
      "---> The contract deployed to: 0x44e1a1FEbb8789FF90DD4EC2cBd9adc7D53AAdF2\n"
     ]
    }
   ],
   "source": [
    "!node src/carDeploy.js"
   ]
  },
  {
   "cell_type": "code",
   "execution_count": 35,
   "id": "bc9022ae",
   "metadata": {},
   "outputs": [
    {
     "name": "stdout",
     "output_type": "stream",
     "text": [
      "Writing src/carUse.js\n"
     ]
    }
   ],
   "source": [
    "%%writefile src/carUse.js\n",
    "var Web3=require('web3');\n",
    "var web3 = new Web3(new Web3.providers.WebsocketProvider(\"ws://localhost:8345\"));\n",
    "var fs=require('fs');\n",
    "var _str = fs.readFileSync(\"src/Car.json\");\n",
    "var _json=JSON.parse(_str);\n",
    "var _abiArray=_json.contracts[\"src/Car.sol:Car\"].abi;\n",
    "\n",
    "async function doIt() {\n",
    "    var car = new web3.eth.Contract(_abiArray, \"0x44e1a1FEbb8789FF90DD4EC2cBd9adc7D53AAdF2\");\n",
    "    car.events.PrintLog({fromBlock: 'latest', toBlock:'pending'}, function (error, event) {\n",
    "            console.log(\">>> Event fired: \" + JSON.stringify(event.returnValues));\n",
    "        }).on('>> data', function(event){\n",
    "            console.log(event); // same results as the optional callback above\n",
    "        }).on('>> changed', function(event){\n",
    "            console.log(event); // remove event from local database\n",
    "        }).on('>> error', console.error);\n",
    "\n",
    "    var speed;\n",
    "    const accounts = await web3.eth.getAccounts();\n",
    "    console.log(\"Account: \" + accounts[0]);\n",
    "    const balanceBefore = await web3.eth.getBalance(accounts[0]);\n",
    "    console.log(\"Balance before: \" + balanceBefore);\n",
    "    car.methods.setColor(\"RED\").send({from: accounts[0], gas:100000});\n",
    "    car.methods.getColor().call().then(console.log);\n",
    "    await car.methods.start().send({from: accounts[0], gas:100000})\n",
    "    await car.methods.speedUpBy10().send({from: accounts[0], gas:100000})\n",
    "    car.methods.getSpeed().call().then(function(speed) { console.log(\"-> speed: \" + speed) });\n",
    "    await car.methods.start().send({from: accounts[0], gas:100000})\n",
    "    await car.methods.speedUpBy10().send({from: accounts[0], gas:100000})\n",
    "    car.methods.getSpeed().call().then(function(speed) { console.log(\"-> speed: \" + speed) });\n",
    "    await car.methods.speedDownBy10().send({from: accounts[0], gas:100000})\n",
    "    car.methods.getSpeed().call().then(function(speed) { console.log(\"-> speed: \" + speed) });\n",
    "    const balanceAfter = await web3.eth.getBalance(accounts[0]);\n",
    "    console.log(\"Balance after: \" + balanceAfter);\n",
    "    console.log(\"Balance diff: \" + (balanceBefore - balanceAfter));\n",
    "    process.exit(1); //force exit -> may terminate some functions (speedDownBy10, getSpeed)\n",
    "}\n",
    "\n",
    "doIt()"
   ]
  },
  {
   "cell_type": "code",
   "execution_count": 36,
   "id": "aaa1d039",
   "metadata": {},
   "outputs": [
    {
     "name": "stdout",
     "output_type": "stream",
     "text": [
      "Account: 0x27cDD04B660Aa736c6e8ad2527467320A38B14Ff\n",
      "Balance before: 999995621524000000000\n",
      "\n",
      ">>> Event fired: {\"0\":\"0x27cDD04B660Aa736c6e8ad2527467320A38B14Ff\",\"1\":\"on\",\"sender\":\"0x27cDD04B660Aa736c6e8ad2527467320A38B14Ff\",\"msg\":\"on\"}\n",
      "-> speed: 10\n",
      ">>> Event fired: {\"0\":\"0x27cDD04B660Aa736c6e8ad2527467320A38B14Ff\",\"1\":\"on\",\"sender\":\"0x27cDD04B660Aa736c6e8ad2527467320A38B14Ff\",\"msg\":\"on\"}\n",
      "-> speed: 20\n",
      "Balance after: 999995120166000000000\n",
      "Balance diff: 501357999947776\n"
     ]
    }
   ],
   "source": [
    "!node src/carUse.js"
   ]
  },
  {
   "cell_type": "markdown",
   "id": "31332b69",
   "metadata": {},
   "source": [
    "## 실습 문제 : 사각형과 면적의 조립 - new 명령어로 사각형 생성하고 주소 출력"
   ]
  },
  {
   "cell_type": "code",
   "execution_count": 37,
   "id": "67223a47",
   "metadata": {},
   "outputs": [
    {
     "name": "stdout",
     "output_type": "stream",
     "text": [
      "Overwriting src/SquareArea.sol\n"
     ]
    }
   ],
   "source": [
    "%%writefile src/SquareArea.sol\n",
    "//SPDX-License-Identifier: GPL-3.0-or-later\n",
    "pragma solidity ^0.8.0;\n",
    "\n",
    "contract Square {\n",
    "    uint128 length;\n",
    "    \n",
    "    function getLength() public view returns(uint128) {\n",
    "        return length;\n",
    "    }\n",
    "\n",
    "    function setLength(uint128 _length) public {\n",
    "        length = _length;\n",
    "    }\n",
    "    \n",
    "    function getDegree() public pure returns(uint128) {\n",
    "        return 90;\n",
    "    }\n",
    "}\n",
    "\n",
    "contract Area {\n",
    "    Square s;\n",
    "    address owner;\n",
    "\n",
    "    constructor() {\n",
    "        s = new Square();\n",
    "        owner = msg.sender;\n",
    "    }\n",
    "\n",
    "    function changeSquare(address _addressOfSquare) public {\n",
    "        s = Square(_addressOfSquare);\n",
    "    }\n",
    "\n",
    "    function calcArea() view public returns(uint128) {\n",
    "        uint128 length = s.getLength();\n",
    "        uint128 area = length * length;\n",
    "        return area;\n",
    "    }\n",
    "\n",
    "    function setLength(uint128 _length) public {\n",
    "        s.setLength(_length);\n",
    "    }\n",
    "\n",
    "    function getLength() public view returns(uint128) {\n",
    "        return s.getLength();\n",
    "    }\n",
    "\n",
    "    function getDegree() public view returns(uint128) {\n",
    "        return s.getDegree();\n",
    "    }\n",
    "\n",
    "    function getAddressOfSquare() public view returns(address) {\n",
    "        return address(s);\n",
    "    }\n",
    "}"
   ]
  },
  {
   "cell_type": "code",
   "execution_count": 38,
   "id": "77874e59",
   "metadata": {},
   "outputs": [],
   "source": [
    "!solc-windows.exe src/SquareArea.sol --combined-json abi,bin > src/SquareArea.json"
   ]
  },
  {
   "cell_type": "code",
   "execution_count": 39,
   "id": "1d2ed329",
   "metadata": {},
   "outputs": [
    {
     "name": "stdout",
     "output_type": "stream",
     "text": [
      "Overwriting src/SquareAreaDeploy.js\n"
     ]
    }
   ],
   "source": [
    "%%writefile src/SquareAreaDeploy.js\n",
    "var Web3 = require('web3');\n",
    "var web3 = new Web3(new Web3.providers.HttpProvider(\"http://localhost:8345\"));\n",
    "var fs=require('fs');\n",
    "var _str = fs.readFileSync(\"src/SquareArea.json\");\n",
    "var _json=JSON.parse(_str)\n",
    "var _abiArray = _json.contracts[\"src/SquareArea.sol:Area\"].abi;\n",
    "var _bin = \"0x\" + _json.contracts[\"src/SquareArea.sol:Area\"].bin;\n",
    "\n",
    "async function deploy() {\n",
    "    const accounts = await web3.eth.getAccounts();\n",
    "    console.log(\"Deploying the contract from \" + accounts[0]);\n",
    "    var deployed = await new web3.eth.Contract(_abiArray)\n",
    "        .deploy({data: _bin})\n",
    "        .send({from: accounts[0], gas: 1000000})\n",
    "        .on('transactionHash', function(hash){\n",
    "            console.log(\">>> transactionHash\"+hash);\n",
    "        })\n",
    "        .on('receipt', function(receipt){\n",
    "            console.log(\">>> RECEPIT hash: \" + receipt.transactionHash + \"\\n>>> address:\" + receipt.contractAddress);\n",
    "        })\n",
    "        .on('error', function(error, receipt) {\n",
    "            console.log(\">>> ERROR \"+error);\n",
    "        });\n",
    "    console.log(\"---> The contract deployed to: \" + deployed.options.address);\n",
    "}\n",
    "deploy();"
   ]
  },
  {
   "cell_type": "code",
   "execution_count": 40,
   "id": "835c697b",
   "metadata": {},
   "outputs": [
    {
     "name": "stdout",
     "output_type": "stream",
     "text": [
      "Deploying the contract from 0x27cDD04B660Aa736c6e8ad2527467320A38B14Ff\n",
      ">>> transactionHash0x79d154ad8f63e8f2d62f6ad9bad8e41e3d0c272db2ea9e78803d296e6f79f6b5\n",
      ">>> RECEPIT hash: 0x79d154ad8f63e8f2d62f6ad9bad8e41e3d0c272db2ea9e78803d296e6f79f6b5\n",
      ">>> address:0x214F90FdfAC254BC5e89b840aF0bA22B9fAeB266\n",
      "---> The contract deployed to: 0x214F90FdfAC254BC5e89b840aF0bA22B9fAeB266\n"
     ]
    }
   ],
   "source": [
    "!node src/SquareAreaDeploy.js"
   ]
  },
  {
   "cell_type": "code",
   "execution_count": 45,
   "id": "04684663",
   "metadata": {},
   "outputs": [
    {
     "name": "stdout",
     "output_type": "stream",
     "text": [
      "Overwriting src/SquareAreaUse.js\n"
     ]
    }
   ],
   "source": [
    "%%writefile src/SquareAreaUse.js\n",
    "var Web3 = require('web3');\n",
    "var web3 = new Web3(new Web3.providers.WebsocketProvider(\"ws://localhost:8345\"));\n",
    "var fs=require('fs');\n",
    "var _str = fs.readFileSync(\"src/SquareArea.json\");\n",
    "var _json = JSON.parse(_str)\n",
    "var _abiArray = _json.contracts[\"src/SquareArea.sol:Area\"].abi;\n",
    "\n",
    "async function doIt() {\n",
    "    var area = new web3.eth.Contract(_abiArray, \"0x214F90FdfAC254BC5e89b840aF0bA22B9fAeB266\");\n",
    "    var speed;\n",
    "    const accounts = await web3.eth.getAccounts();\n",
    "    console.log(\"Account : \" + accounts[0]);\n",
    "    const balanceBefore = await web3.eth.getBalance(accounts[0]);\n",
    "    console.log(\"Balance before : \" + balanceBefore);\n",
    "    area.methods.getDegree().call().then(console.log);\n",
    "    await area.methods.setLength(9).send({from: accounts[0]});\n",
    "    area.methods.getLength().call().then(console.log);\n",
    "    area.methods.calcArea().call().then(console.log);\n",
    "    area.methods.getAddressOfSquare().call().then(function(address) {\n",
    "        console.log(\"Square Address : \" + address);\n",
    "    });\n",
    "    const balanceAfter = await web3.eth.getBalance(accounts[0]);\n",
    "    console.log(\"Balance after : \" + balanceAfter);\n",
    "    console.log(\"Balance diff : \" + (balanceBefore - balanceAfter));\n",
    "}\n",
    "\n",
    "doIt();"
   ]
  },
  {
   "cell_type": "code",
   "execution_count": 46,
   "id": "f7c9d563",
   "metadata": {},
   "outputs": [
    {
     "name": "stdout",
     "output_type": "stream",
     "text": [
      "^C\n"
     ]
    }
   ],
   "source": [
    "!node src/SquareAreaUse.js"
   ]
  },
  {
   "cell_type": "markdown",
   "id": "93de688b",
   "metadata": {},
   "source": [
    "## 실습 문제 : 사각형과 면적의 조립 - import문으로 사각형 포함, 이미 배포된 사각형 컨트랙으로 교체해보기"
   ]
  },
  {
   "cell_type": "code",
   "execution_count": 47,
   "id": "57c7f6ec",
   "metadata": {},
   "outputs": [
    {
     "name": "stdout",
     "output_type": "stream",
     "text": [
      "Overwriting src/Square.sol\n"
     ]
    }
   ],
   "source": [
    "%%writefile src/Square.sol\n",
    "//SPDX-License-Identifier: GPL-3.0-or-later\n",
    "pragma solidity ^0.8.0;\n",
    "\n",
    "contract Square {\n",
    "    uint128 length;\n",
    "\n",
    "    function getLength() public view returns(uint128) {\n",
    "        return length;\n",
    "    }\n",
    "\n",
    "    function setLength(uint128 _length) public {\n",
    "        length = _length;\n",
    "    }\n",
    "\n",
    "    function getDegree() public pure returns(uint128) {\n",
    "        return 90;\n",
    "    }\n",
    "}"
   ]
  },
  {
   "cell_type": "code",
   "execution_count": 48,
   "id": "efdca6fd",
   "metadata": {},
   "outputs": [
    {
     "name": "stdout",
     "output_type": "stream",
     "text": [
      "Overwriting src/Area.sol\n"
     ]
    }
   ],
   "source": [
    "%%writefile src/Area.sol\n",
    "//SPDX-License-Identifier: GPL-3.0-or-later\n",
    "pragma solidity ^0.8.0;\n",
    "import \"./Square.sol\";\n",
    "\n",
    "contract Area {\n",
    "    Square s;\n",
    "    address owner;\n",
    "\n",
    "    constructor() {\n",
    "        s = new Square();\n",
    "        owner = msg.sender;\n",
    "    }\n",
    "\n",
    "    function changeSquare(address _addressOfSquare) public {\n",
    "        s = Square(_addressOfSquare);\n",
    "    }\n",
    "\n",
    "    function calcArea() view public returns(uint128) {\n",
    "        uint128 length = s.getLength();\n",
    "        uint128 area = length * length;\n",
    "        return area;\n",
    "    }\n",
    "\n",
    "    function setLength(uint128 _length) public {\n",
    "        s.setLength(_length);\n",
    "    }\n",
    "\n",
    "    function getLength() public view returns(uint128) {\n",
    "        return s.getLength();\n",
    "    }\n",
    "\n",
    "    function getDegree() public view returns(uint128) {\n",
    "        return s.getDegree();\n",
    "    }\n",
    "\n",
    "    function getAddressOfSquare() public view returns(address) {\n",
    "        return address(s);\n",
    "    }\n",
    "}\n"
   ]
  },
  {
   "cell_type": "code",
   "execution_count": 49,
   "id": "b63b4885",
   "metadata": {},
   "outputs": [],
   "source": [
    "!solc-windows.exe src/Area.sol --combined-json abi,bin > src/Area.json"
   ]
  },
  {
   "cell_type": "code",
   "execution_count": 53,
   "id": "edcde98f",
   "metadata": {},
   "outputs": [
    {
     "name": "stdout",
     "output_type": "stream",
     "text": [
      "Overwriting src/AreaDeploy.js\n"
     ]
    }
   ],
   "source": [
    "%%writefile src/AreaDeploy.js\n",
    "var Web3 = require('web3');\n",
    "var web3 = new Web3(new Web3.providers.HttpProvider(\"http://localhost:8345\"));\n",
    "var fs = require('fs');\n",
    "var _str = fs.readFileSync(\"src/Area.json\");\n",
    "var _json = JSON.parse(_str)\n",
    "var _abiArray = _json.contracts[\"src/Area.sol:Area\"].abi;\n",
    "var _bin = \"0x\" + _json.contracts[\"src/Area.sol:Area\"].bin;\n",
    "\n",
    "async function deploy() {\n",
    "    const accounts = await web3.eth.getAccounts();\n",
    "    console.log(\"Deploying the contract from : \" + accounts[0]);\n",
    "    var deployed = await new web3.eth.Contract(_abiArray)\n",
    "        .deploy({data: _bin})\n",
    "        .send({from: accounts[0], gas: 1000000}, function(err, transactionHash) {\n",
    "            if(!err) console.log(\"hash: \" + transactionHash);\n",
    "        });\n",
    "    console.log(\"---> The contract deployed to : \" + deployed.options.address);\n",
    "}\n",
    "\n",
    "deploy();"
   ]
  },
  {
   "cell_type": "code",
   "execution_count": 54,
   "id": "bdfe1d8f",
   "metadata": {},
   "outputs": [
    {
     "name": "stdout",
     "output_type": "stream",
     "text": [
      "Deploying the contract from : 0x27cDD04B660Aa736c6e8ad2527467320A38B14Ff\n",
      "hash: 0xde47df424749fc12d075215622c28689452069fad33466c9aa9d454177fabbf9\n",
      "---> The contract deployed to : 0x24B3E9A7C8acC6aA3133e8BaC8F49B8bd0489186\n"
     ]
    }
   ],
   "source": [
    "!node src/AreaDeploy.js"
   ]
  },
  {
   "cell_type": "code",
   "execution_count": 57,
   "id": "f93115d1",
   "metadata": {},
   "outputs": [
    {
     "name": "stdout",
     "output_type": "stream",
     "text": [
      "Overwriting src/AreaUse.js\n"
     ]
    }
   ],
   "source": [
    "%%writefile src/AreaUse.js\n",
    "var Web3=require('web3');\n",
    "var web3=new Web3(new Web3.providers.HttpProvider(\"http://localhost:8345\"));      \n",
    "var fs=require('fs');\n",
    "var _str = fs.readFileSync(\"src/Area.json\");\n",
    "var _json = JSON.parse(_str)\n",
    "var _abiArray = _json.contracts[\"src/Area.sol:Area\"].abi;\n",
    "\n",
    "async function doIt() {\n",
    "    var hello = new web3.eth.Contract(_abiArray, \"0x24B3E9A7C8acC6aA3133e8BaC8F49B8bd0489186\");\n",
    "    const accounts = await web3.eth.getAccounts();\n",
    "    console.log(\"Account : \" + accounts[0]);\n",
    "    const balanceBefore = await web3.eth.getBalance(accounts[0]);\n",
    "    console.log(\"Balance before : \" + balanceBefore);\n",
    "    hello.methods.getAddressOfSquare().call(function(err, c1addr) {\n",
    "        if(!err) console.log(\">>> Square address by 'new' : \" + c1addr);\n",
    "    });\n",
    "    await hello.methods.setLength(10).send({from: accounts[0]});\n",
    "    hello.methods.getLength().call().then(console.log);\n",
    "    hello.methods.calcArea().call().then(console.log);\n",
    "    hello.methods.getDegree().call().then(console.log);\n",
    "    hello.methods.getAddressOfSquare().call().then(console.log);\n",
    "    \n",
    "    await hello.methods.changeSquare('0x214F90FdfAC254BC5e89b840aF0bA22B9fAeB266')\n",
    "        .send({from: accounts[0]});\n",
    "    hello.methods.getAddressOfSquare().call(function(err, c1addr) {\n",
    "        if(!err) console.log(\">>> Square address by 'changeSquare'\" + c1addr);\n",
    "    });\n",
    "    \n",
    "    await hello.methods.setLength(10).send({from: accounts[0]});\n",
    "    hello.methods.getLength().call().then(console.log);\n",
    "    hello.methods.calcArea().call().then(console.log);\n",
    "    hello.methods.getDegree().call().then(console.log);\n",
    "    hello.methods.getAddressOfSquare().call().then(console.log);\n",
    "    const balanceAfter = await web3.eth.getBalance(accounts[0]);\n",
    "    console.log(\"Balance after : \" + balanceAfter);\n",
    "    console.log(\"Balance diff : \" + (balanceBefore - balanceAfter));\n",
    "    \n",
    "}\n",
    "\n",
    "doIt();"
   ]
  },
  {
   "cell_type": "code",
   "execution_count": 58,
   "id": "a6b9fc25",
   "metadata": {},
   "outputs": [
    {
     "name": "stdout",
     "output_type": "stream",
     "text": [
      "Account : 0x27cDD04B660Aa736c6e8ad2527467320A38B14Ff\n",
      "Balance before : 999992401028000000000\n",
      ">>> Square address by 'new' : 0x214F90FdfAC254BC5e89b840aF0bA22B9fAeB266\n",
      "0x214F90FdfAC254BC5e89b840aF0bA22B9fAeB266\n",
      "90\n",
      "10\n",
      "100\n",
      ">>> Square address by 'changeSquare'0x214F90FdfAC254BC5e89b840aF0bA22B9fAeB266\n",
      "Balance after : 999992212476000000000\n",
      "Balance diff : 188552000045056\n",
      "0x214F90FdfAC254BC5e89b840aF0bA22B9fAeB266\n",
      "90\n",
      "10\n",
      "100\n"
     ]
    }
   ],
   "source": [
    "!node src/AreaUse.js"
   ]
  },
  {
   "cell_type": "markdown",
   "id": "7507c810",
   "metadata": {},
   "source": [
    "## 12.2.1 상속 is-a 관계\n",
    "## 실습문제 : 점과 사각형의 상속"
   ]
  },
  {
   "cell_type": "code",
   "execution_count": 59,
   "id": "1a0def13",
   "metadata": {},
   "outputs": [
    {
     "name": "stdout",
     "output_type": "stream",
     "text": [
      "Writing src/Point.sol\n"
     ]
    }
   ],
   "source": [
    "%%writefile src/Point.sol\n",
    "//SPDX-License-Identifier: GPL-3.0-or-later\n",
    "pragma solidity ^0.8.0;\n",
    "\n",
    "contract Point {\n",
    "    int x;\n",
    "    int y;\n",
    "\n",
    "    constructor(int _x, int _y) {\n",
    "        x = _x;\n",
    "        y = _y;\n",
    "    }\n",
    "\n",
    "    function getX() view public returns(int) {\n",
    "        return x;\n",
    "    }\n",
    "\n",
    "    function getY() view public returns(int) {\n",
    "        return y;\n",
    "    }\n",
    "}"
   ]
  },
  {
   "cell_type": "code",
   "execution_count": 60,
   "id": "9cca157f",
   "metadata": {},
   "outputs": [
    {
     "name": "stdout",
     "output_type": "stream",
     "text": [
      "Writing src/Rectangle.sol\n"
     ]
    }
   ],
   "source": [
    "%%writefile src/Rectangle.sol\n",
    "//SPDX-License-Identifier: GPL-3.0-or-later\n",
    "pragma solidity ^0.8.0;\n",
    "import \"./Point.sol\";\n",
    "\n",
    "contract Rectangle is Point {\n",
    "    int w;\n",
    "    int h;\n",
    "\n",
    "    constructor(int _w, int _h, int _x, int _y) Point(_x, _y) {\n",
    "        w = _w;\n",
    "        h = _h;\n",
    "    }\n",
    "\n",
    "    function getPerimeter() view public returns(int) {\n",
    "        return 2 * (w + h);\n",
    "    }\n",
    "\n",
    "    function getXOpposite() view public returns(int) {\n",
    "        return getX() + w;\n",
    "    }\n",
    "\n",
    "    function getYOpposite() view public returns(int) {\n",
    "        return getY() + h;\n",
    "    }\n",
    "}"
   ]
  },
  {
   "cell_type": "code",
   "execution_count": 61,
   "id": "5dd76298",
   "metadata": {},
   "outputs": [],
   "source": [
    "!solc-windows.exe src/Rectangle.sol --combined-json abi,bin > src/Rectangle.json"
   ]
  },
  {
   "cell_type": "code",
   "execution_count": 62,
   "id": "85269729",
   "metadata": {},
   "outputs": [
    {
     "name": "stdout",
     "output_type": "stream",
     "text": [
      "Writing src/RectangleDeploy.js\n"
     ]
    }
   ],
   "source": [
    "%%writefile src/RectangleDeploy.js\n",
    "var Web3 = require('web3');\n",
    "var web3 = new Web3(new Web3.providers.HttpProvider(\"http://localhost:8345\"));\n",
    "var fs = require('fs');\n",
    "var _str = fs.readFileSync(\"src/Rectangle.json\");\n",
    "var _json = JSON.parse(_str)\n",
    "var _abiArray = _json.contracts[\"src/Rectangle.sol:Rectangle\"].abi;\n",
    "var _bin = \"0x\" + _json.contracts[\"src/Rectangle.sol:Rectangle\"].bin;\n",
    "\n",
    "async function deploy() {\n",
    "    const accounts = await web3.eth.getAccounts();\n",
    "    console.log(\"Deploying the contract from : \" + accounts[0]);\n",
    "    var deployed = await new web3.eth.Contract(_abiArray)\n",
    "        .deploy({data: _bin, arguments: [10, 20, 30, 40]})\n",
    "        .send({from: accounts[0], gas: 1000000}, function(err, transactionHash) {\n",
    "            if(!err) console.log(\"hash : \" + transactionHash);\n",
    "        });\n",
    "    console.log(\"---> The contract deployed to : \" + deployed.options.address);\n",
    "}\n",
    "\n",
    "deploy();"
   ]
  },
  {
   "cell_type": "code",
   "execution_count": 63,
   "id": "3d1682b7",
   "metadata": {},
   "outputs": [
    {
     "name": "stdout",
     "output_type": "stream",
     "text": [
      "Deploying the contract from : 0x27cDD04B660Aa736c6e8ad2527467320A38B14Ff\n",
      "hash : 0x3680d22f608d50200811fe634ec4de290f4820027a39379169ecb5522900ca25\n",
      "---> The contract deployed to : 0x5F7C416BE008B91950a1417628Ba668db825B955\n"
     ]
    }
   ],
   "source": [
    "!node src/RectangleDeploy.js"
   ]
  },
  {
   "cell_type": "code",
   "execution_count": 64,
   "id": "a1ba4514",
   "metadata": {},
   "outputs": [
    {
     "name": "stdout",
     "output_type": "stream",
     "text": [
      "Writing src/RectangleUse.js\n"
     ]
    }
   ],
   "source": [
    "%%writefile src/RectangleUse.js\n",
    "var Web3=require('web3');\n",
    "var web3=new Web3(new Web3.providers.HttpProvider(\"http://localhost:8345\"));     \n",
    "var fs = require('fs');\n",
    "var _str = fs.readFileSync(\"src/Rectangle.json\");\n",
    "var _json = JSON.parse(_str)\n",
    "var _abiArray = _json.contracts[\"src/Rectangle.sol:Rectangle\"].abi;\n",
    "\n",
    "async function doIt() {\n",
    "    var rect = new web3.eth.Contract(_abiArray, \"0x5F7C416BE008B91950a1417628Ba668db825B955\");\n",
    "    const accounts = await web3.eth.getAccounts();\n",
    "    console.log(\"(1) Account : \" + accounts[0]);\n",
    "    const balanceBefore = await web3.eth.getBalance(accounts[0]);\n",
    "    console.log(\"(2) Balance before : \" + balanceBefore);\n",
    "    rect.methods.getPerimeter().call().then(function(res) {\n",
    "        console.log(\"(3) Perimeter: \"+res)\n",
    "    });\n",
    "    rect.methods.getXOpposite().call().then(function(res) {\n",
    "        console.log(\"(4) X opp: \"+res)\n",
    "    });\n",
    "    rect.methods.getYOpposite().call().then(function(res) {\n",
    "        console.log(\"(5) Y opp: \"+res)\n",
    "    });\n",
    "    const balanceAfter = await web3.eth.getBalance(accounts[0]);\n",
    "    console.log(\"(6) Balance after : \" + balanceAfter);\n",
    "    console.log(\"(7) Balance diff : \" + (balanceBefore - balanceAfter));\n",
    "}\n",
    "  \n",
    "doIt();"
   ]
  },
  {
   "cell_type": "code",
   "execution_count": 65,
   "id": "59409dd3",
   "metadata": {},
   "outputs": [
    {
     "name": "stdout",
     "output_type": "stream",
     "text": [
      "(1) Account : 0x27cDD04B660Aa736c6e8ad2527467320A38B14Ff\n",
      "(2) Balance before : 999991520082000000000\n",
      "(6) Balance after : 999991520082000000000\n",
      "(7) Balance diff : 0\n",
      "(3) Perimeter: 60\n",
      "(4) X opp: 40\n",
      "(5) Y opp: 60\n"
     ]
    }
   ],
   "source": [
    "!node src/RectangleUse.js"
   ]
  },
  {
   "cell_type": "markdown",
   "id": "1b7ab58d",
   "metadata": {},
   "source": [
    "## 실습 문제 : greeter.sol"
   ]
  },
  {
   "cell_type": "code",
   "execution_count": 66,
   "id": "43ea1081",
   "metadata": {},
   "outputs": [
    {
     "name": "stdout",
     "output_type": "stream",
     "text": [
      "Overwriting src/greeter.sol\n"
     ]
    }
   ],
   "source": [
    "%%writefile src/greeter.sol\n",
    "//SPDX-License-Identifier: GPL-3.0-or-later\n",
    "pragma solidity ^0.8.0;\n",
    "\n",
    "contract mortal {\n",
    "    address owner;\n",
    "\n",
    "    constructor() {\n",
    "        owner = msg.sender;\n",
    "    }\n",
    "\n",
    "    function kill() public {\n",
    "        if(msg.sender == owner) {\n",
    "            selfdestruct(payable(owner));\n",
    "        }\n",
    "    }\n",
    "}\n",
    "\n",
    "contract greeter is mortal {\n",
    "    string greeting;\n",
    "\n",
    "    constructor(string memory _greeting) {\n",
    "        greeting = _greeting;\n",
    "    }\n",
    "\n",
    "    function greet() public view returns(string memory) {\n",
    "        return greeting;\n",
    "    }\n",
    "\n",
    "    function getOwner() view public returns(address) {\n",
    "        return owner;\n",
    "    }\n",
    "\n",
    "}"
   ]
  },
  {
   "cell_type": "code",
   "execution_count": 67,
   "id": "409b3dc7",
   "metadata": {},
   "outputs": [],
   "source": [
    "!solc-windows.exe src/greeter.sol --combined-json abi,bin > src/greeter.json"
   ]
  },
  {
   "cell_type": "code",
   "execution_count": 70,
   "id": "a638547a",
   "metadata": {},
   "outputs": [
    {
     "name": "stdout",
     "output_type": "stream",
     "text": [
      "Overwriting src/greeterDeploy.js\n"
     ]
    }
   ],
   "source": [
    "%%writefile src/greeterDeploy.js\n",
    "var Web3 = require('web3');\n",
    "var _abiBinJson = require('./greeter.json');\n",
    "var web3 = new Web3(new Web3.providers.HttpProvider(\"http://localhost:8345\"));\n",
    "\n",
    "contractName=Object.keys(_abiBinJson.contracts); \n",
    "console.log(\"- contract name: \", contractName);\n",
    "_abiArray=_abiBinJson.contracts[contractName[0]].abi;\n",
    "_bin=\"0x\"+_abiBinJson.contracts[contractName[0]].bin;\n",
    "\n",
    "var _contract = new web3.eth.Contract(_abiArray);\n",
    "\n",
    "async function deploy() {\n",
    "    const accounts = await web3.eth.getAccounts();\n",
    "    console.log(\"Deploying the contract from : \" + accounts[0]);\n",
    "    var deployed = await new web3.eth.Contract(_abiArray)\n",
    "        .deploy({data: _bin, arguments: ['Hello jsl']})\n",
    "        .send({from : accounts[0], gas: 400000}, function(err, transactionHash) {\n",
    "            if(!err) console.log(\"hash : \" + transactionHash);\n",
    "        });\n",
    "    console.log(\"---> The contract deployed to : \" + deployed.options.address);\n",
    "}\n",
    "\n",
    "deploy();"
   ]
  },
  {
   "cell_type": "code",
   "execution_count": 71,
   "id": "e3be1fce",
   "metadata": {},
   "outputs": [
    {
     "name": "stdout",
     "output_type": "stream",
     "text": [
      "- contract name:  [ 'src/greeter.sol:greeter', 'src/greeter.sol:mortal' ]\n",
      "Deploying the contract from : 0x27cDD04B660Aa736c6e8ad2527467320A38B14Ff\n",
      "hash : 0x2c3acfad7a742d418da7d915e521ed57ca71e57c2781f36f1f5ca99562ef3ab2\n",
      "---> The contract deployed to : 0x28dcFE1e8CFD47B9775B90AbA75E302602d0dc67\n"
     ]
    }
   ],
   "source": [
    "!node src/greeterDeploy.js"
   ]
  },
  {
   "cell_type": "code",
   "execution_count": 73,
   "id": "d0854816",
   "metadata": {},
   "outputs": [
    {
     "name": "stdout",
     "output_type": "stream",
     "text": [
      "Overwriting src/greeterUse.js\n"
     ]
    }
   ],
   "source": [
    "%%writefile src/greeterUse.js\n",
    "var Web3 = require('web3');\n",
    "var _abiBinJson = require('./greeter.json');      //importing a javascript file\n",
    "var web3 = new Web3(new Web3.providers.HttpProvider(\"http://localhost:8345\"));\n",
    "\n",
    "contractName=Object.keys(_abiBinJson.contracts); \n",
    "console.log(\"- contract name: \", contractName);\n",
    "console.log(contractName[0], contractName[1]); // index 0 -> ['src/greeter.sol:greeter']\n",
    "_abiArray=_abiBinJson.contracts[contractName[0]].abi;\n",
    "//_abiArray=JSON.parse(JSON.stringify(_abi));\n",
    "//_abiArray=JSON.parse(_abi);      //JSON parsing needed!! //SyntaxError: Unexpected token o in JSON at position 1\n",
    "var greet = new web3.eth.Contract(_abiArray, '0x28dcFE1e8CFD47B9775B90AbA75E302602d0dc67');\n",
    "\n",
    "async function doIt() {\n",
    "    greet.methods.greet().call().then(function(res) {\n",
    "        console.log(\"greet : \" + res);\n",
    "    });\n",
    "    greet.methods.getOwner().call().then(function(res) {\n",
    "        console.log(\"owner : \" + res);\n",
    "    });\n",
    "}\n",
    "\n",
    "doIt();"
   ]
  },
  {
   "cell_type": "code",
   "execution_count": 74,
   "id": "2c507966",
   "metadata": {},
   "outputs": [
    {
     "name": "stdout",
     "output_type": "stream",
     "text": [
      "- contract name:  [ 'src/greeter.sol:greeter', 'src/greeter.sol:mortal' ]\n",
      "src/greeter.sol:greeter src/greeter.sol:mortal\n",
      "owner : 0x27cDD04B660Aa736c6e8ad2527467320A38B14Ff\n",
      "greet : Hello jsl\n"
     ]
    }
   ],
   "source": [
    "!node src/greeterUse.js"
   ]
  },
  {
   "cell_type": "markdown",
   "id": "aa518b24",
   "metadata": {},
   "source": [
    "## 13.1.5 디파이 개발"
   ]
  },
  {
   "cell_type": "code",
   "execution_count": 1,
   "id": "b0224592",
   "metadata": {},
   "outputs": [
    {
     "name": "stdout",
     "output_type": "stream",
     "text": [
      "Overwriting src/MyToken.sol\n"
     ]
    }
   ],
   "source": [
    "%%writefile src/MyToken.sol\n",
    "// SPDX-License-Identifier: MIT\n",
    "pragma solidity ^0.8.0;\n",
    "\n",
    "import \"../node_modules/@openzeppelin/contracts/token/ERC20/ERC20.sol\";\n",
    "//import \"@openzeppelin/contracts/token/ERC20/ERC20.sol\";\n",
    "\n",
    "contract MyToken is ERC20 {\n",
    "    constructor() ERC20(\"MyToken\", \"JSL\"){\n",
    "        _mint(msg.sender, 1000000000000000000000000);\n",
    "        //_mint(msg.sender, 1000000*decimals());\n",
    "    }\n",
    "}"
   ]
  },
  {
   "cell_type": "code",
   "execution_count": 2,
   "id": "544e55a1",
   "metadata": {},
   "outputs": [],
   "source": [
    "!solc-windows.exe @openzeppelin/=\"C:\\\\Users\\\\youve\\\\Code\\\\201810820\\\\node_modules\\\\@openzeppelin\\\\\" --optimize --combined-json abi,bin src/MyToken.sol > src/MyToken.json"
   ]
  },
  {
   "cell_type": "code",
   "execution_count": 3,
   "id": "4423d495",
   "metadata": {},
   "outputs": [
    {
     "name": "stdout",
     "output_type": "stream",
     "text": [
      "Writing src/MyTokenDeployPractice.js\n"
     ]
    }
   ],
   "source": [
    "%%writefile src/MyTokenDeployPractice.js\n",
    "var Web3=require('web3');\n",
    "var _abiBinJson = require('./MyToken.json');\n",
    "\n",
    "var web3;\n",
    "if (typeof web3 !== 'undefined') {\n",
    "    web3 = new Web3(web3.currentProvider);\n",
    "} else {\n",
    "    web3 = new Web3(new Web3.providers.HttpProvider(\"http://localhost:8345\"));\n",
    "}\n",
    "\n",
    "contractName=Object.keys(_abiBinJson.contracts);\n",
    "console.log(\"- contract name: \", contractName[4]); //or console.log(contractName);\n",
    "_abiArray=JSON.parse(JSON.stringify(_abiBinJson.contracts[contractName[4]].abi));    //JSON parsing needed!!\n",
    "_bin=\"0x\"+_abiBinJson.contracts[contractName[4]].bin;\n",
    "\n",
    "async function deploy() {\n",
    "    const accounts = await web3.eth.getAccounts();\n",
    "    console.log(\"Deploying the contract from \" + accounts[0]);\n",
    "    var deployed = await new web3.eth.Contract(_abiArray)\n",
    "        .deploy({data: _bin})\n",
    "        .send({from : accounts[0], gas: 1000000}, function(err, transactionHash) {\n",
    "            if(!err) console.log(\"hash : \" + transactionHash);\n",
    "        });\n",
    "    console.log(\"---> The contract deployed to : \" + deployed.options.address);\n",
    "}\n",
    "\n",
    "deploy();"
   ]
  },
  {
   "cell_type": "code",
   "execution_count": 4,
   "id": "81853051",
   "metadata": {},
   "outputs": [
    {
     "name": "stdout",
     "output_type": "stream",
     "text": [
      "- contract name:  src/MyToken.sol:MyToken\n",
      "Deploying the contract from 0x41fE5792b2FC66e84BE3e732d38b5dcDfD7834b5\n",
      "hash : 0x6c63b2f1c4f8ea68b2e5b04c311e795ecdffe602f90b97d26461fdb655a9ac7c\n",
      "---> The contract deployed to : 0x0509faC64FA04A847c06113a8Ed743048f4Ec78E\n"
     ]
    }
   ],
   "source": [
    "!node src/MyTokenDeployPractice.js"
   ]
  },
  {
   "cell_type": "code",
   "execution_count": 5,
   "id": "a58a798c",
   "metadata": {},
   "outputs": [
    {
     "name": "stdout",
     "output_type": "stream",
     "text": [
      "Writing src/MyTokenUsePractice.js\n"
     ]
    }
   ],
   "source": [
    "%%writefile src/MyTokenUsePractice.js\n",
    "var Web3=require('web3');\n",
    "var _abiBinJson = require('./MyToken.json');\n",
    "\n",
    "var web3 = new Web3(new Web3.providers.HttpProvider(\"http://localhost:8345\"));\n",
    "\n",
    "contractName=Object.keys(_abiBinJson.contracts); \n",
    "console.log(\"- contract name: \", contractName[4]);\n",
    "var _abiArray=JSON.parse(JSON.stringify(_abiBinJson.contracts[contractName[4]].abi));\n",
    "var _test = new web3.eth.Contract(_abiArray, '0x0509faC64FA04A847c06113a8Ed743048f4Ec78E');\n",
    "\n",
    "async function doIt() {\n",
    "    const accounts = await web3.eth.getAccounts();\n",
    "    console.log(\"Account : \" + accounts[0]);\n",
    "    const balanceBefore = await web3.eth.getBalance(accounts[0]);\n",
    "    console.log(\"Balance before : \" + balanceBefore);\n",
    "    \n",
    "    const name = await _test.methods.name().call();\n",
    "    console.log(\"name : \" + name);\n",
    "    const decimals = await _test.methods.decimals().call();\n",
    "    console.log(\"decimals : \" + decimals);\n",
    "    const values = await _test.methods.totalSupply().call();\n",
    "    console.log(\"totalsupply : \" + values);\n",
    "    \n",
    "    console.log(\"-----1 before transfer-----\");\n",
    "    console.log(\"1-1 balanceOfAccount0: \" + await _test.methods.balanceOf(accounts[0]).call());\n",
    "    console.log(\"1-2 balanceOfAccount1: \" + await _test.methods.balanceOf(accounts[1]).call());\n",
    "    await _test.methods.transfer(accounts[1], 1)\n",
    "        .send({from: accounts[0], gas: 364124, gasPrice: '1000000000'})\n",
    "    console.log(\"-----2 after transfer-----\");\n",
    "    console.log(\"2-1 balanceOfAccount0: \" + await _test.methods.balanceOf(accounts[0]).call());\n",
    "    console.log(\"2-2 balanceOfAccount1: \" + await _test.methods.balanceOf(accounts[1]).call());\n",
    "    console.log(\"-----3 after approve and transferFrom-----\");    \n",
    "    var addrTo = accounts[0];\n",
    "    console.log(\"3-1 allowanceOfAddrTo: \"+ await _test.methods.allowance(accounts[0], addrTo).call());\n",
    "    await _test.methods.approve(addrTo, 111)\n",
    "        .send({from: accounts[0], gas: 100000});\n",
    "    console.log(\"3-2 allowanceOfAddrTo 111: \"+ await _test.methods.allowance(accounts[0], addrTo).call());\n",
    "    await _test.methods.transferFrom(addrTo, accounts[1], 1)\n",
    "        .send({from: accounts[0], gas: 3641240, gasPrice: '1000000000'})\n",
    "    console.log(\"3-3 balanceOfAccount0: \" + await _test.methods.balanceOf(accounts[0]).call());\n",
    "    console.log(\"3-4 balanceOfAccount1: \" + await _test.methods.balanceOf(accounts[1]).call());\n",
    "    //const value = await _test.methods.myFunction()\n",
    "    //    .send({from: accounts[0], gas: 364124, gasPrice: '1000000000'})\n",
    "        //.then(function(value) {console.log(\"---> myFunction called \" + JSON.stringify(value.events.MyLog.returnValues));});\n",
    "    //console.log(\"---> myFunction called \" + JSON.stringify(value.events.MyLog.returnValues));\n",
    "    const balanceAfter = await web3.eth.getBalance(accounts[0]);\n",
    "    console.log(\"Balance after: \" + balanceAfter);\n",
    "    console.log(\"Balance diff: \" + (balanceBefore - balanceAfter));\n",
    "}\n",
    "\n",
    "doIt();"
   ]
  },
  {
   "cell_type": "code",
   "execution_count": 6,
   "id": "c9673afe",
   "metadata": {},
   "outputs": [
    {
     "name": "stdout",
     "output_type": "stream",
     "text": [
      "- contract name:  src/MyToken.sol:MyToken\n",
      "Account : 0x41fE5792b2FC66e84BE3e732d38b5dcDfD7834b5\n",
      "Balance before : 999998668648000000000\n",
      "name : MyToken\n",
      "decimals : 18\n",
      "totalsupply : 1000000000000000000000000\n",
      "-----1 before transfer-----\n",
      "1-1 balanceOfAccount0: 1000000000000000000000000\n",
      "1-2 balanceOfAccount1: 0\n",
      "-----2 after transfer-----\n",
      "2-1 balanceOfAccount0: 999999999999999999999999\n",
      "2-2 balanceOfAccount1: 1\n",
      "-----3 after approve and transferFrom-----\n",
      "3-1 allowanceOfAddrTo: 0\n",
      "3-2 allowanceOfAddrTo 111: 111\n",
      "3-3 balanceOfAccount0: 999999999999999999999998\n",
      "3-4 balanceOfAccount1: 2\n",
      "Balance after: 999998481929000000000\n",
      "Balance diff: 186718999937024\n"
     ]
    }
   ],
   "source": [
    "!node src/MyTokenUsePractice.js"
   ]
  },
  {
   "cell_type": "code",
   "execution_count": null,
   "id": "db943822",
   "metadata": {},
   "outputs": [],
   "source": [
    "https://ipfs.io/ipfs/QmZSMw1PARg1dDxaN2CoNbskraRXJo7trUsoUickrRgrTn"
   ]
  },
  {
   "cell_type": "markdown",
   "id": "aa112e25",
   "metadata": {},
   "source": [
    "## 13.2.6 NFT 개발"
   ]
  },
  {
   "cell_type": "code",
   "execution_count": 7,
   "id": "adadc65b",
   "metadata": {},
   "outputs": [
    {
     "name": "stdout",
     "output_type": "stream",
     "text": [
      "Writing src/MyNFT.sol\n"
     ]
    }
   ],
   "source": [
    "%%writefile src/MyNFT.sol\n",
    "// SPDX-License-Identifier: MIT\n",
    "pragma solidity ^0.8.0;\n",
    "\n",
    "import \"@openzeppelin/contracts/token/ERC721/ERC721.sol\";\n",
    "//import \"https://github.com/OpenZeppelin/openzeppelin-contracts/blob/v4.4.0/contracts/token/ERC721/ERC721.sol\";\n",
    "import \"@openzeppelin/contracts/utils/Counters.sol\";\n",
    "//import \"https://github.com/OpenZeppelin/openzeppelin-contracts/blob/v4.4.0/contracts/utils/Counters.sol\";\n",
    "\n",
    "contract MyNFT is ERC721 {\n",
    "    using Counters for Counters.Counter;\n",
    "    Counters.Counter private _tokenIds;\t//NFT id\n",
    "    \n",
    "    constructor() ERC721(\"Hello DApp Screens\", \"JSL\") {}\n",
    "    // override\n",
    "    // does not save toeknURI in the state var\n",
    "    function _baseURI() internal pure override returns (string memory) {\n",
    "        return \"https://ipfs.io/ipfs/QmZSMw1PARg1dDxaN2CoNbskraRXJo7trUsoUickrRgrTn\";\n",
    "    }\n",
    "\n",
    "    function mint(address to) public returns(uint256) {\n",
    "        //require(_tokenIds.current() < 3); //only 3 to mint\n",
    "        _tokenIds.increment(); // add 1 by minting\n",
    "        uint256 newTokenId = _tokenIds.current();\n",
    "        _mint(to, newTokenId); // or _safeMint(to, newTokenId);\n",
    "\n",
    "        return newTokenId;\n",
    "    }\n",
    "}"
   ]
  },
  {
   "cell_type": "code",
   "execution_count": 8,
   "id": "32231c4d",
   "metadata": {},
   "outputs": [],
   "source": [
    "!solc-windows.exe @openzeppelin/=\"C:\\\\Users\\\\youve\\\\Code\\\\201810820\\\\node_modules\\\\@openzeppelin\\\\\" --optimize --combined-json abi,bin src/MyNFT.sol > src/MyNFT.json"
   ]
  },
  {
   "cell_type": "code",
   "execution_count": 11,
   "id": "37de1f46",
   "metadata": {},
   "outputs": [
    {
     "name": "stdout",
     "output_type": "stream",
     "text": [
      "Writing src/MyNFTUriOwner.sol\n"
     ]
    }
   ],
   "source": [
    "%%writefile src/MyNFTUriOwner.sol\n",
    "// SPDX-License-Identifier: MIT\n",
    "pragma solidity ^0.8.0;\n",
    "\n",
    "import \"@openzeppelin/contracts/token/ERC721/extensions/ERC721URIStorage.sol\";\n",
    "//import \"https://github.com/OpenZeppelin/openzeppelin-contracts/blob/v4.4.0/contracts/token/ERC721/extensions/ERC721URIStorage.sol\";\n",
    "import \"@openzeppelin/contracts/utils/Counters.sol\";\n",
    "//import \"https://github.com/OpenZeppelin/openzeppelin-contracts/blob/v4.4.0/contracts/utils/Counters.sol\";\n",
    "import \"@openzeppelin/contracts/access/Ownable.sol\";\n",
    "//import \"https://github.com/nibbstack/erc721/blob/2.6.1/src/contracts/ownership/ownable.sol\";\n",
    "\n",
    "//Ownable added: minToPay, transferToPay\n",
    "contract MyNFTUriOwner is ERC721URIStorage, Ownable {\n",
    "    using Counters for Counters.Counter;\n",
    "    Counters.Counter private _tokenIds;\t//NFT id\n",
    "\n",
    "    mapping(uint256 => uint256) public tranPrice;\n",
    "\n",
    "    // from, to, tokenId, tokenURI, tranPrice\n",
    "    event Transfer(address from, address to, uint256 _tokenId,\n",
    "        string tokenURI, uint256 tranPrice);\n",
    "\n",
    "    constructor() ERC721(\"MyNFT\", \"JSL\") {}\n",
    "\n",
    "    function mint(address to, string memory tokenURI) public returns(uint256) {\n",
    "        _tokenIds.increment(); // add 1 by minting\n",
    "        uint256 newTokenId = _tokenIds.current();\n",
    "        _mint(to, newTokenId); // or _safeMint(to, newTokenId);\n",
    "        _setTokenURI(newTokenId, tokenURI); // need to import ERC721URIStorage\n",
    "\n",
    "        return newTokenId;\n",
    "    }\n",
    "    function mintToPay(address to, string memory tokenURI, uint256 _price)\n",
    "    public payable onlyOwner returns(uint256) {\n",
    "        uint256 newTokenId = mint(to, tokenURI);\n",
    "        require(msg.value == _price, \"Not Enough Ether\");\n",
    "        tranPrice[newTokenId] = _price;\n",
    "\n",
    "        return newTokenId;\n",
    "    }\n",
    "\n",
    "    function getOwner() view public returns(address) {\n",
    "        return owner();  //function of the Ownerable contract\n",
    "    }\n",
    "\n",
    "    // msg.value transferred to this contract!!\n",
    "    function transferToPay(address from, address to, uint256 _tokenId) public payable {\n",
    "        require(_exists(_tokenId), \"Error: TokenId not owned\");\n",
    "        require(msg.value >= tranPrice[_tokenId], \"Error: Token costs more\");\n",
    "        _transfer(from, to, _tokenId);\n",
    "        emit Transfer(from, to, _tokenId, tokenURI(_tokenId), tranPrice[_tokenId]);\n",
    "    }\n",
    "}"
   ]
  },
  {
   "cell_type": "code",
   "execution_count": 12,
   "id": "16f8c133",
   "metadata": {},
   "outputs": [],
   "source": [
    "!solc-windows.exe @openzeppelin/=\"C:\\\\Users\\\\youve\\\\Code\\\\201810820\\\\node_modules\\\\@openzeppelin\\\\\" --optimize --combined-json abi,bin src/MyNFTUriOwner.sol > src/MyNFTUriOwner.json"
   ]
  },
  {
   "cell_type": "code",
   "execution_count": 15,
   "id": "7ec6453c",
   "metadata": {},
   "outputs": [
    {
     "name": "stdout",
     "output_type": "stream",
     "text": [
      "Overwriting src/MyNFTUriOwnerDeploy.js\n"
     ]
    }
   ],
   "source": [
    "%%writefile src/MyNFTUriOwnerDeploy.js\n",
    "var Web3 = require('web3');\n",
    "var _abiBinJson = require('./MyNFTUriOwner.json');      //importing a javascript file\n",
    "\n",
    "var web3 = new Web3(new Web3.providers.HttpProvider(\"http://localhost:8345\"));\n",
    "\n",
    "contractName=Object.keys(_abiBinJson.contracts);\n",
    "//console.log(contractName);\n",
    "console.log(\"- contract name: \", contractName[12]);\n",
    "_abiArray=_abiBinJson.contracts[contractName[12]].abi;\n",
    "//_abiArray=JSON.parse(JSON.stringify(_abi));\n",
    "//_abiArray=JSON.parse(_abi);      //JSON parsing needed!! //SyntaxError: Unexpected token o in JSON at position 1\n",
    "_bin=\"0x\"+_abiBinJson.contracts[contractName[12]].bin;\n",
    "\n",
    "//console.log(\"- ABI: \" + _abiArray);\n",
    "//console.log(\"- Bytecode: \" + _bin);\n",
    "\n",
    "async function deploy() {\n",
    "    const accounts = await web3.eth.getAccounts();\n",
    "    console.log(\"Deploying the contract from \" + accounts[0]);\n",
    "    var deployed = await new web3.eth.Contract(_abiArray)\n",
    "        .deploy({data: _bin})\n",
    "        .send({from: accounts[0], gas: 1800000}, function(err, transactionHash) {\n",
    "                if(!err) console.log(\"hash: \" + transactionHash); \n",
    "        })\n",
    "        //.then(function(newContractInstance){\n",
    "        //    console.log(newContractInstance)\n",
    "        //});\n",
    "    console.log(\"---> The contract deployed to: \" + deployed.options.address)\n",
    "}\n",
    "deploy()"
   ]
  },
  {
   "cell_type": "code",
   "execution_count": 16,
   "id": "641dd8de",
   "metadata": {
    "scrolled": true
   },
   "outputs": [
    {
     "name": "stdout",
     "output_type": "stream",
     "text": [
      "- contract name:  src/MyNFTUriOwner.sol:MyNFTUriOwner\n",
      "Deploying the contract from 0x41fE5792b2FC66e84BE3e732d38b5dcDfD7834b5\n",
      "hash: 0x1daf7957b1243564eaf929552f42fcc63958edcdbdf24a50301f8cba561ccbe7\n",
      "---> The contract deployed to: 0x2f65d0f84c1A59b7812c41A14F7c478EFEfe7020\n"
     ]
    }
   ],
   "source": [
    "!node src/MyNFTUriOwnerDeploy.js"
   ]
  },
  {
   "cell_type": "code",
   "execution_count": 17,
   "id": "0669998e",
   "metadata": {},
   "outputs": [
    {
     "name": "stdout",
     "output_type": "stream",
     "text": [
      "Writing src/MyNFTUriOwnerUse.js\n"
     ]
    }
   ],
   "source": [
    "%%writefile src/MyNFTUriOwnerUse.js\n",
    "var Web3=require('web3');\n",
    "var _abiBinJson = require('./MyNFTUriOwner.json');      //importing a javascript file\n",
    "\n",
    "var web3 = new Web3(new Web3.providers.HttpProvider(\"http://localhost:8345\"));\n",
    "//var web3 = new Web3(new Web3.providers.WebsocketProvider(\"ws://localhost:8345\"));\n",
    "contractName=Object.keys(_abiBinJson.contracts);\n",
    "console.log(\"- contract name: \", contractName[12]);\n",
    "_abiArray=_abiBinJson.contracts[contractName[12]].abi;\n",
    "//_abiArray=JSON.parse(JSON.stringify(_abi));\n",
    "//_abiArray=JSON.parse(_abi);      //JSON parsing needed!! //SyntaxError: Unexpected token o in JSON at position 1\n",
    "_bin=\"0x\"+_abiBinJson.contracts[contractName[12]].bin;\n",
    "var _nft = new web3.eth.Contract(_abiArray,\"0x2f65d0f84c1A59b7812c41A14F7c478EFEfe7020\");\n",
    "var event = _nft.events.Transfer({fromBlock: 0}, function (error, result) {\n",
    "    if (!error) {\n",
    "        console.log(\"Event fired: \" + JSON.stringify(result.returnValues));\n",
    "    }\n",
    "});\n",
    "\n",
    "\n",
    "async function doIt() {\n",
    "    const accounts = await web3.eth.getAccounts();\n",
    "    console.log(\"(0) Account: \" + accounts[0]);\n",
    "    var owner = await _nft.methods.getOwner().call();\n",
    "    console.log(\"(1) owner: \"+owner);\n",
    "    console.log(\"(2) name: \"+await _nft.methods.name().call());\n",
    "    console.log(\"(3) symbol: \"+await _nft.methods.symbol().call());\n",
    "    var addrTo = accounts[1];\n",
    "    var uri = \"https://ipfs.io/ipfs/QmZSMw1PARg1dDxaN2CoNbskraRXJo7trUsoUickrRgrTn\";\n",
    "    //var uri = \"https://ipfs.io/ipfs/QmZSMw1PARg1dDxaN2CoNbskraRXJo7trUsoUickrRgrTn\";\n",
    "    await _nft.methods.mint(addrTo,uri).send({from: accounts[0], gas: 1000000});\n",
    "    var _tid = 1;\n",
    "    console.log(\"(4) balanceOf \"+owner+\": \"+await _nft.methods.balanceOf(owner).call());    \n",
    "    console.log(\"(5) balanceOf \"+addrTo+\": \"+await _nft.methods.balanceOf(addrTo).call());\n",
    "    console.log(\"(6) ownerOf tokenId \"+_tid+\": \"+await _nft.methods.ownerOf(_tid).call());\n",
    "    //transfer from addrTo back to owner\n",
    "    //console.log(\"(7) Who gets approved: \"+await _nft.methods.getApproved(_tid).call());\n",
    "    //await _nft.methods.approve(addrTo, _tid).send({from: owner, gas: 1000000});\n",
    "    //console.log(\"(8) Who gets approved after calling approve: \"+await _nft.methods.getApproved(_tid).call());\n",
    "    await _nft.methods.transferFrom(addrTo, owner, _tid).send({from: addrTo, gas: 1000000});\n",
    "    console.log(\"(9) balanceOf \"+owner+\": \"+await _nft.methods.balanceOf(owner).call());    \n",
    "    console.log(\"(10) balanceOf \"+addrTo+\": \"+await _nft.methods.balanceOf(addrTo).call());\n",
    "    console.log(\"(11) ownerOf after transferred: \"+await _nft.methods.ownerOf(_tid).call());\n",
    "    //process.exit(1); //force exit\n",
    "}\n",
    "doIt()"
   ]
  },
  {
   "cell_type": "code",
   "execution_count": 18,
   "id": "ef7c8052",
   "metadata": {},
   "outputs": [
    {
     "name": "stdout",
     "output_type": "stream",
     "text": [
      "- contract name:  src/MyNFTUriOwner.sol:MyNFTUriOwner\n",
      "(0) Account: 0x41fE5792b2FC66e84BE3e732d38b5dcDfD7834b5\n",
      "(1) owner: 0x41fE5792b2FC66e84BE3e732d38b5dcDfD7834b5\n",
      "(2) name: MyNFT\n",
      "(3) symbol: JSL\n",
      "(4) balanceOf 0x41fE5792b2FC66e84BE3e732d38b5dcDfD7834b5: 0\n",
      "(5) balanceOf 0xc6281deC16C579cD71a498cFE23007C4EeBa89A3: 1\n",
      "(6) ownerOf tokenId 1: 0xc6281deC16C579cD71a498cFE23007C4EeBa89A3\n",
      "(9) balanceOf 0x41fE5792b2FC66e84BE3e732d38b5dcDfD7834b5: 1\n",
      "(10) balanceOf 0xc6281deC16C579cD71a498cFE23007C4EeBa89A3: 0\n",
      "(11) ownerOf after transferred: 0x41fE5792b2FC66e84BE3e732d38b5dcDfD7834b5\n"
     ]
    }
   ],
   "source": [
    "!node src/MyNFTUriOwnerUse.js"
   ]
  },
  {
   "cell_type": "code",
   "execution_count": null,
   "id": "10549286",
   "metadata": {},
   "outputs": [],
   "source": []
  }
 ],
 "metadata": {
  "kernelspec": {
   "display_name": "Python 3 (ipykernel)",
   "language": "python",
   "name": "python3"
  },
  "language_info": {
   "codemirror_mode": {
    "name": "ipython",
    "version": 3
   },
   "file_extension": ".py",
   "mimetype": "text/x-python",
   "name": "python",
   "nbconvert_exporter": "python",
   "pygments_lexer": "ipython3",
   "version": "3.8.10"
  }
 },
 "nbformat": 4,
 "nbformat_minor": 5
}
