{
 "cells": [
  {
   "cell_type": "markdown",
   "id": "500e7e08",
   "metadata": {},
   "source": [
    "## 연습문제 : Multiply 7\n",
    "앞서 Multiply7을 구현해 보았다.\n",
    "\n",
    "이 컨트랙에 이벤트를 추가해서 구현해보자.\n",
    "\n",
    "geth 또는 ganache 가운데 어느 것이나 선택해서 실행해도 좋다.\n",
    "\n",
    "아래 주어진 미완성 코드를 구현해서 노드에서 이벤트를 띄워보자.\n",
    "\n",
    "\n",
    "\n",
    "* 함수는 param4인자를 받아서 곱하기 7 연산을 한다. 8과 16의 연산을 실행하자. 그 결과는 56과 112가 출력될 것이다.\n",
    "\n",
    "* 이벤트로 넘겨주는 매개변수 param1은 누가 이 함수를 호출했는지 (address), param2는 언제 호출되었는지 (timestamp), 마지막으로 param3는 연산결과를 출력하도록 한다.\n",
    "\n",
    "\n",
    "\n",
    "* 미완성 코드\n",
    "```\n",
    "contract Multiply7Event {\n",
    "    event Print(param1, param2, param3);\n",
    "    function multiply(param4)\n",
    "```"
   ]
  },
  {
   "cell_type": "markdown",
   "id": "b4e02b19",
   "metadata": {},
   "source": [
    "## 1. 컨트랙 개발"
   ]
  },
  {
   "cell_type": "code",
   "execution_count": 1,
   "id": "2ef7e3ad",
   "metadata": {},
   "outputs": [
    {
     "name": "stdout",
     "output_type": "stream",
     "text": [
      "Writing src/Multiply7.sol\n"
     ]
    }
   ],
   "source": [
    "%%writefile src/Multiply7.sol\n",
    "//SPDX-License-Identifier: GPL-3.0-or-later\n",
    "pragma solidity ^0.8.0;\n",
    "\n",
    "contract Multiply7 {\n",
    "    event Print(address _addr, uint256 timestamp, uint res);\n",
    "    \n",
    "    function multiply(uint input) public returns(uint) {\n",
    "        uint res = input * 7;\n",
    "        emit Print(msg.sender, block.timestamp, res);\n",
    "        return input * 7;\n",
    "    }\n",
    "}"
   ]
  },
  {
   "cell_type": "code",
   "execution_count": 2,
   "id": "c878f37c",
   "metadata": {},
   "outputs": [],
   "source": [
    "!solc-windows.exe src/Multiply7.sol --combined-json abi,bin > src/Multiply7.json"
   ]
  },
  {
   "cell_type": "code",
   "execution_count": 26,
   "id": "115965cf",
   "metadata": {},
   "outputs": [
    {
     "name": "stdout",
     "output_type": "stream",
     "text": [
      "Overwriting src/Multiply7Deploy.js\n"
     ]
    }
   ],
   "source": [
    "%%writefile src/Multiply7Deploy.js\n",
    "var Web3 = require('web3');\n",
    "var web3 = new Web3(new Web3.providers.HttpProvider(\"http://localhost:8445\"));\n",
    "var fs = require('fs');\n",
    "var _str = fs.readFileSync(\"src/Multiply7.json\");\n",
    "var _json = JSON.parse(_str)\n",
    "var _abiArray = _json.contracts[\"src/Multiply7.sol:Multiply7\"].abi;\n",
    "var _bin = _json.contracts[\"src/Multiply7.sol:Multiply7\"].bin;\n",
    "\n",
    "async function deploy() {\n",
    "    const accounts = await web3.eth.getAccounts();\n",
    "    console.log(\"Deploying the contract from : \" + accounts[0]);\n",
    "    var deployed = await new web3.eth.Contract(_abiArray)\n",
    "        .deploy({data: \"0x\" + _bin})\n",
    "        .estimateGas()\n",
    "        .then(function(gas) {console.log(\"estimated gas: \"+gas)})\n",
    "        .send({from: accounts[0], gas: 1000000}, function(err, transactionHash) {\n",
    "            if(!err) console.log(\"hash : \" + transactionHash);\n",
    "        });\n",
    "    console.log(\"---> The contract deployed to : \" + deployed.options.address);\n",
    "}\n",
    "\n",
    "deploy();"
   ]
  },
  {
   "cell_type": "code",
   "execution_count": 27,
   "id": "480d5d85",
   "metadata": {},
   "outputs": [
    {
     "name": "stderr",
     "output_type": "stream",
     "text": [
      "C:\\Users\\youve\\Code\\201810820\\src\\Multiply7Deploy.js:16\n",
      "        .send({from: accounts[0], gas: 1000000}, function(err, transactionHash) {\n",
      "        ^\n",
      "\n",
      "SyntaxError: Unexpected token '.'\n",
      "    at Object.compileFunction (node:vm:352:18)\n",
      "    at wrapSafe (node:internal/modules/cjs/loader:1032:15)\n",
      "    at Module._compile (node:internal/modules/cjs/loader:1067:27)\n",
      "    at Object.Module._extensions..js (node:internal/modules/cjs/loader:1157:10)\n",
      "    at Module.load (node:internal/modules/cjs/loader:981:32)\n",
      "    at Function.Module._load (node:internal/modules/cjs/loader:822:12)\n",
      "    at Function.executeUserEntryPoint [as runMain] (node:internal/modules/run_main:77:12)\n",
      "    at node:internal/main/run_main_module:17:47\n"
     ]
    }
   ],
   "source": [
    "!node src/Multiply7Deploy.js"
   ]
  },
  {
   "cell_type": "code",
   "execution_count": null,
   "id": "13b2e8dd",
   "metadata": {},
   "outputs": [],
   "source": [
    "0xbde9B446bA82181A6df5a863f35814d5c8f0B80c"
   ]
  },
  {
   "cell_type": "code",
   "execution_count": 29,
   "id": "5084ab65",
   "metadata": {},
   "outputs": [
    {
     "name": "stdout",
     "output_type": "stream",
     "text": [
      "Overwriting src/BankV2Use.js\n"
     ]
    }
   ],
   "source": [
    "%%writefile src/BankV2Use.js\n",
    "var Web3 = require('web3');\n",
    "var web3 = new Web3(new Web3.providers.WebsocketProvider(\"http://localhost:8445\"));\n",
    "var fs = require('fs');\n",
    "var _str = fs.readFileSync(\"src/Multiply7.json\");\n",
    "var _json = JSON.parse(_str)\n",
    "var _abiArray = _json.contracts[\"src/Multiply7.sol:Multiply7\"].abi;\n",
    "var _bin = _json.contracts[\"src/Multiply7.sol:Multiply7\"].bin;var bank = new web3.eth.Contract(_abiArray, '0xbde9B446bA82181A6df5a863f35814d5c8f0B80c');\n",
    "var event = bank.events.Sent({fromBlock: 0}, function (error, result) {\n",
    "    if (!error) {\n",
    "        console.log(\"Event fired: \" + JSON.stringify(result.returnValues));\n",
    "    }\n",
    "});\n",
    "\n",
    "async function doIt() {\n",
    "    const accounts = await web3.eth.getAccounts();\n",
    "    //console.log(\"Account: \" + accounts[0]);\n",
    "    const value = await _test.methods.multiply(8)\n",
    "        .send({from: accounts[0], gas: 364124, gasPrice: '1000000000'})\n",
    "    console.log(value.events.Print.returnValues);\n",
    "    console.log(\"\\n-------------------------answer-------------------------\");\n",
    "    console.log(\"address:\",value.events.Print.returnValues[0]);\n",
    "    console.log(\"timestamp:\",value.events.Print.returnValues[1]);\n",
    "    console.log(\"result:\",value.events.Print.returnValues[2]);\n",
    "    console.log(\"--------------------------------------------------------\\n\");\n",
    "    \n",
    "    const value2 = await _test.methods.multiply(16)\n",
    "        .send({from: accounts[0], gas: 364124, gasPrice: '1000000000'})\n",
    "    console.log(value2.events.Print.returnValues);\n",
    "    console.log(\"\\n-------------------------answer-------------------------\");\n",
    "    console.log(\"address:\",value2.events.Print.returnValues[0]);\n",
    "    console.log(\"timestamp:\",value2.events.Print.returnValues[1]);\n",
    "    console.log(\"result:\",value2.events.Print.returnValues[2]);\n",
    "    console.log(\"--------------------------------------------------------\\n\");\n",
    "}\n",
    "doIt()"
   ]
  },
  {
   "cell_type": "code",
   "execution_count": 30,
   "id": "24cfe00b",
   "metadata": {},
   "outputs": [
    {
     "name": "stderr",
     "output_type": "stream",
     "text": [
      "C:\\Users\\youve\\Code\\201810820\\src\\BankV2Use.js:8\n",
      "var event = bank.events.Sent({fromBlock: 0}, function (error, result) {\n",
      "                        ^\n",
      "\n",
      "TypeError: bank.events.Sent is not a function\n",
      "    at Object.<anonymous> (C:\\Users\\youve\\Code\\201810820\\src\\BankV2Use.js:8:25)\n",
      "    at Module._compile (node:internal/modules/cjs/loader:1103:14)\n",
      "    at Object.Module._extensions..js (node:internal/modules/cjs/loader:1157:10)\n",
      "    at Module.load (node:internal/modules/cjs/loader:981:32)\n",
      "    at Function.Module._load (node:internal/modules/cjs/loader:822:12)\n",
      "    at Function.executeUserEntryPoint [as runMain] (node:internal/modules/run_main:77:12)\n",
      "    at node:internal/main/run_main_module:17:47\n"
     ]
    },
    {
     "name": "stdout",
     "output_type": "stream",
     "text": [
      "Deploying the contract from : 0x9B0b6b0B3BBDBD746427c7c3afe05282B52F08DD\n",
      "hash : 0xb14bb46bf28330a2e2bfafce0bd40152c196de434db0ba6b14449d9a359c0103\n"
     ]
    },
    {
     "name": "stderr",
     "output_type": "stream",
     "text": [
      "C:\\Users\\youve\\Code\\201810820\\node_modules\\web3-core-helpers\\src\\errors.js:63\n",
      "        var error = new Error(message);\n",
      "                    ^\n",
      "\n",
      "Error: Transaction was not mined within 750 seconds, please make sure your transaction was properly sent. Be aware that it might still be mined!\n",
      "    at Object.TransactionError (C:\\Users\\youve\\Code\\201810820\\node_modules\\web3-core-helpers\\src\\errors.js:63:21)\n",
      "    at C:\\Users\\youve\\Code\\201810820\\node_modules\\web3-core-method\\src\\index.js:485:40\n",
      "    at runMicrotasks (<anonymous>)\n",
      "    at processTicksAndRejections (node:internal/process/task_queues:96:5) {\n",
      "  receipt: undefined\n",
      "}\n"
     ]
    }
   ],
   "source": [
    "!node src/BankV2Use.js"
   ]
  },
  {
   "cell_type": "code",
   "execution_count": null,
   "id": "1e823119",
   "metadata": {},
   "outputs": [],
   "source": []
  }
 ],
 "metadata": {
  "kernelspec": {
   "display_name": "Python 3 (ipykernel)",
   "language": "python",
   "name": "python3"
  },
  "language_info": {
   "codemirror_mode": {
    "name": "ipython",
    "version": 3
   },
   "file_extension": ".py",
   "mimetype": "text/x-python",
   "name": "python",
   "nbconvert_exporter": "python",
   "pygments_lexer": "ipython3",
   "version": "3.8.10"
  }
 },
 "nbformat": 4,
 "nbformat_minor": 5
}
