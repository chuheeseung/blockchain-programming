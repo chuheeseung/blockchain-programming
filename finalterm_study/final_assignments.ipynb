{
 "cells": [
  {
   "cell_type": "markdown",
   "id": "dfdce9c9",
   "metadata": {},
   "source": [
    "## week 09\n",
    "Hello 컨트랙을 수정하여, 인사하는 대상을 지정해보자.\n",
    "\n",
    "* 멤버변수에는 toWhom을 지정한다.\n",
    "\n",
    "* 멤버함수에는 아래 함수를 구현한다. 일부러 함수의 입출력 인자는 생략하니 자신이 생각해서 구현한다.\n",
    "\n",
    "```\n",
    "\n",
    "function sayHello() view public returns() 입력: 없다, 출력: Hello smu (bytes 또는 string로 출력)\n",
    "\n",
    "function setWhom() public 입력: 인사하는 대상 (toWhom을 지정, bytes 또는 string로 입력)\n",
    "\n",
    "function getWhom() view public returns() 출력: 인사하는 대상 (toWhom을 읽음, bytes 또는 string로 출력)\n",
    "\n",
    "```\n",
    "\n",
    "\n",
    "\n",
    "문자열 합성을 하려면, 이전에는 abi.encodePacked()를 함수를 사용했으나 버전 0.8.10부터 bytes.concat() 또는 string.concat() 함수를 사용하면 된다.\n",
    "\n",
    "\n",
    "\n",
    "각 각 2개의 컨트랙을 구현한다 - HelloInString.sol, HelloInBytes.sol.\n",
    "\n",
    "* (1) REMIX에서 실행하고, 각 함수의 로그 결과를 붙여넣기한다 (입력, 출력, gas가 보이도록).\n",
    "\n",
    "* (2) HelloInString과 HelloInBytes의 배포할 때와 sayHello() 함수의 gas를 비교하세요."
   ]
  },
  {
   "cell_type": "markdown",
   "id": "368d4e23",
   "metadata": {},
   "source": [
    "### HelloInsString.sol"
   ]
  },
  {
   "cell_type": "code",
   "execution_count": 1,
   "id": "8c52648c",
   "metadata": {},
   "outputs": [
    {
     "name": "stdout",
     "output_type": "stream",
     "text": [
      "Overwriting src/HelloInString.sol\n"
     ]
    }
   ],
   "source": [
    "%%writefile src/HelloInString.sol\n",
    "//SPDX-License-Identifier: GPL-3.0-or-later\n",
    "pragma solidity ^0.8.12;\n",
    "\n",
    "contract Hello {\n",
    "    string toWhom = \"smu\";\n",
    "\n",
    "    function sayHello() view public returns(string memory) {\n",
    "        string memory hello = \"hello \";\n",
    "        return string.concat(hello, toWhom);\n",
    "    }\n",
    "\n",
    "    function setWhom(string memory whom) public {\n",
    "        toWhom = whom;\n",
    "    } \n",
    "\n",
    "    function getWhom() view public returns(string memory) {\n",
    "        return toWhom;\n",
    "    }\n",
    "}"
   ]
  },
  {
   "cell_type": "code",
   "execution_count": 2,
   "id": "4ac743da",
   "metadata": {},
   "outputs": [
    {
     "name": "stdout",
     "output_type": "stream",
     "text": [
      "Overwriting src/HelloInBytes.sol\n"
     ]
    }
   ],
   "source": [
    "%%writefile src/HelloInBytes.sol\n",
    "//SPDX-License-Identifier: GPL-3.0-or-later\n",
    "pragma solidity ^0.8.12;\n",
    "\n",
    "contract Hello {\n",
    "    bytes toWhom = \"smu\";\n",
    "\n",
    "    function sayHello() view public returns(bytes memory) {\n",
    "        return bytes.concat(\"bytes \", toWhom);\n",
    "    }\n",
    "\n",
    "    function setWhom(bytes memory whom) public {\n",
    "        toWhom = whom;\n",
    "    } \n",
    "\n",
    "    function getWhom() view public returns(bytes memory) {\n",
    "        return toWhom;\n",
    "    }\n",
    "}"
   ]
  },
  {
   "cell_type": "markdown",
   "id": "7e8364d3",
   "metadata": {},
   "source": [
    "## week 10\n",
    "컨트랙 '학생'을 구현하세요.\n",
    "\n",
    "컨트랙의 이름은 'StudentsCrud.sol'로 명명하세요.\n",
    "\n",
    "학생들을 배열로 구성하고, 다음 기능이 제공되도록 하자.\n",
    "\n",
    "* 입력: '학번', '이름', '등록여부'를 입력한다.\n",
    "\n",
    "* 검색: 조건에 해당하는 항목을 찾기 위해서는 반복문이 필수적이다.\n",
    "\n",
    "그러나 gas비용이 급증할 수 있으므로, 배열의 인덱스로 검색하도록 하자.\n",
    "\n",
    "* 삭제: 배열에서는 어떤 항목의 데이터를 지우기 위해서는 검색이 필요하다.\n",
    "\n",
    "그러나 역시 gas비용이 급증할 수 있으므로, 배열의 인덱스에 해당하는 항목을 지우기로 한다.\n",
    "\n",
    "해당 항목을 지우고 나서는, 그 항목을 제거하고 배열의 크기도 같이 줄어야 한다.\n",
    "\n",
    "\n",
    "\n",
    "함수의 시그니처는 다음과 같다.\n",
    "\n",
    "```\n",
    "\n",
    "* 입력함수 - function insert(uint n, string memory sn, bool e) public\n",
    "\n",
    "* 첫 데이터 조회 - function getFirstStudent() public view returns(uint, string memory, bool)\n",
    "\n",
    "* 검색함수 - function findBy(uint8 index) view public returns(uint, string memory, bool)\n",
    "\n",
    "* 삭제함수 - function remove(uint index) public\n",
    "\n",
    "* 배열크기 조회함수 - function getLength() view public returns(uint)\n",
    "\n",
    "* 삭제함수 - function pop() public\n",
    "\n",
    "```\n",
    "\n",
    "\n",
    "\n",
    "컨트랙을 구현하고, REMIX에서 DEPLOY한 후, 제공되는 함수버튼을 활용하여 다음 작업을 수행해보자.\n",
    "\n",
    "항목별 답안으로는 수행결과가 출력된 REMIX 단말의 로그를 붙여넣기 하면 된다.\n",
    "\n",
    "(선택적으로 노드에서 배포하고 실행해도 좋아요)\n",
    "\n",
    "(1) 아래 항목을 입력\n",
    "\n",
    "```\n",
    "\n",
    "201711111,\"kim\",false\n",
    "\n",
    "201711112, \"park\", true\n",
    "\n",
    "201711113, \"lee\", false\n",
    "\n",
    "201711114, \"lim\", false\n",
    "\n",
    "```\n",
    "\n",
    "\n",
    "\n",
    "(2) 2번째 데이터 201711112 제거\n",
    "\n",
    "\n",
    "\n",
    "(3) 배열크기 조회 (4개 항목에서 1개가 제거되었으니 3이 출력)\n",
    "\n",
    "\n",
    "\n",
    "(4) 2 번째 데이터조회를 조회한다. 20171112는 삭제되어서 출력할 수 없고, 다른 데이터 항목이 출력.\n",
    "\n",
    "\n",
    "\n",
    "(5) 첫 데이터 조회"
   ]
  },
  {
   "cell_type": "code",
   "execution_count": 2,
   "id": "37092548",
   "metadata": {},
   "outputs": [
    {
     "name": "stdout",
     "output_type": "stream",
     "text": [
      "Writing src/StudentsCrud.sol\n"
     ]
    }
   ],
   "source": [
    "%%writefile src/StudentsCrud.sol\n",
    "//SPDX-License-Identifier: GPL-3.0-or-later\n",
    "pragma solidity ^0.8.0;\n",
    "\n",
    "contract StudnetsCrud {\n",
    "    struct Student {\n",
    "        uint num;\n",
    "        string name;\n",
    "        bool isEnrolled;\n",
    "    }\n",
    "\n",
    "    Student [] public studentsList;\n",
    "    Student newStudent;\n",
    "\n",
    "    function insert(uint n, string memory sn, bool e) public {\n",
    "        newStudent.num = n;\n",
    "        newStudent.name = sn;\n",
    "        newStudent.isEnrolled = e;\n",
    "    }\n",
    "\n",
    "    function getFirstStudent() public view returns(uint, string memory, bool) {\n",
    "        return(studentsList[0].num, studentsList[0].name, studentsList[0].isEnrolled);\n",
    "    }\n",
    "\n",
    "    function findBy(uint8 index) view public returns(uint, string memory, bool) {\n",
    "        return(studentsList[index].num, studentsList[index].name, studentsList[index].isEnrolled);\n",
    "    }\n",
    "\n",
    "    function remove(uint index) public {\n",
    "        if(index < studentsList.length) {\n",
    "            studentsList[index] = studentsList[index + 1];\n",
    "        }\n",
    "        studentsList.pop();\n",
    "    }\n",
    "\n",
    "    function getLength() view public returns(uint) {\n",
    "        return studentsList.length;\n",
    "    }\n",
    "\n",
    "    function pop() public {\n",
    "        studentsList.pop();\n",
    "    }\n",
    "    \n",
    "}"
   ]
  },
  {
   "cell_type": "markdown",
   "id": "b8f9cb92",
   "metadata": {},
   "source": [
    "## week 11\n",
    "은행 컨트랙을 프로그램하여 아래 기능을 실행하도록 하세요.\n",
    "\n",
    "* 입금액을 매개변수로 넣어서 입금하세요. amount가 실제 입금액과 일치하지 않으면 오류.\n",
    "\n",
    "\tfunction deposit(uint amount)\n",
    "\n",
    "* 전액 인출 함수를 구현하세요. 인출 금액을 정하지 않아도 되므로 함수의 인자가 없다.\n",
    "\n",
    "\tfunction widthdrawAll()\n",
    "\n",
    "* 컨트랙 잔고확인 함수 (this를 이용한 잔고, 상태변수 잔고 (this 잔고가 맞는지 확인하는 용도)\n",
    "\n",
    "\tfunction getBalance() public view returns(uint, uint)\n",
    "\n",
    "* 다른 계정으로 계좌이체 함수\n",
    "\n",
    "\tfunction forwardTo(address payable _receiver) public payable\n",
    "\n",
    "* fallback()을 입금가능하도록 구현하세요. fallback이 호출되면 이벤트가 발생하여 전송자와 금액을 출력하세요.\n",
    "\n",
    "이벤트 함수명은 PrintLog(address from, uint amount)\n",
    "\n",
    "\n",
    "\n",
    "주피터 노트북에서 컴파일, 배포한 후, 아래 기능을 실행하여 그 결과를 출력하세요.\n",
    "\n",
    "ganache 8335 띄우고, 노드로 하세요.\n",
    "\n",
    "- 입금 11111 wei, 222 wei를 하고 컨트랙잔고 11333 wei 출력\n",
    "\n",
    "- 자신의 2번째 계정으로 계좌이체 333 wei하고 컨트랙잔고 11000 wei 출력, 자신의 2번째 계정 잔고 증가분 (+333 wei) 출력\n",
    "\n",
    "- 전액 인출하고 11000 wei, 자신의 잔고 증가분 출력 (+11000 wei)\n",
    "\n",
    "- 컨트랙으로 111 송금하고, deposit()이 아니라 fallback으로 입금하세요. 컨트랙잔고 111 wei 출력.\n",
    "\n"
   ]
  },
  {
   "cell_type": "code",
   "execution_count": 41,
   "id": "8e812040",
   "metadata": {},
   "outputs": [
    {
     "name": "stdout",
     "output_type": "stream",
     "text": [
      "Overwriting src/BankWeek111.sol\n"
     ]
    }
   ],
   "source": [
    "%%writefile src/BankWeek111.sol\n",
    "//SPDX-License-Identifier: GPL-3.0-or-later\n",
    "pragma solidity ^0.8.0;\n",
    "\n",
    "contract BankWeek11 {\n",
    "    address owner;\n",
    "    uint balance;\n",
    "\n",
    "    event PrintLog(address from, uint amount);\n",
    "    event Sent(address from, address to, uint amount);\n",
    "\n",
    "    constructor() {\n",
    "        owner = msg.sender;\n",
    "        balance = 0;\n",
    "    }\n",
    "\n",
    "    function deposit(uint amount) public payable {\n",
    "        require(msg.value == amount);\n",
    "        balance += amount;\n",
    "    }\n",
    "\n",
    "    function widthdrawAll() public {\n",
    "        require(msg.sender == owner);\n",
    "        balance -= address(this).balance;\n",
    "        payable(msg.sender).transfer(address(this).balance);\n",
    "    }\n",
    "\n",
    "    function getBalance() public view returns(uint, uint) {\n",
    "        return(balance, address(this).balance);\n",
    "    }\n",
    "\n",
    "    function forwardTo(address payable _receiver) public payable {\n",
    "       _receiver.transfer(msg.value);\n",
    "       emit Sent(msg.sender, _receiver, msg.value);\n",
    "    }\n",
    "\n",
    "    fallback () external payable {\n",
    "        emit PrintLog(msg.sender, msg.value);\n",
    "    }\n",
    "}"
   ]
  },
  {
   "cell_type": "code",
   "execution_count": 42,
   "id": "dfb72138",
   "metadata": {
    "scrolled": true
   },
   "outputs": [
    {
     "name": "stderr",
     "output_type": "stream",
     "text": [
      "Warning: This contract has a payable fallback function, but no receive ether function. Consider adding a receive ether function.\n",
      " --> src/BankWeek111.sol:4:1:\n",
      "  |\n",
      "4 | contract BankWeek11 {\n",
      "  | ^ (Relevant source part starts here and spans across multiple lines).\n",
      "Note: The payable fallback function is defined here.\n",
      "  --> src/BankWeek111.sol:36:5:\n",
      "   |\n",
      "36 |     fallback () external payable {\n",
      "   |     ^ (Relevant source part starts here and spans across multiple lines).\n",
      "\n"
     ]
    }
   ],
   "source": [
    "!solc-windows --optimize --combined-json abi,bin src/BankWeek111.sol > src/BankWeek111.json"
   ]
  },
  {
   "cell_type": "code",
   "execution_count": 43,
   "id": "7d550c0a",
   "metadata": {},
   "outputs": [
    {
     "name": "stdout",
     "output_type": "stream",
     "text": [
      "[\n",
      "  '0xef34ee80B90CDC1ec5C64BcDf13F5DDe58815214',\n",
      "  '0x710528EeFBF185af7CDED92A8BB889Aa68c5Bd9A',\n",
      "  '0x4D649c4B8741a8D919B191d180c2f36B9c5EaEE9',\n",
      "  '0x68907fB2F5571eC68d656Cbca6E35C523819aECa',\n",
      "  '0x7450827261E0DC40866D16e964706f0374F1039a',\n",
      "  '0x06517B58eE7e013e57c981AD23Dc00a6EdD084b0',\n",
      "  '0xCcEAe47A7fceEF92238C3821980986aFa8FD7148',\n",
      "  '0x07700030e94A7999E1fa7Fd444f3E24fa5cfD80E',\n",
      "  '0x673F894147b8fd7Ab25cc00d09FDb14dCAD98Ef7',\n",
      "  '0xDC54Ead52215aF1deA43Db51bfb697ce86f3C3bD'\n",
      "]\n"
     ]
    }
   ],
   "source": [
    "!node src/getMyAddr.js"
   ]
  },
  {
   "cell_type": "code",
   "execution_count": 44,
   "id": "d6693138",
   "metadata": {},
   "outputs": [
    {
     "name": "stdout",
     "output_type": "stream",
     "text": [
      "Overwriting src/BankWeek11Deploy.js\n"
     ]
    }
   ],
   "source": [
    "%%writefile src/BankWeek11Deploy.js\n",
    "var Web3 = require('web3');\n",
    "var web3 = new Web3(new Web3.providers.HttpProvider(\"http://localhost:8345\"));\n",
    "var fs = require('fs');\n",
    "var _str = fs.readFileSync(\"src/BankWeek111.json\");\n",
    "var _json = JSON.parse(_str)\n",
    "var _abiArray = _json.contracts[\"src/BankWeek111.sol:BankWeek11\"].abi;\n",
    "var _bin = \"0x\" + _json.contracts[\"src/BankWeek111.sol:BankWeek11\"].bin;\n",
    "\n",
    "async function deploy() {\n",
    "    const accounts = await web3.eth.getAccounts();\n",
    "    console.log(\"Deploying the contract from : \" + accounts[0]);\n",
    "    var deployed = await new web3.eth.Contract(_abiArray)\n",
    "        .deploy({data: _bin})\n",
    "        .send({from: accounts[0], gas: 1000000}, function(err, transactionHash) {\n",
    "            if(!err) console.log(\"hash: \" + transactionHash);\n",
    "        });\n",
    "    console.log(\"---> The contract deployed to : \" + deployed.options.address);\n",
    "}\n",
    "\n",
    "deploy();"
   ]
  },
  {
   "cell_type": "code",
   "execution_count": 45,
   "id": "063998c5",
   "metadata": {},
   "outputs": [
    {
     "name": "stdout",
     "output_type": "stream",
     "text": [
      "Deploying the contract from : 0xef34ee80B90CDC1ec5C64BcDf13F5DDe58815214\n",
      "hash: 0x1791dbe81a79a8927ab4bb78129a598a13da7ef62f9f7705385bf9872f74e50e\n",
      "---> The contract deployed to : 0xd5c2b5B9f969659A32eecb6fB1c476730794A28a\n"
     ]
    }
   ],
   "source": [
    "!node src/BankWeek11Deploy.js"
   ]
  },
  {
   "cell_type": "code",
   "execution_count": 46,
   "id": "10a081fb",
   "metadata": {},
   "outputs": [
    {
     "name": "stdout",
     "output_type": "stream",
     "text": [
      "Overwriting src/BankWeek11Use.js\n"
     ]
    }
   ],
   "source": [
    "%%writefile src/BankWeek11Use.js\n",
    "var Web3=require('web3');\n",
    "var web3=new Web3(new Web3.providers.HttpProvider(\"http://localhost:8345\"));      \n",
    "var fs=require('fs');\n",
    "var _str = fs.readFileSync(\"src/BankWeek111.json\");\n",
    "var _json = JSON.parse(_str);\n",
    "var _abiArray = _json.contracts[\"src/BankWeek111.sol:BankWeek11\"].abi;\n",
    "\n",
    "async function doIt() {\n",
    "    var myBank = new web3.eth.Contract(_abiArray, '0xd5c2b5B9f969659A32eecb6fB1c476730794A28a');\n",
    "    var event = myBank.events.PrintLog({fromBlock : 0}, function(error, result) {\n",
    "        if(!error) {\n",
    "            log = JSON.stringify(result.returnValues);\n",
    "            console.log(\"Event fired : \" + log);\n",
    "        }\n",
    "    });\n",
    "    const accounts = await web3.eth.getAccounts();\n",
    "    await myBank.methods.deposit(11111)\n",
    "        .send({from:accounts[0] , gas:259210, value: 11111});\n",
    "    await myBank.methods.deposit(222)\n",
    "        .send({from:accounts[0] , gas:259210, value: 222});\n",
    "    \n",
    "    //11333 wei 출력\n",
    "    const balanceJson = await myBank.methods.getBalance().call();\n",
    "    balance = JSON.stringify(balanceJson);\n",
    "    console.log(\"Balance : \" + balance);\n",
    "    \n",
    "    // 333 wei 이체\n",
    "    await myBank.methods.forwardTo(accounts[1])\n",
    "        .send({from: accounts[0] , gas:259210, value: 333});\n",
    "    \n",
    "    // 11000 wei 출력\n",
    "    const balanceJson2 = await myBank.methods.getBalance().call();\n",
    "    const balance2 = JSON.stringify(balanceJson2);\n",
    "    console.log(\"Balance : \" + balance2);\n",
    "    \n",
    "    // 333 wei 출력\n",
    "    balance = await web3.eth.getBalance(accounts[1]);\n",
    "    console.log(\"Balance of account[1] : \" + balance);\n",
    "    \n",
    "    // withdrawAll 이전 잔고\n",
    "    balanceBefore = await web3.eth.getBalance(accounts[0]);\n",
    "    console.log(\"Balance before withdrawal : \" + balanceBefore);\n",
    "    console.log(\"withdrawing...\");\n",
    "    await myBank.methods.widthdrawAll().send({from: accounts[0]});\n",
    "    \n",
    "    // withdrawAll 이후 잔고\n",
    "    balanceAfter = await web3.eth.getBalance(accounts[0]);\n",
    "    subtract = balanceAfter - balanceBefore;\n",
    "    console.log(\"Balance after withdrawal : \" + balanceAfter);\n",
    "    console.log(\"BalanceAfter - BalanceBefore : \" + subtract);\n",
    "    \n",
    "    // fallback 함수 호출\n",
    "    await web3.eth.sendTransaction({from: accounts[0], to: \"0xd5c2b5B9f969659A32eecb6fB1c476730794A28a\", gas: 230000, value: 111});\n",
    "    const balanceJson3 = await myBank.methods.getBalance().call();\n",
    "    const balance3 = JSON.stringify(balanceJson3);\n",
    "    console.log(\"Balance : \" + balance3);\n",
    "    //process.exit(1);\n",
    "}\n",
    "\n",
    "doIt();"
   ]
  },
  {
   "cell_type": "code",
   "execution_count": 47,
   "id": "9aaac0f7",
   "metadata": {},
   "outputs": [
    {
     "name": "stdout",
     "output_type": "stream",
     "text": [
      "Balance : {\"0\":\"11333\",\"1\":\"11333\"}\n",
      "Balance : {\"0\":\"11333\",\"1\":\"11333\"}\n",
      "Balance of account[1] : 1000000000000000000333\n",
      "Balance before withdrawal : 999999314349999988334\n",
      "withdrawing...\n",
      "Balance after withdrawal : 999999253241999999667\n",
      "BalanceAfter - BalanceBefore : -61107999997952\n",
      "Balance : {\"0\":\"0\",\"1\":\"111\"}\n"
     ]
    }
   ],
   "source": [
    "!node src/BankWeek11Use.js"
   ]
  },
  {
   "cell_type": "markdown",
   "id": "3717bebb",
   "metadata": {},
   "source": [
    "## week 12\n",
    "블록체인에서 주문을 하고, 그 주문내역을 로컬 파일에 작성하세요.\n",
    "\n",
    "블록체인으로 주문이 전송되면 이벤트가 발생하도록 프로그램하고, 주문내역은 로컬파일에 저장됩니다.\n",
    "\n",
    "* 강의자료 OrderEvent.sol을 참조해서 구현하세요.\n",
    "\n",
    "\t* order(상품항목, 주문개수, 단가, 배송지) 함수를 작성. '개수 x 단가'로 주문금액을 계산하고 이 금액만큼 입금되지 않으면 예외발생.\n",
    "\n",
    "\t* getBalance() 함수를 작성. 최초 프로그램 생성자 owner만 읽을 수 있게 modfier isOwner 작성.\n",
    "\n",
    "(1) REMIX에서 주문하고, 이벤트 발생하는지 보이도록 콘솔 출력 붙여넣으세요.\n",
    "\n",
    "(2) 파일로 컴파일 하세요.\n",
    "\n",
    "(3) ganache에서 배포하세요.\n",
    "\n",
    "(4) 주문을 3건만 하고, 이벤트를 통해 다음과 같이 출력하세요.\n",
    "\n",
    "항목은 차례대로 주소, 상품항목번호, 주문개수, 단가, 배송지.\n",
    "\n",
    "```\n",
    "\n",
    "전송자주소, 1111, 3, 100, 20 2-gil Hongji-dong Jongro-gu Seoul\n",
    "\n",
    "전송자주소, 1111, 5, 100, 20 2-gil Hongji-dong Jongro-gu Seoul\n",
    "\n",
    "전송자주소, 1111, 20, 100, 20 2-gil Hongji-dong Jongro-gu Seoul\n",
    "\n",
    "```\n",
    "\n",
    "(5) 파일에 저장된 파일내역을 출력하세요 (주피터 노트북에서 !type src/OrderEvent.txt)"
   ]
  },
  {
   "cell_type": "code",
   "execution_count": 48,
   "id": "fadacc15",
   "metadata": {},
   "outputs": [
    {
     "name": "stdout",
     "output_type": "stream",
     "text": [
      "Overwriting src/OrderEvent.sol\n"
     ]
    }
   ],
   "source": [
    "%%writefile src/OrderEvent.sol\n",
    "//SPDX-License-Identifier: GPL-3.0-or-later\n",
    "pragma solidity ^0.8.0;\n",
    "\n",
    "contract OrderEvent {\n",
    "    address owner;\n",
    "\n",
    "    event OrderLog(string);\n",
    "    event OrderLog(bytes2 _itemId, uint _value);\n",
    "    event OrderLog(uint256 timestamp);\n",
    "    event OrderLog(address _from, uint quantity, uint unitPrice, string addr);\n",
    "\n",
    "    constructor() {\n",
    "        owner = msg.sender;\n",
    "    }\n",
    "\n",
    "    function order(bytes2 _itemId, uint quantity, uint unitPrice, string memory addr) public payable {\n",
    "        uint256 orderTime = block.timestamp;\n",
    "        uint256 orderAmount = quantity * unitPrice;\n",
    "\n",
    "        require(msg.value == orderAmount);\n",
    "        emit OrderLog(\"ordered\");\n",
    "        emit OrderLog(orderTime);\n",
    "        emit OrderLog(msg.sender, quantity, unitPrice, addr);\n",
    "    }\n",
    "\n",
    "    function getBalance() view public isOwner returns(uint) {\n",
    "        return address(this).balance;\n",
    "    }\n",
    "\n",
    "    modifier isOwner() {\n",
    "        if(msg.sender != owner) {\n",
    "            revert();\n",
    "        }\n",
    "        _;\n",
    "    }\n",
    "}"
   ]
  },
  {
   "cell_type": "code",
   "execution_count": 49,
   "id": "3ed71764",
   "metadata": {},
   "outputs": [
    {
     "name": "stderr",
     "output_type": "stream",
     "text": [
      "Warning: Unused function parameter. Remove or comment out the variable name to silence this warning.\n",
      "  --> src/OrderEvent.sol:16:20:\n",
      "   |\n",
      "16 |     function order(bytes2 _itemId, uint quantity, uint unitPrice, string memory addr) public payable {\n",
      "   |                    ^^^^^^^^^^^^^^\n",
      "\n"
     ]
    }
   ],
   "source": [
    "!solc-windows.exe --optimize --combined-json abi,bin src/OrderEvent.sol > src/OrderEvent.json"
   ]
  },
  {
   "cell_type": "code",
   "execution_count": 56,
   "id": "ac8a7d53",
   "metadata": {},
   "outputs": [
    {
     "name": "stdout",
     "output_type": "stream",
     "text": [
      "Overwriting src/OrderEventDeploy.js\n"
     ]
    }
   ],
   "source": [
    "%%writefile src/OrderEventDeploy.js\n",
    "var Web3 = require('web3');\n",
    "var web3 = new Web3(new Web3.providers.HttpProvider(\"http://localhost:8345\"));\n",
    "var fs = require('fs');\n",
    "var _str = fs.readFileSync(\"src/OrderEvent.json\");\n",
    "var _json = JSON.parse(_str)\n",
    "var _abiArray = _json.contracts[\"src/OrderEvent.sol:OrderEvent\"].abi;\n",
    "var _bin = _json.contracts[\"src/OrderEvent.sol:OrderEvent\"].bin;\n",
    "\n",
    "async function deploy() {\n",
    "    const accounts = await web3.eth.getAccounts();\n",
    "    console.log(\"Deploying the contract from \" + accounts[0]);\n",
    "    var deployed = await new web3.eth.Contract(_abiArray)\n",
    "        .deploy({data: \"0x\" + _bin})\n",
    "        .send({from: accounts[0], gas: 259210, function(err, transactionHash) {\n",
    "            if(!err) {\n",
    "                console.log(\"hash : \" + transactionHash);\n",
    "            }\n",
    "        }});\n",
    "    console.log(\"---> The contract deployed to : \" + deployed.options.address);\n",
    "}\n",
    "\n",
    "deploy();"
   ]
  },
  {
   "cell_type": "code",
   "execution_count": 57,
   "id": "2f404ab0",
   "metadata": {},
   "outputs": [
    {
     "name": "stdout",
     "output_type": "stream",
     "text": [
      "Deploying the contract from 0xef34ee80B90CDC1ec5C64BcDf13F5DDe58815214\n",
      "---> The contract deployed to : 0x6299B556e0061e79e0DC3610e706906E04a3A1E1\n"
     ]
    }
   ],
   "source": [
    "!node src/OrderEventDeploy.js"
   ]
  },
  {
   "cell_type": "code",
   "execution_count": 61,
   "id": "27df79e9",
   "metadata": {},
   "outputs": [
    {
     "name": "stdout",
     "output_type": "stream",
     "text": [
      "Overwriting src/OrderEventUse.js\n"
     ]
    }
   ],
   "source": [
    "%%writefile src/OrderEventUse.js\n",
    "var Web3 = require('web3');\n",
    "//var web3 = new Web3(new Web3.providers.HttpProvider(\"http://localhost:8345\"));\n",
    "var web3 = new Web3(new Web3.providers.WebsocketProvider(\"ws://localhost:8345\"));\n",
    "var fs = require('fs');\n",
    "var _str = fs.readFileSync(\"src/OrderEvent.json\");\n",
    "var _json = JSON.parse(_str)\n",
    "var _abiArray = _json.contracts[\"src/OrderEvent.sol:OrderEvent\"].abi;\n",
    "var _bin = _json.contracts[\"src/OrderEvent.sol:OrderEvent\"].bin;\n",
    "\n",
    "async function doIt() {\n",
    "    var _order = new web3.eth.Contract(_abiArray, '0x6299B556e0061e79e0DC3610e706906E04a3A1E1');\n",
    "    const accounts = await web3.eth.getAccounts();\n",
    "    console.log(\"Account : \" + accounts[0]);\n",
    "    \n",
    "    var event = _order.events.OrderLog({fromBlock: 0}, function(error, result) {\n",
    "        if(!error) {\n",
    "            var log = JSON.stringify(result.returnValues);\n",
    "            console.log(\"Event fired : \" + log);\n",
    "            fs.appendFile(\"src/OrderEvent.txt\", log, \"utf-8\", function(e) {\n",
    "                if(!e) {\n",
    "                    console.log(\">>> Writing to file\");\n",
    "                }\n",
    "            });\n",
    "        } else {\n",
    "            console.log(error);\n",
    "        }\n",
    "    });\n",
    "    \n",
    "    var value;\n",
    "    my = await _order.methods.order(\"0x1111\", 3, 100, \"20 2-gil Hongji-dong Jongro-gu Seoul\")\n",
    "            .send({from: accounts[0], gas: 100000, value: 300});\n",
    "    console.log(\"---> MyFunction called \" + JSON.stringify(my.events.OrderLog.returnValues));\n",
    "    \n",
    "    my = await _order.methods.order(\"0x1111\", 5, 100, \"20 2-gil Hongji-dong Jongro-gu Seoul\")\n",
    "            .send({from: accounts[0], gas: 100000, value: 500});\n",
    "    console.log(\"---> MyFunction called \" + JSON.stringify(my.events.OrderLog.returnValues));\n",
    "    \n",
    "    my = await _order.methods.order(\"0x1111\", 20, 100, \"20 2-gil Hongji-dong Jongro-gu Seoul\")\n",
    "            .send({from: accounts[0], gas: 100000, value: 2000});\n",
    "    console.log(\"---> MyFunction called \" + JSON.stringify(my.events.OrderLog.returnValues));\n",
    "    \n",
    "    process.exit(1);\n",
    "}\n",
    "\n",
    "doIt();"
   ]
  },
  {
   "cell_type": "code",
   "execution_count": 62,
   "id": "8be3cac1",
   "metadata": {},
   "outputs": [
    {
     "name": "stdout",
     "output_type": "stream",
     "text": [
      "Account : 0xef34ee80B90CDC1ec5C64BcDf13F5DDe58815214\n",
      "Event fired : {\"0\":\"0xef34ee80B90CDC1ec5C64BcDf13F5DDe58815214\",\"1\":\"3\",\"2\":\"100\",\"3\":\"20 2-gil Hongji-dong Jongro-gu Seoul\",\"_from\":\"0xef34ee80B90CDC1ec5C64BcDf13F5DDe58815214\",\"quantity\":\"3\",\"unitPrice\":\"100\",\"addr\":\"20 2-gil Hongji-dong Jongro-gu Seoul\"}\n",
      "Event fired : {\"0\":\"0xef34ee80B90CDC1ec5C64BcDf13F5DDe58815214\",\"1\":\"5\",\"2\":\"100\",\"3\":\"20 2-gil Hongji-dong Jongro-gu Seoul\",\"_from\":\"0xef34ee80B90CDC1ec5C64BcDf13F5DDe58815214\",\"quantity\":\"5\",\"unitPrice\":\"100\",\"addr\":\"20 2-gil Hongji-dong Jongro-gu Seoul\"}\n",
      "Event fired : {\"0\":\"0xef34ee80B90CDC1ec5C64BcDf13F5DDe58815214\",\"1\":\"20\",\"2\":\"100\",\"3\":\"20 2-gil Hongji-dong Jongro-gu Seoul\",\"_from\":\"0xef34ee80B90CDC1ec5C64BcDf13F5DDe58815214\",\"quantity\":\"20\",\"unitPrice\":\"100\",\"addr\":\"20 2-gil Hongji-dong Jongro-gu Seoul\"}\n",
      ">>> Writing to file\n",
      ">>> Writing to file\n",
      ">>> Writing to file\n",
      "Event fired : {\"0\":\"0xef34ee80B90CDC1ec5C64BcDf13F5DDe58815214\",\"1\":\"3\",\"2\":\"100\",\"3\":\"20 2-gil Hongji-dong Jongro-gu Seoul\",\"_from\":\"0xef34ee80B90CDC1ec5C64BcDf13F5DDe58815214\",\"quantity\":\"3\",\"unitPrice\":\"100\",\"addr\":\"20 2-gil Hongji-dong Jongro-gu Seoul\"}\n",
      "---> MyFunction called undefined\n",
      ">>> Writing to file\n",
      "Event fired : {\"0\":\"0xef34ee80B90CDC1ec5C64BcDf13F5DDe58815214\",\"1\":\"5\",\"2\":\"100\",\"3\":\"20 2-gil Hongji-dong Jongro-gu Seoul\",\"_from\":\"0xef34ee80B90CDC1ec5C64BcDf13F5DDe58815214\",\"quantity\":\"5\",\"unitPrice\":\"100\",\"addr\":\"20 2-gil Hongji-dong Jongro-gu Seoul\"}\n",
      "---> MyFunction called undefined\n",
      ">>> Writing to file\n",
      "Event fired : {\"0\":\"0xef34ee80B90CDC1ec5C64BcDf13F5DDe58815214\",\"1\":\"20\",\"2\":\"100\",\"3\":\"20 2-gil Hongji-dong Jongro-gu Seoul\",\"_from\":\"0xef34ee80B90CDC1ec5C64BcDf13F5DDe58815214\",\"quantity\":\"20\",\"unitPrice\":\"100\",\"addr\":\"20 2-gil Hongji-dong Jongro-gu Seoul\"}\n",
      "---> MyFunction called undefined\n"
     ]
    }
   ],
   "source": [
    "!node src/OrderEventUse.js"
   ]
  },
  {
   "cell_type": "code",
   "execution_count": 63,
   "id": "b0f9aa3f",
   "metadata": {},
   "outputs": [
    {
     "name": "stdout",
     "output_type": "stream",
     "text": [
      "{\"0\":\"0xC6D6c96820dC90740fB25Ad4959b15ecb1C3d1Af\",\"1\":\"0x1111\",\"2\":\"20\",\"3\":\"100\",\"4\":\"20 2-gil Hongji-dong Jongro-gu Seoul\",\"_from\":\"0xC6D6c96820dC90740fB25Ad4959b15ecb1C3d1Af\",\"_itemId\":\"0x1111\",\"quantity\":\"20\",\"unitPrice\":\"100\",\"addr\":\"20 2-gil Hongji-dong Jongro-gu Seoul\"}{\"0\":\"0xC6D6c96820dC90740fB25Ad4959b15ecb1C3d1Af\",\"1\":\"0x1111\",\"2\":\"3\",\"3\":\"100\",\"4\":\"20 2-gil Hongji-dong Jongro-gu Seoul\",\"_from\":\"0xC6D6c96820dC90740fB25Ad4959b15ecb1C3d1Af\",\"_itemId\":\"0x1111\",\"quantity\":\"3\",\"unitPrice\":\"100\",\"addr\":\"20 2-gil Hongji-dong Jongro-gu Seoul\"}{\"0\":\"0xC6D6c96820dC90740fB25Ad4959b15ecb1C3d1Af\",\"1\":\"0x1111\",\"2\":\"5\",\"3\":\"100\",\"4\":\"20 2-gil Hongji-dong Jongro-gu Seoul\",\"_from\":\"0xC6D6c96820dC90740fB25Ad4959b15ecb1C3d1Af\",\"_itemId\":\"0x1111\",\"quantity\":\"5\",\"unitPrice\":\"100\",\"addr\":\"20 2-gil Hongji-dong Jongro-gu Seoul\"}{\"0\":\"0xC6D6c96820dC90740fB25Ad4959b15ecb1C3d1Af\",\"1\":\"0x1111\",\"2\":\"5\",\"3\":\"100\",\"4\":\"20 2-gil Hongji-dong Jongro-gu Seoul\",\"_from\":\"0xC6D6c96820dC90740fB25Ad4959b15ecb1C3d1Af\",\"_itemId\":\"0x1111\",\"quantity\":\"5\",\"unitPrice\":\"100\",\"addr\":\"20 2-gil Hongji-dong Jongro-gu Seoul\"}{\"0\":\"0xC6D6c96820dC90740fB25Ad4959b15ecb1C3d1Af\",\"1\":\"0x1111\",\"2\":\"20\",\"3\":\"100\",\"4\":\"20 2-gil Hongji-dong Jongro-gu Seoul\",\"_from\":\"0xC6D6c96820dC90740fB25Ad4959b15ecb1C3d1Af\",\"_itemId\":\"0x1111\",\"quantity\":\"20\",\"unitPrice\":\"100\",\"addr\":\"20 2-gil Hongji-dong Jongro-gu Seoul\"}{\"0\":\"0xC6D6c96820dC90740fB25Ad4959b15ecb1C3d1Af\",\"1\":\"0x1111\",\"2\":\"20\",\"3\":\"100\",\"4\":\"20 2-gil Hongji-dong Jongro-gu Seoul\",\"_from\":\"0xC6D6c96820dC90740fB25Ad4959b15ecb1C3d1Af\",\"_itemId\":\"0x1111\",\"quantity\":\"20\",\"unitPrice\":\"100\",\"addr\":\"20 2-gil Hongji-dong Jongro-gu Seoul\"}{\"0\":\"0xC6D6c96820dC90740fB25Ad4959b15ecb1C3d1Af\",\"1\":\"0x1111\",\"2\":\"5\",\"3\":\"100\",\"4\":\"20 2-gil Hongji-dong Jongro-gu Seoul\",\"_from\":\"0xC6D6c96820dC90740fB25Ad4959b15ecb1C3d1Af\",\"_itemId\":\"0x1111\",\"quantity\":\"5\",\"unitPrice\":\"100\",\"addr\":\"20 2-gil Hongji-dong Jongro-gu Seoul\"}{\"0\":\"0xC6D6c96820dC90740fB25Ad4959b15ecb1C3d1Af\",\"1\":\"0x1111\",\"2\":\"3\",\"3\":\"100\",\"4\":\"20 2-gil Hongji-dong Jongro-gu Seoul\",\"_from\":\"0xC6D6c96820dC90740fB25Ad4959b15ecb1C3d1Af\",\"_itemId\":\"0x1111\",\"quantity\":\"3\",\"unitPrice\":\"100\",\"addr\":\"20 2-gil Hongji-dong Jongro-gu Seoul\"}{\"0\":\"0xC6D6c96820dC90740fB25Ad4959b15ecb1C3d1Af\",\"1\":\"0x1111\",\"2\":\"3\",\"3\":\"100\",\"4\":\"20 2-gil Hongji-dong Jongro-gu Seoul\",\"_from\":\"0xC6D6c96820dC90740fB25Ad4959b15ecb1C3d1Af\",\"_itemId\":\"0x1111\",\"quantity\":\"3\",\"unitPrice\":\"100\",\"addr\":\"20 2-gil Hongji-dong Jongro-gu Seoul\"}{\"0\":\"0xC6D6c96820dC90740fB25Ad4959b15ecb1C3d1Af\",\"1\":\"0x1111\",\"2\":\"5\",\"3\":\"100\",\"4\":\"20 2-gil Hongji-dong Jongro-gu Seoul\",\"_from\":\"0xC6D6c96820dC90740fB25Ad4959b15ecb1C3d1Af\",\"_itemId\":\"0x1111\",\"quantity\":\"5\",\"unitPrice\":\"100\",\"addr\":\"20 2-gil Hongji-dong Jongro-gu Seoul\"}{\"0\":\"0xC6D6c96820dC90740fB25Ad4959b15ecb1C3d1Af\",\"1\":\"0x1111\",\"2\":\"20\",\"3\":\"100\",\"4\":\"20 2-gil Hongji-dong Jongro-gu Seoul\",\"_from\":\"0xC6D6c96820dC90740fB25Ad4959b15ecb1C3d1Af\",\"_itemId\":\"0x1111\",\"quantity\":\"20\",\"unitPrice\":\"100\",\"addr\":\"20 2-gil Hongji-dong Jongro-gu Seoul\"}{\"0\":\"0xC6D6c96820dC90740fB25Ad4959b15ecb1C3d1Af\",\"1\":\"0x1111\",\"2\":\"5\",\"3\":\"100\",\"4\":\"20 2-gil Hongji-dong Jongro-gu Seoul\",\"_from\":\"0xC6D6c96820dC90740fB25Ad4959b15ecb1C3d1Af\",\"_itemId\":\"0x1111\",\"quantity\":\"5\",\"unitPrice\":\"100\",\"addr\":\"20 2-gil Hongji-dong Jongro-gu Seoul\"}{\"0\":\"0xC6D6c96820dC90740fB25Ad4959b15ecb1C3d1Af\",\"1\":\"0x1111\",\"2\":\"3\",\"3\":\"100\",\"4\":\"20 2-gil Hongji-dong Jongro-gu Seoul\",\"_from\":\"0xC6D6c96820dC90740fB25Ad4959b15ecb1C3d1Af\",\"_itemId\":\"0x1111\",\"quantity\":\"3\",\"unitPrice\":\"100\",\"addr\":\"20 2-gil Hongji-dong Jongro-gu Seoul\"}{\"0\":\"0xC6D6c96820dC90740fB25Ad4959b15ecb1C3d1Af\",\"1\":\"0x1111\",\"2\":\"20\",\"3\":\"100\",\"4\":\"20 2-gil Hongji-dong Jongro-gu Seoul\",\"_from\":\"0xC6D6c96820dC90740fB25Ad4959b15ecb1C3d1Af\",\"_itemId\":\"0x1111\",\"quantity\":\"20\",\"unitPrice\":\"100\",\"addr\":\"20 2-gil Hongji-dong Jongro-gu Seoul\"}{\"0\":\"0xC6D6c96820dC90740fB25Ad4959b15ecb1C3d1Af\",\"1\":\"0x1111\",\"2\":\"3\",\"3\":\"100\",\"4\":\"20 2-gil Hongji-dong Jongro-gu Seoul\",\"_from\":\"0xC6D6c96820dC90740fB25Ad4959b15ecb1C3d1Af\",\"_itemId\":\"0x1111\",\"quantity\":\"3\",\"unitPrice\":\"100\",\"addr\":\"20 2-gil Hongji-dong Jongro-gu Seoul\"}{\"0\":\"0xC6D6c96820dC90740fB25Ad4959b15ecb1C3d1Af\",\"1\":\"0x1111\",\"2\":\"20\",\"3\":\"100\",\"4\":\"20 2-gil Hongji-dong Jongro-gu Seoul\",\"_from\":\"0xC6D6c96820dC90740fB25Ad4959b15ecb1C3d1Af\",\"_itemId\":\"0x1111\",\"quantity\":\"20\",\"unitPrice\":\"100\",\"addr\":\"20 2-gil Hongji-dong Jongro-gu Seoul\"}{\"0\":\"0xC6D6c96820dC90740fB25Ad4959b15ecb1C3d1Af\",\"1\":\"0x1111\",\"2\":\"20\",\"3\":\"100\",\"4\":\"20 2-gil Hongji-dong Jongro-gu Seoul\",\"_from\":\"0xC6D6c96820dC90740fB25Ad4959b15ecb1C3d1Af\",\"_itemId\":\"0x1111\",\"quantity\":\"20\",\"unitPrice\":\"100\",\"addr\":\"20 2-gil Hongji-dong Jongro-gu Seoul\"}{\"0\":\"0xC6D6c96820dC90740fB25Ad4959b15ecb1C3d1Af\",\"1\":\"0x1111\",\"2\":\"3\",\"3\":\"100\",\"4\":\"20 2-gil Hongji-dong Jongro-gu Seoul\",\"_from\":\"0xC6D6c96820dC90740fB25Ad4959b15ecb1C3d1Af\",\"_itemId\":\"0x1111\",\"quantity\":\"3\",\"unitPrice\":\"100\",\"addr\":\"20 2-gil Hongji-dong Jongro-gu Seoul\"}{\"0\":\"0xC6D6c96820dC90740fB25Ad4959b15ecb1C3d1Af\",\"1\":\"0x1111\",\"2\":\"5\",\"3\":\"100\",\"4\":\"20 2-gil Hongji-dong Jongro-gu Seoul\",\"_from\":\"0xC6D6c96820dC90740fB25Ad4959b15ecb1C3d1Af\",\"_itemId\":\"0x1111\",\"quantity\":\"5\",\"unitPrice\":\"100\",\"addr\":\"20 2-gil Hongji-dong Jongro-gu Seoul\"}{\"0\":\"0xC6D6c96820dC90740fB25Ad4959b15ecb1C3d1Af\",\"1\":\"0x1111\",\"2\":\"20\",\"3\":\"100\",\"4\":\"20 2-gil Hongji-dong Jongro-gu Seoul\",\"_from\":\"0xC6D6c96820dC90740fB25Ad4959b15ecb1C3d1Af\",\"_itemId\":\"0x1111\",\"quantity\":\"20\",\"unitPrice\":\"100\",\"addr\":\"20 2-gil Hongji-dong Jongro-gu Seoul\"}{\"0\":\"0xC6D6c96820dC90740fB25Ad4959b15ecb1C3d1Af\",\"1\":\"0x1111\",\"2\":\"3\",\"3\":\"100\",\"4\":\"20 2-gil Hongji-dong Jongro-gu Seoul\",\"_from\":\"0xC6D6c96820dC90740fB25Ad4959b15ecb1C3d1Af\",\"_itemId\":\"0x1111\",\"quantity\":\"3\",\"unitPrice\":\"100\",\"addr\":\"20 2-gil Hongji-dong Jongro-gu Seoul\"}{\"0\":\"0xC6D6c96820dC90740fB25Ad4959b15ecb1C3d1Af\",\"1\":\"0x1111\",\"2\":\"3\",\"3\":\"100\",\"4\":\"20 2-gil Hongji-dong Jongro-gu Seoul\",\"_from\":\"0xC6D6c96820dC90740fB25Ad4959b15ecb1C3d1Af\",\"_itemId\":\"0x1111\",\"quantity\":\"3\",\"unitPrice\":\"100\",\"addr\":\"20 2-gil Hongji-dong Jongro-gu Seoul\"}{\"0\":\"0xC6D6c96820dC90740fB25Ad4959b15ecb1C3d1Af\",\"1\":\"0x1111\",\"2\":\"20\",\"3\":\"100\",\"4\":\"20 2-gil Hongji-dong Jongro-gu Seoul\",\"_from\":\"0xC6D6c96820dC90740fB25Ad4959b15ecb1C3d1Af\",\"_itemId\":\"0x1111\",\"quantity\":\"20\",\"unitPrice\":\"100\",\"addr\":\"20 2-gil Hongji-dong Jongro-gu Seoul\"}{\"0\":\"0xC6D6c96820dC90740fB25Ad4959b15ecb1C3d1Af\",\"1\":\"0x1111\",\"2\":\"5\",\"3\":\"100\",\"4\":\"20 2-gil Hongji-dong Jongro-gu Seoul\",\"_from\":\"0xC6D6c96820dC90740fB25Ad4959b15ecb1C3d1Af\",\"_itemId\":\"0x1111\",\"quantity\":\"5\",\"unitPrice\":\"100\",\"addr\":\"20 2-gil Hongji-dong Jongro-gu Seoul\"}{\"0\":\"0xC6D6c96820dC90740fB25Ad4959b15ecb1C3d1Af\",\"1\":\"0x1111\",\"2\":\"20\",\"3\":\"100\",\"4\":\"20 2-gil Hongji-dong Jongro-gu Seoul\",\"_from\":\"0xC6D6c96820dC90740fB25Ad4959b15ecb1C3d1Af\",\"_itemId\":\"0x1111\",\"quantity\":\"20\",\"unitPrice\":\"100\",\"addr\":\"20 2-gil Hongji-dong Jongro-gu Seoul\"}{\"0\":\"0xC6D6c96820dC90740fB25Ad4959b15ecb1C3d1Af\",\"1\":\"0x1111\",\"2\":\"3\",\"3\":\"100\",\"4\":\"20 2-gil Hongji-dong Jongro-gu Seoul\",\"_from\":\"0xC6D6c96820dC90740fB25Ad4959b15ecb1C3d1Af\",\"_itemId\":\"0x1111\",\"quantity\":\"3\",\"unitPrice\":\"100\",\"addr\":\"20 2-gil Hongji-dong Jongro-gu Seoul\"}{\"0\":\"0xC6D6c96820dC90740fB25Ad4959b15ecb1C3d1Af\",\"1\":\"0x1111\",\"2\":\"5\",\"3\":\"100\",\"4\":\"20 2-gil Hongji-dong Jongro-gu Seoul\",\"_from\":\"0xC6D6c96820dC90740fB25Ad4959b15ecb1C3d1Af\",\"_itemId\":\"0x1111\",\"quantity\":\"5\",\"unitPrice\":\"100\",\"addr\":\"20 2-gil Hongji-dong Jongro-gu Seoul\"}{\"0\":\"0xC6D6c96820dC90740fB25Ad4959b15ecb1C3d1Af\",\"1\":\"0x1111\",\"2\":\"3\",\"3\":\"100\",\"4\":\"20 2-gil Hongji-dong Jongro-gu Seoul\",\"_from\":\"0xC6D6c96820dC90740fB25Ad4959b15ecb1C3d1Af\",\"_itemId\":\"0x1111\",\"quantity\":\"3\",\"unitPrice\":\"100\",\"addr\":\"20 2-gil Hongji-dong Jongro-gu Seoul\"}{\"0\":\"0xC6D6c96820dC90740fB25Ad4959b15ecb1C3d1Af\",\"1\":\"0x1111\",\"2\":\"5\",\"3\":\"100\",\"4\":\"20 2-gil Hongji-dong Jongro-gu Seoul\",\"_from\":\"0xC6D6c96820dC90740fB25Ad4959b15ecb1C3d1Af\",\"_itemId\":\"0x1111\",\"quantity\":\"5\",\"unitPrice\":\"100\",\"addr\":\"20 2-gil Hongji-dong Jongro-gu Seoul\"}{\"0\":\"0xC6D6c96820dC90740fB25Ad4959b15ecb1C3d1Af\",\"1\":\"0x1111\",\"2\":\"3\",\"3\":\"100\",\"4\":\"20 2-gil Hongji-dong Jongro-gu Seoul\",\"_from\":\"0xC6D6c96820dC90740fB25Ad4959b15ecb1C3d1Af\",\"_itemId\":\"0x1111\",\"quantity\":\"3\",\"unitPrice\":\"100\",\"addr\":\"20 2-gil Hongji-dong Jongro-gu Seoul\"}{\"0\":\"0xC6D6c96820dC90740fB25Ad4959b15ecb1C3d1Af\",\"1\":\"0x1111\",\"2\":\"20\",\"3\":\"100\",\"4\":\"20 2-gil Hongji-dong Jongro-gu Seoul\",\"_from\":\"0xC6D6c96820dC90740fB25Ad4959b15ecb1C3d1Af\",\"_itemId\":\"0x1111\",\"quantity\":\"20\",\"unitPrice\":\"100\",\"addr\":\"20 2-gil Hongji-dong Jongro-gu Seoul\"}{\"0\":\"0xC6D6c96820dC90740fB25Ad4959b15ecb1C3d1Af\",\"1\":\"0x1111\",\"2\":\"3\",\"3\":\"100\",\"4\":\"20 2-gil Hongji-dong Jongro-gu Seoul\",\"_from\":\"0xC6D6c96820dC90740fB25Ad4959b15ecb1C3d1Af\",\"_itemId\":\"0x1111\",\"quantity\":\"3\",\"unitPrice\":\"100\",\"addr\":\"20 2-gil Hongji-dong Jongro-gu Seoul\"}{\"0\":\"0xC6D6c96820dC90740fB25Ad4959b15ecb1C3d1Af\",\"1\":\"0x1111\",\"2\":\"5\",\"3\":\"100\",\"4\":\"20 2-gil Hongji-dong Jongro-gu Seoul\",\"_from\":\"0xC6D6c96820dC90740fB25Ad4959b15ecb1C3d1Af\",\"_itemId\":\"0x1111\",\"quantity\":\"5\",\"unitPrice\":\"100\",\"addr\":\"20 2-gil Hongji-dong Jongro-gu Seoul\"}{\"0\":\"0xC6D6c96820dC90740fB25Ad4959b15ecb1C3d1Af\",\"1\":\"0x1111\",\"2\":\"20\",\"3\":\"100\",\"4\":\"20 2-gil Hongji-dong Jongro-gu Seoul\",\"_from\":\"0xC6D6c96820dC90740fB25Ad4959b15ecb1C3d1Af\",\"_itemId\":\"0x1111\",\"quantity\":\"20\",\"unitPrice\":\"100\",\"addr\":\"20 2-gil Hongji-dong Jongro-gu Seoul\"}{\"0\":\"0xC6D6c96820dC90740fB25Ad4959b15ecb1C3d1Af\",\"1\":\"0x1111\",\"2\":\"5\",\"3\":\"100\",\"4\":\"20 2-gil Hongji-dong Jongro-gu Seoul\",\"_from\":\"0xC6D6c96820dC90740fB25Ad4959b15ecb1C3d1Af\",\"_itemId\":\"0x1111\",\"quantity\":\"5\",\"unitPrice\":\"100\",\"addr\":\"20 2-gil Hongji-dong Jongro-gu Seoul\"}{\"0\":\"0xC6D6c96820dC90740fB25Ad4959b15ecb1C3d1Af\",\"1\":\"0x1111\",\"2\":\"20\",\"3\":\"100\",\"4\":\"20 2-gil Hongji-dong Jongro-gu Seoul\",\"_from\":\"0xC6D6c96820dC90740fB25Ad4959b15ecb1C3d1Af\",\"_itemId\":\"0x1111\",\"quantity\":\"20\",\"unitPrice\":\"100\",\"addr\":\"20 2-gil Hongji-dong Jongro-gu Seoul\"}{\"0\":\"0xC6D6c96820dC90740fB25Ad4959b15ecb1C3d1Af\",\"1\":\"0x1111\",\"2\":\"3\",\"3\":\"100\",\"4\":\"20 2-gil Hongji-dong Jongro-gu Seoul\",\"_from\":\"0xC6D6c96820dC90740fB25Ad4959b15ecb1C3d1Af\",\"_itemId\":\"0x1111\",\"quantity\":\"3\",\"unitPrice\":\"100\",\"addr\":\"20 2-gil Hongji-dong Jongro-gu Seoul\"}{\"0\":\"0xC6D6c96820dC90740fB25Ad4959b15ecb1C3d1Af\",\"1\":\"0x1111\",\"2\":\"5\",\"3\":\"100\",\"4\":\"20 2-gil Hongji-dong Jongro-gu Seoul\",\"_from\":\"0xC6D6c96820dC90740fB25Ad4959b15ecb1C3d1Af\",\"_itemId\":\"0x1111\",\"quantity\":\"5\",\"unitPrice\":\"100\",\"addr\":\"20 2-gil Hongji-dong Jongro-gu Seoul\"}{\"0\":\"0xC6D6c96820dC90740fB25Ad4959b15ecb1C3d1Af\",\"1\":\"0x1111\",\"2\":\"3\",\"3\":\"100\",\"4\":\"20 2-gil Hongji-dong Jongro-gu Seoul\",\"_from\":\"0xC6D6c96820dC90740fB25Ad4959b15ecb1C3d1Af\",\"_itemId\":\"0x1111\",\"quantity\":\"3\",\"unitPrice\":\"100\",\"addr\":\"20 2-gil Hongji-dong Jongro-gu Seoul\"}{\"0\":\"0xC6D6c96820dC90740fB25Ad4959b15ecb1C3d1Af\",\"1\":\"0x1111\",\"2\":\"20\",\"3\":\"100\",\"4\":\"20 2-gil Hongji-dong Jongro-gu Seoul\",\"_from\":\"0xC6D6c96820dC90740fB25Ad4959b15ecb1C3d1Af\",\"_itemId\":\"0x1111\",\"quantity\":\"20\",\"unitPrice\":\"100\",\"addr\":\"20 2-gil Hongji-dong Jongro-gu Seoul\"}{\"0\":\"0xC6D6c96820dC90740fB25Ad4959b15ecb1C3d1Af\",\"1\":\"0x1111\",\"2\":\"20\",\"3\":\"100\",\"4\":\"20 2-gil Hongji-dong Jongro-gu Seoul\",\"_from\":\"0xC6D6c96820dC90740fB25Ad4959b15ecb1C3d1Af\",\"_itemId\":\"0x1111\",\"quantity\":\"20\",\"unitPrice\":\"100\",\"addr\":\"20 2-gil Hongji-dong Jongro-gu Seoul\"}{\"0\":\"0xC6D6c96820dC90740fB25Ad4959b15ecb1C3d1Af\",\"1\":\"0x1111\",\"2\":\"5\",\"3\":\"100\",\"4\":\"20 2-gil Hongji-dong Jongro-gu Seoul\",\"_from\":\"0xC6D6c96820dC90740fB25Ad4959b15ecb1C3d1Af\",\"_itemId\":\"0x1111\",\"quantity\":\"5\",\"unitPrice\":\"100\",\"addr\":\"20 2-gil Hongji-dong Jongro-gu Seoul\"}{\"0\":\"0xC6D6c96820dC90740fB25Ad4959b15ecb1C3d1Af\",\"1\":\"0x1111\",\"2\":\"3\",\"3\":\"100\",\"4\":\"20 2-gil Hongji-dong Jongro-gu Seoul\",\"_from\":\"0xC6D6c96820dC90740fB25Ad4959b15ecb1C3d1Af\",\"_itemId\":\"0x1111\",\"quantity\":\"3\",\"unitPrice\":\"100\",\"addr\":\"20 2-gil Hongji-dong Jongro-gu Seoul\"}{\"0\":\"0xC6D6c96820dC90740fB25Ad4959b15ecb1C3d1Af\",\"1\":\"0x1111\",\"2\":\"5\",\"3\":\"100\",\"4\":\"20 2-gil Hongji-dong Jongro-gu Seoul\",\"_from\":\"0xC6D6c96820dC90740fB25Ad4959b15ecb1C3d1Af\",\"_itemId\":\"0x1111\",\"quantity\":\"5\",\"unitPrice\":\"100\",\"addr\":\"20 2-gil Hongji-dong Jongro-gu Seoul\"}{\"0\":\"0xC6D6c96820dC90740fB25Ad4959b15ecb1C3d1Af\",\"1\":\"0x1111\",\"2\":\"20\",\"3\":\"100\",\"4\":\"20 2-gil Hongji-dong Jongro-gu Seoul\",\"_from\":\"0xC6D6c96820dC90740fB25Ad4959b15ecb1C3d1Af\",\"_itemId\":\"0x1111\",\"quantity\":\"20\",\"unitPrice\":\"100\",\"addr\":\"20 2-gil Hongji-dong Jongro-gu Seoul\"}{\"0\":\"0xC6D6c96820dC90740fB25Ad4959b15ecb1C3d1Af\",\"1\":\"0x1111\",\"2\":\"3\",\"3\":\"100\",\"4\":\"20 2-gil Hongji-dong Jongro-gu Seoul\",\"_from\":\"0xC6D6c96820dC90740fB25Ad4959b15ecb1C3d1Af\",\"_itemId\":\"0x1111\",\"quantity\":\"3\",\"unitPrice\":\"100\",\"addr\":\"20 2-gil Hongji-dong Jongro-gu Seoul\"}{\"0\":\"0xC6D6c96820dC90740fB25Ad4959b15ecb1C3d1Af\",\"1\":\"0x1111\",\"2\":\"5\",\"3\":\"100\",\"4\":\"20 2-gil Hongji-dong Jongro-gu Seoul\",\"_from\":\"0xC6D6c96820dC90740fB25Ad4959b15ecb1C3d1Af\",\"_itemId\":\"0x1111\",\"quantity\":\"5\",\"unitPrice\":\"100\",\"addr\":\"20 2-gil Hongji-dong Jongro-gu Seoul\"}{\"0\":\"0xC6D6c96820dC90740fB25Ad4959b15ecb1C3d1Af\",\"1\":\"0x1111\",\"2\":\"20\",\"3\":\"100\",\"4\":\"20 2-gil Hongji-dong Jongro-gu Seoul\",\"_from\":\"0xC6D6c96820dC90740fB25Ad4959b15ecb1C3d1Af\",\"_itemId\":\"0x1111\",\"quantity\":\"20\",\"unitPrice\":\"100\",\"addr\":\"20 2-gil Hongji-dong Jongro-gu Seoul\"}{\"0\":\"0xC6D6c96820dC90740fB25Ad4959b15ecb1C3d1Af\",\"1\":\"0x1111\",\"2\":\"3\",\"3\":\"100\",\"4\":\"20 2-gil Hongji-dong Jongro-gu Seoul\",\"_from\":\"0xC6D6c96820dC90740fB25Ad4959b15ecb1C3d1Af\",\"_itemId\":\"0x1111\",\"quantity\":\"3\",\"unitPrice\":\"100\",\"addr\":\"20 2-gil Hongji-dong Jongro-gu Seoul\"}{\"0\":\"0xC6D6c96820dC90740fB25Ad4959b15ecb1C3d1Af\",\"1\":\"0x1111\",\"2\":\"5\",\"3\":\"100\",\"4\":\"20 2-gil Hongji-dong Jongro-gu Seoul\",\"_from\":\"0xC6D6c96820dC90740fB25Ad4959b15ecb1C3d1Af\",\"_itemId\":\"0x1111\",\"quantity\":\"5\",\"unitPrice\":\"100\",\"addr\":\"20 2-gil Hongji-dong Jongro-gu Seoul\"}{\"0\":\"0xC6D6c96820dC90740fB25Ad4959b15ecb1C3d1Af\",\"1\":\"0x1111\",\"2\":\"20\",\"3\":\"100\",\"4\":\"20 2-gil Hongji-dong Jongro-gu Seoul\",\"_from\":\"0xC6D6c96820dC90740fB25Ad4959b15ecb1C3d1Af\",\"_itemId\":\"0x1111\",\"quantity\":\"20\",\"unitPrice\":\"100\",\"addr\":\"20 2-gil Hongji-dong Jongro-gu Seoul\"}{\"0\":\"0xC6D6c96820dC90740fB25Ad4959b15ecb1C3d1Af\",\"1\":\"0x1111\",\"2\":\"5\",\"3\":\"100\",\"4\":\"20 2-gil Hongji-dong Jongro-gu Seoul\",\"_from\":\"0xC6D6c96820dC90740fB25Ad4959b15ecb1C3d1Af\",\"_itemId\":\"0x1111\",\"quantity\":\"5\",\"unitPrice\":\"100\",\"addr\":\"20 2-gil Hongji-dong Jongro-gu Seoul\"}{\"0\":\"0xC6D6c96820dC90740fB25Ad4959b15ecb1C3d1Af\",\"1\":\"0x1111\",\"2\":\"3\",\"3\":\"100\",\"4\":\"20 2-gil Hongji-dong Jongro-gu Seoul\",\"_from\":\"0xC6D6c96820dC90740fB25Ad4959b15ecb1C3d1Af\",\"_itemId\":\"0x1111\",\"quantity\":\"3\",\"unitPrice\":\"100\",\"addr\":\"20 2-gil Hongji-dong Jongro-gu Seoul\"}{\"0\":\"0xC6D6c96820dC90740fB25Ad4959b15ecb1C3d1Af\",\"1\":\"0x1111\",\"2\":\"5\",\"3\":\"100\",\"4\":\"20 2-gil Hongji-dong Jongro-gu Seoul\",\"_from\":\"0xC6D6c96820dC90740fB25Ad4959b15ecb1C3d1Af\",\"_itemId\":\"0x1111\",\"quantity\":\"5\",\"unitPrice\":\"100\",\"addr\":\"20 2-gil Hongji-dong Jongro-gu Seoul\"}{\"0\":\"0xef34ee80B90CDC1ec5C64BcDf13F5DDe58815214\",\"1\":\"3\",\"2\":\"100\",\"3\":\"20 2-gil Hongji-dong Jongro-gu Seoul\",\"_from\":\"0xef34ee80B90CDC1ec5C64BcDf13F5DDe58815214\",\"quantity\":\"3\",\"unitPrice\":\"100\",\"addr\":\"20 2-gil Hongji-dong Jongro-gu Seoul\"}{\"0\":\"0xef34ee80B90CDC1ec5C64BcDf13F5DDe58815214\",\"1\":\"5\",\"2\":\"100\",\"3\":\"20 2-gil Hongji-dong Jongro-gu Seoul\",\"_from\":\"0xef34ee80B90CDC1ec5C64BcDf13F5DDe58815214\",\"quantity\":\"5\",\"unitPrice\":\"100\",\"addr\":\"20 2-gil Hongji-dong Jongro-gu Seoul\"}{\"0\":\"0xef34ee80B90CDC1ec5C64BcDf13F5DDe58815214\",\"1\":\"20\",\"2\":\"100\",\"3\":\"20 2-gil Hongji-dong Jongro-gu Seoul\",\"_from\":\"0xef34ee80B90CDC1ec5C64BcDf13F5DDe58815214\",\"quantity\":\"20\",\"unitPrice\":\"100\",\"addr\":\"20 2-gil Hongji-dong Jongro-gu Seoul\"}{\"0\":\"0xef34ee80B90CDC1ec5C64BcDf13F5DDe58815214\",\"1\":\"3\",\"2\":\"100\",\"3\":\"20 2-gil Hongji-dong Jongro-gu Seoul\",\"_from\":\"0xef34ee80B90CDC1ec5C64BcDf13F5DDe58815214\",\"quantity\":\"3\",\"unitPrice\":\"100\",\"addr\":\"20 2-gil Hongji-dong Jongro-gu Seoul\"}{\"0\":\"0xef34ee80B90CDC1ec5C64BcDf13F5DDe58815214\",\"1\":\"5\",\"2\":\"100\",\"3\":\"20 2-gil Hongji-dong Jongro-gu Seoul\",\"_from\":\"0xef34ee80B90CDC1ec5C64BcDf13F5DDe58815214\",\"quantity\":\"5\",\"unitPrice\":\"100\",\"addr\":\"20 2-gil Hongji-dong Jongro-gu Seoul\"}\n"
     ]
    }
   ],
   "source": [
    "!type src\\OrderEvent.txt"
   ]
  },
  {
   "cell_type": "markdown",
   "id": "af8eab2a",
   "metadata": {},
   "source": [
    "## week 13\n",
    "A, B 2인의 가위바위보 후 내기금액을 이긴 사람에게 지급하는 게임을 블록체인에 개발하세요.\n",
    "\n",
    "게임 컨트랙은 Rsp, 구현할 함수는 다음과 같다. 그 외 필요로 하는 함수는 추가할 수 있다.\n",
    "\n",
    "\n",
    "\n",
    "함수 | 설명\n",
    "\n",
    "-----|-----\n",
    "\n",
    "setA | 직접 입력하지 않고, 가위, 바위, 보를 무작위로 생성하여 내고 ```1000 wei```를 베팅한다.\n",
    "\n",
    "setB | 게임 플레이어가 직접 입력하고, ```1000 wei```를 베팅한다.\n",
    "\n",
    "play | setA, setB 입력이 끝나고 컴퓨터가 실행하는 것으로 하고, 승패가 결정짓는다.\n",
    "\n",
    "distributeBetAmount | 승패에 따라 분배한다. 승자가 패자의 내기 금액 ```1000 wei```를 가지게 된다.\n",
    "\n",
    "getMatchResult() | 누가 이겼는지 A, B 승자를 포함한 문자열 \"A wins\", \"B wins\", \"tie\" 결과를 출력한다.\n",
    "\n",
    "\n",
    "\n",
    "노드에서 게임을 다음과 같이 진행하세요.\n",
    "\n",
    "- 게임 전의 A잔고, B잔고, 컨트랙 잔고 출력 (컨트랙 상의 잔고를 말한다)\n",
    "\n",
    "- setA() 실행. 플레이어 A는 컴퓨터가 대행하는 것으로 하고, 내기금액 걸고 가위바위보 중 하나를 무작위로 선택\n",
    "\n",
    "- setB() 실행. B는 자신이 직접 내기금액 걸고, 가위바위보 중 하나를 선택하여 입력\n",
    "\n",
    "- play() 실행해서, 승부를 결정\n",
    "\n",
    "- getMatchResult() 실행해서, 승부의 결과를 출력\n",
    "\n",
    "- 게임 끝나고 A잔고, B잔고, 컨트랙 잔고 출력 (컨트랙 상의 잔고를 말한다)\n",
    "\n"
   ]
  },
  {
   "cell_type": "code",
   "execution_count": 4,
   "id": "bf86da85",
   "metadata": {},
   "outputs": [
    {
     "name": "stdout",
     "output_type": "stream",
     "text": [
      "Overwriting src/Rsp.sol\n"
     ]
    }
   ],
   "source": [
    "%%writefile src/Rsp.sol\n",
    "//SPDX-License-Identifier: GPL-3.0-or-later\n",
    "pragma solidity ^0.8.0;\n",
    "\n",
    "contract Rsp {\n",
    "    struct Player {\n",
    "        string name;\n",
    "        uint betting;\n",
    "        uint rsp;\n",
    "    }\n",
    "\n",
    "    int256 result = -1;\n",
    "    address owner;\n",
    "    address addrA;\n",
    "    address addrB;\n",
    "    uint balance;\n",
    "\n",
    "    constructor() {\n",
    "        owner = msg.sender;\n",
    "    }\n",
    "\n",
    "    mapping(address => Player) playerMap;\n",
    "    mapping(string => address) addressByName;\n",
    "    mapping(address => uint) balanceOf;\n",
    "\n",
    "    function setAddressAB(address receiver) public {\n",
    "        addrA = address(this);\n",
    "        addrB = receiver;\n",
    "    }\n",
    "\n",
    "    function deposit(uint amount) payable public onlyOwner {\n",
    "        require(msg.value == amount);\n",
    "        balanceOf[addrA] += amount;\n",
    "        balanceOf[addrB] += amount;\n",
    "    }\n",
    "\n",
    "    function setA() public {\n",
    "        uint _rsp= uint8(uint256(keccak256(abi.encodePacked(block.timestamp, block.difficulty)))%3);\n",
    "        Player memory m = Player(\"player_A\", 1000, _rsp);\n",
    "        playerMap[addrA] = m;\n",
    "        addressByName[\"player_A\"] = addrA;\n",
    "    }\n",
    "\n",
    "    function setB(uint _betting, uint _rsp) public {\n",
    "        Player memory m2 = Player(\"player_B\", _betting, _rsp);\n",
    "        playerMap[addrB] = m2;\n",
    "        addressByName[\"player_B\"] = addrB;\n",
    "    }\n",
    "\n",
    "    function play() public {\n",
    "        Player memory u1 = playerMap[addressByName[\"player_A\"]];\n",
    "        Player memory u2 = playerMap[addressByName[\"player_B\"]];\n",
    "        uint a = u1.rsp;\n",
    "        uint b = u2.rsp;\n",
    "\n",
    "        if(a == b) {\n",
    "            result = 0;\n",
    "        }\n",
    "        else if((a==0 && b==1) || (a==1 && b==2) || (a==2 && b==0)) {\n",
    "            result = 1;\n",
    "        }\n",
    "        else {\n",
    "            result = 2;\n",
    "        }\n",
    "    }\n",
    "\n",
    "    function distributeBetAmount() public payable {\n",
    "        Player memory u1 = playerMap[addressByName[\"player_A\"]];\n",
    "        Player memory u2 = playerMap[addressByName[\"player_B\"]];\n",
    "        uint a_betting = u1.betting;\n",
    "        uint b_betting = u2.betting;\n",
    "\n",
    "        if(result == 1) {\n",
    "            balanceOf[addressByName[\"player_A\"]] += b_betting;\n",
    "            balanceOf[addressByName[\"player_B\"]] -= b_betting;\n",
    "        }\n",
    "        else if(result == 2) {\n",
    "            balanceOf[addressByName[\"player_A\"]] -= a_betting;\n",
    "            balanceOf[addressByName[\"player_B\"]] += a_betting;\n",
    "        }\n",
    "    }\n",
    "    \n",
    "    function getMatchResult() public view returns(string memory) {\n",
    "        if(result == 1) {\n",
    "            return(\"A wins\");\n",
    "        }\n",
    "        else if(result == 2) {\n",
    "            return(\"B wins\");\n",
    "        }\n",
    "        else {\n",
    "            return(\"tie\");\n",
    "        }\n",
    "    }\n",
    "\n",
    "    function getBalance() public view returns(uint, uint, uint) {\n",
    "        return(balanceOf[addrA], balanceOf[addrB], balanceOf[address(this)]);\n",
    "    }\n",
    "\n",
    "    modifier onlyOwner {\n",
    "        require(msg.sender == owner);\n",
    "        _;\n",
    "    }\n",
    "}"
   ]
  },
  {
   "cell_type": "code",
   "execution_count": 5,
   "id": "135a87f0",
   "metadata": {},
   "outputs": [],
   "source": [
    "!solc-windows.exe --optimize --combined-json abi,bin src/Rsp.sol > src/Rsp.json"
   ]
  },
  {
   "cell_type": "code",
   "execution_count": 6,
   "id": "e4c909ec",
   "metadata": {},
   "outputs": [
    {
     "name": "stdout",
     "output_type": "stream",
     "text": [
      "Overwriting src/RspDeploy.js\n"
     ]
    }
   ],
   "source": [
    "%%writefile src/RspDeploy.js\n",
    "var Web3 = require('web3');\n",
    "var web3 = new Web3(new Web3.providers.HttpProvider(\"http://localhost:8345\"));\n",
    "var fs = require('fs');\n",
    "var _str = fs.readFileSync(\"src/Rsp.json\");\n",
    "var _json = JSON.parse(_str)\n",
    "var _abiArray = _json.contracts[\"src/Rsp.sol:Rsp\"].abi;\n",
    "var _bin = _json.contracts[\"src/Rsp.sol:Rsp\"].bin;\n",
    "\n",
    "async function deploy() {\n",
    "    const accounts = await web3.eth.getAccounts();\n",
    "    console.log(\"Deploying the contract form \" + accounts[0]);\n",
    "    var deployed = await new web3.eth.Contract(_abiArray)\n",
    "        .deploy({data: \"0x\" + _bin})\n",
    "        .send({from: accounts[0], gas: 1255242, function(err, transactionHash) {\n",
    "            if(!err) {\n",
    "                console.log(\"hash : \" + transactionHash);\n",
    "            }\n",
    "        }})\n",
    "    console.log(\"---> The contract deployed to : \" + deployed.options.address);\n",
    "}\n",
    "\n",
    "deploy();"
   ]
  },
  {
   "cell_type": "code",
   "execution_count": 7,
   "id": "88dc1178",
   "metadata": {},
   "outputs": [
    {
     "name": "stdout",
     "output_type": "stream",
     "text": [
      "Deploying the contract form 0x41fE5792b2FC66e84BE3e732d38b5dcDfD7834b5\n",
      "---> The contract deployed to : 0xD0149e893D5986e1bc9C2365098C43A6799b6793\n"
     ]
    }
   ],
   "source": [
    "!node src/RspDeploy.js"
   ]
  },
  {
   "cell_type": "code",
   "execution_count": 12,
   "id": "31112782",
   "metadata": {},
   "outputs": [
    {
     "name": "stdout",
     "output_type": "stream",
     "text": [
      "Overwriting src/RspUSe.js\n"
     ]
    }
   ],
   "source": [
    "%%writefile src/RspUSe.js\n",
    "var Web3 = require('web3');\n",
    "var web3 = new Web3(new Web3.providers.HttpProvider(\"http://localhost:8345\"));\n",
    "var fs = require('fs');\n",
    "var _str = fs.readFileSync(\"src/Rsp.json\");\n",
    "var _json = JSON.parse(_str)\n",
    "var _abiArray = _json.contracts[\"src/Rsp.sol:Rsp\"].abi;\n",
    "var _bin = _json.contracts[\"src/Rsp.sol:Rsp\"].bin;\n",
    "\n",
    "async function doIt() {\n",
    "    var rsp = new web3.eth.Contract(_abiArray, '0xD0149e893D5986e1bc9C2365098C43A6799b6793');\n",
    "    const accounts = await web3.eth.getAccounts();\n",
    "    console.log(\"- account : \" + accounts[0]);\n",
    "    \n",
    "    // 계정 A, B 설정\n",
    "    await rsp.methods.setAddressAB(accounts[1]).send({from: accounts[0], gas: 122209});\n",
    "    \n",
    "    // A, B에 10000wei 충전\n",
    "    await rsp.methods.deposit(10000).send({from: accounts[0], gas: 122209, value: 10000});\n",
    "    \n",
    "    // 초기 잔고 출력\n",
    "    rsp.methods.getBalance().call()\n",
    "        .then(function(value) {\n",
    "            console.log(\" - init balance \\n A: \", value[0], \" B : \", value[1], \" Contract : \", value[2]);\n",
    "        })\n",
    "    \n",
    "    // setA\n",
    "    await rsp.methods.setA().send({from: accounts[0], gas: 122209});\n",
    "    \n",
    "    // setB, 내가 가위바위보 선택\n",
    "    await rsp.methods.setB(1000, 1).send({from: accounts[0], gas: 122209});\n",
    "    \n",
    "    // 실행\n",
    "    await rsp.methods.play().send({from: accounts[0], gas: 122209});\n",
    "    \n",
    "    // 결과에 따른 금액 배정\n",
    "    await rsp.methods.distributeBetAmount().send({from: accounts[0], gas: 122209});\n",
    "    \n",
    "    // 결과 출력\n",
    "    rsp.methods.getMatchResult().call().then(console.log);\n",
    "    \n",
    "    // 잔고 출력\n",
    "    rsp.methods.getBalance().call()\n",
    "        .then(function(value) {\n",
    "            console.log(\" - after game \\n A: \", value[0], \" B : \", value[1], \" Contract : \", value[2]);\n",
    "        });\n",
    "}\n",
    "\n",
    "doIt();"
   ]
  },
  {
   "cell_type": "code",
   "execution_count": 13,
   "id": "fbb2d7e4",
   "metadata": {},
   "outputs": [
    {
     "name": "stdout",
     "output_type": "stream",
     "text": [
      "- account : 0x41fE5792b2FC66e84BE3e732d38b5dcDfD7834b5\n",
      " - init balance \n",
      " A:  40000  B :  40000  Contract :  40000\n",
      "tie\n",
      " - after game \n",
      " A:  40000  B :  40000  Contract :  40000\n"
     ]
    }
   ],
   "source": [
    "!node src/RspUSe.js"
   ]
  },
  {
   "cell_type": "code",
   "execution_count": null,
   "id": "f3769ae7",
   "metadata": {},
   "outputs": [],
   "source": []
  }
 ],
 "metadata": {
  "kernelspec": {
   "display_name": "Python 3 (ipykernel)",
   "language": "python",
   "name": "python3"
  },
  "language_info": {
   "codemirror_mode": {
    "name": "ipython",
    "version": 3
   },
   "file_extension": ".py",
   "mimetype": "text/x-python",
   "name": "python",
   "nbconvert_exporter": "python",
   "pygments_lexer": "ipython3",
   "version": "3.8.10"
  }
 },
 "nbformat": 4,
 "nbformat_minor": 5
}
