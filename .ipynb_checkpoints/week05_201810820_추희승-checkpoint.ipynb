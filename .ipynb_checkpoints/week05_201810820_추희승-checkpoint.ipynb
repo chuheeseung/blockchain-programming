{
 "cells": [
  {
   "cell_type": "markdown",
   "id": "f835818d",
   "metadata": {},
   "source": [
    "# 문제1"
   ]
  },
  {
   "cell_type": "markdown",
   "id": "dbcba590",
   "metadata": {},
   "source": [
    "## 1-1. ganache를 백그라운드로 띄우고, node에서 연결하여, coinbase주소를 출력하세요."
   ]
  },
  {
   "cell_type": "code",
   "execution_count": 1,
   "id": "23acc3a4",
   "metadata": {},
   "outputs": [
    {
     "name": "stdout",
     "output_type": "stream",
     "text": [
      "Overwriting src/getCoinbase.js\n"
     ]
    }
   ],
   "source": [
    "%%writefile src/getCoinbase.js\n",
    "var Web3 = require('web3');\n",
    "var web3 = new Web3('http://localhost:8345');\n",
    "var account0;\n",
    "async function getAccount() {\n",
    "    accounts = await web3.eth.getAccounts();\n",
    "    account0 = accounts[0];\n",
    "    console.log(\"coinbase : \", account0);\n",
    "}\n",
    "getAccount();"
   ]
  },
  {
   "cell_type": "code",
   "execution_count": 2,
   "id": "d45c400c",
   "metadata": {
    "scrolled": true
   },
   "outputs": [
    {
     "name": "stdout",
     "output_type": "stream",
     "text": [
      "coinbase :  0x9d134738661ac64eE5CfaFD80b845a197D31445C\n"
     ]
    }
   ],
   "source": [
    "!node src/getCoinbase.js"
   ]
  },
  {
   "cell_type": "markdown",
   "id": "8a7933a4",
   "metadata": {},
   "source": [
    "## 1-2. 문제1-1을 geth를 띄우고 실행해보세요. geth에서의 coinbase를 출력하세요."
   ]
  },
  {
   "cell_type": "code",
   "execution_count": 3,
   "id": "410169e3",
   "metadata": {
    "scrolled": true
   },
   "outputs": [
    {
     "name": "stdout",
     "output_type": "stream",
     "text": [
      "\"0x9b0b6b0b3bbdbd746427c7c3afe05282b52f08dd\"\n"
     ]
    }
   ],
   "source": [
    "!geth --exec eth.coinbase attach http://localhost:8445"
   ]
  },
  {
   "cell_type": "markdown",
   "id": "0695cff7",
   "metadata": {},
   "source": [
    "## 1-3. ganache의 coinbase에서 geth의 coinbase로 1 ether를 송금해 보세요. 송금 성공이면 잔고변화를 출력하고, 실패이면 그 이유를 간단히 설명하세요."
   ]
  },
  {
   "cell_type": "code",
   "execution_count": 12,
   "id": "691571e3",
   "metadata": {},
   "outputs": [
    {
     "name": "stdout",
     "output_type": "stream",
     "text": [
      "Overwriting src/transToGanache.js\n"
     ]
    }
   ],
   "source": [
    "%%writefile src/transToGanache.js\n",
    "var Web3 = require('web3');\n",
    "var web3 = new Web3('http://localhost:8345');\n",
    "web3.eth.getBalance('0x9d134738661ac64eE5CfaFD80b845a197D31445C').then((res) => console.log(\"ganache: \", res));\n",
    "web3.eth.getBalance('0x9b0b6b0b3bbdbd746427c7c3afe05282b52f08dd').then((res) => console.log(\"geth: \", res));\n",
    "web3.eth.sendTransaction({from:'0x9d134738661ac64eE5CfaFD80b845a197D31445C',to:'0x9b0b6b0b3bbdbd746427c7c3afe05282b52f08dd',value:web3.utils.toWei('1')\n",
    "})"
   ]
  },
  {
   "cell_type": "code",
   "execution_count": 13,
   "id": "c580557a",
   "metadata": {},
   "outputs": [
    {
     "name": "stdout",
     "output_type": "stream",
     "text": [
      "geth:  3000000000000000000\n",
      "ganache:  996999874000000000000\n"
     ]
    }
   ],
   "source": [
    "!node src/transToGanache.js"
   ]
  },
  {
   "cell_type": "code",
   "execution_count": 14,
   "id": "8f61946b",
   "metadata": {},
   "outputs": [
    {
     "name": "stdout",
     "output_type": "stream",
     "text": [
      "Overwriting src/checkTrans.js\n"
     ]
    }
   ],
   "source": [
    "%%writefile src/checkTrans.js\n",
    "var Web3 = require('web3');\n",
    "var web3 = new Web3('http://localhost:8345');\n",
    "web3.eth.getBalance('0x9d134738661ac64eE5CfaFD80b845a197D31445C').then((res) => console.log(\"ganache: \", res));\n",
    "web3.eth.getBalance('0x9b0b6b0b3bbdbd746427c7c3afe05282b52f08dd').then((res) => console.log(\"geth: \", res));"
   ]
  },
  {
   "cell_type": "code",
   "execution_count": 15,
   "id": "e38cb7a3",
   "metadata": {},
   "outputs": [
    {
     "name": "stdout",
     "output_type": "stream",
     "text": [
      "geth:  4000000000000000000\n",
      "ganache:  995999832000000000000\n"
     ]
    }
   ],
   "source": [
    "!node src/checkTrans.js"
   ]
  },
  {
   "cell_type": "markdown",
   "id": "afec82ca",
   "metadata": {},
   "source": [
    "### geth 잔고가 1ether 증가하고, ganache 잔고가 1ether 감소한 것을 확인할 수 있습니다. \n",
    "\n",
    "### (1 ether=1000000000000000000 wei)"
   ]
  },
  {
   "cell_type": "markdown",
   "id": "cea5eb37",
   "metadata": {},
   "source": [
    "# 문제 2"
   ]
  },
  {
   "cell_type": "markdown",
   "id": "ef1d9263",
   "metadata": {},
   "source": [
    "## 2-1. ganache에 연결하고, 현재 coinbase의 잔고를 ether로 출력하세요."
   ]
  },
  {
   "cell_type": "code",
   "execution_count": 62,
   "id": "57e958f0",
   "metadata": {},
   "outputs": [
    {
     "name": "stdout",
     "output_type": "stream",
     "text": [
      "Writing src/getCBBalance.js\n"
     ]
    }
   ],
   "source": [
    "%%writefile src/getCBBalance.js\n",
    "var Web3 = require('web3');\n",
    "var web3 = new Web3('http://localhost:8345');\n",
    "\n",
    "web3.eth.getBalance('0xB862721b378177408237615578FdE499B71Cf8C8').then(web3.utils.fromWei).then(console.log);"
   ]
  },
  {
   "cell_type": "code",
   "execution_count": 63,
   "id": "13a5f5da",
   "metadata": {},
   "outputs": [
    {
     "name": "stdout",
     "output_type": "stream",
     "text": [
      "995.999832\n"
     ]
    }
   ],
   "source": [
    "!node src/getCBBalance.js"
   ]
  },
  {
   "cell_type": "markdown",
   "id": "9c7148a5",
   "metadata": {},
   "source": [
    "## 2-2. 현재 거래소 환전가격을 구해서 한화로 계산하여 얼마인지 출력하세요. 환전가격은 거래소 가격을 읽어서 프로그램에 코딩한다."
   ]
  },
  {
   "cell_type": "code",
   "execution_count": 64,
   "id": "e949fae0",
   "metadata": {},
   "outputs": [
    {
     "name": "stdout",
     "output_type": "stream",
     "text": [
      "Writing src/printWon.js\n"
     ]
    }
   ],
   "source": [
    "%%writefile src/printWon.js\n",
    "var Web3 = require('web3');\n",
    "var web3 = new Web3('http://localhost:8345');\n",
    "console.log(4034493 * 995.999832, \"won\")"
   ]
  },
  {
   "cell_type": "code",
   "execution_count": 65,
   "id": "92f20eb2",
   "metadata": {},
   "outputs": [
    {
     "name": "stdout",
     "output_type": "stream",
     "text": [
      "4018354350.205176 won\n"
     ]
    }
   ],
   "source": [
    "!node src/printWon.js"
   ]
  },
  {
   "cell_type": "code",
   "execution_count": null,
   "id": "30327fbe",
   "metadata": {},
   "outputs": [],
   "source": []
  }
 ],
 "metadata": {
  "kernelspec": {
   "display_name": "Python 3 (ipykernel)",
   "language": "python",
   "name": "python3"
  },
  "language_info": {
   "codemirror_mode": {
    "name": "ipython",
    "version": 3
   },
   "file_extension": ".py",
   "mimetype": "text/x-python",
   "name": "python",
   "nbconvert_exporter": "python",
   "pygments_lexer": "ipython3",
   "version": "3.8.10"
  }
 },
 "nbformat": 4,
 "nbformat_minor": 5
}
