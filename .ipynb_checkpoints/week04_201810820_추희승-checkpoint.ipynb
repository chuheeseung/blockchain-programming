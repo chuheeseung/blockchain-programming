{
 "cells": [
  {
   "cell_type": "markdown",
   "id": "dbecc6f4",
   "metadata": {},
   "source": [
    "# 연습문제1\n",
    "다음 2건의 데이터에 대해 Merkle Root 값을 계산하고 출력하세요.\n",
    "\n",
    "* txA = 'Hello'\n",
    "\n",
    "* txB = 'How are you?'"
   ]
  },
  {
   "cell_type": "markdown",
   "id": "d817c449",
   "metadata": {},
   "source": [
    "## 1. txA를 재해싱하세요 (_hA)"
   ]
  },
  {
   "cell_type": "code",
   "execution_count": 23,
   "id": "7352b8cc",
   "metadata": {},
   "outputs": [],
   "source": [
    "import hashlib\n",
    "\n",
    "txA = \"Hello\"\n",
    "txB = \"How are you?\""
   ]
  },
  {
   "cell_type": "code",
   "execution_count": 24,
   "id": "9479ac8a",
   "metadata": {
    "scrolled": true
   },
   "outputs": [
    {
     "name": "stdout",
     "output_type": "stream",
     "text": [
      "70bc18bef5ae66b72d1995f8db90a583a60d77b4066e4653f1cead613025861c\n"
     ]
    }
   ],
   "source": [
    "_hA = hashlib.sha256(hashlib.sha256(txA.encode()).digest()).hexdigest()\n",
    "\n",
    "print(_hA)"
   ]
  },
  {
   "cell_type": "markdown",
   "id": "1460b896",
   "metadata": {},
   "source": [
    "## 2. _hA를 바이트교환을 하세요 hA"
   ]
  },
  {
   "cell_type": "code",
   "execution_count": 25,
   "id": "e69b70fb",
   "metadata": {},
   "outputs": [
    {
     "name": "stdout",
     "output_type": "stream",
     "text": [
      "1c86253061adcef153466e06b4770da683a590dbf895192db766aef5be18bc70\n"
     ]
    }
   ],
   "source": [
    "hA = \"\".join(reversed([_hA[i:i+2] for i in range(0, hashlib.sha256(txA.encode()).digest_size*2, 2)]))\n",
    "\n",
    "print(hA)"
   ]
  },
  {
   "cell_type": "markdown",
   "id": "ea0f8815",
   "metadata": {},
   "source": [
    "## 3. txB를 재해싱하세요 (_hB)"
   ]
  },
  {
   "cell_type": "code",
   "execution_count": 26,
   "id": "be3399e8",
   "metadata": {},
   "outputs": [
    {
     "name": "stdout",
     "output_type": "stream",
     "text": [
      "1027ce357faf49fc632d35908db181ae951aa3df9060595d94fb33769d71e7d0\n"
     ]
    }
   ],
   "source": [
    "_hB = hashlib.sha256(hashlib.sha256(txB.encode()).digest()).hexdigest()\n",
    "\n",
    "print(_hB)"
   ]
  },
  {
   "cell_type": "markdown",
   "id": "046e0bc9",
   "metadata": {},
   "source": [
    "## 4. _hB를 바이트교환을 하세요 hB"
   ]
  },
  {
   "cell_type": "code",
   "execution_count": 27,
   "id": "6a16c8a2",
   "metadata": {},
   "outputs": [
    {
     "name": "stdout",
     "output_type": "stream",
     "text": [
      "d0e7719d7633fb945d596090dfa31a95ae81b18d90352d63fc49af7f35ce2710\n"
     ]
    }
   ],
   "source": [
    "hB = \"\".join(reversed([_hB[i:i+2] for i in range(0, hashlib.sha256(txB.encode()).digest_size*2, 2)]))\n",
    "\n",
    "print(hB)"
   ]
  },
  {
   "cell_type": "markdown",
   "id": "fc9602c3",
   "metadata": {},
   "source": [
    "## 5. hA+hB를 하세요 _hAhB"
   ]
  },
  {
   "cell_type": "code",
   "execution_count": 28,
   "id": "1f3eb942",
   "metadata": {},
   "outputs": [
    {
     "name": "stdout",
     "output_type": "stream",
     "text": [
      "1c86253061adcef153466e06b4770da683a590dbf895192db766aef5be18bc70d0e7719d7633fb945d596090dfa31a95ae81b18d90352d63fc49af7f35ce2710\n"
     ]
    }
   ],
   "source": [
    "_hAhB = hA + hB\n",
    "\n",
    "print(_hAhB)"
   ]
  },
  {
   "cell_type": "markdown",
   "id": "c75917b8",
   "metadata": {},
   "source": [
    "## 6. hAB를 재해싱하세요 (_hAB)"
   ]
  },
  {
   "cell_type": "code",
   "execution_count": 31,
   "id": "2b5b4734",
   "metadata": {},
   "outputs": [
    {
     "name": "stdout",
     "output_type": "stream",
     "text": [
      "e0c76d87a5a5c18ab29757603c5d1bda709306203b0a44c53fc6c90fba162903\n"
     ]
    }
   ],
   "source": [
    "_hAB = hashlib.sha256(hashlib.sha256(_hAhB.encode()).digest()).hexdigest()\n",
    "\n",
    "print(_hAB)"
   ]
  },
  {
   "cell_type": "markdown",
   "id": "9e595e98",
   "metadata": {},
   "source": [
    "## 7. _hAB를 바이트교환을 하세요 hAB"
   ]
  },
  {
   "cell_type": "code",
   "execution_count": 33,
   "id": "ea03ac77",
   "metadata": {},
   "outputs": [
    {
     "name": "stdout",
     "output_type": "stream",
     "text": [
      "032916ba0fc9c63fc5440a3b20069370da1b5d3c605797b28ac1a5a5876dc7e0\n"
     ]
    }
   ],
   "source": [
    "hAB = \"\".join(reversed([_hAB[i:i+2] for i in range(0, 32*2, 2)]))\n",
    "\n",
    "print(hAB)"
   ]
  },
  {
   "cell_type": "markdown",
   "id": "5ba4811f",
   "metadata": {},
   "source": [
    "# 연습문제2\n",
    "친구에게  주소를 구하고, 그 주소로 송금해 보자. 송금이 되지 않으면 왜 안되는지 이유를 알아보자.\n",
    "\n",
    "안되면 친구의 주소를 만들고 전송한다.\n",
    "\n",
    "잔고의 증가분을 출력하세요.\n",
    "\n",
    "소요된 gas비용 출력하세요.\n",
    "\n"
   ]
  },
  {
   "cell_type": "code",
   "execution_count": 5,
   "id": "7306c0dd",
   "metadata": {},
   "outputs": [
    {
     "name": "stdout",
     "output_type": "stream",
     "text": [
      "\"0x9b0b6b0b3bbdbd746427c7c3afe05282b52f08dd\"\n"
     ]
    }
   ],
   "source": [
    "# 내 계정\n",
    "\n",
    "!geth --exec eth.coinbase attach http://localhost:8445"
   ]
  },
  {
   "cell_type": "code",
   "execution_count": 6,
   "id": "25b7a032",
   "metadata": {},
   "outputs": [
    {
     "name": "stdout",
     "output_type": "stream",
     "text": [
      "240000000000000000000\n"
     ]
    }
   ],
   "source": [
    "# 친구 계정\n",
    "\n",
    "!geth --exec \"eth.getBalance(eth.accounts[2])\" attach http://localhost:8445"
   ]
  },
  {
   "cell_type": "code",
   "execution_count": 24,
   "id": "2eb670d2",
   "metadata": {},
   "outputs": [
    {
     "name": "stdout",
     "output_type": "stream",
     "text": [
      "Overwriting e_testTran.js\n"
     ]
    }
   ],
   "source": [
    "%%writefile e_testTran.js\n",
    "miner.setEtherbase(eth.accounts[0]);\n",
    "console.log('coinbase: ', eth.coinbase);\n",
    "var bal1=eth.getBalance(eth.coinbase);\n",
    "var bal2=eth.getBalance(eth.accounts[1]);\n",
    "console.log('sender balance in ether: ', web3.fromWei(bal1,\"ether\"));\n",
    "console.log('receiver balance in ether: ', web3.fromWei(bal2,\"ether\"));\n",
    "console.log('median gas price: ', eth.gasPrice);\n",
    "console.log('block number: ', eth.blockNumber);\n",
    "console.log('transaction count: ', eth.getTransactionCount(eth.coinbase));\n",
    "var t = eth.sendTransaction({from:eth.coinbase, to:eth.accounts[1],value:30000});\n",
    "console.log('...mining start');\n",
    "miner.start(1);admin.sleepBlocks(1);miner.stop();\n",
    "console.log('mining done...');\n",
    "var bal1new=eth.getBalance(eth.coinbase);\n",
    "var bal2new=eth.getBalance(eth.accounts[1]);\n",
    "console.log('- new sender balance in ether: ', web3.fromWei(bal1new,\"ether\"));\n",
    "console.log('- new receiver balance in ether: ', web3.fromWei(bal2new,\"ether\"));\n",
    "console.log('- block number: ', eth.blockNumber);\n",
    "console.log('- transaction count: ', eth.getTransactionCount(eth.coinbase));\n",
    "\n",
    "console.log('\\nincreased balance : ', bal2new - bal2);\n",
    "console.log('gasUsed : ', eth.getTransactionReceipt(t).gasUsed);"
   ]
  },
  {
   "cell_type": "code",
   "execution_count": 25,
   "id": "c45bb3ea",
   "metadata": {},
   "outputs": [
    {
     "name": "stdout",
     "output_type": "stream",
     "text": [
      "coinbase:  0x9b0b6b0b3bbdbd746427c7c3afe05282b52f08dd\n",
      "sender balance in ether:  184.99999999999997\n",
      "receiver balance in ether:  170.00000000000003\n",
      "median gas price:  1000000000\n",
      "block number:  119\n",
      "transaction count:  3\n",
      "...mining start\n",
      "mining done...\n",
      "- new sender balance in ether:  189.99999999999994\n",
      "- new receiver balance in ether:  170.00000000000006\n",
      "- block number:  120\n",
      "- transaction count:  4\n",
      "\n",
      "increased balance :  32768\n",
      "gasUsed :  21000\n",
      "true\n"
     ]
    }
   ],
   "source": [
    "!geth --exec \"loadScript('e_testTran.js')\" attach http://localhost:8445"
   ]
  },
  {
   "cell_type": "markdown",
   "id": "eeb5efa9",
   "metadata": {},
   "source": [
    "# 연습문제3\n",
    "블록헤더 데이터의 해시 값에 NONCE를 증가시키면서\n",
    "\n",
    "앞 자리의 0의 개수를 맞출 때까지 반복한다."
   ]
  },
  {
   "cell_type": "markdown",
   "id": "cdf82b2f",
   "metadata": {},
   "source": [
    "## 1. 찾고자 하는 해시가 ```0000```로 시작한다고 하자. 몇 회만에 찾는지 출력하세요."
   ]
  },
  {
   "cell_type": "code",
   "execution_count": 36,
   "id": "63a1c309",
   "metadata": {},
   "outputs": [
    {
     "name": "stdout",
     "output_type": "stream",
     "text": [
      "solved! nonce :  94280  guessHash:  000043ce4a61d02bff0e68ba18a7daf448cb3b93691fdd4850f6cd3f85b7a13f\n"
     ]
    }
   ],
   "source": [
    "import hashlib\n",
    "\n",
    "n = 1\n",
    "found = False\n",
    "blockNumber = 54 # hex\n",
    "nonce = 0\n",
    "data = 'Hello'\n",
    "previousHash = '5d7c7ba21cbbcd75d14800b100252d5b428e5b1213d27c385bc141ca6b47989e'\n",
    "\n",
    "while found == False:\n",
    "    z = str(blockNumber) + str(nonce) + data + previousHash\n",
    "    guessHash = hashlib.sha256(z.encode('utf-8')).hexdigest()\n",
    "    \n",
    "    if guessHash[:4] == '0000':\n",
    "        found = True\n",
    "    nonce += 1\n",
    "    \n",
    "    if (nonce % 10000000 == 0):\n",
    "        print(\"nonce : \", nonce, guessHash)\n",
    "\n",
    "print(\"solved! nonce : \", nonce, \" guessHash: \", guessHash)"
   ]
  },
  {
   "cell_type": "markdown",
   "id": "284ac79a",
   "metadata": {},
   "source": [
    "## 2. 찾고자 하는 해시가 ```00000```로 시작한다고 하자. 몇 회만에 찾는지 출력하세요."
   ]
  },
  {
   "cell_type": "code",
   "execution_count": 3,
   "id": "71ab70c4",
   "metadata": {},
   "outputs": [
    {
     "name": "stdout",
     "output_type": "stream",
     "text": [
      "solved! nonce :  315753  guessHash:  000007f9f69a43f1bb6ab92672d873b93d6bafaa2007e44b6151bd19efadf4d1\n"
     ]
    }
   ],
   "source": [
    "import hashlib\n",
    "\n",
    "n = 1\n",
    "found = False\n",
    "blockNumber = 54 # hex\n",
    "nonce = 0\n",
    "data = 'Hello'\n",
    "previousHash = '5d7c7ba21cbbcd75d14800b100252d5b428e5b1213d27c385bc141ca6b47989e'\n",
    "\n",
    "while found == False:\n",
    "    z = str(blockNumber) + str(nonce) + data + previousHash\n",
    "    guessHash = hashlib.sha256(z.encode('utf-8')).hexdigest()\n",
    "    \n",
    "    if guessHash[:5] == '00000':\n",
    "        found = True\n",
    "    nonce += 1\n",
    "    \n",
    "    if (nonce % 10000000 == 0):\n",
    "        print(\"nonce : \", nonce, guessHash)\n",
    "\n",
    "print(\"solved! nonce : \", nonce, \" guessHash: \", guessHash)"
   ]
  },
  {
   "cell_type": "markdown",
   "id": "e509e4ed",
   "metadata": {},
   "source": [
    "## 3. 찾고자 하는 해시가 ```000000```로 시작한다고 하자. 몇 회만에 찾는지 출력하세요."
   ]
  },
  {
   "cell_type": "code",
   "execution_count": 4,
   "id": "b3c1852b",
   "metadata": {
    "scrolled": true
   },
   "outputs": [
    {
     "name": "stdout",
     "output_type": "stream",
     "text": [
      "nonce :  10000000 660b9e057377381579f5c54347901cf462fce656c069a4d0f26bdd4cf1e05e66\n",
      "nonce :  20000000 c31d3ddd7bb92312bcc2a88263d92e94c6d17a641ac9e59ac262c775c7f58925\n",
      "nonce :  30000000 236077716f4ce428ec83f12bf74fb7ab76450bad60bc3f21d924e200c39a9fa4\n",
      "nonce :  40000000 5b07929bd7088f11d6caf0e65a6f44ab3b7f82d32900430cc7c7244b2917e04d\n",
      "solved! nonce :  45576417  guessHash:  0000003d02b95604bb1ec436ff20e08168dd339f2ec0f9941bfc58bad039994e\n"
     ]
    }
   ],
   "source": [
    "import hashlib\n",
    "\n",
    "n = 1\n",
    "found = False\n",
    "blockNumber = 54 # hex\n",
    "nonce = 0\n",
    "data = 'Hello'\n",
    "previousHash = '5d7c7ba21cbbcd75d14800b100252d5b428e5b1213d27c385bc141ca6b47989e'\n",
    "\n",
    "while found == False:\n",
    "    z = str(blockNumber) + str(nonce) + data + previousHash\n",
    "    guessHash = hashlib.sha256(z.encode('utf-8')).hexdigest()\n",
    "    \n",
    "    if guessHash[:6] == '000000':\n",
    "        found = True\n",
    "    nonce += 1\n",
    "    \n",
    "    if (nonce % 10000000 == 0):\n",
    "        print(\"nonce : \", nonce, guessHash)\n",
    "\n",
    "print(\"solved! nonce : \", nonce, \" guessHash: \", guessHash)"
   ]
  },
  {
   "cell_type": "markdown",
   "id": "a2f370ce",
   "metadata": {},
   "source": [
    "## 난이도가 어떤 경우가 높았으며, 난이도에 따라 찾는 회수의 차이가 있는지 설명하세요."
   ]
  },
  {
   "cell_type": "markdown",
   "id": "2bfcd2a0",
   "metadata": {},
   "source": [
    "난이도는 '000000'을 찾을 때 높았으며 난이도가 높을 수록 찾는 횟수가 증가합니다."
   ]
  },
  {
   "cell_type": "code",
   "execution_count": null,
   "id": "1ebf9667",
   "metadata": {},
   "outputs": [],
   "source": []
  }
 ],
 "metadata": {
  "kernelspec": {
   "display_name": "Python 3 (ipykernel)",
   "language": "python",
   "name": "python3"
  },
  "language_info": {
   "codemirror_mode": {
    "name": "ipython",
    "version": 3
   },
   "file_extension": ".py",
   "mimetype": "text/x-python",
   "name": "python",
   "nbconvert_exporter": "python",
   "pygments_lexer": "ipython3",
   "version": "3.8.10"
  }
 },
 "nbformat": 4,
 "nbformat_minor": 5
}
