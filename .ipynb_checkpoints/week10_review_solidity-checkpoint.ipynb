{
 "cells": [
  {
   "cell_type": "markdown",
   "id": "edbf6722",
   "metadata": {},
   "source": [
    "### 9.2 컨트랙"
   ]
  },
  {
   "cell_type": "code",
   "execution_count": 3,
   "id": "66ac150d",
   "metadata": {},
   "outputs": [
    {
     "name": "stdout",
     "output_type": "stream",
     "text": [
      "Overwriting ../src/SimpleChild.sol\n"
     ]
    }
   ],
   "source": [
    "%%writefile ../src/SimpleChild.sol\n",
    "//SPDX-License-Identifier: GPL-3.0-or-later\n",
    "pragma solidity ^0.8.0;\n",
    "\n",
    "contract Parent {\n",
    "    address owner; \n",
    "    uint private counter;\n",
    "    \n",
    "    constructor() {\n",
    "        owner = msg.sender;\n",
    "        counter = 0;\n",
    "    }\n",
    "    \n",
    "    function add() public { \n",
    "        counter++; \n",
    "    }\n",
    "    function getCounter() public view returns(uint) {\n",
    "        return counter; \n",
    "    }\n",
    "}\n",
    "\n",
    "contract SimpleChild is Parent {\n",
    "    string nickName;\n",
    "    mapping(address => uint) private balances;\n",
    "\n",
    "    event PrintLog(address, uint);\n",
    "\n",
    "    constructor() {}\n",
    "    \n",
    "    function setNickName(string memory s) public {\n",
    "        nickName = s;\n",
    "    } \n",
    "\n",
    "    function getNickName() public view returns(string memory) {\n",
    "        return nickName;\n",
    "    }\n",
    "\n",
    "    function deposit() public payable {\n",
    "        balances[msg.sender] += msg.value;\n",
    "        emit PrintLog(msg.sender, msg.value);\n",
    "    }\n",
    "\n",
    "    function queryBalance() public view returns(uint) {\n",
    "        return balances[msg.sender];\n",
    "    }\n",
    "\n",
    "    function kill() public {\n",
    "        if(msg.sender == owner) {\n",
    "            selfdestruct(payable(owner));\n",
    "        }\n",
    "    }\n",
    "}"
   ]
  },
  {
   "cell_type": "markdown",
   "id": "776a8884",
   "metadata": {},
   "source": [
    "### 9.3 데이터타입"
   ]
  },
  {
   "cell_type": "code",
   "execution_count": 1,
   "id": "435689e9",
   "metadata": {},
   "outputs": [
    {
     "name": "stdout",
     "output_type": "stream",
     "text": [
      "Writing ../src/IntBool.sol\n"
     ]
    }
   ],
   "source": [
    "%%writefile ../src/IntBool.sol\n",
    "//SPDX-License-Identifier: GPL-3.0-or-later\n",
    "pragma solidity ^0.8.0;\n",
    "\n",
    "contract IntBool {\n",
    "    bool married = true;\n",
    "    uint256 xAge = 22;\n",
    "    uint256 yAge = 25;\n",
    "\n",
    "    function update() public {\n",
    "        xAge = yAge;\n",
    "        yAge = 33;\n",
    "    }\n",
    "\n",
    "    function setXAge(int age) public view returns(uint) {\n",
    "        xAge = uint(age);\n",
    "    }\n",
    "\n",
    "    function getXAge() public view returns(uint) {\n",
    "        return xAge;\n",
    "    }\n",
    "\n",
    "    function getYAge() public view returns(uint) {\n",
    "        return yAge;\n",
    "    }\n",
    "\n",
    "    function testInt() public view returns(bool) {\n",
    "        assert(xAge >= 20 && yAge >= 20);\n",
    "        return true;\n",
    "    }\n",
    "\n",
    "    function isMarried() public view returns(bool) {\n",
    "        return married;\n",
    "    }\n",
    "}"
   ]
  },
  {
   "cell_type": "markdown",
   "id": "10f3ad85",
   "metadata": {},
   "source": [
    "### 9.3.5 문자열 bytes, string 사용"
   ]
  },
  {
   "cell_type": "code",
   "execution_count": 2,
   "id": "b7046afe",
   "metadata": {},
   "outputs": [
    {
     "name": "stdout",
     "output_type": "stream",
     "text": [
      "Writing ../src/ByteStringTest.sol\n"
     ]
    }
   ],
   "source": [
    "%%writefile ../src/ByteStringTest.sol\n",
    "//SPDX-License-Identifier: GPL-3.0-or-later\n",
    "pragma solidity ^0.8.0;\n",
    "\n",
    "contract ByteStringTest {\n",
    "    bytes1 b1 = 0xFF;\n",
    "    bytes2 b2 = 0xFFAA;\n",
    "    bytes8 place8 = \"7 hongji\";\n",
    "    bytes23 place23 = \"7 honji-dong jongro-gu\";\n",
    "    bytes place = \"7 honji-dong jongro-gu Seoul\";\n",
    "    bytes myBytes = new bytes(3); \n",
    "    string constant name = \"jsl\";\n",
    "\n",
    "    function getB1() public view returns(bytes1) {\n",
    "        return b1;\n",
    "    }\n",
    "\n",
    "    function getB2() public view returns(bytes2) {\n",
    "        return b2;\n",
    "    }\n",
    "\n",
    "    function getB23() public view returns(bytes23) {\n",
    "        return place23;\n",
    "    }\n",
    "\n",
    "    function getBytes() public view returns(bytes memory) {\n",
    "        return myBytes;\n",
    "    }\n",
    "\n",
    "    function getLengOfBytes23() public view returns(uint) { // 왜 순서가 바껴있지?\n",
    "        return place23.length;\n",
    "    }\n",
    "\n",
    "    function getLenOfBytes() pure public returns(uint) { // 왜 선언을 해줘야 하는지, 그냥 place23 하면 안됨?\n",
    "        bytes memory bm = \"7 honji-dong jongro-gu\";\n",
    "        return bm.length;\n",
    "        // return place23.length;\n",
    "    }\n",
    "\n",
    "    function setB2(bytes2 _b2) public {\n",
    "        b2 = _b2;\n",
    "    }\n",
    "\n",
    "    function setBytes() public {\n",
    "        myBytes = \"smu\";\n",
    "    }\n",
    "\n",
    "    function getLenOfstring() pure public returns(uint) {\n",
    "        string memory nameLocal = \"jslLocal\";\n",
    "        return bytes(nameLocal).length;\n",
    "    }\n",
    "\n",
    "    function getString() pure public returns(string memory) {\n",
    "        string memory s = \"\\xec\\x95\\x88\\xeb\\x85\\x95\";\n",
    "        return s;\n",
    "    }\n",
    "}"
   ]
  },
  {
   "cell_type": "markdown",
   "id": "01a95ab5",
   "metadata": {},
   "source": [
    "### 9.3.6 struct"
   ]
  },
  {
   "cell_type": "code",
   "execution_count": 3,
   "id": "7ff66ffa",
   "metadata": {},
   "outputs": [
    {
     "name": "stdout",
     "output_type": "stream",
     "text": [
      "Writing ../src/StructTest.sol\n"
     ]
    }
   ],
   "source": [
    "%%writefile ../src/StructTest.sol\n",
    "//SPDX-License-Identifier: GPL-3.0-or-later\n",
    "pragma solidity ^0.8.0;\n",
    "\n",
    "contract StructTest {\n",
    "    struct Student {\n",
    "        uint num;\n",
    "        string name;\n",
    "        bool isEnrolled;\n",
    "    }\n",
    "\n",
    "    Student s1 = Student(201911111, \"jslim\", true);\n",
    "    Student s2;\n",
    "\n",
    "    function setStudent2(uint n, string memory sn, bool e) public {\n",
    "        s2.num = n;\n",
    "        s2.name = sn;\n",
    "        s2.isEnrolled = e;\n",
    "    }\n",
    "\n",
    "    function getStudent1() public view returns(uint, string memory, bool) {\n",
    "        return (s1.num, s1.name, s1.isEnrolled);\n",
    "    }\n",
    "\n",
    "    function getStudent2() public view returns(uint, string memory, bool) {\n",
    "        return (s2.num, s2.name, s2.isEnrolled);\n",
    "    }\n",
    "\n",
    "    function getStudentName() pure public returns(string memory) {\n",
    "        Student memory s3 = Student(201911112, \"jsl3\", true);\n",
    "        return s3.name;\n",
    "    }\n",
    "}"
   ]
  },
  {
   "cell_type": "markdown",
   "id": "6b893ad8",
   "metadata": {},
   "source": [
    "### 9.3.7 enum"
   ]
  },
  {
   "cell_type": "code",
   "execution_count": 4,
   "id": "af0f7b79",
   "metadata": {},
   "outputs": [
    {
     "name": "stdout",
     "output_type": "stream",
     "text": [
      "Writing ../src/EnumTest.sol\n"
     ]
    }
   ],
   "source": [
    "%%writefile ../src/EnumTest.sol\n",
    "//SPDX-License-Identifier: GPL-3.0-or-later\n",
    "pragma solidity ^0.8.0;\n",
    "\n",
    "contract EnumTest {\n",
    "    enum Day {MONDAY, TUESDAY, WEDNESDAY, THURSDAY, FRIDAY, SATURDAY, SUNDAY}\n",
    "    Day myDay = Day.FRIDAY;\n",
    "\n",
    "    function getMyDay() public view returns(Day) {\n",
    "        return myDay;\n",
    "    }\n",
    "\n",
    "    function setMyDay(Day d) public {\n",
    "        myDay = d;\n",
    "    }\n",
    "\n",
    "    function setMyDayInt(uint d) public {\n",
    "        myDay = Day(d);\n",
    "    }\n",
    "}"
   ]
  },
  {
   "cell_type": "markdown",
   "id": "d65dcf1c",
   "metadata": {},
   "source": [
    "### 9.3.8 배열 "
   ]
  },
  {
   "cell_type": "code",
   "execution_count": 5,
   "id": "0618bac5",
   "metadata": {},
   "outputs": [
    {
     "name": "stdout",
     "output_type": "stream",
     "text": [
      "Writing ../src/ArrayTest.sol\n"
     ]
    }
   ],
   "source": [
    "%%writefile ../src/ArrayTest.sol\n",
    "//SPDX-License-Identifier: GPL-3.0-or-later\n",
    "pragma solidity ^0.8.0;\n",
    "\n",
    "contract ArrayTest {\n",
    "    uint[3] ages = [15, 25, 35];\n",
    "    int[] marks;\n",
    "\n",
    "    function updateAges(uint index, uint val) public {\n",
    "        if(index >= 0 && index <= 2)\n",
    "        ages[index] = val;\n",
    "    }\n",
    "\n",
    "    function initMarks() public {\n",
    "        marks = new int[](5);\n",
    "    }\n",
    "\n",
    "    function appendMark(int mark) public {\n",
    "        marks.push(mark);\n",
    "    }\n",
    "\n",
    "    function popMark() public {\n",
    "        marks.pop();\n",
    "    }\n",
    "\n",
    "    function getMarks() public view returns(int[] memory) {\n",
    "        return marks;\n",
    "    }\n",
    "\n",
    "    function getAges() public view returns(uint[3] memory) {\n",
    "        return ages;\n",
    "    }\n",
    "\n",
    "    function getLenOfArr() pure public returns(uint) {\n",
    "        uint8[3] memory intArr = [0, 1, 2];\n",
    "        return intArr.length;\n",
    "    }\n",
    "}"
   ]
  },
  {
   "cell_type": "code",
   "execution_count": null,
   "id": "0ca8c253",
   "metadata": {},
   "outputs": [],
   "source": []
  }
 ],
 "metadata": {
  "kernelspec": {
   "display_name": "Python 3 (ipykernel)",
   "language": "python",
   "name": "python3"
  },
  "language_info": {
   "codemirror_mode": {
    "name": "ipython",
    "version": 3
   },
   "file_extension": ".py",
   "mimetype": "text/x-python",
   "name": "python",
   "nbconvert_exporter": "python",
   "pygments_lexer": "ipython3",
   "version": "3.8.10"
  }
 },
 "nbformat": 4,
 "nbformat_minor": 5
}
