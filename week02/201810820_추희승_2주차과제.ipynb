{
 "cells": [
  {
   "cell_type": "markdown",
   "id": "a9d40ed8",
   "metadata": {},
   "source": [
    "# 1. 'Code/학번/' 디렉토리와 그 하위 디렉토리를 구성하고, 화면 출력 제출"
   ]
  },
  {
   "cell_type": "markdown",
   "id": "6deb8e5d",
   "metadata": {},
   "source": [
    "![q1](./1번출력화면.png)"
   ]
  },
  {
   "cell_type": "markdown",
   "id": "a0ee9822",
   "metadata": {},
   "source": [
    "# 2. 'solc --version'을 실행하여, 설치된 버전을 출력하고 화면 출력 제출"
   ]
  },
  {
   "cell_type": "markdown",
   "id": "756c7d70",
   "metadata": {},
   "source": [
    "![q2](./2번출력화면.png)"
   ]
  },
  {
   "cell_type": "markdown",
   "id": "1c182b3a",
   "metadata": {},
   "source": [
    "# 3. 'geth -h'로 geth의 도움말을 출력하고 화면 출력 제출"
   ]
  },
  {
   "cell_type": "markdown",
   "id": "2454e6ed",
   "metadata": {},
   "source": [
    "![q3](./3번출력화면.png)"
   ]
  },
  {
   "cell_type": "markdown",
   "id": "a47d34ad",
   "metadata": {},
   "source": [
    "# 4. 메인네트워크 접속하고 'admin.nodeInfo' 출력하고, 화면출력 제출"
   ]
  },
  {
   "cell_type": "markdown",
   "id": "270cbcad",
   "metadata": {},
   "source": [
    "### 메인 네트워크 접속\n",
    "![q4](./4번출력화면-접속.png)"
   ]
  },
  {
   "cell_type": "markdown",
   "id": "d476026d",
   "metadata": {},
   "source": [
    "### admin.nodeInfo\n",
    "![q4-nodeinfo](./4번출력화면-nodeinfo.png)"
   ]
  },
  {
   "cell_type": "markdown",
   "id": "b8099f49",
   "metadata": {},
   "source": [
    "# 5. 테스트네트워크 접속하고 'admin.nodeInfo' 출력하고, 화면출력 제출"
   ]
  },
  {
   "cell_type": "markdown",
   "id": "65999da2",
   "metadata": {},
   "source": [
    "### 테스트 네트워크 접속\n",
    "![q5](./5번출력화면-접속.png)"
   ]
  },
  {
   "cell_type": "markdown",
   "id": "a3e75737",
   "metadata": {},
   "source": [
    "### admin.nodeInfo\n",
    "![q5-1](./5번출력화면-nodeinfo.png)"
   ]
  },
  {
   "cell_type": "markdown",
   "id": "5182802c",
   "metadata": {},
   "source": [
    "# 6. 사설망 개설한 (로그가 출력되는) 화면출력 제출"
   ]
  },
  {
   "cell_type": "markdown",
   "id": "0a4bfd96",
   "metadata": {},
   "source": [
    "![q6](./6번출력화면.png)"
   ]
  },
  {
   "cell_type": "markdown",
   "id": "4cbc25e6",
   "metadata": {},
   "source": [
    "# 7. 사설망 계정을 생성하고, 충전한 후, 잔액을 출력한 화면출력 제출"
   ]
  },
  {
   "cell_type": "markdown",
   "id": "5e95b67f",
   "metadata": {},
   "source": [
    "### 사설망 계정 생성\n",
    "![q7-계정생성](./7번출력화면-사설망계정생성.png)"
   ]
  },
  {
   "cell_type": "markdown",
   "id": "0fee4e70",
   "metadata": {},
   "source": [
    "### 충전 후 잔액 출력\n",
    "![q7-충전후잔액](./7번출력화면-충전후잔액출력.png)"
   ]
  }
 ],
 "metadata": {
  "kernelspec": {
   "display_name": "Python 3 (ipykernel)",
   "language": "python",
   "name": "python3"
  },
  "language_info": {
   "codemirror_mode": {
    "name": "ipython",
    "version": 3
   },
   "file_extension": ".py",
   "mimetype": "text/x-python",
   "name": "python",
   "nbconvert_exporter": "python",
   "pygments_lexer": "ipython3",
   "version": "3.8.10"
  }
 },
 "nbformat": 4,
 "nbformat_minor": 5
}
