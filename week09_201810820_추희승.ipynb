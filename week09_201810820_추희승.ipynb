{
 "cells": [
  {
   "cell_type": "markdown",
   "id": "54add4e0",
   "metadata": {},
   "source": [
    "# HelloInString.sol"
   ]
  },
  {
   "cell_type": "code",
   "execution_count": 1,
   "id": "b1ab3b13",
   "metadata": {},
   "outputs": [
    {
     "name": "stdout",
     "output_type": "stream",
     "text": [
      "Writing src/HelloInString.sol\n"
     ]
    }
   ],
   "source": [
    "%%writefile src/HelloInString.sol\n",
    "//SPDX-License-Identifier: GPL-3.0-or-later\n",
    "pragma solidity ^0.8.12;\n",
    "\n",
    "contract HelloInString {\n",
    "    string toWhom = \"smu\";\n",
    "\n",
    "    function sayHello() view public returns(string memory) {\n",
    "        string memory hello = \"hello \";\n",
    "        // toWhom = \"smu\";\n",
    "        return string.concat(hello, toWhom);\n",
    "    }\n",
    "\n",
    "    function setWhom(string memory whom) public {\n",
    "        toWhom = whom;\n",
    "    }\n",
    "\n",
    "    function getWhom() view public returns(string memory) {\n",
    "        return toWhom;\n",
    "    }\n",
    "}"
   ]
  },
  {
   "cell_type": "markdown",
   "id": "aea7257b",
   "metadata": {},
   "source": [
    "### deploy 완료 로그 (465586 gas)"
   ]
  },
  {
   "cell_type": "code",
   "execution_count": null,
   "id": "d50910f9",
   "metadata": {},
   "outputs": [],
   "source": [
    "[vm]from: 0x5B3...eddC4to: HelloInString.(constructor)value: 0 weidata: 0x608...c0033logs: 0hash: 0x8a9...a56d5\n",
    "status\ttrue Transaction mined and execution succeed\n",
    "transaction hash\t0x8a98807a0e807597b9b4bb0504819204f76ea09fecd84984312571ac509a56d5\n",
    "from\t0x5B38Da6a701c568545dCfcB03FcB875f56beddC4\n",
    "to\tHelloInString.(constructor)\n",
    "gas\t465586 gas\n",
    "transaction cost\t404857 gas \n",
    "execution cost\t404857 gas \n",
    "input\t0x608...c0033\n",
    "decoded input\t{}\n",
    "decoded output\t - \n",
    "logs\t[]\n",
    "val\t0 wei"
   ]
  },
  {
   "cell_type": "markdown",
   "id": "ff43c175",
   "metadata": {},
   "source": [
    "### setWhom 함수 실행 로그"
   ]
  },
  {
   "cell_type": "code",
   "execution_count": null,
   "id": "da12a4f5",
   "metadata": {},
   "outputs": [],
   "source": [
    "[vm]from: 0x5B3...eddC4to: HelloInString.setWhom(string) 0xf8e...9fBe8value: 0 weidata: 0x1c8...00000logs: 0hash: 0xc12...7bb6e\n",
    "status\ttrue Transaction mined and execution succeed\n",
    "transaction hash\t0xc1262e73e57a51a18edbc6c83a382b8c7c30ffc679551e38cfd9efc82517bb6e\n",
    "from\t0x5B38Da6a701c568545dCfcB03FcB875f56beddC4\n",
    "to\tHelloInString.setWhom(string) 0xf8e81D47203A594245E36C48e151709F0C19fBe8\n",
    "gas\t34636 gas\n",
    "transaction cost\t30118 gas \n",
    "execution cost\t30118 gas \n",
    "input\t0x1c8...00000\n",
    "decoded input\t{\n",
    "\t\"string whom\": \"chu\"\n",
    "}\n",
    "decoded output\t{}\n",
    "logs\t[]\n",
    "val\t0 wei"
   ]
  },
  {
   "cell_type": "markdown",
   "id": "2e8a3ab7",
   "metadata": {},
   "source": [
    "### getWhom 함수 실행 로그"
   ]
  },
  {
   "cell_type": "code",
   "execution_count": null,
   "id": "9bbc8fb6",
   "metadata": {},
   "outputs": [],
   "source": [
    "[call]from: 0x5B38Da6a701c568545dCfcB03FcB875f56beddC4to: HelloInString.getWhom()data: 0x3c5...00c0e\n",
    "from\t0x5B38Da6a701c568545dCfcB03FcB875f56beddC4\n",
    "to\tHelloInString.getWhom() 0xf8e81D47203A594245E36C48e151709F0C19fBe8\n",
    "execution cost\t24527 gas (Cost only applies when called by a contract)\n",
    "input\t0x3c5...00c0e\n",
    "decoded input\t{}\n",
    "decoded output\t{\n",
    "\t\"0\": \"string: chu\"\n",
    "}\n",
    "logs\t[]"
   ]
  },
  {
   "cell_type": "markdown",
   "id": "b6ec94f8",
   "metadata": {},
   "source": [
    "### sayHello 함수 실행 로그 (24751 gas)"
   ]
  },
  {
   "cell_type": "code",
   "execution_count": null,
   "id": "9118531f",
   "metadata": {},
   "outputs": [],
   "source": [
    "[call]from: 0x5B38Da6a701c568545dCfcB03FcB875f56beddC4to: HelloInString.sayHello()data: 0xef5...fb05b\n",
    "from\t0x5B38Da6a701c568545dCfcB03FcB875f56beddC4\n",
    "to\tHelloInString.sayHello() 0xf8e81D47203A594245E36C48e151709F0C19fBe8\n",
    "execution cost\t24751 gas (Cost only applies when called by a contract)\n",
    "input\t0xef5...fb05b\n",
    "decoded input\t{}\n",
    "decoded output\t{\n",
    "\t\"0\": \"string: hello chu\"\n",
    "}\n",
    "logs\t[]"
   ]
  },
  {
   "cell_type": "markdown",
   "id": "41aa2a8b",
   "metadata": {},
   "source": [
    "# HelloInBytes.sol"
   ]
  },
  {
   "cell_type": "code",
   "execution_count": 2,
   "id": "6e70880d",
   "metadata": {},
   "outputs": [
    {
     "name": "stdout",
     "output_type": "stream",
     "text": [
      "Writing src/HelloInBytes.sol\n"
     ]
    }
   ],
   "source": [
    "%%writefile src/HelloInBytes.sol\n",
    "//SPDX-License-Identifier: GPL-3.0-or-later\n",
    "pragma solidity ^0.8.12;\n",
    "\n",
    "contract HelloInBytes {\n",
    "    bytes toWhom = \"smu\";\n",
    "\n",
    "    function sayHello() view public returns(bytes memory) {\n",
    "        return bytes.concat(\"hello \", toWhom);\n",
    "    }\n",
    "\n",
    "    function setWhom(bytes memory whom) public {\n",
    "        toWhom = whom;\n",
    "    }\n",
    "\n",
    "    function getWhom() view public returns(bytes memory) {\n",
    "        return toWhom;\n",
    "    }\n",
    "}"
   ]
  },
  {
   "cell_type": "markdown",
   "id": "f66c5c1b",
   "metadata": {},
   "source": [
    "### deploy 완료 로그 (465586 gas)"
   ]
  },
  {
   "cell_type": "code",
   "execution_count": null,
   "id": "65c7ab15",
   "metadata": {},
   "outputs": [],
   "source": [
    "[vm]from: 0x5B3...eddC4to: HelloInString.(constructor)value: 0 weidata: 0x608...c0033logs: 0hash: 0x240...5bf88\n",
    "status\ttrue Transaction mined and execution succeed\n",
    "transaction hash\t0x240408dc069ff66c9ee69696d09b53c676cba43dc6e364076243e6b4db75bf88\n",
    "from\t0x5B38Da6a701c568545dCfcB03FcB875f56beddC4\n",
    "to\tHelloInString.(constructor)\n",
    "gas\t465586 gas\n",
    "transaction cost\t404857 gas \n",
    "execution cost\t404857 gas \n",
    "input\t0x608...c0033\n",
    "decoded input\t{}\n",
    "decoded output\t - \n",
    "logs\t[]\n",
    "val\t0 wei"
   ]
  },
  {
   "cell_type": "markdown",
   "id": "7a53abf3",
   "metadata": {},
   "source": [
    "### setWhom 함수 실행 로그"
   ]
  },
  {
   "cell_type": "code",
   "execution_count": null,
   "id": "18ca93d5",
   "metadata": {},
   "outputs": [],
   "source": [
    "[vm]from: 0x5B3...eddC4to: HelloInString.(fallback) 0xcD6...99Df9value: 0 weidata: 0x820...00000logs: 0hash: 0x594...a9baf\n",
    "status\ttrue Transaction mined and execution succeed\n",
    "transaction hash\t0x5941f35f9d8a6776f493f22eeaf79afa9ae513defafbfebb0b77d9142f9a9baf\n",
    "from\t0x5B38Da6a701c568545dCfcB03FcB875f56beddC4\n",
    "to\tHelloInString.(fallback) 0xcD6a42782d230D7c13A74ddec5dD140e55499Df9\n",
    "gas\t34661 gas\n",
    "transaction cost\t30140 gas \n",
    "execution cost\t30140 gas \n",
    "input\t0x820...00000\n",
    "decoded input\t-\n",
    "decoded output\t - \n",
    "logs\t[]\n",
    "val\t0 wei"
   ]
  },
  {
   "cell_type": "markdown",
   "id": "2d16cb21",
   "metadata": {},
   "source": [
    "### getWhom 함수 실행 로그"
   ]
  },
  {
   "cell_type": "code",
   "execution_count": null,
   "id": "f339ff27",
   "metadata": {},
   "outputs": [],
   "source": [
    "[call]from: 0x5B38Da6a701c568545dCfcB03FcB875f56beddC4to: HelloInString.getWhom()data: 0x3c5...00c0e\n",
    "from\t0x5B38Da6a701c568545dCfcB03FcB875f56beddC4\n",
    "to\tHelloInString.getWhom() 0xcD6a42782d230D7c13A74ddec5dD140e55499Df9\n",
    "execution cost\t24505 gas (Cost only applies when called by a contract)\n",
    "input\t0x3c5...00c0e\n",
    "decoded input\t{}\n",
    "decoded output\t{\n",
    "\t\"0\": \"string: chu\"\n",
    "}\n",
    "logs\t[]"
   ]
  },
  {
   "cell_type": "markdown",
   "id": "e844d393",
   "metadata": {},
   "source": [
    "### sayHello 함수 실행 로그 (24367 gas)"
   ]
  },
  {
   "cell_type": "code",
   "execution_count": null,
   "id": "5e7d296a",
   "metadata": {},
   "outputs": [],
   "source": [
    "[call]from: 0x5B38Da6a701c568545dCfcB03FcB875f56beddC4to: HelloInString.sayHello()data: 0xef5...fb05b\n",
    "from\t0x5B38Da6a701c568545dCfcB03FcB875f56beddC4\n",
    "to\tHelloInString.sayHello() 0xcD6a42782d230D7c13A74ddec5dD140e55499Df9\n",
    "execution cost\t24367 gas (Cost only applies when called by a contract)\n",
    "input\t0xef5...fb05b\n",
    "decoded input\t{}\n",
    "decoded output\t{\n",
    "\t\"0\": \"string: hello chu\"\n",
    "}\n",
    "logs\t[]"
   ]
  },
  {
   "cell_type": "markdown",
   "id": "119e9a04",
   "metadata": {},
   "source": [
    "# gas 비교\n",
    "- deploy 실행 gas는 String과 Bytes가 동일합니다.\n",
    "- sayHello() 함수 실행 gas는 String(24751 gas), Bytes(24367 gas) 입니다. String일 때 gas가 더 많이 사용되었습니다."
   ]
  }
 ],
 "metadata": {
  "kernelspec": {
   "display_name": "Python 3 (ipykernel)",
   "language": "python",
   "name": "python3"
  },
  "language_info": {
   "codemirror_mode": {
    "name": "ipython",
    "version": 3
   },
   "file_extension": ".py",
   "mimetype": "text/x-python",
   "name": "python",
   "nbconvert_exporter": "python",
   "pygments_lexer": "ipython3",
   "version": "3.8.10"
  }
 },
 "nbformat": 4,
 "nbformat_minor": 5
}
