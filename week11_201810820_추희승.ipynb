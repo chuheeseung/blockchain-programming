{
 "cells": [
  {
   "cell_type": "markdown",
   "id": "523878fd",
   "metadata": {},
   "source": [
    "### BankWeek11.sol"
   ]
  },
  {
   "cell_type": "code",
   "execution_count": 93,
   "id": "2923e347",
   "metadata": {
    "scrolled": true
   },
   "outputs": [
    {
     "name": "stdout",
     "output_type": "stream",
     "text": [
      "Overwriting src/BankWeek11.sol\n"
     ]
    }
   ],
   "source": [
    "%%writefile src/BankWeek11.sol\n",
    "pragma solidity ^0.6.4;\n",
    "\n",
    "contract BankWeek11 {\n",
    "    address payable owner;\n",
    "    uint balance;\n",
    "    event PrintLog(address from, uint amount);\n",
    "    constructor() public {\n",
    "        owner = msg.sender;\n",
    "        balance = 0;\n",
    "    }\n",
    "    function deposit(uint amount) public payable {\n",
    "        require(msg.value == amount);\n",
    "        balance += amount;\n",
    "    }\n",
    "    function widthdrawAll() public {\n",
    "        owner.transfer(balance);\n",
    "        balance = 0;\n",
    "    }\n",
    "    function getBalance() public view returns(uint, uint) {\n",
    "        return (balance, address(this).balance);\n",
    "    }\n",
    "    function forwardTo(address payable _receiver) public payable {\n",
    "        balance -= msg.value;\n",
    "        owner.transfer(msg.value);\n",
    "        _receiver.transfer(msg.value);\n",
    "    }\n",
    "    fallback () external payable {\n",
    "        emit PrintLog(msg.sender, msg.value);\n",
    "    }\n",
    "}"
   ]
  },
  {
   "cell_type": "code",
   "execution_count": 95,
   "id": "ef8687cf",
   "metadata": {
    "scrolled": true
   },
   "outputs": [
    {
     "name": "stdout",
     "output_type": "stream",
     "text": [
      "[\n",
      "  '0xb7054D73E55837c8Ec842bC4309351F1491d7a3c',\n",
      "  '0x94A3563a199a7f0605263D52245437Dfd25Dcfe1',\n",
      "  '0xFa9cd958240b624afe7A857f439D1957915acbEE',\n",
      "  '0x9C18FF9A52e5aeC6De23dd07196dBB4D6631A7ce',\n",
      "  '0xd6e05a2894A8DA9892e158cFA66DA337c193f639',\n",
      "  '0x1B3f04F37b7DE955163a964943B816d015d68774',\n",
      "  '0xFFEa72C92c75a0658888f81A121Fa6B77707b3B5',\n",
      "  '0xba9a12DC86b929c9a151Ddce9C56Adf45DEAf1FF',\n",
      "  '0x0C1C3D4FD262d8Cb62503398621a1Fd8614Ecc09',\n",
      "  '0x88E62D024Dc4585084eddC9747B8406D806eA62d'\n",
      "]\n"
     ]
    }
   ],
   "source": [
    "!node src/getMyAddr.js"
   ]
  },
  {
   "cell_type": "code",
   "execution_count": 99,
   "id": "64a04884",
   "metadata": {},
   "outputs": [
    {
     "name": "stderr",
     "output_type": "stream",
     "text": [
      "Warning: This contract has a payable fallback function, but no receive ether function. Consider adding a receive ether function.\n",
      " --> src/BankWeek11.sol:3:1:\n",
      "  |\n",
      "3 | contract BankWeek11 {\n",
      "  | ^ (Relevant source part starts here and spans across multiple lines).\n",
      "Note: The payable fallback function is defined here.\n",
      "  --> src/BankWeek11.sol:27:5:\n",
      "   |\n",
      "27 |     fallback () external payable {\n",
      "   |     ^ (Relevant source part starts here and spans across multiple lines).\n",
      "\n"
     ]
    }
   ],
   "source": [
    "!solc --optimize --combined-json abi,bin src/BankWeek11.sol > src/Bank.json"
   ]
  },
  {
   "cell_type": "markdown",
   "id": "38367a5d",
   "metadata": {},
   "source": [
    "### BankWeek11Deploy.js"
   ]
  },
  {
   "cell_type": "code",
   "execution_count": 100,
   "id": "da7f9aa5",
   "metadata": {},
   "outputs": [
    {
     "name": "stdout",
     "output_type": "stream",
     "text": [
      "Writing src/BankDeploy.js\n"
     ]
    }
   ],
   "source": [
    "%%writefile src/BankDeploy.js\n",
    "var Web3=require('web3');\n",
    "var web3;\n",
    "var _abiBinJson = require('./Bank.json');\n",
    "contractName=Object.keys(_abiBinJson.contracts);\n",
    "_abi=_abiBinJson.contracts[contractName].abi;\n",
    "_abiArray=JSON.parse(_abi);\n",
    "_bin=_abiBinJson.contracts[contractName].bin;\n",
    "if (typeof web3 !== 'undefined') {\n",
    "    web3 = new Web3(web3.currentProvider);\n",
    "} else {\n",
    "    web3 = new Web3(new Web3.providers.HttpProvider(\"http://localhost:8345\"));\n",
    "}\n",
    "//var _abiArray=[{\"inputs\":[],\"stateMutability\":\"nonpayable\",\"type\":\"constructor\"},{\"anonymous\":false,\"inputs\":[{\"indexed\":false,\"internalType\":\"address\",\"name\":\"from\",\"type\":\"address\"},{\"indexed\":false,\"internalType\":\"uint256\",\"name\":\"amount\",\"type\":\"uint256\"}],\"name\":\"PrintLog\",\"type\":\"event\"},{\"stateMutability\":\"payable\",\"type\":\"fallback\"},{\"inputs\":[{\"internalType\":\"uint256\",\"name\":\"amount\",\"type\":\"uint256\"}],\"name\":\"deposit\",\"outputs\":[],\"stateMutability\":\"payable\",\"type\":\"function\"},{\"inputs\":[{\"internalType\":\"address payable\",\"name\":\"_receiver\",\"type\":\"address\"}],\"name\":\"forwardTo\",\"outputs\":[],\"stateMutability\":\"payable\",\"type\":\"function\"},{\"inputs\":[],\"name\":\"getBalance\",\"outputs\":[{\"internalType\":\"uint256\",\"name\":\"\",\"type\":\"uint256\"},{\"internalType\":\"uint256\",\"name\":\"\",\"type\":\"uint256\"}],\"stateMutability\":\"view\",\"type\":\"function\"},{\"inputs\":[],\"name\":\"widthdrawAll\",\"outputs\":[],\"stateMutability\":\"nonpayable\",\"type\":\"function\"}];\n",
    "//var _bin=\"608060405234801561001057600080fd5b50336000806101000a81548173ffffffffffffffffffffffffffffffffffffffff021916908373ffffffffffffffffffffffffffffffffffffffff1602179055506000600181905550610306806100686000396000f3fe6080604052600436106100435760003560e01c806312065fe0146100b157806327d8ad88146100e35780633c45937514610127578063b6b55f251461013e57610044565b5b7fac247564f70be8d5e06a6068acf596e7bbca33994b256697b38d49095d4f38053334604051808373ffffffffffffffffffffffffffffffffffffffff1673ffffffffffffffffffffffffffffffffffffffff1681526020018281526020019250505060405180910390a1005b3480156100bd57600080fd5b506100c661016c565b604051808381526020018281526020019250505060405180910390f35b610125600480360360208110156100f957600080fd5b81019080803573ffffffffffffffffffffffffffffffffffffffff16906020019092919050505061017b565b005b34801561013357600080fd5b5061013c61023d565b005b61016a6004803603602081101561015457600080fd5b81019080803590602001909291905050506102b1565b005b60008060015447915091509091565b346001600082825403925050819055506000809054906101000a900473ffffffffffffffffffffffffffffffffffffffff1673ffffffffffffffffffffffffffffffffffffffff166108fc349081150290604051600060405180830381858888f193505050501580156101f2573d6000803e3d6000fd5b508073ffffffffffffffffffffffffffffffffffffffff166108fc349081150290604051600060405180830381858888f19350505050158015610239573d6000803e3d6000fd5b5050565b6000809054906101000a900473ffffffffffffffffffffffffffffffffffffffff1673ffffffffffffffffffffffffffffffffffffffff166108fc6001549081150290604051600060405180830381858888f193505050501580156102a6573d6000803e3d6000fd5b506000600181905550565b8034146102bd57600080fd5b806001600082825401925050819055505056fea26469706673582212202790db2f0f1c60453ae9e7f7e7d722264b57315068de195f9d0ad0bd2e4bef3a64736f6c63430006040033\"\n",
    "var _contract = new web3.eth.Contract(_abiArray);\n",
    "_contract\n",
    "    .deploy({data:\"0x\"+_bin})\n",
    "    .send({from: \"0xb7054D73E55837c8Ec842bC4309351F1491d7a3c\", gas: 800000, gasPrice: '10000000000000'})\n",
    "    .then(function(newContractInstance){\n",
    "        console.log(newContractInstance.options.address) // instance with the new contract address\n",
    "    });"
   ]
  },
  {
   "cell_type": "code",
   "execution_count": 101,
   "id": "60424471",
   "metadata": {},
   "outputs": [
    {
     "name": "stdout",
     "output_type": "stream",
     "text": [
      "0x6FE9d295Af9C78B91Eb99510E8F97d74570d2b64\n"
     ]
    }
   ],
   "source": [
    "!node src/BankDeploy.js"
   ]
  },
  {
   "cell_type": "markdown",
   "id": "fcc3a0f7",
   "metadata": {},
   "source": [
    "### BankUse.js"
   ]
  },
  {
   "cell_type": "code",
   "execution_count": 104,
   "id": "94d86cc4",
   "metadata": {},
   "outputs": [
    {
     "name": "stdout",
     "output_type": "stream",
     "text": [
      "Overwriting src/BankUse.js\n"
     ]
    }
   ],
   "source": [
    "%%writefile src/BankUse.js\n",
    "var Web3=require('web3');\n",
    "var fs = require('fs');\n",
    "var _abiBinJson = require('./Bank.json');      //importing a javascript file\n",
    "var web3 = new Web3(new Web3.providers.WebsocketProvider(\"ws://localhost:8345\"));\n",
    "contractName=Object.keys(_abiBinJson.contracts); //\n",
    "\n",
    "_abi=_abiBinJson.contracts[contractName].abi; //use just as read from file\n",
    "_abiArray=JSON.parse(JSON.stringify(_abi));\n",
    "_abiArray=JSON.parse(_abi);      //JSON parsing needed!!\n",
    "\n",
    "\n",
    "async function doIt() {\n",
    "    var myBank = new web3.eth.Contract(_abiArray, '0x6FE9d295Af9C78B91Eb99510E8F97d74570d2b64');\n",
    "    var event = myBank.events.PrintLog({fromBlock: 0}, function (error, result) {\n",
    "        if (!error) {\n",
    "            log = JSON.stringify(result.returnValues);\n",
    "            console.log(\"Event fired: \" + log);\n",
    "        }\n",
    "    });\n",
    "    const accounts = await web3.eth.getAccounts();\n",
    "    await myBank.methods.deposit(11111).send({from:accounts[0] , gas:259210, value: 11111});\n",
    "    await myBank.methods.deposit(222).send({from:accounts[0] , gas:259210, value: 222});;\n",
    "    \n",
    "    // 11333 wei 출력\n",
    "    const balanceJson = await myBank.methods.getBalance().call();\n",
    "    balance = JSON.stringify(balanceJson);\n",
    "    console.log(\"Balance: \" + balance);\n",
    "    //console.log(\"bankBalance: \"+ bankBalance)\n",
    "    \n",
    "    // 333 wei 이체\n",
    "    await myBank.methods.forwardTo(accounts[1]).send({from: accounts[0] , gas:259210, value: 333});\n",
    "    \n",
    "    //11000 wei 출력\n",
    "    const balanceJson2 = await myBank.methods.getBalance().call();\n",
    "    const balance2 = JSON.stringify(balanceJson2);\n",
    "    console.log(\"Balance: \" + balance2);\n",
    "    \n",
    "    // 333 wei 출력\n",
    "\n",
    "    balance = await web3.eth.getBalance(accounts[1]);\n",
    "    console.log(\"Balance of account[1]: \" + balance);\n",
    "   \n",
    "    // widthdrawall 이전 잔고\n",
    "    balancebefore = await web3.eth.getBalance(accounts[0]);\n",
    "    console.log(\"Balance before withdrawal: \" + balancebefore);\n",
    "    console.log(\"widthdrawing....\");\n",
    "    await myBank.methods.widthdrawAll().send({from:accounts[0]});\n",
    "  \n",
    "    // withdrawall 이후 잔고\n",
    "    balanceafter = await web3.eth.getBalance(accounts[0]);\n",
    "    subtract = balanceafter-balancebefore;\n",
    "    console.log(\"Balance after withdrawal: \" + balanceafter);\n",
    "    console.log(\"BalanceAfter - BalanceBefore: \"+ subtract);\n",
    "    \n",
    "    //fallback 함수 호출\n",
    "    \n",
    "    await web3.eth.sendTransaction({from:accounts[0], to:\"0x6FE9d295Af9C78B91Eb99510E8F97d74570d2b64\", gas: 230000, value: 111});\n",
    "    const balanceJson3 = await myBank.methods.getBalance().call();\n",
    "    const balance3 = JSON.stringify(balanceJson3);\n",
    "    console.log(\"Balance: \" + balance3);\n",
    "    process.exit(1); //force exit to disconnect websocket\n",
    "}\n",
    "\n",
    "doIt()"
   ]
  },
  {
   "cell_type": "code",
   "execution_count": 105,
   "id": "a6d0a240",
   "metadata": {
    "scrolled": true
   },
   "outputs": [
    {
     "name": "stdout",
     "output_type": "stream",
     "text": [
      "Balance: {\"0\":\"11333\",\"1\":\"11333\"}\n",
      "Balance: {\"0\":\"11000\",\"1\":\"11000\"}\n",
      "Balance of account[1]: 1000000000000000000666\n",
      "Balance before withdrawal: 998053865775999932668\n",
      "widthdrawing....\n",
      "Balance after withdrawal: 998053804871999943668\n",
      "BalanceAfter - BalanceBefore: -60903999930368\n",
      "Event fired: {\"0\":\"0xb7054D73E55837c8Ec842bC4309351F1491d7a3c\",\"1\":\"111\",\"from\":\"0xb7054D73E55837c8Ec842bC4309351F1491d7a3c\",\"amount\":\"111\"}\n",
      "Balance: {\"0\":\"0\",\"1\":\"111\"}\n"
     ]
    }
   ],
   "source": [
    "!node src/BankUse.js"
   ]
  },
  {
   "cell_type": "code",
   "execution_count": null,
   "id": "17db73d1",
   "metadata": {},
   "outputs": [],
   "source": []
  }
 ],
 "metadata": {
  "kernelspec": {
   "display_name": "Python 3 (ipykernel)",
   "language": "python",
   "name": "python3"
  },
  "language_info": {
   "codemirror_mode": {
    "name": "ipython",
    "version": 3
   },
   "file_extension": ".py",
   "mimetype": "text/x-python",
   "name": "python",
   "nbconvert_exporter": "python",
   "pygments_lexer": "ipython3",
   "version": "3.8.10"
  }
 },
 "nbformat": 4,
 "nbformat_minor": 5
}
