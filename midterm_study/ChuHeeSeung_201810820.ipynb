{
 "cells": [
  {
   "cell_type": "markdown",
   "id": "5459752c",
   "metadata": {},
   "source": [
    "# 201810820 추희승"
   ]
  },
  {
   "cell_type": "markdown",
   "id": "194e7c26",
   "metadata": {},
   "source": [
    "# 문제 1 답\n",
    "# 1-1"
   ]
  },
  {
   "cell_type": "code",
   "execution_count": 66,
   "id": "62b6823f",
   "metadata": {},
   "outputs": [
    {
     "name": "stdout",
     "output_type": "stream",
     "text": [
      "Overwriting src/midterm_q1_1.js\n"
     ]
    }
   ],
   "source": [
    "%%writefile src/midterm_q1_1.js\n",
    "var Web3 =require('web3');\n",
    "var web3 = new Web3(new Web3.providers.HttpProvider(\"http://localhost:8345\"));\n",
    "\n",
    "var myAddr0;\n",
    "var myAddr1;\n",
    "\n",
    "async function getAccount() {\n",
    "    accounts = await web3.eth.getAccounts();\n",
    "    myAddr0 = accounts[0];\n",
    "    myAddr1 = accounts[1];\n",
    "    console.log(\"1-(1).\");\n",
    "    console.log(\"address 0 : \", myAddr0);\n",
    "    console.log(\"address 1 : \", myAddr1);\n",
    "}\n",
    "getAccount();"
   ]
  },
  {
   "cell_type": "code",
   "execution_count": 67,
   "id": "31315bed",
   "metadata": {},
   "outputs": [
    {
     "name": "stdout",
     "output_type": "stream",
     "text": [
      "1-(1).\n",
      "address 0 :  0x659dcc3255c41E4e4bCD7F582A2A67FCE75C1809\n",
      "address 1 :  0xa15E19154629b59806ce5c6476BFf55e7730946a\n"
     ]
    }
   ],
   "source": [
    "!node src/midterm_q1_1.js"
   ]
  },
  {
   "cell_type": "markdown",
   "id": "01d5d250",
   "metadata": {},
   "source": [
    "# 1-2"
   ]
  },
  {
   "cell_type": "code",
   "execution_count": 68,
   "id": "d67fb00a",
   "metadata": {},
   "outputs": [
    {
     "name": "stdout",
     "output_type": "stream",
     "text": [
      "Overwriting src/midterm_q1_2.js\n"
     ]
    }
   ],
   "source": [
    "%%writefile src/midterm_q1_2.js\n",
    "var Web3 =require('web3');\n",
    "var web3 = new Web3(new Web3.providers.HttpProvider(\"http://localhost:8345\"));\n",
    "\n",
    "async function getBalance() {\n",
    "    console.log(\"1-(2).\");\n",
    "    myBalance0 = await web3.eth.getBalance('0x659dcc3255c41E4e4bCD7F582A2A67FCE75C1809');\n",
    "    myBalance1 = await web3.eth.getBalance('0xa15E19154629b59806ce5c6476BFf55e7730946a');\n",
    "    console.log(\"balance 0 : \", myBalance0);\n",
    "    console.log(\"balance 1 : \", myBalance1);\n",
    "}\n",
    "\n",
    "getBalance()"
   ]
  },
  {
   "cell_type": "code",
   "execution_count": 69,
   "id": "ac37a358",
   "metadata": {},
   "outputs": [
    {
     "name": "stdout",
     "output_type": "stream",
     "text": [
      "1-(2).\n",
      "balance 0 :  995559832000000000000\n",
      "balance 1 :  1004440000000000000000\n"
     ]
    }
   ],
   "source": [
    "!node src/midterm_q1_2.js"
   ]
  },
  {
   "cell_type": "markdown",
   "id": "85b9810a",
   "metadata": {},
   "source": [
    "# 1-3,4,5,6"
   ]
  },
  {
   "cell_type": "code",
   "execution_count": 158,
   "id": "68b92adc",
   "metadata": {
    "scrolled": true
   },
   "outputs": [
    {
     "name": "stdout",
     "output_type": "stream",
     "text": [
      "Overwriting src/midterm_q1_3.js\n"
     ]
    }
   ],
   "source": [
    "%%writefile src/midterm_q1_3.js\n",
    "var Web3 =require('web3');\n",
    "var web3 = new Web3(new Web3.providers.HttpProvider(\"http://localhost:8345\"));\n",
    "\n",
    "var myAddr0 = '0x659dcc3255c41E4e4bCD7F582A2A67FCE75C1809';\n",
    "var myAddr1 = '0xa15E19154629b59806ce5c6476BFf55e7730946a';\n",
    "\n",
    "var t = web3.eth.sendTransaction({from:'0x659dcc3255c41E4e4bCD7F582A2A67FCE75C1809',to:'0xa15E19154629b59806ce5c6476BFf55e7730946a',value:web3.utils.toWei('1.11', \"ether\")})\n",
    "    .then(console.log(\"1-(3). send success!\"));\n",
    "\n",
    "console.log(\"1-(4).transaction hash : \", t);\n",
    "console.log(\"1-(5). gasUsed : \", web3.eth.getTransactionReceipt(t).gasUsed);\n",
    "console.log(\"gasPrice : \", web3.eth.getGasPrice);\n",
    "console.log(\"1-(6). nonce : \", web3.eth.getTransactionCount(t));"
   ]
  },
  {
   "cell_type": "code",
   "execution_count": 159,
   "id": "a00d2565",
   "metadata": {
    "scrolled": true
   },
   "outputs": [
    {
     "name": "stdout",
     "output_type": "stream",
     "text": [
      "1-(3). send success!\n",
      "1-(4).transaction hash :  Promise { <pending> }\n",
      "1-(5). gasUsed :  undefined\n",
      "gasPrice :  [Function: send] {\n",
      "  method: Method {\n",
      "    name: 'getGasPrice',\n",
      "    call: 'eth_gasPrice',\n",
      "    params: 0,\n",
      "    inputFormatter: undefined,\n",
      "    outputFormatter: [Function: outputBigNumberFormatter],\n",
      "    transformPayload: undefined,\n",
      "    extraFormatters: undefined,\n",
      "    abiCoder: undefined,\n",
      "    requestManager: RequestManager {\n",
      "      provider: [HttpProvider],\n",
      "      providers: [Object],\n",
      "      subscriptions: {}\n",
      "    },\n",
      "    accounts: Accounts {\n",
      "      currentProvider: [Getter/Setter],\n",
      "      _requestManager: [RequestManager],\n",
      "      givenProvider: null,\n",
      "      providers: [Object],\n",
      "      _provider: [HttpProvider],\n",
      "      setProvider: [Function (anonymous)],\n",
      "      _ethereumCall: [Object],\n",
      "      wallet: [Wallet]\n",
      "    },\n",
      "    defaultBlock: 'latest',\n",
      "    defaultAccount: null,\n",
      "    transactionBlockTimeout: 50,\n",
      "    transactionConfirmationBlocks: 24,\n",
      "    transactionPollingTimeout: 750,\n",
      "    defaultCommon: undefined,\n",
      "    defaultChain: undefined,\n",
      "    defaultHardfork: undefined,\n",
      "    handleRevert: false\n",
      "  },\n",
      "  request: [Function: bound ],\n",
      "  call: 'eth_gasPrice'\n",
      "}\n"
     ]
    },
    {
     "name": "stderr",
     "output_type": "stream",
     "text": [
      "C:\\Users\\youve\\Code\\201810820\\node_modules\\web3-core-helpers\\src\\formatters.js:471\n",
      "    throw new Error('Provided address \"' + address + '\" is invalid, the capitalization checksum test failed, or its an indrect IBAN address which can\\'t be converted.');\n",
      "    ^\n",
      "\n",
      "Error: Provided address \"[object Promise]\" is invalid, the capitalization checksum test failed, or its an indrect IBAN address which can't be converted.\n",
      "    at Method.inputAddressFormatter (C:\\Users\\youve\\Code\\201810820\\node_modules\\web3-core-helpers\\src\\formatters.js:471:11)\n",
      "    at C:\\Users\\youve\\Code\\201810820\\node_modules\\web3-core-method\\src\\index.js:148:38\n",
      "    at Array.map (<anonymous>)\n",
      "    at Method.formatInput (C:\\Users\\youve\\Code\\201810820\\node_modules\\web3-core-method\\src\\index.js:146:32)\n",
      "    at Method.toPayload (C:\\Users\\youve\\Code\\201810820\\node_modules\\web3-core-method\\src\\index.js:181:23)\n",
      "    at Eth.send [as getTransactionCount] (C:\\Users\\youve\\Code\\201810820\\node_modules\\web3-core-method\\src\\index.js:573:30)\n",
      "    at Object.<anonymous> (C:\\Users\\youve\\Code\\201810820\\src\\midterm_q1_3.js:13:41)\n",
      "    at Module._compile (node:internal/modules/cjs/loader:1103:14)\n",
      "    at Object.Module._extensions..js (node:internal/modules/cjs/loader:1157:10)\n",
      "    at Module.load (node:internal/modules/cjs/loader:981:32)\n",
      "    at Function.Module._load (node:internal/modules/cjs/loader:822:12)\n",
      "    at Function.executeUserEntryPoint [as runMain] (node:internal/modules/run_main:77:12)\n",
      "    at node:internal/main/run_main_module:17:47\n"
     ]
    }
   ],
   "source": [
    "!node src/midterm_q1_3.js"
   ]
  },
  {
   "cell_type": "markdown",
   "id": "c884a73a",
   "metadata": {},
   "source": [
    "# 1-7,8,9"
   ]
  },
  {
   "cell_type": "code",
   "execution_count": 126,
   "id": "36ff7481",
   "metadata": {},
   "outputs": [
    {
     "name": "stdout",
     "output_type": "stream",
     "text": [
      "Overwriting src/midterm_q1_789.js\n"
     ]
    }
   ],
   "source": [
    "%%writefile src/midterm_q1_789.js\n",
    "var Web3 =require('web3');\n",
    "var web3 = new Web3(new Web3.providers.HttpProvider(\"http://localhost:8345\"));\n",
    "\n",
    "async function getBalance() {\n",
    "    console.log(\"1-(7).\");\n",
    "    myNewBalance0 = await web3.eth.getBalance('0x659dcc3255c41E4e4bCD7F582A2A67FCE75C1809');\n",
    "    myNewBalance1 = await web3.eth.getBalance('0xa15E19154629b59806ce5c6476BFf55e7730946a');\n",
    "    console.log(\"balance 0 : \", myNewBalance0 - 995559832000000000000);\n",
    "    console.log(\"balance 1 : \", myNewBalance1 - 1004440000000000000000);\n",
    "    console.log(\"1-(8)\");\n",
    "    console.log(\"web3.eth.getBalance('0x659dcc3255c41E4e4bCD7F582A2A67FCE75C1809' + web3.eth.getBalance('0xa15E19154629b59806ce5c6476BFf55e7730946a')\");\n",
    "    console.log(\"1-(9)\");\n",
    "    console.log(myNewBalance0 + myNewBalance1);\n",
    "}\n",
    "getBalance();"
   ]
  },
  {
   "cell_type": "code",
   "execution_count": 127,
   "id": "e5fdff7e",
   "metadata": {
    "scrolled": true
   },
   "outputs": [
    {
     "name": "stdout",
     "output_type": "stream",
     "text": [
      "1-(7).\n",
      "balance 0 :  -7770294000000041000\n",
      "balance 1 :  7769999999999934000\n",
      "1-(8)\n",
      "web3.eth.getBalance('0x659dcc3255c41E4e4bCD7F582A2A67FCE75C1809' + web3.eth.getBalance('0xa15E19154629b59806ce5c6476BFf55e7730946a')\n",
      "1-(9)\n",
      "9877895380000000000001012210000000000000000\n"
     ]
    },
    {
     "name": "stderr",
     "output_type": "stream",
     "text": [
      "C:\\Users\\youve\\Code\\201810820\\node_modules\\web3-core-helpers\\src\\errors.js:63\n",
      "        var error = new Error(message);\n",
      "                    ^\n",
      "\n",
      "Error: Transaction was not mined within 750 seconds, please make sure your transaction was properly sent. Be aware that it might still be mined!\n",
      "    at Object.TransactionError (C:\\Users\\youve\\Code\\201810820\\node_modules\\web3-core-helpers\\src\\errors.js:63:21)\n",
      "    at C:\\Users\\youve\\Code\\201810820\\node_modules\\web3-core-method\\src\\index.js:485:40\n",
      "    at runMicrotasks (<anonymous>)\n",
      "    at processTicksAndRejections (node:internal/process/task_queues:96:5) {\n",
      "  receipt: undefined\n",
      "}\n"
     ]
    }
   ],
   "source": [
    "!node src/midterm_q1_789.js"
   ]
  },
  {
   "cell_type": "markdown",
   "id": "e6e83671",
   "metadata": {},
   "source": [
    "# 문제 2 답\n",
    "# 2-1"
   ]
  },
  {
   "cell_type": "code",
   "execution_count": 90,
   "id": "ce6b35ab",
   "metadata": {},
   "outputs": [
    {
     "name": "stdout",
     "output_type": "stream",
     "text": [
      "Overwriting src/Counter.sol\n"
     ]
    }
   ],
   "source": [
    "%%writefile src/Counter.sol\n",
    "pragma solidity ^0.6.0;\n",
    "\n",
    "contract Counter {\n",
    "    uint256 counter = 0;\n",
    "    uint256 startTime;\n",
    "    \n",
    "    function add() public {\n",
    "        counter++;\n",
    "    }\n",
    "    \n",
    "    function subtract() public {\n",
    "        counter--;\n",
    "    }\n",
    "    \n",
    "    function getCount() public view returns (uint256) {\n",
    "        return counter;\n",
    "    }\n",
    "    \n",
    "    function setTimeCalled() internal {\n",
    "        startTime = block.timestamp;\n",
    "    }\n",
    "    \n",
    "    function getTimeCalled() view public returns(uint256) {\n",
    "        return block.timestamp - startTime;\n",
    "    }\n",
    "}"
   ]
  },
  {
   "cell_type": "markdown",
   "id": "ab2679c2",
   "metadata": {},
   "source": [
    "# remix 로그 \n",
    "[vm]from: 0x5B3...eddC4to: Counter.(constructor)value: 0 weidata: 0x608...00033logs: 0hash: 0x0eb...3d514\n",
    "status\ttrue Transaction mined and execution succeed\n",
    "transaction hash\t0x0eb625fc58b31a050833f3c282f238f785070b947d43777b7377008271c3d514\n",
    "from\t0x5B38Da6a701c568545dCfcB03FcB875f56beddC4\n",
    "to\tCounter.(constructor)\n",
    "gas\t128855 gas\n",
    "transaction cost\t112047 gas \n",
    "execution cost\t112047 gas \n",
    "input\t0x608...00033\n",
    "decoded input\t{}\n",
    "decoded output\t - \n",
    "logs\t[]\n",
    "val\t0 wei\n",
    "transact to Counter.add pending ... \n",
    "[vm]from: 0x5B3...eddC4to: Counter.add() 0xd91...39138value: 0 weidata: 0x4f2...be91flogs: 0hash: 0x83c...f3b11\n",
    "status\ttrue Transaction mined and execution succeed\n",
    "transaction hash\t0x83c40ed1efe1e3b6278c524bbffee11c16ada7bd7fa0032d32b320a6383f3b11\n",
    "from\t0x5B38Da6a701c568545dCfcB03FcB875f56beddC4\n",
    "to\tCounter.add() 0xd9145CCE52D386f254917e481eB44e9943F39138\n",
    "gas\t49822 gas\n",
    "transaction cost\t43323 gas \n",
    "execution cost\t43323 gas \n",
    "input\t0x4f2...be91f\n",
    "decoded input\t{}\n",
    "decoded output\t{}\n",
    "logs\t[]\n",
    "val\t0 wei\n",
    "transact to Counter.subtract pending ... \n",
    "[vm]from: 0x5B3...eddC4to: Counter.subtract() 0xd91...39138value: 0 weidata: 0x6de...ebae3logs: 0hash: 0xeab...c26c2\n",
    "status\ttrue Transaction mined and execution succeed\n",
    "transaction hash\t0xeab8f6ed83b29e9bdc3aac0c4473b848726a4fc3a8527c8f34ad9e73d21c26c2\n",
    "from\t0x5B38Da6a701c568545dCfcB03FcB875f56beddC4\n",
    "to\tCounter.subtract() 0xd9145CCE52D386f254917e481eB44e9943F39138\n",
    "gas\t30186 gas\n",
    "transaction cost\t21448 gas \n",
    "execution cost\t21448 gas \n",
    "input\t0x6de...ebae3\n",
    "decoded input\t{}\n",
    "decoded output\t{}\n",
    "logs\t[]\n",
    "val\t0 wei\n",
    "call to Counter.getCount\n",
    "CALL\n",
    "[call]from: 0x5B38Da6a701c568545dCfcB03FcB875f56beddC4to: Counter.getCount()data: 0xa87...d942c\n",
    "from\t0x5B38Da6a701c568545dCfcB03FcB875f56beddC4\n",
    "to\tCounter.getCount() 0xd9145CCE52D386f254917e481eB44e9943F39138\n",
    "execution cost\t23399 gas (Cost only applies when called by a contract)\n",
    "input\t0xa87...d942c\n",
    "decoded input\t{}\n",
    "decoded output\t{\n",
    "\t\"0\": \"uint256: 0\"\n",
    "}\n",
    "logs\t[]\n",
    "call to Counter.getTimeCalled\n",
    "CALL\n",
    "[call]from: 0x5B38Da6a701c568545dCfcB03FcB875f56beddC4to: Counter.getTimeCalled()data: 0xc45...7a0a4\n",
    "from\t0x5B38Da6a701c568545dCfcB03FcB875f56beddC4\n",
    "to\tCounter.getTimeCalled() 0xd9145CCE52D386f254917e481eB44e9943F39138\n",
    "execution cost\t23426 gas (Cost only applies when called by a contract)\n",
    "input\t0xc45...7a0a4\n",
    "decoded input\t{}\n",
    "decoded output\t{\n",
    "\t\"0\": \"uint256: 1650870294\"\n",
    "}\n",
    "logs\t[]\n"
   ]
  },
  {
   "cell_type": "markdown",
   "id": "e1bd9797",
   "metadata": {},
   "source": [
    "# 2-2 "
   ]
  },
  {
   "cell_type": "code",
   "execution_count": 91,
   "id": "1bad66f8",
   "metadata": {},
   "outputs": [
    {
     "name": "stdout",
     "output_type": "stream",
     "text": [
      "\n",
      "======= src/Counter.sol:Counter =======\n",
      "Contract JSON ABI\n",
      "[{\"inputs\":[],\"name\":\"add\",\"outputs\":[],\"stateMutability\":\"nonpayable\",\"type\":\"function\"},{\"inputs\":[],\"name\":\"getCount\",\"outputs\":[{\"internalType\":\"uint256\",\"name\":\"\",\"type\":\"uint256\"}],\"stateMutability\":\"view\",\"type\":\"function\"},{\"inputs\":[],\"name\":\"getTimeCalled\",\"outputs\":[{\"internalType\":\"uint256\",\"name\":\"\",\"type\":\"uint256\"}],\"stateMutability\":\"view\",\"type\":\"function\"},{\"inputs\":[],\"name\":\"subtract\",\"outputs\":[],\"stateMutability\":\"nonpayable\",\"type\":\"function\"}]\n"
     ]
    }
   ],
   "source": [
    "!solc --abi src/Counter.sol"
   ]
  },
  {
   "cell_type": "code",
   "execution_count": 93,
   "id": "32b11a1c",
   "metadata": {},
   "outputs": [
    {
     "name": "stdout",
     "output_type": "stream",
     "text": [
      "\n",
      "======= src/Counter.sol:Counter =======\n",
      "Binary:\n",
      "60806040526000805534801561001457600080fd5b50610105806100246000396000f3fe6080604052348015600f57600080fd5b506004361060465760003560e01c80634f2be91f14604b5780636deebae3146053578063a87d942c14605b578063c457a0a4146077575b600080fd5b60516093565b005b605960a6565b005b606160ba565b6040518082815260200191505060405180910390f35b607d60c3565b6040518082815260200191505060405180910390f35b6000808154809291906001019190505550565b600080815480929190600190039190505550565b60008054905090565b6000600154420390509056fea26469706673582212204a07badbf15d28ef0b386700e804a6667c06e936b6a56d9b4dd2fc07f617451964736f6c63430006040033\n"
     ]
    }
   ],
   "source": [
    "!solc --bin src/Counter.sol"
   ]
  },
  {
   "cell_type": "markdown",
   "id": "f45d0fbc",
   "metadata": {},
   "source": [
    "# 2-3."
   ]
  },
  {
   "cell_type": "code",
   "execution_count": 94,
   "id": "841944d5",
   "metadata": {},
   "outputs": [
    {
     "name": "stdout",
     "output_type": "stream",
     "text": [
      "\"0x9b0b6b0b3bbdbd746427c7c3afe05282b52f08dd\"\n"
     ]
    }
   ],
   "source": [
    "!geth --exec \"eth.coinbase\" attach http://localhost:8445"
   ]
  },
  {
   "cell_type": "code",
   "execution_count": 95,
   "id": "d29b36c7",
   "metadata": {},
   "outputs": [],
   "source": [
    "!solc --optimize --combined-json abi,bin src/Counter.sol > src/Counter.json"
   ]
  },
  {
   "cell_type": "code",
   "execution_count": 96,
   "id": "01053e85",
   "metadata": {},
   "outputs": [
    {
     "name": "stdout",
     "output_type": "stream",
     "text": [
      "{\"contracts\":{\"src/Counter.sol:Counter\":{\"abi\":\"[{\\\"inputs\\\":[],\\\"name\\\":\\\"add\\\",\\\"outputs\\\":[],\\\"stateMutability\\\":\\\"nonpayable\\\",\\\"type\\\":\\\"function\\\"},{\\\"inputs\\\":[],\\\"name\\\":\\\"getCount\\\",\\\"outputs\\\":[{\\\"internalType\\\":\\\"uint256\\\",\\\"name\\\":\\\"\\\",\\\"type\\\":\\\"uint256\\\"}],\\\"stateMutability\\\":\\\"view\\\",\\\"type\\\":\\\"function\\\"},{\\\"inputs\\\":[],\\\"name\\\":\\\"getTimeCalled\\\",\\\"outputs\\\":[{\\\"internalType\\\":\\\"uint256\\\",\\\"name\\\":\\\"\\\",\\\"type\\\":\\\"uint256\\\"}],\\\"stateMutability\\\":\\\"view\\\",\\\"type\\\":\\\"function\\\"},{\\\"inputs\\\":[],\\\"name\\\":\\\"subtract\\\",\\\"outputs\\\":[],\\\"stateMutability\\\":\\\"nonpayable\\\",\\\"type\\\":\\\"function\\\"}]\",\"bin\":\"60806040526000805534801561001457600080fd5b5060d2806100236000396000f3fe6080604052348015600f57600080fd5b506004361060465760003560e01c80634f2be91f14604b5780636deebae3146053578063a87d942c146059578063c457a0a4146071575b600080fd5b60516077565b005b60516082565b605f608e565b60408051918252519081900360200190f35b605f6094565b600080546001019055565b60008054600019019055565b60005490565b60015442039056fea26469706673582212207cbcb28b80dc348c359fd684939cdae5be03a96c0f83b5e6142d47829b62de2f64736f6c63430006040033\"}},\"version\":\"0.6.4+commit.1dca32f3.Windows.msvc\"}\n"
     ]
    }
   ],
   "source": [
    "!type src\\Counter.json"
   ]
  },
  {
   "cell_type": "code",
   "execution_count": 168,
   "id": "ac51ef68",
   "metadata": {},
   "outputs": [
    {
     "name": "stdout",
     "output_type": "stream",
     "text": [
      "Overwriting src/counterDeploy.js\n"
     ]
    }
   ],
   "source": [
    "%%writefile src/counterDeploy.js\n",
    "var Web3 = require('web3');\n",
    "var web3 = new Web3(new Web3.providers.HttpProvider(\"http://localhost:8345\"));\n",
    "\n",
    "var _abiArray = [{\"constant\":true,\"inputs\":[],\"name\":\"add\",\"outputs\":[],\"stateMutability\":\"nonpayable\",\"type\":\"function\"},{\"inputs\":[],\"name\":\"getCount\",\"outputs\":[{\"internalType\":\"uint256\",\"name\":\"\",\"type\":\"uint256\"}],\"stateMutability\":\"view\",\"type\":\"function\"},{\"inputs\":[],\"name\":\"getTimeCalled\",\"outputs\":[{\"internalType\":\"uint256\",\"name\":\"\",\"type\":\"uint256\"}],\"stateMutability\":\"view\",\"type\":\"function\"},{\"inputs\":[],\"name\":\"subtract\",\"outputs\":[],\"stateMutability\":\"nonpayable\",\"type\":\"function\"}];\n",
    "var _bin =\"60806040526000805534801561001457600080fd5b50610105806100246000396000f3fe6080604052348015600f57600080fd5b506004361060465760003560e01c80634f2be91f14604b5780636deebae3146053578063a87d942c14605b578063c457a0a4146077575b600080fd5b60516093565b005b605960a6565b005b606160ba565b6040518082815260200191505060405180910390f35b607d60c3565b6040518082815260200191505060405180910390f35b6000808154809291906001019190505550565b600080815480929190600190039190505550565b60008054905090565b6000600154420390509056fea26469706673582212204a07badbf15d28ef0b386700e804a6667c06e936b6a56d9b4dd2fc07f617451964736f6c63430006040033\";\n",
    "var _contract = new web3.eth.Contract(_abiArray);\n",
    "\n",
    "_contract\n",
    "    .deploy({data:\"0x\"+_bin})\n",
    "    .send({from:\"0x659dcc3255c41E4e4bCD7F582A2A67FCE75C1809\",gas:364124,gasPrice:\"1000000000\"})\n",
    "    .then(function(newContractInstance) {\n",
    "        console.log(newContractInstance.options.address)\n",
    "    });"
   ]
  },
  {
   "cell_type": "code",
   "execution_count": 169,
   "id": "bde57f11",
   "metadata": {},
   "outputs": [
    {
     "name": "stdout",
     "output_type": "stream",
     "text": [
      "0x99506510514D1fB436B9DD2A30Da901357267231\n"
     ]
    }
   ],
   "source": [
    "!node src/counterDeploy.js"
   ]
  },
  {
   "cell_type": "markdown",
   "id": "761ff157",
   "metadata": {},
   "source": [
    "# 2-4"
   ]
  },
  {
   "cell_type": "code",
   "execution_count": 178,
   "id": "876b27b5",
   "metadata": {},
   "outputs": [
    {
     "name": "stdout",
     "output_type": "stream",
     "text": [
      "Overwriting src/counterUse.js\n"
     ]
    }
   ],
   "source": [
    "%%writefile src/counterUse.js\n",
    "var Web3 = require('web3');\n",
    "var web3 = new Web3(new Web3.providers.HttpProvider(\"http://localhost:8345\"));\n",
    "var abi = [{\"constant\":true,\"inputs\":[],\"name\":\"add\",\"outputs\":[],\"stateMutability\":\"nonpayable\",\"type\":\"function\"},{\"inputs\":[],\"name\":\"getCount\",\"outputs\":[{\"internalType\":\"uint256\",\"name\":\"\",\"type\":\"uint256\"}],\"stateMutability\":\"view\",\"type\":\"function\"},{\"inputs\":[],\"name\":\"getTimeCalled\",\"outputs\":[{\"internalType\":\"uint256\",\"name\":\"\",\"type\":\"uint256\"}],\"stateMutability\":\"view\",\"type\":\"function\"},{\"inputs\":[],\"name\":\"subtract\",\"outputs\":[],\"stateMutability\":\"nonpayable\",\"type\":\"function\"}];\n",
    "var addr = \"0x99506510514D1fB436B9DD2A30Da901357267231\";\n",
    "var counter = new web3.eth.Contract(abi, addr);\n",
    "//counter.methods.setTimeCalled().send({from:\"0x659dcc3255c41E4e4bCD7F582A2A67FCE75C1809\", gas:100000});\n",
    "counter.methods.getTimeCalled().send({from:\"0x659dcc3255c41E4e4bCD7F582A2A67FCE75C1809\", gas:100000});\n"
   ]
  },
  {
   "cell_type": "code",
   "execution_count": 179,
   "id": "a7887cb9",
   "metadata": {},
   "outputs": [],
   "source": [
    "!node src/counterUse.js"
   ]
  },
  {
   "cell_type": "code",
   "execution_count": null,
   "id": "42bd26c5",
   "metadata": {},
   "outputs": [],
   "source": []
  }
 ],
 "metadata": {
  "kernelspec": {
   "display_name": "Python 3 (ipykernel)",
   "language": "python",
   "name": "python3"
  },
  "language_info": {
   "codemirror_mode": {
    "name": "ipython",
    "version": 3
   },
   "file_extension": ".py",
   "mimetype": "text/x-python",
   "name": "python",
   "nbconvert_exporter": "python",
   "pygments_lexer": "ipython3",
   "version": "3.8.10"
  }
 },
 "nbformat": 4,
 "nbformat_minor": 5
}
