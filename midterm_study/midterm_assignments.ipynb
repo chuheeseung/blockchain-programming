{
 "cells": [
  {
   "cell_type": "markdown",
   "id": "8e88a379",
   "metadata": {},
   "source": [
    "# week03\n",
    "1. 현재 블록번호를 출력\n",
    "2. 자신의 enode 값을 출력\n",
    "3. peer가 있는지? 있으면 그 peer를 출력\n",
    "4. 계정 목록을 출력\n",
    "5. 각 계정의 잔액을 ether로 출력\n",
    "6. 코인베이스를 2번째로 변경하고, 변경전과 변경후의 coinbase를 출력\n",
    "7. 현재 대기하는 트랙잭션 수를 출력. 없다면 그 이유를 메시지로 출력\n",
    "8. 현재 블록번호를 출력. 블록번호가 처음 출력했을 때와 변동이 있는지? 계정을 출력하거나, 잔고를 출력하는 등 몇 차례 작업이 있었는데도 불구하고 블록 번호가 그대로인 이유를 메시지로 출력."
   ]
  },
  {
   "cell_type": "code",
   "execution_count": 9,
   "id": "d82d4463",
   "metadata": {},
   "outputs": [
    {
     "name": "stdout",
     "output_type": "stream",
     "text": [
      "Overwriting src/exercise1_re.js\n"
     ]
    }
   ],
   "source": [
    "%%writefile src/exercise1_re.js\n",
    "var blockNumber = eth.blockNumber;\n",
    "var myEnode = admin.nodeInfo.enode;\n",
    "var peerCount = net.peerCount;\n",
    "var listAccounts = personal.listAccounts;\n",
    "var txpoolStatus = txpool.status;\n",
    "\n",
    "console.log(\"1. block number : \", blockNumber);\n",
    "console.log(\"2. my enode : \", myEnode);\n",
    "console.log(\"3. peer count : \", peerCount);\n",
    "console.log(\"4. list accounts : \", listAccounts);\n",
    "console.log(\"5. balance : \");\n",
    "console.log(eth.getBalance(eth.accounts[0]));\n",
    "console.log(eth.getBalance(eth.accounts[1]));\n",
    "console.log(eth.getBalance(eth.accounts[2]));\n",
    "console.log(\"6. \");\n",
    "console.log(\"Before : \", eth.coinbase);\n",
    "miner.setEtherbase(eth.accounts[0]);\n",
    "console.log(\"Afrer : \", eth.coinbase);\n",
    "console.log(\"7. txpool : \", txpoolStatus.pending, txpoolStatus.queued);\n",
    "console.log(\"8. now block bumber : \", eth.blockNumber);"
   ]
  },
  {
   "cell_type": "code",
   "execution_count": 10,
   "id": "4f52661a",
   "metadata": {},
   "outputs": [
    {
     "name": "stdout",
     "output_type": "stream",
     "text": [
      "1. block number :  122\n",
      "2. my enode :  enode://e668e972ee9ac8a8acf1d84650b7fc788816a619470160a95b16b18062d6ed491990170b476ed9798679e0c1beaccb0aba5bbdf1d8112d54e921950e86cdd8b1@127.0.0.1:38445\n",
      "3. peer count :  0\n",
      "4. list accounts :  0x9b0b6b0b3bbdbd746427c7c3afe05282b52f08dd,0xc78c8063043994e244384ff80b4153772b5d5cd2,0x13516d2b36eb50a7300e2bab450f75d39f8422f3\n",
      "5. balance : \n",
      "200000020999999850000\n",
      "169999979000000150000\n",
      "240000000000000000000\n",
      "6. \n",
      "Before :  0x9b0b6b0b3bbdbd746427c7c3afe05282b52f08dd\n",
      "Afrer :  0x9b0b6b0b3bbdbd746427c7c3afe05282b52f08dd\n",
      "7. txpool :  0 0\n",
      "8. now block bumber :  122\n",
      "true\n"
     ]
    }
   ],
   "source": [
    "!geth --exec \"loadScript('src/exercise1_re.js')\" attach http://localhost:8445"
   ]
  },
  {
   "cell_type": "markdown",
   "id": "1139a860",
   "metadata": {},
   "source": [
    "# week04\n",
    "## 문제 1"
   ]
  },
  {
   "cell_type": "markdown",
   "id": "4d31ec3d",
   "metadata": {},
   "source": [
    "## 1. txA를 재해싱하세요 (_hA)"
   ]
  },
  {
   "cell_type": "code",
   "execution_count": 11,
   "id": "2f406dee",
   "metadata": {},
   "outputs": [],
   "source": [
    "import hashlib\n",
    "\n",
    "txA = \"Hello\"\n",
    "txB = \"How are you?\""
   ]
  },
  {
   "cell_type": "code",
   "execution_count": 12,
   "id": "2b1d5eda",
   "metadata": {},
   "outputs": [
    {
     "name": "stdout",
     "output_type": "stream",
     "text": [
      "70bc18bef5ae66b72d1995f8db90a583a60d77b4066e4653f1cead613025861c\n"
     ]
    }
   ],
   "source": [
    "_hA = hashlib.sha256(hashlib.sha256(txA.encode()).digest()).hexdigest()\n",
    "\n",
    "print(_hA)"
   ]
  },
  {
   "cell_type": "markdown",
   "id": "930b5625",
   "metadata": {},
   "source": [
    "## 2. _hA를 바이트교환을 하세요 (hA)"
   ]
  },
  {
   "cell_type": "code",
   "execution_count": 13,
   "id": "ec85de18",
   "metadata": {},
   "outputs": [
    {
     "name": "stdout",
     "output_type": "stream",
     "text": [
      "1c86253061adcef153466e06b4770da683a590dbf895192db766aef5be18bc70\n"
     ]
    }
   ],
   "source": [
    "hA = \"\".join(reversed([_hA[i:i+2] for i in range(0, hashlib.sha256(txA.encode()).digest_size * 2, 2)]))\n",
    "\n",
    "print(hA)"
   ]
  },
  {
   "cell_type": "markdown",
   "id": "5385286c",
   "metadata": {},
   "source": [
    "## 3. txB를 재해싱하세요 (_hB)"
   ]
  },
  {
   "cell_type": "code",
   "execution_count": 14,
   "id": "ba4f1bad",
   "metadata": {},
   "outputs": [
    {
     "name": "stdout",
     "output_type": "stream",
     "text": [
      "1027ce357faf49fc632d35908db181ae951aa3df9060595d94fb33769d71e7d0\n"
     ]
    }
   ],
   "source": [
    "_hB = hashlib.sha256(hashlib.sha256(txB.encode()).digest()).hexdigest()\n",
    "\n",
    "print(_hB)"
   ]
  },
  {
   "cell_type": "markdown",
   "id": "375965e2",
   "metadata": {},
   "source": [
    "## 4. _hB를 바이트교환하세요 (hB)"
   ]
  },
  {
   "cell_type": "code",
   "execution_count": 15,
   "id": "3b7e73fd",
   "metadata": {},
   "outputs": [
    {
     "name": "stdout",
     "output_type": "stream",
     "text": [
      "d0e7719d7633fb945d596090dfa31a95ae81b18d90352d63fc49af7f35ce2710\n"
     ]
    }
   ],
   "source": [
    "hB = \"\".join(reversed([_hB[i:i+2] for i in range(0, hashlib.sha256(txB.encode()).digest_size * 2, 2)]))\n",
    "\n",
    "print(hB)"
   ]
  },
  {
   "cell_type": "markdown",
   "id": "a9c6098f",
   "metadata": {},
   "source": [
    "## 5. hA + hB를 하세요 _hAhB"
   ]
  },
  {
   "cell_type": "code",
   "execution_count": 16,
   "id": "018ad58f",
   "metadata": {},
   "outputs": [
    {
     "name": "stdout",
     "output_type": "stream",
     "text": [
      "1c86253061adcef153466e06b4770da683a590dbf895192db766aef5be18bc70d0e7719d7633fb945d596090dfa31a95ae81b18d90352d63fc49af7f35ce2710\n"
     ]
    }
   ],
   "source": [
    "_hAhB = hA + hB\n",
    "\n",
    "print(_hAhB)"
   ]
  },
  {
   "cell_type": "markdown",
   "id": "093e037f",
   "metadata": {},
   "source": [
    "## 6. hAB를 재해싱하세요 (_hAB)"
   ]
  },
  {
   "cell_type": "code",
   "execution_count": 17,
   "id": "16ca32ee",
   "metadata": {},
   "outputs": [
    {
     "name": "stdout",
     "output_type": "stream",
     "text": [
      "e0c76d87a5a5c18ab29757603c5d1bda709306203b0a44c53fc6c90fba162903\n"
     ]
    }
   ],
   "source": [
    "_hAB = hashlib.sha256(hashlib.sha256(_hAhB.encode()).digest()).hexdigest()\n",
    "\n",
    "print(_hAB)"
   ]
  },
  {
   "cell_type": "markdown",
   "id": "f69cd75a",
   "metadata": {},
   "source": [
    "## 7. _hAB를 바이트교환 하세요 (hAB)"
   ]
  },
  {
   "cell_type": "code",
   "execution_count": 18,
   "id": "66f78406",
   "metadata": {},
   "outputs": [
    {
     "name": "stdout",
     "output_type": "stream",
     "text": [
      "032916ba0fc9c63fc5440a3b20069370da1b5d3c605797b28ac1a5a5876dc7e0\n"
     ]
    }
   ],
   "source": [
    "hAB = \"\".join(reversed([_hAB[i:i+2] for i in range(0, 32*2, 2)]))\n",
    "\n",
    "print(hAB)"
   ]
  },
  {
   "cell_type": "markdown",
   "id": "259760e0",
   "metadata": {},
   "source": [
    "## 문제 2\n",
    "친구에게 주소를 구하고, 그 주소로 송금해 보자. 송금이 되지 않으면 왜 안되는지 이유를 알아보자.\n",
    "\n",
    "안되면 친구의 주소를 만들고 전송한다.\n",
    "\n",
    "잔고의 증가분을 출력하세요.\n",
    "\n",
    "소요된 gas비용 출력하세요."
   ]
  },
  {
   "cell_type": "code",
   "execution_count": 19,
   "id": "61813710",
   "metadata": {},
   "outputs": [
    {
     "name": "stdout",
     "output_type": "stream",
     "text": [
      "\"0x9b0b6b0b3bbdbd746427c7c3afe05282b52f08dd\"\n"
     ]
    }
   ],
   "source": [
    "# 내 계정\n",
    "\n",
    "!geth --exec eth.coinbase attach http://localhost:8445"
   ]
  },
  {
   "cell_type": "code",
   "execution_count": 20,
   "id": "5b39913c",
   "metadata": {},
   "outputs": [
    {
     "name": "stdout",
     "output_type": "stream",
     "text": [
      "200000020999999850000\n"
     ]
    }
   ],
   "source": [
    "!geth --exec eth.getBalance(eth.coinbase) attach http://localhost:8445"
   ]
  },
  {
   "cell_type": "code",
   "execution_count": 21,
   "id": "ee2c373c",
   "metadata": {},
   "outputs": [
    {
     "name": "stdout",
     "output_type": "stream",
     "text": [
      "240000000000000000000\n"
     ]
    }
   ],
   "source": [
    "# 친구 계정\n",
    "\n",
    "!geth --exec \"eth.getBalance(eth.accounts[2])\" attach http://localhost:8445"
   ]
  },
  {
   "cell_type": "code",
   "execution_count": 31,
   "id": "a6b32324",
   "metadata": {},
   "outputs": [
    {
     "name": "stdout",
     "output_type": "stream",
     "text": [
      "Overwriting e_testTran.js\n"
     ]
    }
   ],
   "source": [
    "%%writefile e_testTran.js\n",
    "miner.setEtherbase(eth.accounts[0]);\n",
    "console.log(\"coinbase : \", eth.coinbase);\n",
    "var bal1 = eth.getBalance(eth.coinbase);\n",
    "var bal2 = eth.getBalance(eth.accounts[2]);\n",
    "\n",
    "console.log(\"sender balance in ether : \", web3.fromWei(bal1, \"ether\"));\n",
    "console.log(\"receiver balance in ether : \", web3.fromWei(bal2, \"ether\"));\n",
    "console.log(\"median gas price : \", eth.gasPrice);\n",
    "console.log(\"block number : \", eth.blockNumber);\n",
    "console.log(\"transaction count : \", eth.getTransactionCount(eth.coinbase));\n",
    "\n",
    "var t = eth.sendTransaction({from:eth.coinbase, to:eth.accounts[2], value:30000});\n",
    "console.log(\"...mining start\");\n",
    "miner.start(1);admin.sleepBlocks(1);miner.stop();\n",
    "console.log(\"mining done...\");\n",
    "\n",
    "var bal1new = eth.getBalance(eth.coinbase);\n",
    "var bal2new = eth.getBalance(eth.accounts[2]);\n",
    "\n",
    "console.log(\"- new sender balance in ether : \", web3.fromWei(bal1new, \"ether\"));\n",
    "console.log(\"- new receiver balance in ether : \", web3.fromWei(bal2new, \"ether\"));\n",
    "console.log(\"- block number : \", eth.blockNumber);\n",
    "console.log(\"- transaction count : \", eth.getTransactionCount(eth.coinbase));\n",
    "\n",
    "console.log(\"\\nincreased balance : \", bal2new - bal2);\n",
    "console.log(\"gasUsed : \", eth.getTransactionReceipt(t).gasUsed);"
   ]
  },
  {
   "cell_type": "code",
   "execution_count": 32,
   "id": "6ae28dbb",
   "metadata": {},
   "outputs": [
    {
     "name": "stdout",
     "output_type": "stream",
     "text": [
      "coinbase :  0x9b0b6b0b3bbdbd746427c7c3afe05282b52f08dd\n",
      "sender balance in ether :  230.00002099999985\n",
      "receiver balance in ether :  240\n",
      "median gas price :  1000000000\n",
      "block number :  128\n",
      "transaction count :  8\n",
      "...mining start\n",
      "mining done...\n",
      "- new sender balance in ether :  235.00002099999982\n",
      "- new receiver balance in ether :  240.00000000000003\n",
      "- block number :  129\n",
      "- transaction count :  9\n",
      "\n",
      "increased balance :  32768\n",
      "gasUsed :  21000\n",
      "true\n"
     ]
    }
   ],
   "source": [
    "!geth --exec \"loadScript('e_testTran.js')\" attach http://localhost:8445"
   ]
  },
  {
   "cell_type": "markdown",
   "id": "ab28b7db",
   "metadata": {},
   "source": [
    "## 문제 3\n",
    "블록헤더 데이터의 해시 값에 NONCE를 증가시키면서\n",
    "\n",
    "앞 자리의 0의 개수를 맞출 때까지 반복한다.\n",
    "## 1. 찾고자 하는 해시가 0000로 시작한다고 하자. 몇 회만에 찾는지 출력하세요."
   ]
  },
  {
   "cell_type": "code",
   "execution_count": 34,
   "id": "5c916960",
   "metadata": {},
   "outputs": [
    {
     "name": "stdout",
     "output_type": "stream",
     "text": [
      "solved! \n",
      "nonce :  94280 guessHash :  000043ce4a61d02bff0e68ba18a7daf448cb3b93691fdd4850f6cd3f85b7a13f\n"
     ]
    }
   ],
   "source": [
    "import hashlib\n",
    "\n",
    "n = 1\n",
    "found = False\n",
    "blockNumber = 54\n",
    "nonce = 0\n",
    "data = 'Hello'\n",
    "previousHash = '5d7c7ba21cbbcd75d14800b100252d5b428e5b1213d27c385bc141ca6b47989e'\n",
    "\n",
    "while found == False:\n",
    "    z = str(blockNumber) + str(nonce) + data + previousHash\n",
    "    guessHash = hashlib.sha256(z.encode('utf-8')).hexdigest()\n",
    "    \n",
    "    if guessHash[:4] == '0000':\n",
    "        found = True\n",
    "    nonce += 1\n",
    "    \n",
    "    if (nonce % 10000000 == 0):\n",
    "        print(\"nonce : \", nonce, guessHash)\n",
    "        \n",
    "print(\"solved! \\nnonce : \", nonce, \"guessHash : \", guessHash)"
   ]
  },
  {
   "cell_type": "markdown",
   "id": "8e90e7d3",
   "metadata": {},
   "source": [
    "## 2. 찾고자 하는 해시가 00000로 시작한다고 하자. 몇 회만에 찾는지 출력하세요."
   ]
  },
  {
   "cell_type": "code",
   "execution_count": 35,
   "id": "1234c09c",
   "metadata": {},
   "outputs": [
    {
     "name": "stdout",
     "output_type": "stream",
     "text": [
      "solved! \n",
      "nonce :  315753 guessHash :  000007f9f69a43f1bb6ab92672d873b93d6bafaa2007e44b6151bd19efadf4d1\n"
     ]
    }
   ],
   "source": [
    "import hashlib\n",
    "\n",
    "n = 1\n",
    "found = False\n",
    "blockNumber = 54\n",
    "nonce = 0\n",
    "data = 'Hello'\n",
    "previousHash = '5d7c7ba21cbbcd75d14800b100252d5b428e5b1213d27c385bc141ca6b47989e'\n",
    "\n",
    "while found == False:\n",
    "    z = str(blockNumber) + str(nonce) + data + previousHash\n",
    "    guessHash = hashlib.sha256(z.encode('utf-8')).hexdigest()\n",
    "    \n",
    "    if guessHash[:5] == '00000':\n",
    "        found = True;\n",
    "    nonce += 1\n",
    "    \n",
    "    if(nonce % 10000000 == 0):\n",
    "        print(\"nonce : \", nonce, guessHash)\n",
    "    \n",
    "print(\"solved! \\nnonce : \", nonce, \"guessHash : \", guessHash)"
   ]
  },
  {
   "cell_type": "markdown",
   "id": "fddccf3d",
   "metadata": {},
   "source": [
    "## 3. 찾고자 하는 해시가 000000로 시작한다고 하자. 몇 회만에 찾는지 출력하세요."
   ]
  },
  {
   "cell_type": "code",
   "execution_count": 36,
   "id": "f0e7c5d5",
   "metadata": {},
   "outputs": [
    {
     "name": "stdout",
     "output_type": "stream",
     "text": [
      "nonce :  10000000 660b9e057377381579f5c54347901cf462fce656c069a4d0f26bdd4cf1e05e66\n",
      "nonce :  20000000 c31d3ddd7bb92312bcc2a88263d92e94c6d17a641ac9e59ac262c775c7f58925\n",
      "nonce :  30000000 236077716f4ce428ec83f12bf74fb7ab76450bad60bc3f21d924e200c39a9fa4\n",
      "nonce :  40000000 5b07929bd7088f11d6caf0e65a6f44ab3b7f82d32900430cc7c7244b2917e04d\n",
      "solved! \n",
      "nonce :  45576417 guessHash :  0000003d02b95604bb1ec436ff20e08168dd339f2ec0f9941bfc58bad039994e\n"
     ]
    }
   ],
   "source": [
    "import hashlib\n",
    "\n",
    "n = 1\n",
    "found = False\n",
    "blockNumber = 54\n",
    "nonce = 0\n",
    "data = 'Hello'\n",
    "previousHash = '5d7c7ba21cbbcd75d14800b100252d5b428e5b1213d27c385bc141ca6b47989e'\n",
    "\n",
    "while found == False:\n",
    "    z = str(blockNumber) + str(nonce) + data + previousHash\n",
    "    guessHash = hashlib.sha256(z.encode('utf-8')).hexdigest()\n",
    "    \n",
    "    if guessHash[:6] == '000000':\n",
    "        found = True;\n",
    "    nonce += 1\n",
    "    \n",
    "    if(nonce % 10000000 == 0):\n",
    "        print(\"nonce : \", nonce, guessHash)\n",
    "    \n",
    "print(\"solved! \\nnonce : \", nonce, \"guessHash : \", guessHash)"
   ]
  },
  {
   "cell_type": "markdown",
   "id": "2dc8059d",
   "metadata": {},
   "source": [
    "## 난이도가 어떤 경우가 높았으며, 난이도에 따라 찾는 회수의 차이가 있는지 설명하세요.\n",
    "\n",
    "난이도는 '000000'을 찾을 때 높았으며 난이도가 높을 수록 찾는 횟수가 증가합니다."
   ]
  },
  {
   "cell_type": "markdown",
   "id": "6dfbceeb",
   "metadata": {},
   "source": [
    "# week05\n",
    "## 문제 1"
   ]
  },
  {
   "cell_type": "markdown",
   "id": "5ff24998",
   "metadata": {},
   "source": [
    "## 1-1. ganache를 백그라운드로 띄우고, node에서 연결하여 coinbase 주소를 출력하세요"
   ]
  },
  {
   "cell_type": "code",
   "execution_count": 37,
   "id": "51356926",
   "metadata": {},
   "outputs": [
    {
     "name": "stdout",
     "output_type": "stream",
     "text": [
      "Overwriting src/getCoinbase.js\n"
     ]
    }
   ],
   "source": [
    "%%writefile src/getCoinbase.js\n",
    "var Web3 = require('web3');\n",
    "var web3 = new Web3(\"http://localhost:8345\");\n",
    "var account0;\n",
    "\n",
    "async function getAccount() {\n",
    "    accounts = await web3.eth.getAccounts();\n",
    "    account0 = accounts[0];\n",
    "    console.log(\"coinbase : \", account0);\n",
    "}\n",
    "\n",
    "getAccount();"
   ]
  },
  {
   "cell_type": "code",
   "execution_count": 38,
   "id": "6972dd54",
   "metadata": {},
   "outputs": [
    {
     "name": "stdout",
     "output_type": "stream",
     "text": [
      "coinbase :  0x3534A45129b0776F1E811Ad51A74D46ebCBE6108\n"
     ]
    }
   ],
   "source": [
    "!node src/getCoinbase.js"
   ]
  },
  {
   "cell_type": "markdown",
   "id": "c17ee176",
   "metadata": {},
   "source": [
    "## 1-2. 문제1-1을 geth를 띄우고 실행해보세요. geth에서의 coinbase를 출력하세요."
   ]
  },
  {
   "cell_type": "code",
   "execution_count": 39,
   "id": "22f38e53",
   "metadata": {},
   "outputs": [
    {
     "name": "stdout",
     "output_type": "stream",
     "text": [
      "\"0x9b0b6b0b3bbdbd746427c7c3afe05282b52f08dd\"\n"
     ]
    }
   ],
   "source": [
    "!geth --exec eth.coinbase attach http://localhost:8445"
   ]
  },
  {
   "cell_type": "markdown",
   "id": "700f85c6",
   "metadata": {},
   "source": [
    "## 1-3. ganache의 coinbase에서 geth의 coinbase로 1 ether를 송금해 보세요. 송금 성공이면 잔고변화를 출력하고, 실패이면 그 이유를 간단히 설명하세요."
   ]
  },
  {
   "cell_type": "code",
   "execution_count": 40,
   "id": "77e24dd0",
   "metadata": {},
   "outputs": [
    {
     "name": "stdout",
     "output_type": "stream",
     "text": [
      "Overwriting src/transToGanache.js\n"
     ]
    }
   ],
   "source": [
    "%%writefile src/transToGanache.js\n",
    "var Web3 = require('web3');\n",
    "var web3 = new Web3(\"http://localhost:8345\");\n",
    "web3.eth.getBalance('0x3534A45129b0776F1E811Ad51A74D46ebCBE6108').then((res) => console.log(\"ganache : \", res));\n",
    "web3.eth.getBalance('0x9b0b6b0b3bbdbd746427c7c3afe05282b52f08dd').then((res) => console.log(\"geth : \", res));\n",
    "web3.eth.sendTransaction({from:'0x3534A45129b0776F1E811Ad51A74D46ebCBE6108',to:'0x9b0b6b0b3bbdbd746427c7c3afe05282b52f08dd',value:web3.utils.toWei('1')});"
   ]
  },
  {
   "cell_type": "code",
   "execution_count": 42,
   "id": "db95c61a",
   "metadata": {},
   "outputs": [
    {
     "name": "stdout",
     "output_type": "stream",
     "text": [
      "ganache :  998997638147000000000\n",
      "geth :  1000000000000000000\n"
     ]
    }
   ],
   "source": [
    "!node src/transToGanache.js"
   ]
  },
  {
   "cell_type": "code",
   "execution_count": 46,
   "id": "28883873",
   "metadata": {},
   "outputs": [
    {
     "name": "stdout",
     "output_type": "stream",
     "text": [
      "Overwriting src/checkTrans.js\n"
     ]
    }
   ],
   "source": [
    "%%writefile src/checkTrans.js\n",
    "var Web3 = require('web3');\n",
    "var web3 = new Web3(\"http://localhost:8345\");\n",
    "web3.eth.getBalance('0x3534A45129b0776F1E811Ad51A74D46ebCBE6108').then((res) => console.log(\"ganache : \", res));\n",
    "web3.eth.getBalance('0x9b0b6b0b3bbdbd746427c7c3afe05282b52f08dd').then((res) => console.log(\"geth : \", res));"
   ]
  },
  {
   "cell_type": "code",
   "execution_count": 47,
   "id": "69e4b6d2",
   "metadata": {},
   "outputs": [
    {
     "name": "stdout",
     "output_type": "stream",
     "text": [
      "ganache :  997997596147000000000\n",
      "geth :  2000000000000000000\n"
     ]
    }
   ],
   "source": [
    "!node src/checkTrans.js"
   ]
  },
  {
   "cell_type": "markdown",
   "id": "8b2d622b",
   "metadata": {},
   "source": [
    "geth 잔고가 1ether 증가하고, ganache 잔고가 1ether 감소한 것을 확인할 수 있습니다. \n",
    "\n",
    "(1 ether=1000000000000000000 wei)"
   ]
  },
  {
   "cell_type": "markdown",
   "id": "df3b377f",
   "metadata": {},
   "source": [
    "## 문제 2\n",
    "## 2-1. ganache에 연결하고, 현재 coinbase의 잔고를 ether로 출력하세요."
   ]
  },
  {
   "cell_type": "code",
   "execution_count": 48,
   "id": "4ab9529c",
   "metadata": {},
   "outputs": [
    {
     "name": "stdout",
     "output_type": "stream",
     "text": [
      "Overwriting src/getCBBalance.js\n"
     ]
    }
   ],
   "source": [
    "%%writefile src/getCBBalance.js\n",
    "var Web3 = require('web3');\n",
    "var web3 = new Web3(\"http://localhost:8345\");\n",
    "\n",
    "web3.eth.getBalance('0x3534A45129b0776F1E811Ad51A74D46ebCBE6108').then(web3.utils.fromWei).then(console.log);"
   ]
  },
  {
   "cell_type": "code",
   "execution_count": 49,
   "id": "28900250",
   "metadata": {},
   "outputs": [
    {
     "name": "stdout",
     "output_type": "stream",
     "text": [
      "997.997596147\n"
     ]
    }
   ],
   "source": [
    "!node src/getCBBalance.js"
   ]
  },
  {
   "cell_type": "markdown",
   "id": "0024209f",
   "metadata": {},
   "source": [
    "## 2-2. 현재 거래소 환전가격을 구해서 한화로 계산하여 얼마인지 출력하세요. 환전가격은 거래소 가격을 읽어서 프로그램에 코딩한다."
   ]
  },
  {
   "cell_type": "code",
   "execution_count": 52,
   "id": "9d9db036",
   "metadata": {},
   "outputs": [
    {
     "name": "stdout",
     "output_type": "stream",
     "text": [
      "Overwriting src/printWon.js\n"
     ]
    }
   ],
   "source": [
    "%%writefile src/printWon.js\n",
    "var Web3 = require('web3');\n",
    "var web3 = new Web3(\"http://localhost:8345\");\n",
    "\n",
    "web3.eth.getBalance(\"0x3534A45129b0776F1E811Ad51A74D46ebCBE6108\", function(error, wei) {\n",
    "    if(!error) {\n",
    "        var balance = web3.utils.fromWei(wei, \"ether\");\n",
    "        console.log(balance + \"ether\");\n",
    "        console.log(\"...converting into market price about 4000,000\");\n",
    "        console.log(balance * 400000 + \"won\");\n",
    "    }\n",
    "});"
   ]
  },
  {
   "cell_type": "code",
   "execution_count": 53,
   "id": "dc14c418",
   "metadata": {},
   "outputs": [
    {
     "name": "stdout",
     "output_type": "stream",
     "text": [
      "997.997596147ether\n",
      "...converting into market price about 4000,000\n",
      "399199038.45879996won\n"
     ]
    }
   ],
   "source": [
    "!node src/printWon.js"
   ]
  },
  {
   "cell_type": "markdown",
   "id": "2bcff57c",
   "metadata": {},
   "source": [
    "# week06\n",
    "## Hello 컨트랙을 수정해서 sayHello() 함수를 호출하면 \"Hello, Snowman\"이 출력되도록 하세요.\n",
    "- Solidity로 Hello.sol을 코딩하고\n",
    "- solc로 컴파일하고\n",
    "- web3.js를 사용하여 node로 프로그램해서 배포\n",
    "- web3.js를 사용하여 node로 sayHello() 출력"
   ]
  },
  {
   "cell_type": "code",
   "execution_count": 57,
   "id": "abf888b0",
   "metadata": {},
   "outputs": [
    {
     "name": "stdout",
     "output_type": "stream",
     "text": [
      "Overwriting src/Snowman.sol\n"
     ]
    }
   ],
   "source": [
    "%%writefile src/Snowman.sol\n",
    "pragma solidity ^0.6.0;\n",
    "\n",
    "contract Greeter {\n",
    "    string greeting;\n",
    "    \n",
    "    constructor() public {\n",
    "        greeting = 'Hello';\n",
    "    }\n",
    "    \n",
    "    function setGreeting(string memory _greeting) public {\n",
    "        greeting = _greeting;\n",
    "    }\n",
    "    \n",
    "    function greet() view public returns (string memory) {\n",
    "        return greeting;\n",
    "    }\n",
    "}"
   ]
  },
  {
   "cell_type": "code",
   "execution_count": 58,
   "id": "10447d83",
   "metadata": {},
   "outputs": [
    {
     "name": "stdout",
     "output_type": "stream",
     "text": [
      "\n",
      "======= src/Snowman.sol:Greeter =======\n",
      "Contract JSON ABI\n",
      "[{\"inputs\":[],\"stateMutability\":\"nonpayable\",\"type\":\"constructor\"},{\"inputs\":[],\"name\":\"greet\",\"outputs\":[{\"internalType\":\"string\",\"name\":\"\",\"type\":\"string\"}],\"stateMutability\":\"view\",\"type\":\"function\"},{\"inputs\":[{\"internalType\":\"string\",\"name\":\"_greeting\",\"type\":\"string\"}],\"name\":\"setGreeting\",\"outputs\":[],\"stateMutability\":\"nonpayable\",\"type\":\"function\"}]\n"
     ]
    }
   ],
   "source": [
    "!solc --abi src/Snowman.sol"
   ]
  },
  {
   "cell_type": "code",
   "execution_count": 59,
   "id": "1b9ae488",
   "metadata": {},
   "outputs": [
    {
     "name": "stdout",
     "output_type": "stream",
     "text": [
      "\n",
      "======= src/Snowman.sol:Greeter =======\n",
      "Binary:\n",
      "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\n"
     ]
    }
   ],
   "source": [
    "!solc --bin src/Snowman.sol"
   ]
  },
  {
   "cell_type": "code",
   "execution_count": 60,
   "id": "845e4daa",
   "metadata": {},
   "outputs": [
    {
     "name": "stdout",
     "output_type": "stream",
     "text": [
      "\n",
      "======= src/Snowman.sol:Greeter =======\n",
      "Gas estimation:\n",
      "construction:\n",
      "   infinite + 156800 = infinite\n",
      "external:\n",
      "   greet():\tinfinite\n",
      "   setGreeting(string):\tinfinite\n"
     ]
    }
   ],
   "source": [
    "!solc --gas src/Snowman.sol"
   ]
  },
  {
   "cell_type": "code",
   "execution_count": 61,
   "id": "557c4be2",
   "metadata": {},
   "outputs": [
    {
     "name": "stdout",
     "output_type": "stream",
     "text": [
      "[\n",
      "  '0x3534A45129b0776F1E811Ad51A74D46ebCBE6108',\n",
      "  '0x1BE21dB844d547f2FCeFd0A93F0b43fAc6c068fC',\n",
      "  '0x5Ed0D349E57aB3Fe8B1c564CFCbbFD3799E0Fd05',\n",
      "  '0xC56f3F44e4Cd030Abb7B99200A3362324762a15A',\n",
      "  '0x6D546D9aA842232FFE87Ea3D14526B1643FD09a1',\n",
      "  '0xBF3f3C915d21E84cb058eD3A48Bee75866521743',\n",
      "  '0xAA1DeBdb2909f124569B63e6a4372B72f9897E7B',\n",
      "  '0x1186108091719CEFE4aB740EBE85eE993e8E50d8',\n",
      "  '0xe611a20D34B9041E6A3704482FEb89FB5D722850',\n",
      "  '0xD3B41D3884AAC2b8B6df1b2f24DcB51d194b1063'\n",
      "]\n"
     ]
    }
   ],
   "source": [
    "!node src/getMyAddr.js"
   ]
  },
  {
   "cell_type": "code",
   "execution_count": 64,
   "id": "4be67694",
   "metadata": {},
   "outputs": [
    {
     "name": "stdout",
     "output_type": "stream",
     "text": [
      "Overwriting src/snowmanDeploy.js\n"
     ]
    }
   ],
   "source": [
    "%%writefile src/snowmanDeploy.js\n",
    "var Web3 = require('web3');\n",
    "var web3;\n",
    "\n",
    "if(typeof web3 !== 'undefined') {\n",
    "    web3 = new Web3(web3.currentProvider);\n",
    "}\n",
    "else {\n",
    "    web3 = new Web3(new Web3.providers.HttpProvider(\"http://localhost:8345\"));\n",
    "}\n",
    "\n",
    "var _abiArray = [{\"constant\":false,\"inputs\":[],\"stateMutability\":\"nonpayable\",\"type\":\"constructor\"},{\"inputs\":[],\"name\":\"greet\",\"outputs\":[{\"internalType\":\"string\",\"name\":\"\",\"type\":\"string\"}],\"stateMutability\":\"view\",\"type\":\"function\"},{\"inputs\":[{\"internalType\":\"string\",\"name\":\"_greeting\",\"type\":\"string\"}],\"name\":\"setGreeting\",\"outputs\":[],\"stateMutability\":\"nonpayable\",\"type\":\"function\"}];\n",
    "var _bin = \"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\";\n",
    "var _contract = new web3.eth.Contract(_abiArray);\n",
    "\n",
    "_contract\n",
    "    .deploy({data:\"0x\"+_bin})\n",
    "    .send({from:'0x3534A45129b0776F1E811Ad51A74D46ebCBE6108',gas:364124,gasPrice:'1000000000'})\n",
    "    .then(function(newContractInstance) {\n",
    "        console.log(newContractInstance.options.address)\n",
    "    });"
   ]
  },
  {
   "cell_type": "markdown",
   "id": "31724d53",
   "metadata": {},
   "source": [
    "from에 getMyAddr.js[0]"
   ]
  },
  {
   "cell_type": "code",
   "execution_count": 65,
   "id": "9a66eba2",
   "metadata": {},
   "outputs": [
    {
     "name": "stdout",
     "output_type": "stream",
     "text": [
      "0x1b903B1C15a53982622c1C23142bDf7733804574\n"
     ]
    }
   ],
   "source": [
    "!node src/snowmanDeploy.js"
   ]
  },
  {
   "cell_type": "code",
   "execution_count": 66,
   "id": "057ec646",
   "metadata": {},
   "outputs": [
    {
     "name": "stdout",
     "output_type": "stream",
     "text": [
      "Overwriting src/snowmanUse.js\n"
     ]
    }
   ],
   "source": [
    "%%writefile src/snowmanUse.js\n",
    "var Web3 = require('web3');\n",
    "var web3 = new Web3(new Web3.providers.HttpProvider(\"http://localhost:8345\"));\n",
    "var _abiArray = [{\"constant\":false,\"inputs\":[],\"stateMutability\":\"nonpayable\",\"type\":\"constructor\"},{\"inputs\":[],\"name\":\"greet\",\"outputs\":[{\"internalType\":\"string\",\"name\":\"\",\"type\":\"string\"}],\"stateMutability\":\"view\",\"type\":\"function\"},{\"inputs\":[{\"internalType\":\"string\",\"name\":\"_greeting\",\"type\":\"string\"}],\"name\":\"setGreeting\",\"outputs\":[],\"stateMutability\":\"nonpayable\",\"type\":\"function\"}];\n",
    "var _bin = \"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\";\n",
    "var greeter = new web3.eth.Contract(_abiArray, \"0x1b903B1C15a53982622c1C23142bDf7733804574\");\n",
    "greeter.methods.greet().call().then(function(value) {console.log(value)});\n",
    "greeter.methods.setGreeting(\"Hello Snowman\").send({from:\"0x3534A45129b0776F1E811Ad51A74D46ebCBE6108\",gas:100000});\n",
    "greeter.methods.greet().call().then(function(value){console.log(value)});"
   ]
  },
  {
   "cell_type": "markdown",
   "id": "a25e1b5a",
   "metadata": {},
   "source": [
    "greeter에 디플로이해서 얻은 주소\n",
    "\n",
    "from에 ganache 주소"
   ]
  },
  {
   "cell_type": "code",
   "execution_count": 68,
   "id": "8b5b4a90",
   "metadata": {},
   "outputs": [
    {
     "name": "stdout",
     "output_type": "stream",
     "text": [
      "Hello Snowman\n",
      "Hello Snowman\n"
     ]
    }
   ],
   "source": [
    "!node src/snowmanUse.js"
   ]
  },
  {
   "cell_type": "code",
   "execution_count": null,
   "id": "8dd16f2d",
   "metadata": {},
   "outputs": [],
   "source": []
  }
 ],
 "metadata": {
  "kernelspec": {
   "display_name": "Python 3 (ipykernel)",
   "language": "python",
   "name": "python3"
  },
  "language_info": {
   "codemirror_mode": {
    "name": "ipython",
    "version": 3
   },
   "file_extension": ".py",
   "mimetype": "text/x-python",
   "name": "python",
   "nbconvert_exporter": "python",
   "pygments_lexer": "ipython3",
   "version": "3.8.10"
  }
 },
 "nbformat": 4,
 "nbformat_minor": 5
}
