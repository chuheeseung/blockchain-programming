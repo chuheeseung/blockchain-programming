{
 "cells": [
  {
   "cell_type": "markdown",
   "id": "55abc781",
   "metadata": {},
   "source": [
    "# Hello 컨트랙을 수정해서 sayHello() 함수를 호출하면 \"Hello, Snowman\"이 출력되도록 하세요.\n",
    "\n",
    "- Solidity로 Hello.sol을 코딩하고\n",
    "\n",
    "- solc로 컴파일하고\n",
    "\n",
    "- web3.js를 사용하여 node로 프로그램해서 배포\n",
    "\n",
    "- web3.js를 사용하여 node로 sayHello() 출력"
   ]
  },
  {
   "cell_type": "code",
   "execution_count": 16,
   "id": "f6d94d4d",
   "metadata": {},
   "outputs": [
    {
     "name": "stdout",
     "output_type": "stream",
     "text": [
      "Writing src/Snowman.sol\n"
     ]
    }
   ],
   "source": [
    "%%writefile src/Snowman.sol\n",
    "pragma solidity ^0.6.0;\n",
    "\n",
    "contract Greeter {\n",
    "    string greeting; \n",
    "\n",
    "    constructor() public { \n",
    "        greeting = 'Hello';\n",
    "    }\n",
    "\n",
    "    function setGreeting(string memory _greeting) public { \n",
    "        greeting = _greeting;\n",
    "    }\n",
    "\n",
    "    function greet() view public returns (string memory) { \n",
    "        return greeting;\n",
    "    }\n",
    "}"
   ]
  },
  {
   "cell_type": "code",
   "execution_count": 17,
   "id": "d8b6731d",
   "metadata": {},
   "outputs": [
    {
     "name": "stdout",
     "output_type": "stream",
     "text": [
      "\n",
      "======= src/Snowman.sol:Greeter =======\n",
      "Gas estimation:\n",
      "construction:\n",
      "   infinite + 156800 = infinite\n",
      "external:\n",
      "   greet():\tinfinite\n",
      "   setGreeting(string):\tinfinite\n",
      "Binary:\n",
      "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\n",
      "Contract JSON ABI\n",
      "[{\"inputs\":[],\"stateMutability\":\"nonpayable\",\"type\":\"constructor\"},{\"inputs\":[],\"name\":\"greet\",\"outputs\":[{\"internalType\":\"string\",\"name\":\"\",\"type\":\"string\"}],\"stateMutability\":\"view\",\"type\":\"function\"},{\"inputs\":[{\"internalType\":\"string\",\"name\":\"_greeting\",\"type\":\"string\"}],\"name\":\"setGreeting\",\"outputs\":[],\"stateMutability\":\"nonpayable\",\"type\":\"function\"}]\n"
     ]
    }
   ],
   "source": [
    "!solc --abi --bin --gas src\\Snowman.sol"
   ]
  },
  {
   "cell_type": "code",
   "execution_count": 18,
   "id": "fe10ec85",
   "metadata": {},
   "outputs": [
    {
     "name": "stdout",
     "output_type": "stream",
     "text": [
      "[\n",
      "  '0x36327661d57185Abef37701415FA2777A4F085c7',\n",
      "  '0xd7e442A4D88f6ac926f96D9521e5F4c44E32877c',\n",
      "  '0x5E8901e4dE380cC75bA98101ea0F47DC4F963b2F',\n",
      "  '0x01cA923488e246e8ab9b40D9824B948D2872eD7d',\n",
      "  '0x30D25a507Ba17c28BDC1F34D4D8C8127fb94C77a',\n",
      "  '0xb198e0A03e654C52ABAbe543567Db0A5622A0768',\n",
      "  '0x6AefB3E4F23983685CE6aEA5F295c04d33bAb96f',\n",
      "  '0xf14CB2C2Bf18e3E3659Ba30D68B18535fd98F84a',\n",
      "  '0x6779782578eEc87aB9dBAEE65561bbbF7cC472Ba',\n",
      "  '0xDE413d04047441f354D9105F8B9C7726E75666bD'\n",
      "]\n"
     ]
    }
   ],
   "source": [
    "!node src/getMyAddr.js"
   ]
  },
  {
   "cell_type": "code",
   "execution_count": 19,
   "id": "b3ab758b",
   "metadata": {},
   "outputs": [
    {
     "name": "stdout",
     "output_type": "stream",
     "text": [
      "Overwriting src/snowmanDeploy.js\n"
     ]
    }
   ],
   "source": [
    "%%writefile src/snowmanDeploy.js\n",
    "var Web3=require('web3');\n",
    "var web3;\n",
    "if (typeof web3 !== 'undefined') {\n",
    "    web3 = new Web3(web3.currentProvider);\n",
    "} else {\n",
    "    web3 = new Web3(new Web3.providers.HttpProvider(\"http://localhost:8345\"));\n",
    "}\n",
    "var _abiArray=[{\"constant\":false,\"inputs\":[{\"name\":\"_greeting\",\"type\":\"string\"}],\"name\":\"setGreeting\",\"outputs\":[],\"payable\":false,\"stateMutability\":\"nonpayable\",\"type\":\"function\"},{\"constant\":true,\"inputs\":[],\"name\":\"greet\",\"outputs\":[{\"name\":\"\",\"type\":\"string\"}],\"payable\":false,\"stateMutability\":\"view\",\"type\":\"function\"},{\"inputs\":[],\"payable\":false,\"stateMutability\":\"nonpayable\",\"type\":\"constructor\"}];\n",
    "var _bin=\"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\";\n",
    "var _contract = new web3.eth.Contract(_abiArray);\n",
    "//unlock the account with a password provided\n",
    "//web3.personal.unlockAccount(web3.eth.accounts[0],'password');\n",
    "_contract\n",
    "    .deploy({data:\"0x\"+_bin})\n",
    "    .send({from: \"0x36327661d57185Abef37701415FA2777A4F085c7\", gas: 364124, gasPrice: '1000000000'})\n",
    "    .then(function(newContractInstance){\n",
    "        console.log(newContractInstance.options.address) // instance with the new contract address\n",
    "    });"
   ]
  },
  {
   "cell_type": "code",
   "execution_count": 20,
   "id": "3981173d",
   "metadata": {},
   "outputs": [
    {
     "name": "stdout",
     "output_type": "stream",
     "text": [
      "0x2023c576FD3Df3bffc492F23cc0217428415396D\n"
     ]
    }
   ],
   "source": [
    "!node src/snowmanDeploy.js"
   ]
  },
  {
   "cell_type": "code",
   "execution_count": 21,
   "id": "35d7a2f2",
   "metadata": {},
   "outputs": [
    {
     "name": "stdout",
     "output_type": "stream",
     "text": [
      "Overwriting src/snowmanUse.js\n"
     ]
    }
   ],
   "source": [
    "%%writefile src/snowmanUse.js\n",
    "var Web3=require('web3');\n",
    "var web3 = new Web3(new Web3.providers.HttpProvider(\"http://localhost:8345\"));\n",
    "var _abiArray=[{\"constant\":false,\"inputs\":[{\"name\":\"_greeting\",\"type\":\"string\"}],\"name\":\"setGreeting\",\"outputs\":[],\"payable\":false,\"stateMutability\":\"nonpayable\",\"type\":\"function\"},{\"constant\":true,\"inputs\":[],\"name\":\"greet\",\"outputs\":[{\"name\":\"\",\"type\":\"string\"}],\"payable\":false,\"stateMutability\":\"view\",\"type\":\"function\"},{\"inputs\":[],\"payable\":false,\"stateMutability\":\"nonpayable\",\"type\":\"constructor\"}];\n",
    "var greeter = new web3.eth.Contract(_abiArray,\"0x2023c576FD3Df3bffc492F23cc0217428415396D\");\n",
    "greeter.methods.greet().call().then(function(value) {console.log(value);});\n",
    "greeter.methods.setGreeting(\"Hello Snowman\").send({from:\"0x36327661d57185Abef37701415FA2777A4F085c7\",gas:100000});\n",
    "greeter.methods.greet().call().then(function(value) {console.log(value);});"
   ]
  },
  {
   "cell_type": "code",
   "execution_count": 23,
   "id": "51a60ac1",
   "metadata": {},
   "outputs": [
    {
     "name": "stdout",
     "output_type": "stream",
     "text": [
      "Hello Snowman\n",
      "Hello Snowman\n"
     ]
    }
   ],
   "source": [
    "!node src/snowmanUse.js"
   ]
  }
 ],
 "metadata": {
  "kernelspec": {
   "display_name": "Python 3 (ipykernel)",
   "language": "python",
   "name": "python3"
  },
  "language_info": {
   "codemirror_mode": {
    "name": "ipython",
    "version": 3
   },
   "file_extension": ".py",
   "mimetype": "text/x-python",
   "name": "python",
   "nbconvert_exporter": "python",
   "pygments_lexer": "ipython3",
   "version": "3.8.10"
  }
 },
 "nbformat": 4,
 "nbformat_minor": 5
}
