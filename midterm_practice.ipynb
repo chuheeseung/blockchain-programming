{
 "cells": [
  {
   "cell_type": "markdown",
   "id": "a609a457",
   "metadata": {},
   "source": [
    "# 계수기와 Timer 콘트랙"
   ]
  },
  {
   "cell_type": "code",
   "execution_count": 1,
   "id": "bf4247ad",
   "metadata": {
    "scrolled": false
   },
   "outputs": [
    {
     "name": "stdout",
     "output_type": "stream",
     "text": [
      "[\"0x9b0b6b0b3bbdbd746427c7c3afe05282b52f08dd\", \"0xc78c8063043994e244384ff80b4153772b5d5cd2\", \"0x13516d2b36eb50a7300e2bab450f75d39f8422f3\"]\n"
     ]
    }
   ],
   "source": [
    "!geth --exec eth.accounts attach http://localhost:8445"
   ]
  },
  {
   "cell_type": "code",
   "execution_count": 4,
   "id": "e6aa57e0",
   "metadata": {},
   "outputs": [
    {
     "name": "stdout",
     "output_type": "stream",
     "text": [
      "[\n",
      "  '0x3534A45129b0776F1E811Ad51A74D46ebCBE6108',\n",
      "  '0x1BE21dB844d547f2FCeFd0A93F0b43fAc6c068fC',\n",
      "  '0x5Ed0D349E57aB3Fe8B1c564CFCbbFD3799E0Fd05',\n",
      "  '0xC56f3F44e4Cd030Abb7B99200A3362324762a15A',\n",
      "  '0x6D546D9aA842232FFE87Ea3D14526B1643FD09a1',\n",
      "  '0xBF3f3C915d21E84cb058eD3A48Bee75866521743',\n",
      "  '0xAA1DeBdb2909f124569B63e6a4372B72f9897E7B',\n",
      "  '0x1186108091719CEFE4aB740EBE85eE993e8E50d8',\n",
      "  '0xe611a20D34B9041E6A3704482FEb89FB5D722850',\n",
      "  '0xD3B41D3884AAC2b8B6df1b2f24DcB51d194b1063'\n",
      "]\n"
     ]
    }
   ],
   "source": [
    "!node src/getMyAddr.js"
   ]
  },
  {
   "cell_type": "markdown",
   "id": "6c27c6e3",
   "metadata": {},
   "source": [
    "### 1. 개발"
   ]
  },
  {
   "cell_type": "code",
   "execution_count": 2,
   "id": "6a3c92ac",
   "metadata": {},
   "outputs": [
    {
     "name": "stdout",
     "output_type": "stream",
     "text": [
      "Writing src/counterNtimer.sol\n"
     ]
    }
   ],
   "source": [
    "%%writefile src/counterNtimer.sol\n",
    "pragma solidity ^0.6.0;\n",
    "\n",
    "contract counterNtimer {\n",
    "    uint256 startTime;\n",
    "    uint256 counter = 0;\n",
    "    \n",
    "    function start() public {\n",
    "        startTime = now;\n",
    "    }\n",
    "    \n",
    "    function timePassed() public view returns(uint256) {\n",
    "        return now-startTime;\n",
    "    }\n",
    "    \n",
    "    function getNow() public view returns(uint) {\n",
    "        return now;\n",
    "    }\n",
    "    \n",
    "    function add() public {\n",
    "        counter++;\n",
    "    }\n",
    "    \n",
    "    function subtract() public {\n",
    "        counter--;\n",
    "    }\n",
    "    \n",
    "    function getCounter() public view returns(uint256) {\n",
    "        return counter;\n",
    "    }\n",
    "}"
   ]
  },
  {
   "cell_type": "markdown",
   "id": "c23b4760",
   "metadata": {},
   "source": [
    "### 2. 컴파일"
   ]
  },
  {
   "cell_type": "code",
   "execution_count": 3,
   "id": "4a6117c1",
   "metadata": {},
   "outputs": [
    {
     "name": "stdout",
     "output_type": "stream",
     "text": [
      "\n",
      "======= src/counterNtimer.sol:counterNtimer =======\n",
      "Gas estimation:\n",
      "construction:\n",
      "   5129 + 71200 = 76329\n",
      "external:\n",
      "   add():\t20959\n",
      "   getCounter():\t1035\n",
      "   getNow():\t278\n",
      "   start():\t20245\n",
      "   subtract():\t20984\n",
      "   timePassed():\t1062\n",
      "Binary:\n",
      "6080604052600060015534801561001557600080fd5b50610164806100256000396000f3fe608060405234801561001057600080fd5b50600436106100625760003560e01c80634f2be91f146100675780636deebae3146100715780638ada066e1461007b578063b445425314610099578063bbe4fd50146100b7578063be9a6555146100d5575b600080fd5b61006f6100df565b005b6100796100f3565b005b610083610108565b6040518082815260200191505060405180910390f35b6100a1610112565b6040518082815260200191505060405180910390f35b6100bf61011d565b6040518082815260200191505060405180910390f35b6100dd610125565b005b600160008154809291906001019190505550565b60016000815480929190600190039190505550565b6000600154905090565b600080544203905090565b600042905090565b4260008190555056fea264697066735822122096f7be6e9d1ebffa231115b6471029a7a4fb230f178ec7a89e7d8ffd81a76dbd64736f6c63430006040033\n",
      "Contract JSON ABI\n",
      "[{\"inputs\":[],\"name\":\"add\",\"outputs\":[],\"stateMutability\":\"nonpayable\",\"type\":\"function\"},{\"inputs\":[],\"name\":\"getCounter\",\"outputs\":[{\"internalType\":\"uint256\",\"name\":\"\",\"type\":\"uint256\"}],\"stateMutability\":\"view\",\"type\":\"function\"},{\"inputs\":[],\"name\":\"getNow\",\"outputs\":[{\"internalType\":\"uint256\",\"name\":\"\",\"type\":\"uint256\"}],\"stateMutability\":\"view\",\"type\":\"function\"},{\"inputs\":[],\"name\":\"start\",\"outputs\":[],\"stateMutability\":\"nonpayable\",\"type\":\"function\"},{\"inputs\":[],\"name\":\"subtract\",\"outputs\":[],\"stateMutability\":\"nonpayable\",\"type\":\"function\"},{\"inputs\":[],\"name\":\"timePassed\",\"outputs\":[{\"internalType\":\"uint256\",\"name\":\"\",\"type\":\"uint256\"}],\"stateMutability\":\"view\",\"type\":\"function\"}]\n"
     ]
    }
   ],
   "source": [
    "!solc --abi --bin --gas src/counterNtimer.sol"
   ]
  },
  {
   "cell_type": "markdown",
   "id": "6d89b228",
   "metadata": {},
   "source": [
    "### 3. 컨트랙 배포"
   ]
  },
  {
   "cell_type": "code",
   "execution_count": 7,
   "id": "d8644fa7",
   "metadata": {},
   "outputs": [
    {
     "name": "stdout",
     "output_type": "stream",
     "text": [
      "Overwriting src/counterNtimerDeploy.js\n"
     ]
    }
   ],
   "source": [
    "%%writefile src/counterNtimerDeploy.js\n",
    "var Web3 = require('web3');\n",
    "var web3;\n",
    "\n",
    "if(typeof web3 !== 'undefined') {\n",
    "    web3 = new Web3(web3.currentProvider);\n",
    "}\n",
    "else {\n",
    "    web3 = new Web3(new Web3.providers.HttpProvider(\"http://localhost:8345\"));\n",
    "}\n",
    "\n",
    "var _abiArray = [{\"constant\":false,\"inputs\":[],\"name\":\"add\",\"outputs\":[],\"stateMutability\":\"nonpayable\",\"type\":\"function\"},{\"inputs\":[],\"name\":\"getCounter\",\"outputs\":[{\"internalType\":\"uint256\",\"name\":\"\",\"type\":\"uint256\"}],\"stateMutability\":\"view\",\"type\":\"function\"},{\"inputs\":[],\"name\":\"getNow\",\"outputs\":[{\"internalType\":\"uint256\",\"name\":\"\",\"type\":\"uint256\"}],\"stateMutability\":\"view\",\"type\":\"function\"},{\"inputs\":[],\"name\":\"start\",\"outputs\":[],\"stateMutability\":\"nonpayable\",\"type\":\"function\"},{\"inputs\":[],\"name\":\"subtract\",\"outputs\":[],\"stateMutability\":\"nonpayable\",\"type\":\"function\"},{\"inputs\":[],\"name\":\"timePassed\",\"outputs\":[{\"internalType\":\"uint256\",\"name\":\"\",\"type\":\"uint256\"}],\"stateMutability\":\"view\",\"type\":\"function\"}];\n",
    "var _bin = \"6080604052600060015534801561001557600080fd5b50610164806100256000396000f3fe608060405234801561001057600080fd5b50600436106100625760003560e01c80634f2be91f146100675780636deebae3146100715780638ada066e1461007b578063b445425314610099578063bbe4fd50146100b7578063be9a6555146100d5575b600080fd5b61006f6100df565b005b6100796100f3565b005b610083610108565b6040518082815260200191505060405180910390f35b6100a1610112565b6040518082815260200191505060405180910390f35b6100bf61011d565b6040518082815260200191505060405180910390f35b6100dd610125565b005b600160008154809291906001019190505550565b60016000815480929190600190039190505550565b6000600154905090565b600080544203905090565b600042905090565b4260008190555056fea264697066735822122096f7be6e9d1ebffa231115b6471029a7a4fb230f178ec7a89e7d8ffd81a76dbd64736f6c63430006040033\";\n",
    "var _contract = new web3.eth.Contract(_abiArray);\n",
    "\n",
    "_contract\n",
    "    .deploy({data:\"0x\"+_bin})\n",
    "    .send({from:\"0x3534A45129b0776F1E811Ad51A74D46ebCBE6108\", gas:364124, gasPrice:'1000000000'})\n",
    "    .then(function(newContractInstance) {\n",
    "        console.log(newContractInstance.options.address)\n",
    "    });"
   ]
  },
  {
   "cell_type": "code",
   "execution_count": 9,
   "id": "e97c0f6c",
   "metadata": {},
   "outputs": [
    {
     "name": "stdout",
     "output_type": "stream",
     "text": [
      "0x2C29680D75b8377bf96Fb87a683b5dD1FA8353eB\n"
     ]
    }
   ],
   "source": [
    "!node src/counterNtimerDeploy.js"
   ]
  },
  {
   "cell_type": "markdown",
   "id": "30a4cdbd",
   "metadata": {},
   "source": [
    "### 4. 사용"
   ]
  },
  {
   "cell_type": "code",
   "execution_count": 23,
   "id": "19a16518",
   "metadata": {},
   "outputs": [
    {
     "name": "stdout",
     "output_type": "stream",
     "text": [
      "Overwriting src/counterNtimerUse.js\n"
     ]
    }
   ],
   "source": [
    "%%writefile src/counterNtimerUse.js\n",
    "var Web3 = require('web3');\n",
    "var web3 = new Web3(new Web3.providers.HttpProvider(\"http://localhost:8345\"));\n",
    "\n",
    "var abi = [{\"constant\":true,\"inputs\":[],\"name\":\"add\",\"outputs\":[],\"stateMutability\":\"nonpayable\",\"type\":\"function\"},{\"inputs\":[],\"name\":\"getCounter\",\"outputs\":[{\"internalType\":\"uint256\",\"name\":\"\",\"type\":\"uint256\"}],\"stateMutability\":\"view\",\"type\":\"function\"},{\"inputs\":[],\"name\":\"getNow\",\"outputs\":[{\"internalType\":\"uint256\",\"name\":\"\",\"type\":\"uint256\"}],\"stateMutability\":\"view\",\"type\":\"function\"},{\"inputs\":[],\"name\":\"start\",\"outputs\":[],\"stateMutability\":\"nonpayable\",\"type\":\"function\"},{\"inputs\":[],\"name\":\"subtract\",\"outputs\":[],\"stateMutability\":\"nonpayable\",\"type\":\"function\"},{\"inputs\":[],\"name\":\"timePassed\",\"outputs\":[{\"internalType\":\"uint256\",\"name\":\"\",\"type\":\"uint256\"}],\"stateMutability\":\"view\",\"type\":\"function\"}];\n",
    "var addr = \"0x2C29680D75b8377bf96Fb87a683b5dD1FA8353eB\";\n",
    "var counter = new web3.eth.Contract(abi, addr);\n",
    "\n",
    "// counter.methods.getCounter().call().then(function(str) {console.log(str);});\n",
    "counter.methods.start().send({from:\"0x3534A45129b0776F1E811Ad51A74D46ebCBE6108\", gas:100000});\n",
    "counter.methods.start().send({from:\"0x3534A45129b0776F1E811Ad51A74D46ebCBE6108\", gas:100000});\n",
    "counter.methods.start().send({from:\"0x3534A45129b0776F1E811Ad51A74D46ebCBE6108\", gas:100000});\n",
    "counter.methods.start().send({from:\"0x3534A45129b0776F1E811Ad51A74D46ebCBE6108\", gas:100000});\n",
    "counter.methods.getCounter().call().then(function(str) {console.log(\"counter : \", str)});\n",
    "counter.methods.timePassed().call().then(function(value) {console.log(\"timePassed : \", value)});"
   ]
  },
  {
   "cell_type": "code",
   "execution_count": 22,
   "id": "39a5c3e5",
   "metadata": {},
   "outputs": [
    {
     "name": "stdout",
     "output_type": "stream",
     "text": [
      "0\n",
      "counter :  0\n",
      "timePassed :  0\n"
     ]
    }
   ],
   "source": [
    "!node src/counterNtimerUse.js"
   ]
  },
  {
   "cell_type": "code",
   "execution_count": 37,
   "id": "7fca3543",
   "metadata": {},
   "outputs": [
    {
     "name": "stdout",
     "output_type": "stream",
     "text": [
      "counter :  0\n",
      "timePassed :  0\n"
     ]
    }
   ],
   "source": [
    "!node src/counterNtimerUse.js"
   ]
  },
  {
   "cell_type": "code",
   "execution_count": 25,
   "id": "19462d95",
   "metadata": {},
   "outputs": [
    {
     "name": "stdout",
     "output_type": "stream",
     "text": [
      "counter :  0\n",
      "timePassed :  0\n"
     ]
    }
   ],
   "source": [
    "!node src/counterNtimerUse.js"
   ]
  },
  {
   "cell_type": "code",
   "execution_count": 36,
   "id": "d1f2a232",
   "metadata": {},
   "outputs": [
    {
     "name": "stdout",
     "output_type": "stream",
     "text": [
      "counter :  0\n",
      "timePassed :  0\n"
     ]
    }
   ],
   "source": [
    "!node src/counterNtimerUse.js"
   ]
  },
  {
   "cell_type": "code",
   "execution_count": 11,
   "id": "50e2e19d",
   "metadata": {},
   "outputs": [
    {
     "name": "stdout",
     "output_type": "stream",
     "text": [
      "counter 0\n",
      "timePassed :  1650701592\n"
     ]
    }
   ],
   "source": [
    "!node src/counterNtimerUse.js"
   ]
  },
  {
   "cell_type": "code",
   "execution_count": 11,
   "id": "7406bb0d",
   "metadata": {},
   "outputs": [
    {
     "name": "stdout",
     "output_type": "stream",
     "text": [
      "counter 0\n",
      "timePassed :  1650701592\n"
     ]
    }
   ],
   "source": [
    "!node src/counterNtimerUse.js"
   ]
  },
  {
   "cell_type": "code",
   "execution_count": null,
   "id": "f1a0c726",
   "metadata": {},
   "outputs": [],
   "source": []
  },
  {
   "cell_type": "code",
   "execution_count": 29,
   "id": "31350617",
   "metadata": {},
   "outputs": [],
   "source": [
    "!solc --optimize --combined-json abi,bin src/counterNtimer.sol > src/counterNtimer.json"
   ]
  },
  {
   "cell_type": "code",
   "execution_count": 32,
   "id": "1e432b0e",
   "metadata": {},
   "outputs": [
    {
     "name": "stdout",
     "output_type": "stream",
     "text": [
      "{\"contracts\":{\"src/counterNtimer.sol:counterNtimer\":{\"abi\":\"[{\\\"inputs\\\":[],\\\"name\\\":\\\"add\\\",\\\"outputs\\\":[],\\\"stateMutability\\\":\\\"nonpayable\\\",\\\"type\\\":\\\"function\\\"},{\\\"inputs\\\":[],\\\"name\\\":\\\"getCounter\\\",\\\"outputs\\\":[{\\\"internalType\\\":\\\"uint256\\\",\\\"name\\\":\\\"\\\",\\\"type\\\":\\\"uint256\\\"}],\\\"stateMutability\\\":\\\"view\\\",\\\"type\\\":\\\"function\\\"},{\\\"inputs\\\":[],\\\"name\\\":\\\"getNow\\\",\\\"outputs\\\":[{\\\"internalType\\\":\\\"uint256\\\",\\\"name\\\":\\\"\\\",\\\"type\\\":\\\"uint256\\\"}],\\\"stateMutability\\\":\\\"view\\\",\\\"type\\\":\\\"function\\\"},{\\\"inputs\\\":[],\\\"name\\\":\\\"start\\\",\\\"outputs\\\":[],\\\"stateMutability\\\":\\\"nonpayable\\\",\\\"type\\\":\\\"function\\\"},{\\\"inputs\\\":[],\\\"name\\\":\\\"subtract\\\",\\\"outputs\\\":[],\\\"stateMutability\\\":\\\"nonpayable\\\",\\\"type\\\":\\\"function\\\"},{\\\"inputs\\\":[],\\\"name\\\":\\\"timePassed\\\",\\\"outputs\\\":[{\\\"internalType\\\":\\\"uint256\\\",\\\"name\\\":\\\"\\\",\\\"type\\\":\\\"uint256\\\"}],\\\"stateMutability\\\":\\\"view\\\",\\\"type\\\":\\\"function\\\"}]\",\"bin\":\"6080604052600060015534801561001557600080fd5b5060fb806100246000396000f3fe6080604052348015600f57600080fd5b5060043610605a5760003560e01c80634f2be91f14605f5780636deebae31460675780638ada066e14606d578063b4454253146085578063bbe4fd5014608b578063be9a6555146091575b600080fd5b60656097565b005b606560a1565b607360ad565b60408051918252519081900360200190f35b607360b3565b607360bb565b606560bf565b6001805481019055565b60018054600019019055565b60015490565b600054420390565b4290565b4260005556fea26469706673582212206afe621304410cdc893de8ffd2e909e83595fb5f47945f1a45e41849ec070a5864736f6c63430006040033\"}},\"version\":\"0.6.4+commit.1dca32f3.Windows.msvc\"}\n"
     ]
    }
   ],
   "source": [
    "!type src\\counterNtimer.json"
   ]
  },
  {
   "cell_type": "code",
   "execution_count": 33,
   "id": "2b8fba1b",
   "metadata": {},
   "outputs": [
    {
     "name": "stdout",
     "output_type": "stream",
     "text": [
      "Writing src/counterNtimerImportTest.js\n"
     ]
    }
   ],
   "source": [
    "%%writefile src/counterNtimerImportTest.js\n",
    "const _abiBinJson = require('./counterNtimer.json');\n",
    "contractName = Object.keys(_abiBinJson.contracts);\n",
    "console.log(\"- conatract name : \", contractName);\n",
    "_abi = _abiBinJson.contracts[contractName].abi;\n",
    "_abiArray = JSON.parse(JSON.stringify(_abi));\n",
    "_bin = _abiBinJson.contracts[contractName].bin;\n",
    "console.log(\"- abi : \", _abi);\n",
    "console.log(\"- abi array : \", _abiArray);\n",
    "console.log(\"- bytecode : \", _bin);"
   ]
  },
  {
   "cell_type": "code",
   "execution_count": 35,
   "id": "7dbbc149",
   "metadata": {},
   "outputs": [
    {
     "name": "stdout",
     "output_type": "stream",
     "text": [
      "- conatract name :  [ 'src/counterNtimer.sol:counterNtimer' ]\n",
      "- abi :  [{\"inputs\":[],\"name\":\"add\",\"outputs\":[],\"stateMutability\":\"nonpayable\",\"type\":\"function\"},{\"inputs\":[],\"name\":\"getCounter\",\"outputs\":[{\"internalType\":\"uint256\",\"name\":\"\",\"type\":\"uint256\"}],\"stateMutability\":\"view\",\"type\":\"function\"},{\"inputs\":[],\"name\":\"getNow\",\"outputs\":[{\"internalType\":\"uint256\",\"name\":\"\",\"type\":\"uint256\"}],\"stateMutability\":\"view\",\"type\":\"function\"},{\"inputs\":[],\"name\":\"start\",\"outputs\":[],\"stateMutability\":\"nonpayable\",\"type\":\"function\"},{\"inputs\":[],\"name\":\"subtract\",\"outputs\":[],\"stateMutability\":\"nonpayable\",\"type\":\"function\"},{\"inputs\":[],\"name\":\"timePassed\",\"outputs\":[{\"internalType\":\"uint256\",\"name\":\"\",\"type\":\"uint256\"}],\"stateMutability\":\"view\",\"type\":\"function\"}]\n",
      "- abi array :  [{\"inputs\":[],\"name\":\"add\",\"outputs\":[],\"stateMutability\":\"nonpayable\",\"type\":\"function\"},{\"inputs\":[],\"name\":\"getCounter\",\"outputs\":[{\"internalType\":\"uint256\",\"name\":\"\",\"type\":\"uint256\"}],\"stateMutability\":\"view\",\"type\":\"function\"},{\"inputs\":[],\"name\":\"getNow\",\"outputs\":[{\"internalType\":\"uint256\",\"name\":\"\",\"type\":\"uint256\"}],\"stateMutability\":\"view\",\"type\":\"function\"},{\"inputs\":[],\"name\":\"start\",\"outputs\":[],\"stateMutability\":\"nonpayable\",\"type\":\"function\"},{\"inputs\":[],\"name\":\"subtract\",\"outputs\":[],\"stateMutability\":\"nonpayable\",\"type\":\"function\"},{\"inputs\":[],\"name\":\"timePassed\",\"outputs\":[{\"internalType\":\"uint256\",\"name\":\"\",\"type\":\"uint256\"}],\"stateMutability\":\"view\",\"type\":\"function\"}]\n",
      "- bytecode :  6080604052600060015534801561001557600080fd5b5060fb806100246000396000f3fe6080604052348015600f57600080fd5b5060043610605a5760003560e01c80634f2be91f14605f5780636deebae31460675780638ada066e14606d578063b4454253146085578063bbe4fd5014608b578063be9a6555146091575b600080fd5b60656097565b005b606560a1565b607360ad565b60408051918252519081900360200190f35b607360b3565b607360bb565b606560bf565b6001805481019055565b60018054600019019055565b60015490565b600054420390565b4290565b4260005556fea26469706673582212206afe621304410cdc893de8ffd2e909e83595fb5f47945f1a45e41849ec070a5864736f6c63430006040033\n"
     ]
    }
   ],
   "source": [
    "!node src/counterNtimerImportTest.js"
   ]
  },
  {
   "cell_type": "code",
   "execution_count": null,
   "id": "d98da3af",
   "metadata": {},
   "outputs": [],
   "source": []
  }
 ],
 "metadata": {
  "kernelspec": {
   "display_name": "Python 3 (ipykernel)",
   "language": "python",
   "name": "python3"
  },
  "language_info": {
   "codemirror_mode": {
    "name": "ipython",
    "version": 3
   },
   "file_extension": ".py",
   "mimetype": "text/x-python",
   "name": "python",
   "nbconvert_exporter": "python",
   "pygments_lexer": "ipython3",
   "version": "3.8.10"
  }
 },
 "nbformat": 4,
 "nbformat_minor": 5
}
