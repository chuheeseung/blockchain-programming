{
 "cells": [
  {
   "cell_type": "markdown",
   "id": "1eac33d8",
   "metadata": {},
   "source": [
    "## 4.1 Geth"
   ]
  },
  {
   "cell_type": "code",
   "execution_count": 3,
   "id": "dd37f087",
   "metadata": {
    "scrolled": true
   },
   "outputs": [
    {
     "name": "stdout",
     "output_type": "stream",
     "text": [
      "[\"0x9b0b6b0b3bbdbd746427c7c3afe05282b52f08dd\", \"0xc78c8063043994e244384ff80b4153772b5d5cd2\", \"0x13516d2b36eb50a7300e2bab450f75d39f8422f3\"]\n"
     ]
    }
   ],
   "source": [
    "!geth --exec \"eth.accounts\" attach http://localhost:8445"
   ]
  },
  {
   "cell_type": "code",
   "execution_count": 7,
   "id": "7540d47b",
   "metadata": {
    "scrolled": true
   },
   "outputs": [
    {
     "name": "stdout",
     "output_type": "stream",
     "text": [
      "[\"0x9b0b6b0b3bbdbd746427c7c3afe05282b52f08dd\", \"0xc78c8063043994e244384ff80b4153772b5d5cd2\", \"0x13516d2b36eb50a7300e2bab450f75d39f8422f3\"]\n"
     ]
    }
   ],
   "source": [
    "!geth --exec personal.listAccounts attach http://localhost:8445"
   ]
  },
  {
   "cell_type": "markdown",
   "id": "bef554f9",
   "metadata": {},
   "source": [
    "## 4.2.2 계정의 속성\n",
    "nonce 구하는 법"
   ]
  },
  {
   "cell_type": "code",
   "execution_count": 16,
   "id": "3bcfe3a3",
   "metadata": {
    "scrolled": true
   },
   "outputs": [
    {
     "name": "stdout",
     "output_type": "stream",
     "text": [
      "4\n"
     ]
    }
   ],
   "source": [
    "!geth --exec eth.getTransactionCount(eth.accounts[0]) attach http://localhost:8445"
   ]
  },
  {
   "cell_type": "markdown",
   "id": "975723ba",
   "metadata": {},
   "source": [
    "## 문제 4-1. 계정을 생성하기"
   ]
  },
  {
   "cell_type": "code",
   "execution_count": 17,
   "id": "62d2800f",
   "metadata": {},
   "outputs": [
    {
     "name": "stdout",
     "output_type": "stream",
     "text": [
      "[\"0x9b0b6b0b3bbdbd746427c7c3afe05282b52f08dd\", \"0xc78c8063043994e244384ff80b4153772b5d5cd2\", \"0x13516d2b36eb50a7300e2bab450f75d39f8422f3\"]\n"
     ]
    }
   ],
   "source": [
    "!geth --exec \"eth.accounts\" attach http://localhost:8445"
   ]
  },
  {
   "cell_type": "markdown",
   "id": "bfe9e0be",
   "metadata": {},
   "source": [
    "## 문제 4-2. 계정을 coinbase로 설정하기"
   ]
  },
  {
   "cell_type": "code",
   "execution_count": 18,
   "id": "d9c08b72",
   "metadata": {
    "scrolled": true
   },
   "outputs": [
    {
     "name": "stdout",
     "output_type": "stream",
     "text": [
      "\"0x9b0b6b0b3bbdbd746427c7c3afe05282b52f08dd\"\n"
     ]
    }
   ],
   "source": [
    "!geth --exec \"eth.coinbase\" attach http://localhost:8445"
   ]
  },
  {
   "cell_type": "code",
   "execution_count": 19,
   "id": "e1f992d7",
   "metadata": {},
   "outputs": [
    {
     "name": "stdout",
     "output_type": "stream",
     "text": [
      "true\n"
     ]
    }
   ],
   "source": [
    "!geth --exec \"miner.setEtherbase(eth.accounts[1])\" attach http://localhost:8445"
   ]
  },
  {
   "cell_type": "code",
   "execution_count": 20,
   "id": "0a031940",
   "metadata": {
    "scrolled": true
   },
   "outputs": [
    {
     "name": "stdout",
     "output_type": "stream",
     "text": [
      "\"0xc78c8063043994e244384ff80b4153772b5d5cd2\"\n"
     ]
    }
   ],
   "source": [
    "!geth --exec \"eth.coinbase\" attach http://localhost:8445"
   ]
  },
  {
   "cell_type": "code",
   "execution_count": 21,
   "id": "714afd7e",
   "metadata": {},
   "outputs": [
    {
     "name": "stdout",
     "output_type": "stream",
     "text": [
      "true\n"
     ]
    }
   ],
   "source": [
    "!geth --exec \"miner.setEtherbase(eth.accounts[0])\" attach http://localhost:8445"
   ]
  },
  {
   "cell_type": "code",
   "execution_count": 22,
   "id": "ea5ecd71",
   "metadata": {},
   "outputs": [
    {
     "name": "stdout",
     "output_type": "stream",
     "text": [
      "\"0x9b0b6b0b3bbdbd746427c7c3afe05282b52f08dd\"\n"
     ]
    }
   ],
   "source": [
    "!geth --exec \"eth.coinbase\" attach http://localhost:8445"
   ]
  },
  {
   "cell_type": "markdown",
   "id": "b60eee4e",
   "metadata": {},
   "source": [
    "## 문제 4-3. 마이닝 해보기"
   ]
  },
  {
   "cell_type": "code",
   "execution_count": 23,
   "id": "a7ab4029",
   "metadata": {},
   "outputs": [
    {
     "name": "stdout",
     "output_type": "stream",
     "text": [
      "null\n"
     ]
    }
   ],
   "source": [
    "!geth --exec \"miner.start(1);admin.sleepBlocks(1);miner.stop()\" attach http://localhost:8445"
   ]
  },
  {
   "cell_type": "markdown",
   "id": "a49cee60",
   "metadata": {},
   "source": [
    "## 4.2.6 wallet"
   ]
  },
  {
   "cell_type": "code",
   "execution_count": 24,
   "id": "61b64ae0",
   "metadata": {},
   "outputs": [
    {
     "name": "stdout",
     "output_type": "stream",
     "text": [
      "[{\n",
      "    accounts: [{\n",
      "        address: \"0x9b0b6b0b3bbdbd746427c7c3afe05282b52f08dd\",\n",
      "        url: \"keystore://C:\\\\Users\\\\youve\\\\Code\\\\201810820\\\\eth\\\\keystore\\\\UTC--2022-03-12T16-07-49.915360700Z--9b0b6b0b3bbdbd746427c7c3afe05282b52f08dd\"\n",
      "    }],\n",
      "    status: \"Unlocked\",\n",
      "    url: \"keystore://C:\\\\Users\\\\youve\\\\Code\\\\201810820\\\\eth\\\\keystore\\\\UTC--2022-03-12T16-07-49.915360700Z--9b0b6b0b3bbdbd746427c7c3afe05282b52f08dd\"\n",
      "}, {\n",
      "    accounts: [{\n",
      "        address: \"0xc78c8063043994e244384ff80b4153772b5d5cd2\",\n",
      "        url: \"keystore://C:\\\\Users\\\\youve\\\\Code\\\\201810820\\\\eth\\\\keystore\\\\UTC--2022-03-20T10-48-27.906791800Z--c78c8063043994e244384ff80b4153772b5d5cd2\"\n",
      "    }],\n",
      "    status: \"Locked\",\n",
      "    url: \"keystore://C:\\\\Users\\\\youve\\\\Code\\\\201810820\\\\eth\\\\keystore\\\\UTC--2022-03-20T10-48-27.906791800Z--c78c8063043994e244384ff80b4153772b5d5cd2\"\n",
      "}, {\n",
      "    accounts: [{\n",
      "        address: \"0x13516d2b36eb50a7300e2bab450f75d39f8422f3\",\n",
      "        url: \"keystore://C:\\\\Users\\\\youve\\\\Code\\\\201810820\\\\eth\\\\keystore\\\\UTC--2022-03-20T10-49-45.279742300Z--13516d2b36eb50a7300e2bab450f75d39f8422f3\"\n",
      "    }],\n",
      "    status: \"Locked\",\n",
      "    url: \"keystore://C:\\\\Users\\\\youve\\\\Code\\\\201810820\\\\eth\\\\keystore\\\\UTC--2022-03-20T10-49-45.279742300Z--13516d2b36eb50a7300e2bab450f75d39f8422f3\"\n",
      "}]\n"
     ]
    }
   ],
   "source": [
    "!geth --exec \"personal.listWallets\" attach http://localhost:8445"
   ]
  },
  {
   "cell_type": "markdown",
   "id": "2bee0337",
   "metadata": {},
   "source": [
    "## 연습문제 4-1\n",
    "1. 현재 블록번호를 출력\n",
    "2. 자신의 enode 값을 출력\n",
    "3. peer가 있는지? 있으면 그 peer를 출력\n",
    "4. 계정 목록을 출력\n",
    "5. 각 계정의 잔액을 ether로 출력\n",
    "6. 코인베이스를 2번째로 변경하고, 변경전과 변경후의 coinbase를 출력\n",
    "7. 현재 대기하는 트랙잭션 수를 출력. 없다면 그 이유를 메시지로 출력\n",
    "8. 현재 블록번호를 출력. 블록번호가 처음 출력했을 때와 변동이 있는지? 계정을 출력하거나, 잔고를 출력하는 등 몇 차례 작업이 있었는데도 불구하고 블록 번호가 그대로인 이유를 메시지로 출력."
   ]
  },
  {
   "cell_type": "code",
   "execution_count": 8,
   "id": "f3f8fbd5",
   "metadata": {},
   "outputs": [
    {
     "name": "stdout",
     "output_type": "stream",
     "text": [
      "Overwriting ./src/mid_study_exercise1.js\n"
     ]
    }
   ],
   "source": [
    "%%writefile ./src/mid_study_exercise1.js\n",
    "var blockNumber = eth.blockNumber;\n",
    "var myEnode = admin.nodeInfo.enode;\n",
    "var peerCount = net.peerCount;\n",
    "var listAccounts = personal.listAccounts;\n",
    "var txpoolStatus = txpool.status;\n",
    "console.log(\"1. Block Number : \", blockNumber);\n",
    "console.log(\"2. Enode : \", myEnode);\n",
    "console.log(\"3. Peer Count : \", peerCount);\n",
    "console.log(\"4. List Accounts : \", listAccounts);\n",
    "console.log(\"5. \");\n",
    "console.log(eth.getBalance(eth.accounts[0]));\n",
    "console.log(eth.getBalance(eth.accounts[1]));\n",
    "console.log(eth.getBalance(eth.accounts[2]));\n",
    "console.log(\"6. \");\n",
    "console.log(\"Before : \", eth.coinbase);\n",
    "miner.setEtherbase(eth.accounts[2]);\n",
    "console.log(\"After : \", eth.coinbase);\n",
    "console.log(\"7. \", txpoolStatus.pending, txpoolStatus.queued);\n",
    "console.log(\"8. Now Block Number : \", eth.blockNumber);"
   ]
  },
  {
   "cell_type": "code",
   "execution_count": 9,
   "id": "be703aa4",
   "metadata": {},
   "outputs": [
    {
     "name": "stdout",
     "output_type": "stream",
     "text": [
      "1. Block Number :  121\n",
      "2. Enode :  enode://e668e972ee9ac8a8acf1d84650b7fc788816a619470160a95b16b18062d6ed491990170b476ed9798679e0c1beaccb0aba5bbdf1d8112d54e921950e86cdd8b1@127.0.0.1:38445\n",
      "3. Peer Count :  0\n",
      "4. List Accounts :  0x9b0b6b0b3bbdbd746427c7c3afe05282b52f08dd,0xc78c8063043994e244384ff80b4153772b5d5cd2,0x13516d2b36eb50a7300e2bab450f75d39f8422f3\n",
      "5. \n",
      "194999999999999940000\n",
      "170000000000000060000\n",
      "240000000000000000000\n",
      "6. \n",
      "Before :  0x13516d2b36eb50a7300e2bab450f75d39f8422f3\n",
      "After :  0x13516d2b36eb50a7300e2bab450f75d39f8422f3\n",
      "7.  0 0\n",
      "8. Now Block Number :  121\n",
      "true\n"
     ]
    }
   ],
   "source": [
    "!geth --exec \"loadScript('src/mid_study_exercise1.js')\" attach http://localhost:8445"
   ]
  },
  {
   "cell_type": "markdown",
   "id": "42e218f5",
   "metadata": {},
   "source": [
    "## 5.3 머클 증명"
   ]
  },
  {
   "cell_type": "code",
   "execution_count": 1,
   "id": "5a65ecdf",
   "metadata": {},
   "outputs": [],
   "source": [
    "import hashlib\n",
    "\n",
    "txA = \"Hello\"\n",
    "txB = \"How are you?\"\n",
    "txC = \"This is Thursday\"\n",
    "txD = \"Happy New Year\""
   ]
  },
  {
   "cell_type": "code",
   "execution_count": 10,
   "id": "fa4c4415",
   "metadata": {},
   "outputs": [],
   "source": [
    "# 1. 해싱\n",
    "\n",
    "_hashA = hashlib.sha256(hashlib.sha256(txA.encode()).digest()).hexdigest()\n",
    "_hashB = hashlib.sha256(hashlib.sha256(txB.encode()).digest()).hexdigest()"
   ]
  },
  {
   "cell_type": "code",
   "execution_count": 14,
   "id": "f4c90a62",
   "metadata": {},
   "outputs": [],
   "source": [
    "# 2. 바이트 교환\n",
    "\n",
    "hashAswap=\"\".join(reversed([_hashA[i:i+2] for i in range(0, hashlib.sha256(txA.encode()).digest_size*2, 2)]))\n",
    "hashBswap=\"\".join(reversed([_hashB[i:i+2] for i in range(0, hashlib.sha256(txB.encode()).digest_size*2, 2)]))"
   ]
  },
  {
   "cell_type": "code",
   "execution_count": 15,
   "id": "3c0c4604",
   "metadata": {},
   "outputs": [
    {
     "name": "stdout",
     "output_type": "stream",
     "text": [
      "hashAswap :  1c86253061adcef153466e06b4770da683a590dbf895192db766aef5be18bc70 \n",
      "hashBswap :  d0e7719d7633fb945d596090dfa31a95ae81b18d90352d63fc49af7f35ce2710\n"
     ]
    }
   ],
   "source": [
    "print(\"hashAswap : \",hashAswap, \"\\nhashBswap : \", hashBswap)"
   ]
  },
  {
   "cell_type": "code",
   "execution_count": 16,
   "id": "f86813db",
   "metadata": {},
   "outputs": [],
   "source": [
    "# 3. 다음단계 해싱\n",
    "\n",
    "hashAB = hashAswap + hashBswap"
   ]
  },
  {
   "cell_type": "code",
   "execution_count": 17,
   "id": "cf680b50",
   "metadata": {},
   "outputs": [],
   "source": [
    "# 4. 더블해싱\n",
    "\n",
    "_hashAB = hashlib.sha256(hashlib.sha256(hashAB.encode()).digest()).hexdigest()"
   ]
  },
  {
   "cell_type": "code",
   "execution_count": 18,
   "id": "247ac660",
   "metadata": {},
   "outputs": [],
   "source": [
    "# 5. 바이트 교환\n",
    "\n",
    "hashABswap = \"\".join(reversed([_hashAB[i:i+2] for i in range(0, 32*2, 2)]))"
   ]
  },
  {
   "cell_type": "code",
   "execution_count": 19,
   "id": "35ecf1ec",
   "metadata": {},
   "outputs": [],
   "source": [
    "# 해싱하고 바이트 교환하는 함수\n",
    "\n",
    "def doubleHashByteSwap(raw):\n",
    "    import hashlib\n",
    "    \n",
    "    size = hashlib.sha256(raw.encode()).digest_size\n",
    "    _hash = hashlib.sha256(hashlib.sha256(raw.encode()).digest()).hexdigest()\n",
    "    hashSwap = \"\".join(reversed([_hash[i:i+2] for i in range(0, size*2, 2)]))\n",
    "    \n",
    "    return hashSwap"
   ]
  },
  {
   "cell_type": "code",
   "execution_count": 21,
   "id": "137217c2",
   "metadata": {},
   "outputs": [],
   "source": [
    "hA = doubleHashByteSwap(txA)\n",
    "hB = doubleHashByteSwap(txB)\n",
    "hAB = doubleHashByteSwap(hA + hB)"
   ]
  },
  {
   "cell_type": "code",
   "execution_count": 22,
   "id": "f1b858a1",
   "metadata": {},
   "outputs": [
    {
     "name": "stdout",
     "output_type": "stream",
     "text": [
      "hashA : 1c86253061adcef153466e06b4770da683a590dbf895192db766aef5be18bc70\n",
      "hashB : d0e7719d7633fb945d596090dfa31a95ae81b18d90352d63fc49af7f35ce2710\n",
      "hashAB : 032916ba0fc9c63fc5440a3b20069370da1b5d3c605797b28ac1a5a5876dc7e0\n"
     ]
    }
   ],
   "source": [
    "print(\"hashA : {0}\\nhashB : {1}\\nhashAB : {2}\".format(hA, hB, hAB))"
   ]
  },
  {
   "cell_type": "markdown",
   "id": "5ba606d5",
   "metadata": {},
   "source": [
    "## 5.7.2 gas 한도"
   ]
  },
  {
   "cell_type": "code",
   "execution_count": 23,
   "id": "05dc9bab",
   "metadata": {},
   "outputs": [
    {
     "name": "stdout",
     "output_type": "stream",
     "text": [
      "119252485\n"
     ]
    }
   ],
   "source": [
    "!geth --exec \"eth.getBlock('latest').gasLimit\" attach http://localhost:8445"
   ]
  },
  {
   "cell_type": "markdown",
   "id": "83273410",
   "metadata": {},
   "source": [
    "## 5.7.3 사용된 gas 알아보기"
   ]
  },
  {
   "cell_type": "code",
   "execution_count": 41,
   "id": "3dcd382c",
   "metadata": {},
   "outputs": [
    {
     "name": "stdout",
     "output_type": "stream",
     "text": [
      "null\n"
     ]
    }
   ],
   "source": [
    "!geth --exec \"eth.getTransactionReceipt('0x5704d029fe80f4fb605c0cb5e31d591511f10a46a0cb8166f97d8d559f9bc5b0')\" attach http://localhost:8445"
   ]
  },
  {
   "cell_type": "markdown",
   "id": "9e87f6cc",
   "metadata": {},
   "source": [
    "## 5.8 거래 건수"
   ]
  },
  {
   "cell_type": "code",
   "execution_count": 40,
   "id": "65ab7c0e",
   "metadata": {},
   "outputs": [
    {
     "name": "stdout",
     "output_type": "stream",
     "text": [
      "0\n"
     ]
    }
   ],
   "source": [
    "!geth --exec \"eth.getTransactionCount('0x5704d029fe80f4fb605c0cb5e31d591511f10a46a0cb8166f97d8d559f9bc5b0')\" attach http://localhost:8345"
   ]
  },
  {
   "cell_type": "code",
   "execution_count": 39,
   "id": "da1c8515",
   "metadata": {},
   "outputs": [
    {
     "name": "stdout",
     "output_type": "stream",
     "text": [
      "{\n",
      "  difficulty: 256,\n",
      "  extraData: \"0x\",\n",
      "  gasLimit: 134217728,\n",
      "  gasUsed: 0,\n",
      "  hash: \"0x5704d029fe80f4fb605c0cb5e31d591511f10a46a0cb8166f97d8d559f9bc5b0\",\n",
      "  logsBloom: \"0x00000000000000000000000000000000000000000000000000000000000000000000000000000000000000000000000000000000000000000000000000000000000000000000000000000000000000000000000000000000000000000000000000000000000000000000000000000000000000000000000000000000000000000000000000000000000000000000000000000000000000000000000000000000000000000000000000000000000000000000000000000000000000000000000000000000000000000000000000000000000000000000000000000000000000000000000000000000000000000000000000000000000000000000000000000000\",\n",
      "  miner: \"0x3333333333333333333333333333333333333333\",\n",
      "  mixHash: \"0x0000000000000000000000000000000000000000000000000000000000000000\",\n",
      "  nonce: \"0x0000000000000033\",\n",
      "  number: 0,\n",
      "  parentHash: \"0x0000000000000000000000000000000000000000000000000000000000000000\",\n",
      "  receiptsRoot: \"0x56e81f171bcc55a6ff8345e692c0f86e5b48e01b996cadc001622fb5e363b421\",\n",
      "  sha3Uncles: \"0x1dcc4de8dec75d7aab85b567b6ccd41ad312451b948a7413f0a142fd40d49347\",\n",
      "  size: 507,\n",
      "  stateRoot: \"0x56e81f171bcc55a6ff8345e692c0f86e5b48e01b996cadc001622fb5e363b421\",\n",
      "  timestamp: 0,\n",
      "  totalDifficulty: 256,\n",
      "  transactions: [],\n",
      "  transactionsRoot: \"0x56e81f171bcc55a6ff8345e692c0f86e5b48e01b996cadc001622fb5e363b421\",\n",
      "  uncles: []\n",
      "}\n"
     ]
    }
   ],
   "source": [
    "!geth --exec \"eth.getBlock(0)\" attach http://localhost:8445"
   ]
  },
  {
   "cell_type": "code",
   "execution_count": 42,
   "id": "5d10a1cb",
   "metadata": {},
   "outputs": [
    {
     "name": "stdout",
     "output_type": "stream",
     "text": [
      "{\n",
      "  difficulty: 131072,\n",
      "  extraData: \"0xda83010814846765746888676f312e31312e328777696e646f7773\",\n",
      "  gasLimit: 119252485,\n",
      "  gasUsed: 0,\n",
      "  hash: \"0x251bf176bfd88a20a9f14ef10d3a32c1146787800d69fb84dcc1b3e43cdcd46e\",\n",
      "  logsBloom: \"0x00000000000000000000000000000000000000000000000000000000000000000000000000000000000000000000000000000000000000000000000000000000000000000000000000000000000000000000000000000000000000000000000000000000000000000000000000000000000000000000000000000000000000000000000000000000000000000000000000000000000000000000000000000000000000000000000000000000000000000000000000000000000000000000000000000000000000000000000000000000000000000000000000000000000000000000000000000000000000000000000000000000000000000000000000000000\",\n",
      "  miner: \"0x9b0b6b0b3bbdbd746427c7c3afe05282b52f08dd\",\n",
      "  mixHash: \"0x36a61950946617e0356741e717f28b33142e47f721a1abdaf3679066c45d68ed\",\n",
      "  nonce: \"0x5b1328ae91f8a575\",\n",
      "  number: 121,\n",
      "  parentHash: \"0xfe728284a897062751c2ef18338a3bec2a3c5ece4a6a61cbc0efb6258073de02\",\n",
      "  receiptsRoot: \"0x56e81f171bcc55a6ff8345e692c0f86e5b48e01b996cadc001622fb5e363b421\",\n",
      "  sha3Uncles: \"0x1dcc4de8dec75d7aab85b567b6ccd41ad312451b948a7413f0a142fd40d49347\",\n",
      "  size: 539,\n",
      "  stateRoot: \"0xc038b45736275346170b956e8777e3c5c23387eb7e7ac7ad00ec7f3458aa6314\",\n",
      "  timestamp: 1650610851,\n",
      "  totalDifficulty: 16098181,\n",
      "  transactions: [],\n",
      "  transactionsRoot: \"0x56e81f171bcc55a6ff8345e692c0f86e5b48e01b996cadc001622fb5e363b421\",\n",
      "  uncles: []\n",
      "}\n"
     ]
    }
   ],
   "source": [
    "!geth --exec \"eth.getBlock('latest')\" attach http://localhost:8445"
   ]
  },
  {
   "cell_type": "code",
   "execution_count": 44,
   "id": "07b053de",
   "metadata": {},
   "outputs": [
    {
     "name": "stdout",
     "output_type": "stream",
     "text": [
      "null\n"
     ]
    }
   ],
   "source": [
    "!geth --exec \"eth.getTransaction('0x251bf176bfd88a20a9f14ef10d3a32c1146787800d69fb84dcc1b3e43cdcd46e')\" attach http://localhost:8345\n"
   ]
  },
  {
   "cell_type": "markdown",
   "id": "7634339a",
   "metadata": {},
   "source": [
    "## 문제 5-1-1. 같은 기계, 다른 계정으로 송금하기"
   ]
  },
  {
   "cell_type": "code",
   "execution_count": 46,
   "id": "440ba612",
   "metadata": {},
   "outputs": [
    {
     "name": "stdout",
     "output_type": "stream",
     "text": [
      "[\"0x9b0b6b0b3bbdbd746427c7c3afe05282b52f08dd\", \"0xc78c8063043994e244384ff80b4153772b5d5cd2\", \"0x13516d2b36eb50a7300e2bab450f75d39f8422f3\"]\n"
     ]
    }
   ],
   "source": [
    "!geth --exec eth.accounts attach http://localhost:8445"
   ]
  },
  {
   "cell_type": "code",
   "execution_count": 47,
   "id": "22ac52e5",
   "metadata": {
    "scrolled": true
   },
   "outputs": [
    {
     "name": "stdout",
     "output_type": "stream",
     "text": [
      "\"0x9b0b6b0b3bbdbd746427c7c3afe05282b52f08dd\"\n"
     ]
    }
   ],
   "source": [
    "!geth --exec eth.coinbase attach http://localhost:8445"
   ]
  },
  {
   "cell_type": "code",
   "execution_count": 48,
   "id": "25f5a6e3",
   "metadata": {},
   "outputs": [
    {
     "name": "stdout",
     "output_type": "stream",
     "text": [
      "170000000000000060000\n"
     ]
    }
   ],
   "source": [
    "!geth --exec eth.getBalance(eth.accounts[1]) attach http://localhost:8445"
   ]
  },
  {
   "cell_type": "code",
   "execution_count": 49,
   "id": "a906b3dc",
   "metadata": {
    "scrolled": true
   },
   "outputs": [
    {
     "name": "stdout",
     "output_type": "stream",
     "text": [
      "194999999999999940000\n"
     ]
    }
   ],
   "source": [
    "!geth --exec eth.getBalance(eth.accounts[0]) attach http://localhost:8445"
   ]
  },
  {
   "cell_type": "code",
   "execution_count": 53,
   "id": "5e91c32d",
   "metadata": {
    "scrolled": true
   },
   "outputs": [
    {
     "name": "stdout",
     "output_type": "stream",
     "text": [
      "\"0x2d5a244dfee3d45f0fb273c568a22da4ffd8ee9328ed4b631fde6bf4d9b69955\"\n"
     ]
    }
   ],
   "source": [
    "!geth --exec \"eth.sendTransaction({from: eth.accounts[1],to:eth.accounts[0],value:10000})\" attach http://localhost:8445"
   ]
  },
  {
   "cell_type": "code",
   "execution_count": 58,
   "id": "7f3c1ae5",
   "metadata": {
    "scrolled": true
   },
   "outputs": [
    {
     "name": "stdout",
     "output_type": "stream",
     "text": [
      "170000000000000060000\n"
     ]
    }
   ],
   "source": [
    "!geth --exec eth.getBalance(eth.accounts[1]) attach http://localhost:8445"
   ]
  },
  {
   "cell_type": "code",
   "execution_count": 59,
   "id": "8912dcbd",
   "metadata": {
    "scrolled": true
   },
   "outputs": [
    {
     "name": "stdout",
     "output_type": "stream",
     "text": [
      "194999999999999940000\n"
     ]
    }
   ],
   "source": [
    "!geth --exec eth.getBalance(eth.accounts[0]) attach http://localhost:8445"
   ]
  },
  {
   "cell_type": "code",
   "execution_count": 64,
   "id": "c6a0e05a",
   "metadata": {},
   "outputs": [
    {
     "name": "stdout",
     "output_type": "stream",
     "text": [
      "Overwriting src/e_testTrans.js\n"
     ]
    }
   ],
   "source": [
    "%%writefile src/e_testTrans.js\n",
    "\n",
    "miner.setEtherbase(eth.accounts[0]);\n",
    "console.log('coinbase : ', eth.coinbase);\n",
    "var bal1 = eth.getBalance(eth.coinbase);\n",
    "var bal2 = eth.getBalance(eth.accounts[1]);\n",
    "\n",
    "console.log('sender balance in ether : ', web3.fromWei(bal1, \"ether\"));\n",
    "console.log('receiver balance in ether : ', web3.fromWei(bal2, \"ether\"));\n",
    "console.log('median gas price : ', eth.gasPrice);\n",
    "console.log('block number : ', eth.blockNumber);\n",
    "console.log('transaction count : ', eth.getTransactionCount(eth.coinbase));\n",
    "eth.sendTransaction({from:eth.coinbase, to:eth.accounts[1], value:100000});\n",
    "console.log('...mining start');\n",
    "miner.start(1); admin.sleepBlocks(1); miner.stop();\n",
    "console.log('mining done...');\n",
    "var bal1new = eth.getBalance(eth.coinbase);\n",
    "var bal2new = eth.getBalance(eth.accounts[1]);\n",
    "console.log('- new sender balance in ether : ', web3.fromWei(bal1new, \"ether\"));\n",
    "console.log('- new receiver balance in ether : ', web3.fromWei(bal2new, \"ether\"));\n",
    "console.log('- block number : ', eth.blockNumber);\n",
    "console.log('transaction count : ', eth.getTransactionCount(eth.coinbase));"
   ]
  },
  {
   "cell_type": "code",
   "execution_count": 65,
   "id": "32b24527",
   "metadata": {},
   "outputs": [
    {
     "name": "stdout",
     "output_type": "stream",
     "text": [
      "coinbase :  0x9b0b6b0b3bbdbd746427c7c3afe05282b52f08dd\n",
      "sender balance in ether :  194.99999999999994\n",
      "receiver balance in ether :  170.00000000000006\n",
      "median gas price :  1000000000\n",
      "block number :  121\n",
      "transaction count :  4\n",
      "...mining start\n",
      "mining done...\n",
      "- new sender balance in ether :  200.00002099999985\n",
      "- new receiver balance in ether :  169.99997900000015\n",
      "- block number :  122\n",
      "transaction count :  5\n",
      "true\n"
     ]
    }
   ],
   "source": [
    "!geth --exec \"loadScript('src/e_testTrans.js')\" attach http://localhost:8445"
   ]
  },
  {
   "cell_type": "markdown",
   "id": "e259e74f",
   "metadata": {},
   "source": [
    "## 6.2.2 web3.eth 모듈"
   ]
  },
  {
   "cell_type": "code",
   "execution_count": 68,
   "id": "c03fa66e",
   "metadata": {},
   "outputs": [
    {
     "name": "stdout",
     "output_type": "stream",
     "text": [
      "Overwriting src/web3ethCommands.js\n"
     ]
    }
   ],
   "source": [
    "%%writefile src/web3ethCommands.js\n",
    "var Web3 = require('web3');\n",
    "var web3 = new Web3('http://localhost:8445');\n",
    "\n",
    "web3.eth.getAccounts(console.log);\n",
    "web3.eth.getCoinbase().then(console.log);\n",
    "web3.eth.getBlockNumber().then(console.log);\n",
    "web3.eth.getBalance('0x9b0b6b0b3bbdbd746427c7c3afe05282b52f08dd').then(console.log);\n",
    "web3.eth.getNodeInfo().then(console.log);"
   ]
  },
  {
   "cell_type": "code",
   "execution_count": 69,
   "id": "2491a21d",
   "metadata": {},
   "outputs": [
    {
     "name": "stdout",
     "output_type": "stream",
     "text": [
      "null [\n",
      "  '0x9B0b6b0B3BBDBD746427c7c3afe05282B52F08DD',\n",
      "  '0xc78C8063043994E244384FF80B4153772b5D5CD2',\n",
      "  '0x13516d2b36Eb50A7300E2BAb450f75d39f8422F3'\n",
      "]\n",
      "200000020999999850000\n",
      "0x9b0b6b0b3bbdbd746427c7c3afe05282b52f08dd\n",
      "122\n",
      "Geth/youve/v1.8.20-stable-24d727b6/windows-amd64/go1.11.2\n"
     ]
    }
   ],
   "source": [
    "!node src/web3ethCommands.js"
   ]
  },
  {
   "cell_type": "code",
   "execution_count": 72,
   "id": "d7ca29cf",
   "metadata": {},
   "outputs": [
    {
     "name": "stdout",
     "output_type": "stream",
     "text": [
      "Overwriting src/web3account0.js\n"
     ]
    }
   ],
   "source": [
    "%%writefile src/web3account0.js\n",
    "var Web3 =require('web3');\n",
    "var web3 = new Web3('http://localhost:8345');\n",
    "var account0;\n",
    "\n",
    "async function getAccount0() {\n",
    "    accounts = await web3.eth.getAccounts();\n",
    "    account0 = accounts[0];\n",
    "    console.log(\"local account0 : \", account0);\n",
    "}\n",
    "\n",
    "getAccount0();\n",
    "console.log(\"global account0 : \", account0);\n"
   ]
  },
  {
   "cell_type": "code",
   "execution_count": 73,
   "id": "5e5d9038",
   "metadata": {},
   "outputs": [
    {
     "name": "stdout",
     "output_type": "stream",
     "text": [
      "global account0 :  undefined\n",
      "local account0 :  0x3534A45129b0776F1E811Ad51A74D46ebCBE6108\n"
     ]
    }
   ],
   "source": [
    "!node src/web3account0.js"
   ]
  },
  {
   "cell_type": "markdown",
   "id": "63375aca",
   "metadata": {},
   "source": [
    "## 6.2.3 web3.utils 모듈"
   ]
  },
  {
   "cell_type": "code",
   "execution_count": 74,
   "id": "d5b03ce4",
   "metadata": {},
   "outputs": [
    {
     "name": "stdout",
     "output_type": "stream",
     "text": [
      "Writing src/web3utils.js\n"
     ]
    }
   ],
   "source": [
    "%%writefile src/web3utils.js\n",
    "\n",
    "var Web3 = require('web3');\n",
    "var web3 = new Web3('http://localhost:8345');\n",
    "\n",
    "console.log(\"random hex: \", web3.utils.randomHex(32));\n",
    "console.log(\"234 hash: \", web3.utils.keccak256('234'));\n",
    "console.log(\"is address?: \",web3.utils.isAddress('0xf2a4f09c903a0a7b3450d9d16bbca14dea36aee1'));  //check if the input is a valid address\n",
    "console.log(\"안녕 in Hex: \"+web3.utils.utf8ToHex('안녕'));\n",
    "console.log(\"wei of 1 ether: \"+web3.utils.toWei('1', 'ether'));"
   ]
  },
  {
   "cell_type": "code",
   "execution_count": 75,
   "id": "7e341ffc",
   "metadata": {},
   "outputs": [
    {
     "name": "stdout",
     "output_type": "stream",
     "text": [
      "random hex:  0x9a4d0b9f81036f218485091c51b3251aa104df0bcd5d38a7c0812710566d9578\n",
      "234 hash:  0xc1912fee45d61c87cc5ea59dae311904cd86b84fee17cc96966216f811ce6a79\n",
      "is address?:  true\n",
      "�븞�뀞 in Hex: 0xec9588eb8595\n",
      "wei of 1 ether: 1000000000000000000\n"
     ]
    }
   ],
   "source": [
    "!node src/web3utils.js"
   ]
  },
  {
   "cell_type": "markdown",
   "id": "e9654017",
   "metadata": {},
   "source": [
    "## 6.3 Hello World 디앱"
   ]
  },
  {
   "cell_type": "markdown",
   "id": "4a37d4a5",
   "metadata": {},
   "source": [
    "## 6.3.1 컨트랙 개발"
   ]
  },
  {
   "cell_type": "code",
   "execution_count": 76,
   "id": "3d42b9ea",
   "metadata": {},
   "outputs": [
    {
     "name": "stdout",
     "output_type": "stream",
     "text": [
      "Overwriting src/Hello.sol\n"
     ]
    }
   ],
   "source": [
    "%%writefile src/Hello.sol\n",
    "pragma solidity ^0.6.0;\n",
    "\n",
    "contract Hello {\n",
    "    function sayHello() pure public returns(string memory) {\n",
    "        return \"Hello World\";\n",
    "    }\n",
    "} "
   ]
  },
  {
   "cell_type": "markdown",
   "id": "037ccfcd",
   "metadata": {},
   "source": [
    "## 6.3.2 컴파일"
   ]
  },
  {
   "cell_type": "code",
   "execution_count": 78,
   "id": "199ee9d0",
   "metadata": {},
   "outputs": [
    {
     "name": "stdout",
     "output_type": "stream",
     "text": [
      "\n",
      "======= src/Hello.sol:Hello =======\n",
      "Contract JSON ABI\n",
      "[{\"inputs\":[],\"name\":\"sayHello\",\"outputs\":[{\"internalType\":\"string\",\"name\":\"\",\"type\":\"string\"}],\"stateMutability\":\"pure\",\"type\":\"function\"}]\n"
     ]
    }
   ],
   "source": [
    "!solc --abi src/Hello.sol"
   ]
  },
  {
   "cell_type": "code",
   "execution_count": 80,
   "id": "c42e1384",
   "metadata": {},
   "outputs": [
    {
     "name": "stdout",
     "output_type": "stream",
     "text": [
      "\n",
      "======= src/Hello.sol:Hello =======\n",
      "Binary:\n",
      "608060405234801561001057600080fd5b5061011e806100206000396000f3fe6080604052348015600f57600080fd5b506004361060285760003560e01c8063ef5fb05b14602d575b600080fd5b603360ab565b6040518080602001828103825283818151815260200191508051906020019080838360005b8381101560715780820151818401526020810190506058565b50505050905090810190601f168015609d5780820380516001836020036101000a031916815260200191505b509250505060405180910390f35b60606040518060400160405280600b81526020017f48656c6c6f20576f726c6400000000000000000000000000000000000000000081525090509056fea2646970667358221220585dc236cf6e211e86dc250c3a6bc4ba63926aa2c6a18a0a214cdf3b58c136f464736f6c63430006040033\n"
     ]
    }
   ],
   "source": [
    "!solc --bin src/Hello.sol"
   ]
  },
  {
   "cell_type": "code",
   "execution_count": 81,
   "id": "5d0ee90c",
   "metadata": {},
   "outputs": [
    {
     "name": "stdout",
     "output_type": "stream",
     "text": [
      "\n",
      "======= src/Hello.sol:Hello =======\n",
      "Gas estimation:\n",
      "construction:\n",
      "   105 + 57200 = 57305\n",
      "external:\n",
      "   sayHello():\tinfinite\n"
     ]
    }
   ],
   "source": [
    "!solc --gas src/Hello.sol"
   ]
  },
  {
   "cell_type": "markdown",
   "id": "9a825ff3",
   "metadata": {},
   "source": [
    "## 6.3.3 배포"
   ]
  },
  {
   "cell_type": "code",
   "execution_count": 121,
   "id": "5a3d55d5",
   "metadata": {},
   "outputs": [
    {
     "name": "stdout",
     "output_type": "stream",
     "text": [
      "Overwriting src/getMyAddr.js\n"
     ]
    }
   ],
   "source": [
    "%%writefile src/getMyAddr.js\n",
    "var Web3 = require('web3');\n",
    "var web3 = new Web3(new Web3.providers.HttpProvider(\"http://localhost:8345\"));\n",
    "var myAddr0;\n",
    "web3.eth.getAccounts().then(console.log);"
   ]
  },
  {
   "cell_type": "code",
   "execution_count": 122,
   "id": "41776288",
   "metadata": {},
   "outputs": [
    {
     "name": "stdout",
     "output_type": "stream",
     "text": [
      "[\n",
      "  '0x3534A45129b0776F1E811Ad51A74D46ebCBE6108',\n",
      "  '0x1BE21dB844d547f2FCeFd0A93F0b43fAc6c068fC',\n",
      "  '0x5Ed0D349E57aB3Fe8B1c564CFCbbFD3799E0Fd05',\n",
      "  '0xC56f3F44e4Cd030Abb7B99200A3362324762a15A',\n",
      "  '0x6D546D9aA842232FFE87Ea3D14526B1643FD09a1',\n",
      "  '0xBF3f3C915d21E84cb058eD3A48Bee75866521743',\n",
      "  '0xAA1DeBdb2909f124569B63e6a4372B72f9897E7B',\n",
      "  '0x1186108091719CEFE4aB740EBE85eE993e8E50d8',\n",
      "  '0xe611a20D34B9041E6A3704482FEb89FB5D722850',\n",
      "  '0xD3B41D3884AAC2b8B6df1b2f24DcB51d194b1063'\n",
      "]\n"
     ]
    }
   ],
   "source": [
    "!node src/getMyAddr.js"
   ]
  },
  {
   "cell_type": "code",
   "execution_count": 92,
   "id": "24972996",
   "metadata": {},
   "outputs": [
    {
     "name": "stdout",
     "output_type": "stream",
     "text": [
      "Overwriting src/HelloDeploy.js\n"
     ]
    }
   ],
   "source": [
    "%%writefile src/HelloDeploy.js\n",
    "var Web3 = require('web3');\n",
    "var web3 = new Web3(new Web3.providers.HttpProvider(\"http://localhost:8345\"));\n",
    "var shelloContract = new web3.eth.Contract([{\"inputs\":[],\"name\":\"sayHello\",\"outputs\":[{\"internalType\":\"string\",\"name\":\"\",\"type\":\"string\"}],\"stateMutability\":\"pure\",\"type\":\"function\"}]);\n",
    "shelloContract\n",
    "    .deploy({\n",
    "        data: '0x608060405234801561001057600080fd5b5061011e806100206000396000f3fe6080604052348015600f57600080fd5b506004361060285760003560e01c8063ef5fb05b14602d575b600080fd5b603360ab565b6040518080602001828103825283818151815260200191508051906020019080838360005b8381101560715780820151818401526020810190506058565b50505050905090810190601f168015609d5780820380516001836020036101000a031916815260200191505b509250505060405180910390f35b60606040518060400160405280600b81526020017f48656c6c6f20576f726c6400000000000000000000000000000000000000000081525090509056fea2646970667358221220585dc236cf6e211e86dc250c3a6bc4ba63926aa2c6a18a0a214cdf3b58c136f464736f6c63430006040033',\n",
    "    }) \n",
    "    .send({\n",
    "        from: \"0x3534A45129b0776F1E811Ad51A74D46ebCBE6108\",\n",
    "        gas: '4700000'\n",
    "    }, function(error, transactionHash) {\n",
    "        console.log(error, transactionHash);\n",
    "    })\n",
    "    .then(function(newContractInstance) {\n",
    "        console.log(newContractInstance.options.address)\n",
    "    });"
   ]
  },
  {
   "cell_type": "code",
   "execution_count": 93,
   "id": "a11408ea",
   "metadata": {
    "scrolled": true
   },
   "outputs": [
    {
     "name": "stdout",
     "output_type": "stream",
     "text": [
      "null 0x4fed06d11f0f2c540e0a3e2d403d032ec429686c44348c1ddf94a90449ecdac2\n",
      "0xC59bDc4A6E93793247e0c53D94378606CCa94ABF\n"
     ]
    }
   ],
   "source": [
    "!node src/HelloDeploy.js"
   ]
  },
  {
   "cell_type": "markdown",
   "id": "d8360416",
   "metadata": {},
   "source": [
    "- data : 0x + bin\n",
    "- from : getMyAddr.js에서 얻은 주소 [0]\n",
    "- 출력해서 얻은 마지막 출력이 콘트랙 주소\n",
    "- 포트 번호로 어디에 배포하는 건지 구분하면 된다 "
   ]
  },
  {
   "cell_type": "code",
   "execution_count": 94,
   "id": "f07f593f",
   "metadata": {},
   "outputs": [
    {
     "name": "stdout",
     "output_type": "stream",
     "text": [
      "[]\n"
     ]
    }
   ],
   "source": [
    "!geth --exec \"eth.pendingTransactions\" attach http://localhost:8445"
   ]
  },
  {
   "cell_type": "markdown",
   "id": "eae724a8",
   "metadata": {},
   "source": [
    "## 6.3.4 사용"
   ]
  },
  {
   "cell_type": "code",
   "execution_count": null,
   "id": "0503cd4b",
   "metadata": {},
   "outputs": [],
   "source": [
    "%%writefile src/HelloUse.js\n",
    "var Web3 = require('web3');\n",
    "var web3 = new Web3(new Web3.providers.HttpProvider(\"http://localhost:8345\"));\n",
    "var shelloContract = new web3.eth.Contract()"
   ]
  },
  {
   "cell_type": "code",
   "execution_count": 95,
   "id": "774d7441",
   "metadata": {},
   "outputs": [
    {
     "name": "stdout",
     "output_type": "stream",
     "text": [
      "Overwriting src/HelloUse.js\n"
     ]
    }
   ],
   "source": [
    "%%writefile src/HelloUse.js\n",
    "var Web3=require('web3');\n",
    "var web3 = new Web3(new Web3.providers.HttpProvider(\"http://localhost:8345\"));\n",
    "var shelloContract = new web3.eth.Contract([{\"constant\":true,\"inputs\":[],\"name\":\"sayHello\",\"outputs\":[{\"internalType\":\"string\",\"name\":\"\",\"type\":\"string\"}],\"stateMutability\":\"pure\",\"type\":\"function\"}],\n",
    "                                      \"0xC59bDc4A6E93793247e0c53D94378606CCa94ABF\");\n",
    "shelloContract.methods.sayHello().call().then(function(str) {console.log(str);});"
   ]
  },
  {
   "cell_type": "code",
   "execution_count": 96,
   "id": "0646ac43",
   "metadata": {},
   "outputs": [
    {
     "name": "stdout",
     "output_type": "stream",
     "text": [
      "Hello World\n"
     ]
    }
   ],
   "source": [
    "!node src/HelloUse.js"
   ]
  },
  {
   "cell_type": "markdown",
   "id": "fbb7085e",
   "metadata": {},
   "source": [
    "- Contract ABI는 constant:true 뒤에만 수정\n",
    "- 주소는 콘트랙 주소 받아와서 써준다"
   ]
  },
  {
   "cell_type": "markdown",
   "id": "6000d36b",
   "metadata": {},
   "source": [
    "## 6.3.5 웹디앱"
   ]
  },
  {
   "cell_type": "code",
   "execution_count": 98,
   "id": "e8dc6bc7",
   "metadata": {},
   "outputs": [
    {
     "name": "stdout",
     "output_type": "stream",
     "text": [
      "Overwriting scripts/simpleCoinbase.html\n"
     ]
    }
   ],
   "source": [
    "%%writefile scripts/simpleCoinbase.html\n",
    "<!doctype>\n",
    "<html>\n",
    "<head>\n",
    "<script src=\"https://cdn.jsdelivr.net/npm/web3@1.2.5/dist/web3.min.js\"></script>\n",
    "<script type=\"text/javascript\">\n",
    "    var web3 = new Web3(new Web3.providers.HttpProvider(\"http://localhost:8345\"));\n",
    "    \n",
    "    function displayCoinbase() {\n",
    "        var web3version = web3.version;\n",
    "        \n",
    "        document.getElementById('web3ver').innerText = 'web3 version : ' + web3.version;\n",
    "        web3.eth.getCoinbase().then(function(coin) {\n",
    "            document.getElementById('web3coinbase').innerText = 'coinbase : ' + coin;\n",
    "        });\n",
    "    }\n",
    "</script>\n",
    "</head>\n",
    "<body>\n",
    "    <h1>Hello</h1>\n",
    "    <button type=\"button\" onClick=\"displayCoinbase();\">Display Coinbase</button>\n",
    "    <div></div>\n",
    "    <div id=\"web3ver\"></div>\n",
    "    <div id=\"web3coinbase\"></div>\n",
    "</body>\n",
    "</html>"
   ]
  },
  {
   "cell_type": "code",
   "execution_count": 99,
   "id": "4be2412b",
   "metadata": {},
   "outputs": [
    {
     "name": "stdout",
     "output_type": "stream",
     "text": [
      "Overwriting scripts/hello.html\n"
     ]
    }
   ],
   "source": [
    "%%writefile scripts/hello.html\n",
    "<!doctype>\n",
    "<html>\n",
    "<head>\n",
    "<script src=\"https://cdn.jsdelivr.net/npm/web3@1.2.5/dist/web3.min.js\"></script>\n",
    "<script>\n",
    "    var web3 = new Web3(new Web3.providers.HttpProvider(\"http://localhost:8345\"));\n",
    "    \n",
    "    function displayHello() {\n",
    "        var web3version = web3.version;\n",
    "        var shelloContract = new web3.eth.Contract([{\"constant\":true,\"inputs\":[],\"name\":\"sayHello\",\"outputs\":[{\"internalType\":\"string\",\"name\":\"\",\"type\":\"string\"}],\"stateMutability\":\"pure\",\"type\":\"function\"}],\n",
    "                                      \"0xC59bDc4A6E93793247e0c53D94378606CCa94ABF\");\n",
    "        shelloContract.methods.sayHello().call().then(function(str) {\n",
    "            document.getElementById('sayhello').innerText = \"the message from blockchain : \" + str;\n",
    "        });\n",
    "        document.getElementById('web3ver').innerText = '*web3 version : ' + web3version;\n",
    "        web3.eth.getCoinbase().then(function(coin) {\n",
    "            document.getElementById('web3coinbase').innerText = 'coinbase : ' + coin;\n",
    "        });\n",
    "    }\n",
    "</script>\n",
    "</head>\n",
    "<body>\n",
    "    <h1>Hello</h1>\n",
    "    <button type=\"button\" onClick=\"displayHello();\">Display Hello</button>\n",
    "    <div></div>\n",
    "    <div id=\"sayhello\"></div>\n",
    "    <div id=\"web3ver\"></div>\n",
    "    <div id=\"web3coinbase\"></div>\n",
    "</body>\n",
    "</html>"
   ]
  },
  {
   "cell_type": "markdown",
   "id": "fc48884e",
   "metadata": {},
   "source": [
    "## 6.4 Greeter 디앱"
   ]
  },
  {
   "cell_type": "markdown",
   "id": "a1b81fa1",
   "metadata": {},
   "source": [
    "## 6.4.1 컨트랙 개발"
   ]
  },
  {
   "cell_type": "code",
   "execution_count": 100,
   "id": "80405cb4",
   "metadata": {},
   "outputs": [
    {
     "name": "stdout",
     "output_type": "stream",
     "text": [
      "Overwriting src/greeter.sol\n"
     ]
    }
   ],
   "source": [
    "%%writefile src/greeter.sol\n",
    "pragma solidity ^0.6.0;\n",
    "\n",
    "contract Greeter {\n",
    "    string greeting;\n",
    "    \n",
    "    constructor() public {\n",
    "        greeting = \"Hello\";\n",
    "    }\n",
    "    \n",
    "    function setGreeting(string memory _greeting) public {\n",
    "        greeting = _greeting;\n",
    "    }\n",
    "    \n",
    "    function greet() view public returns (string memory) {\n",
    "        return greeting;\n",
    "    }\n",
    "}"
   ]
  },
  {
   "cell_type": "markdown",
   "id": "32c60103",
   "metadata": {},
   "source": [
    "## 6.4.2 컴파일"
   ]
  },
  {
   "cell_type": "code",
   "execution_count": 101,
   "id": "e9d07d87",
   "metadata": {
    "scrolled": true
   },
   "outputs": [
    {
     "name": "stdout",
     "output_type": "stream",
     "text": [
      "\n",
      "======= src/greeter.sol:Greeter =======\n",
      "Contract JSON ABI\n",
      "[{\"inputs\":[],\"stateMutability\":\"nonpayable\",\"type\":\"constructor\"},{\"inputs\":[],\"name\":\"greet\",\"outputs\":[{\"internalType\":\"string\",\"name\":\"\",\"type\":\"string\"}],\"stateMutability\":\"view\",\"type\":\"function\"},{\"inputs\":[{\"internalType\":\"string\",\"name\":\"_greeting\",\"type\":\"string\"}],\"name\":\"setGreeting\",\"outputs\":[],\"stateMutability\":\"nonpayable\",\"type\":\"function\"}]\n"
     ]
    }
   ],
   "source": [
    "!solc --abi src/greeter.sol"
   ]
  },
  {
   "cell_type": "code",
   "execution_count": 102,
   "id": "fe1c8588",
   "metadata": {
    "scrolled": true
   },
   "outputs": [
    {
     "name": "stdout",
     "output_type": "stream",
     "text": [
      "\n",
      "======= src/greeter.sol:Greeter =======\n",
      "Binary:\n",
      "608060405234801561001057600080fd5b506040518060400160405280600581526020017f48656c6c6f0000000000000000000000000000000000000000000000000000008152506000908051906020019061005c929190610062565b50610107565b828054600181600116156101000203166002900490600052602060002090601f016020900481019282601f106100a357805160ff19168380011785556100d1565b828001600101855582156100d1579182015b828111156100d05782518255916020019190600101906100b5565b5b5090506100de91906100e2565b5090565b61010491905b808211156101005760008160009055506001016100e8565b5090565b90565b610310806101166000396000f3fe608060405234801561001057600080fd5b50600436106100365760003560e01c8063a41368621461003b578063cfae3217146100f6575b600080fd5b6100f46004803603602081101561005157600080fd5b810190808035906020019064010000000081111561006e57600080fd5b82018360208201111561008057600080fd5b803590602001918460018302840111640100000000831117156100a257600080fd5b91908080601f016020809104026020016040519081016040528093929190818152602001838380828437600081840152601f19601f820116905080830192505050505050509192919290505050610179565b005b6100fe610193565b6040518080602001828103825283818151815260200191508051906020019080838360005b8381101561013e578082015181840152602081019050610123565b50505050905090810190601f16801561016b5780820380516001836020036101000a031916815260200191505b509250505060405180910390f35b806000908051906020019061018f929190610235565b5050565b606060008054600181600116156101000203166002900480601f01602080910402602001604051908101604052809291908181526020018280546001816001161561010002031660029004801561022b5780601f106102005761010080835404028352916020019161022b565b820191906000526020600020905b81548152906001019060200180831161020e57829003601f168201915b5050505050905090565b828054600181600116156101000203166002900490600052602060002090601f016020900481019282601f1061027657805160ff19168380011785556102a4565b828001600101855582156102a4579182015b828111156102a3578251825591602001919060010190610288565b5b5090506102b191906102b5565b5090565b6102d791905b808211156102d35760008160009055506001016102bb565b5090565b9056fea26469706673582212205b9914c308a60fbf2f25af7056ad379df74bebfb76fa684674d1d91f107ee6f664736f6c63430006040033\n"
     ]
    }
   ],
   "source": [
    "!solc --bin src/greeter.sol"
   ]
  },
  {
   "cell_type": "code",
   "execution_count": 103,
   "id": "dd7f3390",
   "metadata": {},
   "outputs": [
    {
     "name": "stdout",
     "output_type": "stream",
     "text": [
      "\n",
      "======= src/greeter.sol:Greeter =======\n",
      "Gas estimation:\n",
      "construction:\n",
      "   infinite + 156800 = infinite\n",
      "external:\n",
      "   greet():\tinfinite\n",
      "   setGreeting(string):\tinfinite\n"
     ]
    }
   ],
   "source": [
    "!solc --gas src/greeter.sol"
   ]
  },
  {
   "cell_type": "markdown",
   "id": "6f6b89d7",
   "metadata": {},
   "source": [
    "## 6.4.3 컨트랙 배포"
   ]
  },
  {
   "cell_type": "code",
   "execution_count": 110,
   "id": "6846e07e",
   "metadata": {},
   "outputs": [
    {
     "name": "stdout",
     "output_type": "stream",
     "text": [
      "Overwriting src/greeterDeploy.js\n"
     ]
    }
   ],
   "source": [
    "%%writefile src/greeterDeploy.js\n",
    "var Web3 = require('web3');\n",
    "var web3;\n",
    "\n",
    "if (typeof web3 !== 'undefined') {\n",
    "    web3 = new Web3(web3.currentProvider);\n",
    "}\n",
    "else {\n",
    "    web3 = new Web3(new Web3.providers.HttpProvider(\"http://localhost:8345\"));\n",
    "}\n",
    "\n",
    "var _abiArray = [{\"constant\":false,\"inputs\":[],\"stateMutability\":\"nonpayable\",\"type\":\"constructor\"},{\"inputs\":[],\"name\":\"greet\",\"outputs\":[{\"internalType\":\"string\",\"name\":\"\",\"type\":\"string\"}],\"stateMutability\":\"view\",\"type\":\"function\"},{\"inputs\":[{\"internalType\":\"string\",\"name\":\"_greeting\",\"type\":\"string\"}],\"name\":\"setGreeting\",\"outputs\":[],\"stateMutability\":\"nonpayable\",\"type\":\"function\"}];\n",
    "var _bin = \"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\";\n",
    "var _contract = new web3.eth.Contract(_abiArray);\n",
    "\n",
    "_contract\n",
    "    .deploy({data:\"0x\"+_bin})\n",
    "    .send({from:\"0x3534A45129b0776F1E811Ad51A74D46ebCBE6108\",gas:364124,gasPrice:'1000000000'})\n",
    "    .then(function(newContractInstance) {\n",
    "        console.log(newContractInstance.options.address)\n",
    "    });"
   ]
  },
  {
   "cell_type": "markdown",
   "id": "72042683",
   "metadata": {},
   "source": [
    "- abi 앞에 constant 넣고 그다음에 abi\n",
    "- from : getMyAddr.js[0]"
   ]
  },
  {
   "cell_type": "code",
   "execution_count": 111,
   "id": "e78726b7",
   "metadata": {},
   "outputs": [
    {
     "name": "stdout",
     "output_type": "stream",
     "text": [
      "0x3e862796ac19A1430B4B99893b51Ef7054891c8A\n"
     ]
    }
   ],
   "source": [
    "!node src/greeterDeploy.js"
   ]
  },
  {
   "cell_type": "markdown",
   "id": "7bf03644",
   "metadata": {},
   "source": [
    "## 6.4.4 사용"
   ]
  },
  {
   "cell_type": "code",
   "execution_count": 119,
   "id": "0a3529d0",
   "metadata": {},
   "outputs": [
    {
     "name": "stdout",
     "output_type": "stream",
     "text": [
      "Overwriting src/greeterUse.js\n"
     ]
    }
   ],
   "source": [
    "%%writefile src/greeterUse.js\n",
    "var Web3 = require('web3');\n",
    "var web3 = new Web3(new Web3.providers.HttpProvider(\"http://localhost:8345\"));\n",
    "var _abiArray = [{\"constant\":false,\"inputs\":[],\"stateMutability\":\"nonpayable\",\"type\":\"constructor\"},{\"inputs\":[],\"name\":\"greet\",\"outputs\":[{\"internalType\":\"string\",\"name\":\"\",\"type\":\"string\"}],\"stateMutability\":\"view\",\"type\":\"function\"},{\"inputs\":[{\"internalType\":\"string\",\"name\":\"_greeting\",\"type\":\"string\"}],\"name\":\"setGreeting\",\"outputs\":[],\"stateMutability\":\"nonpayable\",\"type\":\"function\"}];\n",
    "var greeter = new web3.eth.Contract(_abiArray, \"0x3e862796ac19A1430B4B99893b51Ef7054891c8A\");\n",
    "greeter.methods.greet().call().then(function(value) {console.log(value)});\n",
    "greeter.methods.setGreeting(\"Hello SMU\").send({from:\"0x3534A45129b0776F1E811Ad51A74D46ebCBE6108\",gas:100000});\n",
    "greeter.methods.greet().call().then(function(value) {console.log(value);});"
   ]
  },
  {
   "cell_type": "markdown",
   "id": "d7613989",
   "metadata": {},
   "source": [
    "- abi 앞에처럼 해주고\n",
    "- greeter에 넣어줄 거는 콘트랙 주소\n",
    "- send from : getMyAddr.js[0]"
   ]
  },
  {
   "cell_type": "code",
   "execution_count": 120,
   "id": "78fe8dd1",
   "metadata": {},
   "outputs": [
    {
     "name": "stdout",
     "output_type": "stream",
     "text": [
      "Hello SMU\n",
      "Hello SMU\n"
     ]
    }
   ],
   "source": [
    "!node src/greeterUse.js"
   ]
  },
  {
   "cell_type": "markdown",
   "id": "27d89782",
   "metadata": {},
   "source": [
    "## 6.5 간단한 계수기"
   ]
  },
  {
   "cell_type": "markdown",
   "id": "cdcf822f",
   "metadata": {},
   "source": [
    "## 6.5.1 컨트랙 개발"
   ]
  },
  {
   "cell_type": "code",
   "execution_count": 123,
   "id": "899fa086",
   "metadata": {},
   "outputs": [
    {
     "name": "stdout",
     "output_type": "stream",
     "text": [
      "Writing src/Counter.sol\n"
     ]
    }
   ],
   "source": [
    "%%writefile src/Counter.sol\n",
    "pragma solidity ^0.6.0;\n",
    "contract Counter {\n",
    "    uint256 counter = 0;\n",
    "    \n",
    "    function add() public {\n",
    "        counter++;\n",
    "    }\n",
    "    \n",
    "    function subtract() public {\n",
    "        counter--;\n",
    "    }\n",
    "    \n",
    "    function getCounter() public view returns (uint256) {\n",
    "        return counter;\n",
    "    }\n",
    "}"
   ]
  },
  {
   "cell_type": "markdown",
   "id": "33ef048b",
   "metadata": {},
   "source": [
    "## 6.5.2 컴파일"
   ]
  },
  {
   "cell_type": "code",
   "execution_count": 124,
   "id": "e7ac8f88",
   "metadata": {},
   "outputs": [
    {
     "name": "stdout",
     "output_type": "stream",
     "text": [
      "\n",
      "======= src/Counter.sol:Counter =======\n",
      "Contract JSON ABI\n",
      "[{\"inputs\":[],\"name\":\"add\",\"outputs\":[],\"stateMutability\":\"nonpayable\",\"type\":\"function\"},{\"inputs\":[],\"name\":\"getCounter\",\"outputs\":[{\"internalType\":\"uint256\",\"name\":\"\",\"type\":\"uint256\"}],\"stateMutability\":\"view\",\"type\":\"function\"},{\"inputs\":[],\"name\":\"subtract\",\"outputs\":[],\"stateMutability\":\"nonpayable\",\"type\":\"function\"}]\n"
     ]
    }
   ],
   "source": [
    "!solc --abi src/Counter.sol"
   ]
  },
  {
   "cell_type": "code",
   "execution_count": 125,
   "id": "bd0b25a3",
   "metadata": {},
   "outputs": [
    {
     "name": "stdout",
     "output_type": "stream",
     "text": [
      "\n",
      "======= src/Counter.sol:Counter =======\n",
      "Binary:\n",
      "60806040526000805534801561001457600080fd5b5060d3806100236000396000f3fe6080604052348015600f57600080fd5b5060043610603c5760003560e01c80634f2be91f1460415780636deebae31460495780638ada066e146051575b600080fd5b6047606d565b005b604f6080565b005b60576094565b6040518082815260200191505060405180910390f35b6000808154809291906001019190505550565b600080815480929190600190039190505550565b6000805490509056fea2646970667358221220d675229fdb98279420a909b933358a4611c9f0c2f3b5674c387224e6f4bbc89e64736f6c63430006040033\n"
     ]
    }
   ],
   "source": [
    "!solc --bin src/Counter.sol"
   ]
  },
  {
   "cell_type": "code",
   "execution_count": 126,
   "id": "8e580e6c",
   "metadata": {},
   "outputs": [
    {
     "name": "stdout",
     "output_type": "stream",
     "text": [
      "\n",
      "======= src/Counter.sol:Counter =======\n",
      "Gas estimation:\n",
      "construction:\n",
      "   5099 + 42200 = 47299\n",
      "external:\n",
      "   add():\t20959\n",
      "   getCounter():\t1035\n",
      "   subtract():\t20984\n"
     ]
    }
   ],
   "source": [
    "!solc --gas src/Counter.sol"
   ]
  },
  {
   "cell_type": "markdown",
   "id": "890926ba",
   "metadata": {},
   "source": [
    "## 6.5.3 배포"
   ]
  },
  {
   "cell_type": "code",
   "execution_count": 129,
   "id": "8a43acb1",
   "metadata": {},
   "outputs": [
    {
     "name": "stdout",
     "output_type": "stream",
     "text": [
      "Overwriting src/CounterDeploy.js\n"
     ]
    }
   ],
   "source": [
    "%%writefile src/CounterDeploy.js\n",
    "var Web3 = require('web3');\n",
    "var web3;\n",
    "if (typeof web3 !== 'undefined') {\n",
    "    web3 = new Web3(web3.currentProvider);\n",
    "}\n",
    "else {\n",
    "    web3 = new Web3(new Web3.providers.HttpProvider(\"http://localhost:8345\"));\n",
    "}\n",
    "\n",
    "var _abiArray = [{\"inputs\":[],\"name\":\"add\",\"outputs\":[],\"stateMutability\":\"nonpayable\",\"type\":\"function\"},{\"inputs\":[],\"name\":\"getCounter\",\"outputs\":[{\"internalType\":\"uint256\",\"name\":\"\",\"type\":\"uint256\"}],\"stateMutability\":\"view\",\"type\":\"function\"},{\"inputs\":[],\"name\":\"subtract\",\"outputs\":[],\"stateMutability\":\"nonpayable\",\"type\":\"function\"}];\n",
    "var _bin = \"60806040526000805534801561001457600080fd5b5060d3806100236000396000f3fe6080604052348015600f57600080fd5b5060043610603c5760003560e01c80634f2be91f1460415780636deebae31460495780638ada066e146051575b600080fd5b6047606d565b005b604f6080565b005b60576094565b6040518082815260200191505060405180910390f35b6000808154809291906001019190505550565b600080815480929190600190039190505550565b6000805490509056fea2646970667358221220d675229fdb98279420a909b933358a4611c9f0c2f3b5674c387224e6f4bbc89e64736f6c63430006040033\";\n",
    "var _contract = new web3.eth.Contract(_abiArray);\n",
    "\n",
    "_contract\n",
    "    .deploy({data:\"0x\"+_bin})\n",
    "    .send({from:\"0x3534A45129b0776F1E811Ad51A74D46ebCBE6108\",gas:364124,gasPrice:'1000000000'})\n",
    "    .then(function(newContractInstance) {\n",
    "        console.log(newContractInstance.options.address);\n",
    "    });"
   ]
  },
  {
   "cell_type": "code",
   "execution_count": 130,
   "id": "cec707e3",
   "metadata": {},
   "outputs": [
    {
     "name": "stdout",
     "output_type": "stream",
     "text": [
      "0xDF923FafA594ab27E4F3Ed4078bf032e4aAD3B7F\n"
     ]
    }
   ],
   "source": [
    "!node src/CounterDeploy.js"
   ]
  },
  {
   "cell_type": "markdown",
   "id": "03edf2f9",
   "metadata": {},
   "source": [
    "## 6.5.3 사용"
   ]
  },
  {
   "cell_type": "code",
   "execution_count": 139,
   "id": "22ed4028",
   "metadata": {},
   "outputs": [
    {
     "name": "stdout",
     "output_type": "stream",
     "text": [
      "Overwriting src/counterUse.js\n"
     ]
    }
   ],
   "source": [
    "%%writefile src/counterUse.js\n",
    "var Web3 = require('web3');\n",
    "var web3 = new Web3(new Web3.providers.HttpProvider(\"http://localhost:8345\"));\n",
    "var abi = [{\"constant\":false,\"inputs\":[],\"name\":\"add\",\"outputs\":[],\"stateMutability\":\"nonpayable\",\"type\":\"function\"},{\"inputs\":[],\"name\":\"getCounter\",\"outputs\":[{\"internalType\":\"uint256\",\"name\":\"\",\"type\":\"uint256\"}],\"stateMutability\":\"view\",\"type\":\"function\"},{\"inputs\":[],\"name\":\"subtract\",\"outputs\":[],\"stateMutability\":\"nonpayable\",\"type\":\"function\"}];\n",
    "var addr = \"0xDF923FafA594ab27E4F3Ed4078bf032e4aAD3B7F\";\n",
    "var counter = new web3.eth.Contract(abi, addr);\n",
    "counter.methods.getCounter().call().then(function(str) {console.log(str);});\n",
    "counter.methods.subtract().send({from:\"0x3534A45129b0776F1E811Ad51A74D46ebCBE6108\", gas:100000});\n",
    "counter.methods.add().send({from:\"0x3534A45129b0776F1E811Ad51A74D46ebCBE6108\", gas:100000});\n",
    "counter.methods.add().send({from:\"0x3534A45129b0776F1E811Ad51A74D46ebCBE6108\", gas:100000});\n",
    "counter.methods.getCounter().call().then(function(str) {console.log(str);});"
   ]
  },
  {
   "cell_type": "code",
   "execution_count": 140,
   "id": "838c505f",
   "metadata": {},
   "outputs": [
    {
     "name": "stdout",
     "output_type": "stream",
     "text": [
      "4\n",
      "4\n"
     ]
    }
   ],
   "source": [
    "!node src/counterUse.js"
   ]
  },
  {
   "cell_type": "markdown",
   "id": "d66f01ed",
   "metadata": {},
   "source": [
    "## 실습 : 타이머 디앱"
   ]
  },
  {
   "cell_type": "markdown",
   "id": "84612c0f",
   "metadata": {},
   "source": [
    "## 1. 컨트랙 개발"
   ]
  },
  {
   "cell_type": "code",
   "execution_count": 141,
   "id": "90841653",
   "metadata": {},
   "outputs": [
    {
     "name": "stdout",
     "output_type": "stream",
     "text": [
      "Overwriting src/Timer.sol\n"
     ]
    }
   ],
   "source": [
    "%%writefile src/Timer.sol\n",
    "pragma solidity ^0.6.0;\n",
    "\n",
    "contract Timer {\n",
    "    uint256 startTime;\n",
    "    \n",
    "    function start() public {\n",
    "        startTime = block.timestamp;\n",
    "    }\n",
    "    \n",
    "    function timePassed() public view returns(uint256) {\n",
    "        return block.timestamp-startTime;\n",
    "    }\n",
    "    \n",
    "    function getNow() view public returns(uint) {\n",
    "        return block.timestamp;\n",
    "    }\n",
    "}"
   ]
  },
  {
   "cell_type": "markdown",
   "id": "e851032e",
   "metadata": {},
   "source": [
    "## 2. 컴파일 "
   ]
  },
  {
   "cell_type": "code",
   "execution_count": 143,
   "id": "99429cbc",
   "metadata": {},
   "outputs": [],
   "source": [
    "!solc --optimize --combined-json abi,bin src/Timer.sol > src/Timer.json"
   ]
  },
  {
   "cell_type": "code",
   "execution_count": 144,
   "id": "88bee837",
   "metadata": {},
   "outputs": [
    {
     "name": "stdout",
     "output_type": "stream",
     "text": [
      "{\"contracts\":{\"src/Timer.sol:Timer\":{\"abi\":\"[{\\\"inputs\\\":[],\\\"name\\\":\\\"getNow\\\",\\\"outputs\\\":[{\\\"internalType\\\":\\\"uint256\\\",\\\"name\\\":\\\"\\\",\\\"type\\\":\\\"uint256\\\"}],\\\"stateMutability\\\":\\\"view\\\",\\\"type\\\":\\\"function\\\"},{\\\"inputs\\\":[],\\\"name\\\":\\\"start\\\",\\\"outputs\\\":[],\\\"stateMutability\\\":\\\"nonpayable\\\",\\\"type\\\":\\\"function\\\"},{\\\"inputs\\\":[],\\\"name\\\":\\\"timePassed\\\",\\\"outputs\\\":[{\\\"internalType\\\":\\\"uint256\\\",\\\"name\\\":\\\"\\\",\\\"type\\\":\\\"uint256\\\"}],\\\"stateMutability\\\":\\\"view\\\",\\\"type\\\":\\\"function\\\"}]\",\"bin\":\"608060405234801561001057600080fd5b5060af8061001f6000396000f3fe6080604052348015600f57600080fd5b5060043610603c5760003560e01c8063b4454253146041578063bbe4fd50146059578063be9a655514605f575b600080fd5b60476067565b60408051918252519081900360200190f35b6047606f565b60656073565b005b600054420390565b4290565b4260005556fea2646970667358221220c2940662e8a48c8a6bb1822740ab550c26b5f33dd73366d9693e4a9383b7d7b564736f6c63430006040033\"}},\"version\":\"0.6.4+commit.1dca32f3.Windows.msvc\"}\n"
     ]
    }
   ],
   "source": [
    "!type src\\Timer.json"
   ]
  },
  {
   "cell_type": "code",
   "execution_count": 145,
   "id": "9788210d",
   "metadata": {},
   "outputs": [
    {
     "name": "stdout",
     "output_type": "stream",
     "text": [
      "Overwriting src/TimerImportTest.js\n"
     ]
    }
   ],
   "source": [
    "%%writefile src/TimerImportTest.js\n",
    "const _abiBinJson = require('./Timer.json');\n",
    "contractName = Object.keys(_abiBinJson.contracts);\n",
    "console.log(\"- contract name : \", contractName);\n",
    "_abi = _abiBinJson.contracts[contractName].abi;\n",
    "_abiArray = JSON.parse(JSON.stringify(_abi));\n",
    "_bin = _abiBinJson.contracts[contractName].bin;\n",
    "console.log(\"- ABI : \", _abi);\n",
    "console.log(\"- ABIArray : \", _abiArray);\n",
    "console.log(\"- Bytecode : \", _bin);"
   ]
  },
  {
   "cell_type": "code",
   "execution_count": 146,
   "id": "494c6268",
   "metadata": {},
   "outputs": [
    {
     "name": "stdout",
     "output_type": "stream",
     "text": [
      "- contract name :  [ 'src/Timer.sol:Timer' ]\n",
      "- ABI :  [{\"inputs\":[],\"name\":\"getNow\",\"outputs\":[{\"internalType\":\"uint256\",\"name\":\"\",\"type\":\"uint256\"}],\"stateMutability\":\"view\",\"type\":\"function\"},{\"inputs\":[],\"name\":\"start\",\"outputs\":[],\"stateMutability\":\"nonpayable\",\"type\":\"function\"},{\"inputs\":[],\"name\":\"timePassed\",\"outputs\":[{\"internalType\":\"uint256\",\"name\":\"\",\"type\":\"uint256\"}],\"stateMutability\":\"view\",\"type\":\"function\"}]\n",
      "- ABIArray :  [{\"inputs\":[],\"name\":\"getNow\",\"outputs\":[{\"internalType\":\"uint256\",\"name\":\"\",\"type\":\"uint256\"}],\"stateMutability\":\"view\",\"type\":\"function\"},{\"inputs\":[],\"name\":\"start\",\"outputs\":[],\"stateMutability\":\"nonpayable\",\"type\":\"function\"},{\"inputs\":[],\"name\":\"timePassed\",\"outputs\":[{\"internalType\":\"uint256\",\"name\":\"\",\"type\":\"uint256\"}],\"stateMutability\":\"view\",\"type\":\"function\"}]\n",
      "- Bytecode :  608060405234801561001057600080fd5b5060af8061001f6000396000f3fe6080604052348015600f57600080fd5b5060043610603c5760003560e01c8063b4454253146041578063bbe4fd50146059578063be9a655514605f575b600080fd5b60476067565b60408051918252519081900360200190f35b6047606f565b60656073565b005b600054420390565b4290565b4260005556fea2646970667358221220c2940662e8a48c8a6bb1822740ab550c26b5f33dd73366d9693e4a9383b7d7b564736f6c63430006040033\n"
     ]
    }
   ],
   "source": [
    "!node src/TimerImportTest.js"
   ]
  },
  {
   "cell_type": "markdown",
   "id": "75eb4f52",
   "metadata": {},
   "source": [
    "## 3. 컨트랙 배포"
   ]
  },
  {
   "cell_type": "code",
   "execution_count": 147,
   "id": "c7c118db",
   "metadata": {},
   "outputs": [
    {
     "name": "stdout",
     "output_type": "stream",
     "text": [
      "Overwriting src/TimerDeployAbiBinFromFile.js\n"
     ]
    }
   ],
   "source": [
    "%%writefile src/TimerDeployAbiBinFromFile.js\n",
    "var Web3 = require('web3');\n",
    "var _abiBinJson = require('./Timer.json');\n",
    "var web3 = new Web3(new Web3.providers.HttpProvider(\"http://localhost:8345\"));\n",
    "\n",
    "contractName = Object.keys(_abiBinJson.contracts);\n",
    "console.log(\"- contract name : \", contractName);\n",
    "_abi = _abiBinJson.contracts[contractName].abi;\n",
    "_abiArray = JSON.parse(_abi);\n",
    "_bin = _abiBinJson.contracts[contractName].bin;\n",
    "\n",
    "console.log(\"- ABI : \", _abiArray);\n",
    "console.log(\"- Bytecode : \", _bin);\n",
    "\n",
    "async function deploy() {\n",
    "    const accounts = await web3.eth.getAccounts();\n",
    "    console.log(\"Deploying the contract from \", accounts[0]);\n",
    "    var deployed = await new web3.eth.Contract(_abiArray)\n",
    "        .deploy({data:\"0x\"+_bin})\n",
    "        .send({from:accounts[0], gas:364124}, function(err, transactionHash) {\n",
    "            if(!err) {console.log(\"hash: \", transactionHash);}\n",
    "        });\n",
    "    console.log(\"--> The contract deployed to : \", deployed.options.address);\n",
    "}\n",
    "\n",
    "deploy()"
   ]
  },
  {
   "cell_type": "code",
   "execution_count": 149,
   "id": "6f3bb1b6",
   "metadata": {},
   "outputs": [
    {
     "name": "stdout",
     "output_type": "stream",
     "text": [
      "- contract name :  [ 'src/Timer.sol:Timer' ]\n",
      "- ABI :  [\n",
      "  {\n",
      "    inputs: [],\n",
      "    name: 'getNow',\n",
      "    outputs: [ [Object] ],\n",
      "    stateMutability: 'view',\n",
      "    type: 'function'\n",
      "  },\n",
      "  {\n",
      "    inputs: [],\n",
      "    name: 'start',\n",
      "    outputs: [],\n",
      "    stateMutability: 'nonpayable',\n",
      "    type: 'function'\n",
      "  },\n",
      "  {\n",
      "    inputs: [],\n",
      "    name: 'timePassed',\n",
      "    outputs: [ [Object] ],\n",
      "    stateMutability: 'view',\n",
      "    type: 'function'\n",
      "  }\n",
      "]\n",
      "- Bytecode :  608060405234801561001057600080fd5b5060af8061001f6000396000f3fe6080604052348015600f57600080fd5b5060043610603c5760003560e01c8063b4454253146041578063bbe4fd50146059578063be9a655514605f575b600080fd5b60476067565b60408051918252519081900360200190f35b6047606f565b60656073565b005b600054420390565b4290565b4260005556fea2646970667358221220c2940662e8a48c8a6bb1822740ab550c26b5f33dd73366d9693e4a9383b7d7b564736f6c63430006040033\n",
      "Deploying the contract from  0x3534A45129b0776F1E811Ad51A74D46ebCBE6108\n",
      "hash:  0x9b029c2e53bd4e603035795344df77f1425a4c3c10a5286562c28f64b02e121c\n",
      "--> The contract deployed to :  0x5f70647DAa237CFACd040b56772C72f9e35729d2\n"
     ]
    }
   ],
   "source": [
    "!node src/TimerDeployAbiBinFromFile.js"
   ]
  },
  {
   "cell_type": "markdown",
   "id": "c20d1ca2",
   "metadata": {},
   "source": [
    "## 4. 사용"
   ]
  },
  {
   "cell_type": "code",
   "execution_count": 154,
   "id": "1fa109cb",
   "metadata": {},
   "outputs": [
    {
     "name": "stdout",
     "output_type": "stream",
     "text": [
      "Overwriting src/timerUse.js\n"
     ]
    }
   ],
   "source": [
    "%%writefile src/timerUse.js\n",
    "var Web3 = require('web3');\n",
    "var _abiBinJson = require('./Timer.json');\n",
    "\n",
    "var web3 = new Web3(new Web3.providers.HttpProvider(\"http://localhost:8345\"));\n",
    "contractName = Object.keys(_abiBinJson.contracts);\n",
    "console.log(\"- constract name : \", contractName);\n",
    "_abi = _abiBinJson.contracts[contractName].abi;\n",
    "_abiArray = JSON.parse(_abi);\n",
    "\n",
    "var timer = new web3.eth.Contract(_abiArray, \"0x5f70647DAa237CFACd040b56772C72f9e35729d2\");\n",
    "\n",
    "async function doIt() {\n",
    "    const accounts = await web3.eth.getAccounts();\n",
    "    console.log(\"Call from : \", accounts[0]);\n",
    "    timer.methods.getNow().call().then(function(value) {console.log(\"Now : \", value);});\n",
    "    await timer.methods.start().send({from:accounts[0], gas:100000});\n",
    "    timer.methods.timePassed().call().then(function(value) {console.log(\"Passed : \", value);});\n",
    "}\n",
    "\n",
    "doIt();"
   ]
  },
  {
   "cell_type": "code",
   "execution_count": 151,
   "id": "01e404d4",
   "metadata": {},
   "outputs": [
    {
     "name": "stdout",
     "output_type": "stream",
     "text": [
      "Call from :  0x3534A45129b0776F1E811Ad51A74D46ebCBE6108\n",
      "Now :  1650692349\n",
      "Passed :  0\n"
     ]
    }
   ],
   "source": [
    "!node src/timerUse.js"
   ]
  },
  {
   "cell_type": "code",
   "execution_count": 155,
   "id": "78930106",
   "metadata": {},
   "outputs": [
    {
     "name": "stdout",
     "output_type": "stream",
     "text": [
      "- constract name :  [ 'src/Timer.sol:Timer' ]\n",
      "Call from :  0x3534A45129b0776F1E811Ad51A74D46ebCBE6108\n",
      "Now :  1650692707\n",
      "Passed :  0\n"
     ]
    }
   ],
   "source": [
    "!node src/timerUse.js"
   ]
  },
  {
   "cell_type": "code",
   "execution_count": null,
   "id": "3ae724d3",
   "metadata": {},
   "outputs": [],
   "source": []
  },
  {
   "cell_type": "code",
   "execution_count": null,
   "id": "a95b1686",
   "metadata": {},
   "outputs": [],
   "source": []
  }
 ],
 "metadata": {
  "kernelspec": {
   "display_name": "Python 3 (ipykernel)",
   "language": "python",
   "name": "python3"
  },
  "language_info": {
   "codemirror_mode": {
    "name": "ipython",
    "version": 3
   },
   "file_extension": ".py",
   "mimetype": "text/x-python",
   "name": "python",
   "nbconvert_exporter": "python",
   "pygments_lexer": "ipython3",
   "version": "3.8.10"
  }
 },
 "nbformat": 4,
 "nbformat_minor": 5
}
