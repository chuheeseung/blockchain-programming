{
 "cells": [
  {
   "cell_type": "code",
   "execution_count": 17,
   "id": "e930e3e2",
   "metadata": {},
   "outputs": [
    {
     "name": "stdout",
     "output_type": "stream",
     "text": [
      "Overwriting exercise1.js\n"
     ]
    }
   ],
   "source": [
    "%%writefile exercise1.js\n",
    "var blockNumber = eth.blockNumber;\n",
    "var myEnode = admin.nodeInfo.enode;\n",
    "var peerCount = net.peerCount;\n",
    "var listAccounts = personal.listAccounts;\n",
    "var txpoolStatus = txpool.status;\n",
    "console.log(\"1. Block Number : \", blockNumber);\n",
    "console.log(\"2. Enode : \", myEnode);\n",
    "console.log(\"3. Peer Count : \", peerCount);\n",
    "console.log(\"4. List Accounts : \", listAccounts);\n",
    "console.log(\"5. \");\n",
    "console.log(eth.getBalance(eth.accounts[0]));\n",
    "console.log(eth.getBalance(eth.accounts[1]));\n",
    "console.log(eth.getBalance(eth.accounts[2]));\n",
    "console.log(\"6. \");\n",
    "console.log(\"Before : \", eth.coinbase);\n",
    "miner.setEtherbase(eth.accounts[2]);\n",
    "console.log(\"After : \", eth.coinbase);\n",
    "console.log(\"7. \", txpoolStatus.pending, txpoolStatus.queued);\n",
    "console.log(\"8. Now Block Number : \", eth.blockNumber);"
   ]
  },
  {
   "cell_type": "code",
   "execution_count": 18,
   "id": "5d6d2169",
   "metadata": {
    "scrolled": true
   },
   "outputs": [
    {
     "name": "stdout",
     "output_type": "stream",
     "text": [
      "1. Block Number :  115\n",
      "2. Enode :  enode://e668e972ee9ac8a8acf1d84650b7fc788816a619470160a95b16b18062d6ed491990170b476ed9798679e0c1beaccb0aba5bbdf1d8112d54e921950e86cdd8b1@127.0.0.1:38445\n",
      "3. Peer Count :  0\n",
      "4. List Accounts :  0x9b0b6b0b3bbdbd746427c7c3afe05282b52f08dd,0xc78c8063043994e244384ff80b4153772b5d5cd2,0x13516d2b36eb50a7300e2bab450f75d39f8422f3\n",
      "5. \n",
      "165000000000000000000\n",
      "170000000000000000000\n",
      "240000000000000000000\n",
      "6. \n",
      "Before :  0x13516d2b36eb50a7300e2bab450f75d39f8422f3\n",
      "After :  0x13516d2b36eb50a7300e2bab450f75d39f8422f3\n",
      "7.  0 0\n",
      "8. Now Block Number :  115\n",
      "true\n"
     ]
    }
   ],
   "source": [
    "!geth --exec \"loadScript('exercise1.js')\" attach http://localhost:8445"
   ]
  },
  {
   "cell_type": "markdown",
   "id": "3bf5ca1d",
   "metadata": {},
   "source": [
    "### 7. 현재 대기하는 트랜잭션 수가 없는 이유\n",
    "아직 거래가 발생하지 않았기 때문에 대기하고 있는 트랜잭션 수가 없습니다."
   ]
  },
  {
   "cell_type": "markdown",
   "id": "4e25633c",
   "metadata": {},
   "source": [
    "### 8. 블록 번호가 처음과 변동이 없는 이유\n",
    "계정을 출력하거나 잔고를 출력하는 등의 작업은 마이닝을 시작하는 행위가 아니기 때문에 블록의 개수에 영향을 미치지 않습니다. miner.start(); 명령어를 사용해야 블록의 개수에 영향을 미칩니다."
   ]
  }
 ],
 "metadata": {
  "kernelspec": {
   "display_name": "Python 3 (ipykernel)",
   "language": "python",
   "name": "python3"
  },
  "language_info": {
   "codemirror_mode": {
    "name": "ipython",
    "version": 3
   },
   "file_extension": ".py",
   "mimetype": "text/x-python",
   "name": "python",
   "nbconvert_exporter": "python",
   "pygments_lexer": "ipython3",
   "version": "3.8.10"
  }
 },
 "nbformat": 4,
 "nbformat_minor": 5
}
